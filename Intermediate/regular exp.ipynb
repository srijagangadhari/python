{
 "cells": [
  {
   "cell_type": "code",
   "execution_count": 1,
   "metadata": {},
   "outputs": [
    {
     "name": "stdout",
     "output_type": "stream",
     "text": [
      "['is a python']\n"
     ]
    }
   ],
   "source": [
    "import re\n",
    "a=\"mahantesh is a python trainer\"\n",
    "c=re.findall(\"i.........n\",a)\n",
    "print(c)"
   ]
  },
  {
   "cell_type": "code",
   "execution_count": 5,
   "metadata": {},
   "outputs": [
    {
     "name": "stdout",
     "output_type": "stream",
     "text": [
      "['mahantesh']\n"
     ]
    }
   ],
   "source": [
    "c=re.findall(\"m.......h\",a)\n",
    "print(c)"
   ]
  },
  {
   "cell_type": "code",
   "execution_count": 10,
   "metadata": {},
   "outputs": [
    {
     "name": "stdout",
     "output_type": "stream",
     "text": [
      "['mahantesh is a python trainer']\n"
     ]
    }
   ],
   "source": [
    "c=re.findall(\"m............................\",a)\n",
    "print(c)"
   ]
  },
  {
   "cell_type": "code",
   "execution_count": 14,
   "metadata": {},
   "outputs": [
    {
     "name": "stdout",
     "output_type": "stream",
     "text": [
      "[]\n"
     ]
    }
   ],
   "source": [
    "c=re.findall(\"i....z\",a)\n",
    "print(c)"
   ]
  },
  {
   "cell_type": "code",
   "execution_count": 2,
   "metadata": {},
   "outputs": [
    {
     "name": "stdout",
     "output_type": "stream",
     "text": [
      "['maha']\n"
     ]
    }
   ],
   "source": [
    "c=re.findall(\"m.h.\",a)\n",
    "print(c)"
   ]
  },
  {
   "cell_type": "code",
   "execution_count": 3,
   "metadata": {},
   "outputs": [
    {
     "name": "stdout",
     "output_type": "stream",
     "text": [
      "['mah']\n"
     ]
    }
   ],
   "source": [
    "c=re.findall(\"m.h\",a)\n",
    "print(c)"
   ]
  },
  {
   "cell_type": "code",
   "execution_count": 4,
   "metadata": {},
   "outputs": [
    {
     "name": "stdout",
     "output_type": "stream",
     "text": [
      "[]\n"
     ]
    }
   ],
   "source": [
    "c=re.findall(\"m.H\",a)\n",
    "print(c)"
   ]
  },
  {
   "cell_type": "code",
   "execution_count": 11,
   "metadata": {},
   "outputs": [
    {
     "name": "stdout",
     "output_type": "stream",
     "text": [
      "['mah']\n"
     ]
    }
   ],
   "source": [
    "c=re.findall(\"m.h\",a)\n",
    "print(c)"
   ]
  },
  {
   "cell_type": "code",
   "execution_count": 20,
   "metadata": {},
   "outputs": [
    {
     "name": "stdout",
     "output_type": "stream",
     "text": [
      "['111', '141', '191', '1 1']\n"
     ]
    }
   ],
   "source": [
    "import re\n",
    "n=\"111 141 125 245 191 321 161\"\n",
    "res=re.findall(\"1.1\",n)\n",
    "print(res)"
   ]
  },
  {
   "cell_type": "code",
   "execution_count": 22,
   "metadata": {},
   "outputs": [
    {
     "name": "stdout",
     "output_type": "stream",
     "text": [
      "['@web', '@web']\n"
     ]
    }
   ],
   "source": [
    "p=\"rahul@web hari@web harsha@sql srija@python\"\n",
    "l=re.findall(\".web\",p)\n",
    "print(l)"
   ]
  },
  {
   "cell_type": "code",
   "execution_count": 23,
   "metadata": {},
   "outputs": [
    {
     "name": "stdout",
     "output_type": "stream",
     "text": [
      "['@web', '@web']\n"
     ]
    }
   ],
   "source": [
    "l=re.findall(\".w.b\",p)\n",
    "print(l)"
   ]
  },
  {
   "cell_type": "code",
   "execution_count": 24,
   "metadata": {},
   "outputs": [
    {
     "name": "stdout",
     "output_type": "stream",
     "text": [
      "['@', '@', '@', '@']\n"
     ]
    }
   ],
   "source": [
    "l=re.findall(\"@\",p)\n",
    "print(l)"
   ]
  },
  {
   "cell_type": "code",
   "execution_count": 28,
   "metadata": {},
   "outputs": [
    {
     "name": "stdout",
     "output_type": "stream",
     "text": [
      "['h']\n"
     ]
    }
   ],
   "source": [
    "var1=\"hello everyone goof afteernoon\"\n",
    "k=re.findall(\"h\",var1)\n",
    "print(k)"
   ]
  },
  {
   "cell_type": "code",
   "execution_count": 32,
   "metadata": {},
   "outputs": [
    {
     "name": "stdout",
     "output_type": "stream",
     "text": [
      "['hel']\n"
     ]
    }
   ],
   "source": [
    "var1=\"hello everyone good afteernoon\"\n",
    "k=re.findall(\"^hel\",var1)\n",
    "print(k)"
   ]
  },
  {
   "cell_type": "code",
   "execution_count": 33,
   "metadata": {},
   "outputs": [
    {
     "name": "stdout",
     "output_type": "stream",
     "text": [
      "[]\n"
     ]
    }
   ],
   "source": [
    "k=re.findall(\"^goo\",var1)\n",
    "print(k)"
   ]
  },
  {
   "cell_type": "code",
   "execution_count": 36,
   "metadata": {},
   "outputs": [
    {
     "name": "stdout",
     "output_type": "stream",
     "text": [
      "['noon']\n"
     ]
    }
   ],
   "source": [
    "var1=\"hello everyone good afteernoon\"\n",
    "k=re.findall(\"noon$\",var1)\n",
    "print(k)"
   ]
  },
  {
   "cell_type": "code",
   "execution_count": 37,
   "metadata": {},
   "outputs": [
    {
     "name": "stdout",
     "output_type": "stream",
     "text": [
      "[]\n"
     ]
    }
   ],
   "source": [
    "k=re.findall(\"good$\",var1)\n",
    "print(k)"
   ]
  },
  {
   "cell_type": "code",
   "execution_count": 38,
   "metadata": {},
   "outputs": [
    {
     "name": "stdout",
     "output_type": "stream",
     "text": [
      "[]\n"
     ]
    }
   ],
   "source": [
    "k=re.findall(\"eer$\",var1)\n",
    "print(k)"
   ]
  },
  {
   "cell_type": "code",
   "execution_count": 55,
   "metadata": {},
   "outputs": [
    {
     "name": "stdout",
     "output_type": "stream",
     "text": [
      "['', 'e', '', '', '', '', 'e', '', 'e', '', '', '', '', 'e', '', 'e', '', '']\n"
     ]
    }
   ],
   "source": [
    "var1=\"hello everyone ei\"\n",
    "k1=re.findall(\"e*\",var1)\n",
    "print(k1)"
   ]
  },
  {
   "cell_type": "code",
   "execution_count": 4,
   "metadata": {},
   "outputs": [
    {
     "name": "stdout",
     "output_type": "stream",
     "text": [
      "['', '', '', 'e', '', '', '', '', '', '']\n"
     ]
    }
   ],
   "source": [
    "import re\n",
    "s=\"afternoon\"\n",
    "k2=re.findall(\"e*\",s)\n",
    "print(k2)"
   ]
  },
  {
   "cell_type": "code",
   "execution_count": 5,
   "metadata": {},
   "outputs": [
    {
     "name": "stdout",
     "output_type": "stream",
     "text": [
      "['', 'e', '', '', '', '', 'e', '', 'e', '', '', '', '', 'e', '']\n",
      "14\n",
      "15\n"
     ]
    }
   ],
   "source": [
    "var1=\"hello everyone\"\n",
    "k1=re.findall(\"e*\",var1)\n",
    "print(k1)\n",
    "print(len(var1))\n",
    "print(len(k1))"
   ]
  },
  {
   "cell_type": "code",
   "execution_count": 61,
   "metadata": {},
   "outputs": [
    {
     "name": "stdout",
     "output_type": "stream",
     "text": [
      "['', 'r', '', '', '', 'r', '', '', '', 'r', '', '']\n"
     ]
    }
   ],
   "source": [
    "w=\"cry fry dry\"\n",
    "q=re.findall(\"r*\",w)\n",
    "print(q)"
   ]
  },
  {
   "cell_type": "code",
   "execution_count": 66,
   "metadata": {},
   "outputs": [
    {
     "name": "stdout",
     "output_type": "stream",
     "text": [
      "['ry', 'ry', 'ry', 'r']\n"
     ]
    }
   ],
   "source": [
    "w=\"cry fry dry fried\"\n",
    "q=re.findall(\"ry*\",w)\n",
    "print(q)"
   ]
  },
  {
   "cell_type": "code",
   "execution_count": 68,
   "metadata": {},
   "outputs": [
    {
     "name": "stdout",
     "output_type": "stream",
     "text": [
      "['ry', 'ry', 'ry']\n"
     ]
    }
   ],
   "source": [
    "w=\"cry fry dry fried\"\n",
    "q=re.findall(\"ry+\",w)\n",
    "print(q)"
   ]
  },
  {
   "cell_type": "code",
   "execution_count": 69,
   "metadata": {},
   "outputs": [
    {
     "name": "stdout",
     "output_type": "stream",
     "text": [
      "['r', 'r', 'r']\n"
     ]
    }
   ],
   "source": [
    "w=\"cry fry dry\"\n",
    "q=re.findall(\"r+\",w)\n",
    "print(q)"
   ]
  },
  {
   "cell_type": "code",
   "execution_count": 72,
   "metadata": {},
   "outputs": [
    {
     "name": "stdout",
     "output_type": "stream",
     "text": [
      "['d']\n"
     ]
    }
   ],
   "source": [
    "w=\"cry fry dry\"\n",
    "q=re.findall(\"d+\",w)\n",
    "print(q)"
   ]
  },
  {
   "cell_type": "code",
   "execution_count": 74,
   "metadata": {},
   "outputs": [
    {
     "name": "stdout",
     "output_type": "stream",
     "text": [
      "['rry', 'rry', 'rry']\n"
     ]
    }
   ],
   "source": [
    "w=\"hurry burry sorry \"\n",
    "q=re.findall(\"rry+\",w)\n",
    "print(q)"
   ]
  },
  {
   "cell_type": "code",
   "execution_count": 76,
   "metadata": {},
   "outputs": [
    {
     "name": "stdout",
     "output_type": "stream",
     "text": [
      "['y', 'y', 'y']\n"
     ]
    }
   ],
   "source": [
    "w=\"hurry burry sorry \"\n",
    "q=re.findall(\"y+\",w)\n",
    "print(q)"
   ]
  },
  {
   "cell_type": "code",
   "execution_count": 93,
   "metadata": {},
   "outputs": [
    {
     "name": "stdout",
     "output_type": "stream",
     "text": [
      "['urrr', 'urr', 'u']\n"
     ]
    }
   ],
   "source": [
    "w=\"hurrry burry sorryu\"\n",
    "q=re.findall(\"ur*\",w)\n",
    "print(q)"
   ]
  },
  {
   "cell_type": "code",
   "execution_count": 88,
   "metadata": {},
   "outputs": [
    {
     "name": "stdout",
     "output_type": "stream",
     "text": [
      "['urr', 'urr']\n"
     ]
    }
   ],
   "source": [
    "w=\"huurry burry sorry\"\n",
    "q=re.findall(\"ur+\",w)\n",
    "print(q)"
   ]
  },
  {
   "cell_type": "code",
   "execution_count": 91,
   "metadata": {},
   "outputs": [
    {
     "name": "stdout",
     "output_type": "stream",
     "text": [
      "['uu', 'u', 'u', 'u']\n"
     ]
    }
   ],
   "source": [
    "w=\"huurry burryu sorury\"\n",
    "q=re.findall(\"u+\",w)\n",
    "print(q)"
   ]
  },
  {
   "cell_type": "code",
   "execution_count": 2,
   "metadata": {},
   "outputs": [
    {
     "name": "stdout",
     "output_type": "stream",
     "text": [
      "['ry', 'ry', 'ury']\n"
     ]
    }
   ],
   "source": [
    "import re\n",
    "w=\"huurry burryu sorury\"\n",
    "q=re.findall(\"u?ry\",w)\n",
    "print(q)"
   ]
  },
  {
   "cell_type": "code",
   "execution_count": 13,
   "metadata": {},
   "outputs": [
    {
     "name": "stdout",
     "output_type": "stream",
     "text": [
      "['ied', 'ed', 'ed', 'ed']\n"
     ]
    }
   ],
   "source": [
    "r=\"fried feed seed indeed\"\n",
    "res=re.findall(\"i?ed\",r)\n",
    "print(res)"
   ]
  },
  {
   "cell_type": "code",
   "execution_count": 14,
   "metadata": {},
   "outputs": [
    {
     "name": "stdout",
     "output_type": "stream",
     "text": [
      "['ed', 'eed', 'eed', 'eed']\n"
     ]
    }
   ],
   "source": [
    "p=\"fried feed seed indeed\"\n",
    "res=re.findall(\"e?ed\",p)\n",
    "print(res)"
   ]
  },
  {
   "cell_type": "code",
   "execution_count": 15,
   "metadata": {},
   "outputs": [
    {
     "name": "stdout",
     "output_type": "stream",
     "text": [
      "[]\n"
     ]
    }
   ],
   "source": [
    "p=\"fried feed seed indeed\"\n",
    "res=re.findall(\"[A-Z]\",p)\n",
    "print(res)"
   ]
  },
  {
   "cell_type": "code",
   "execution_count": 16,
   "metadata": {},
   "outputs": [
    {
     "name": "stdout",
     "output_type": "stream",
     "text": [
      "['f', 'r', 'i', 'e', 'd', 'f', 'e', 'e', 'd', 's', 'e', 'e', 'd', 'i', 'n', 'd', 'e', 'e', 'd']\n"
     ]
    }
   ],
   "source": [
    "p=\"fried feed seed indeed\"\n",
    "res=re.findall(\"[a-z]\",p)\n",
    "print(res)"
   ]
  },
  {
   "cell_type": "code",
   "execution_count": 17,
   "metadata": {},
   "outputs": [
    {
     "name": "stdout",
     "output_type": "stream",
     "text": [
      "['2', '9', '1', '2', '3']\n"
     ]
    }
   ],
   "source": [
    "p=\"fried2 feed 9 seed 123 indeed\"\n",
    "res=re.findall(\"[0-9]\",p)\n",
    "print(res)"
   ]
  },
  {
   "cell_type": "code",
   "execution_count": 20,
   "metadata": {},
   "outputs": [
    {
     "name": "stdout",
     "output_type": "stream",
     "text": [
      "['i', 'e', 'E']\n",
      "3\n"
     ]
    }
   ],
   "source": [
    "p=\"fried wEll\"\n",
    "res=re.findall(\"[aeiouAEIOU]\",p)\n",
    "print(res)\n",
    "\n",
    "print(len(res))"
   ]
  },
  {
   "cell_type": "code",
   "execution_count": 22,
   "metadata": {},
   "outputs": [
    {
     "name": "stdout",
     "output_type": "stream",
     "text": [
      "['f', 'r', 'd', 'd', 'f', 'd', 's', 'd']\n",
      "8\n"
     ]
    }
   ],
   "source": [
    "#^ print consonants and no. of consonants\n",
    "p=\"friedd2 feed 9 seed 123\"\n",
    "res=re.findall(\"[^aeiouAEIOU 0123456789]\",p)\n",
    "print(res)\n",
    "print(len(res))"
   ]
  },
  {
   "cell_type": "code",
   "execution_count": 3,
   "metadata": {},
   "outputs": [
    {
     "name": "stdout",
     "output_type": "stream",
     "text": [
      "['2', '9', '1', '2', '3']\n"
     ]
    }
   ],
   "source": [
    "#d pattern\n",
    "import re\n",
    "p=\"friedd2 feed 9 seed 123\"\n",
    "res=re.findall(\"\\d\",p)\n",
    "print(res)"
   ]
  },
  {
   "cell_type": "code",
   "execution_count": 5,
   "metadata": {},
   "outputs": [
    {
     "name": "stdout",
     "output_type": "stream",
     "text": [
      "['f', 'r', 'd', ' ', 'f', 'e', 'e', 'd', ' ', ' ', 's', 'e', 'e', 'd', ' ']\n"
     ]
    }
   ],
   "source": [
    "#\\D pattern\n",
    "p=\"frd2 feed 9 seed 123\"\n",
    "res=re.findall(\"\\D\",p)\n",
    "print(res)"
   ]
  },
  {
   "cell_type": "code",
   "execution_count": 13,
   "metadata": {},
   "outputs": [
    {
     "name": "stdout",
     "output_type": "stream",
     "text": [
      "['f', 'r', 'd', '_', '2', 'f', 'd', '_', '9', '_', 's', 'e']\n"
     ]
    }
   ],
   "source": [
    "#\\w pattern\n",
    "p=\"frd_2 fd_9 _s e\"  #doesn't give the spaces returns alphabets,numbers,_ \n",
    "res=re.findall(\"\\w\",p)\n",
    "print(res)"
   ]
  },
  {
   "cell_type": "code",
   "execution_count": 2,
   "metadata": {},
   "outputs": [
    {
     "name": "stdout",
     "output_type": "stream",
     "text": [
      "[' ', ' ', ' ', '#', '@']\n"
     ]
    }
   ],
   "source": [
    "#\\W pattern\n",
    "import re\n",
    "p=\"frd_2 fd_9 _s e#@\"  #returns spaces,special characters.Does't returns alphabets,numbers,_\n",
    "res=re.findall(\"\\W\",p)\n",
    "print(res)"
   ]
  },
  {
   "cell_type": "code",
   "execution_count": 3,
   "metadata": {},
   "outputs": [
    {
     "name": "stdout",
     "output_type": "stream",
     "text": [
      "[' ', ' ', ' ']\n"
     ]
    }
   ],
   "source": [
    "import re\n",
    "p=\"frd_2 fd_9 _s e#@\"  #returns spaces,special characters.Does't returns alphabets,numbers,_\n",
    "res=re.findall(\"\\s\",p)\n",
    "print(res)"
   ]
  },
  {
   "cell_type": "code",
   "execution_count": 5,
   "metadata": {},
   "outputs": [
    {
     "name": "stdout",
     "output_type": "stream",
     "text": [
      "['f', 'r', 'd', '_', '2', 'f', 'd', '_', '9', '_', 's', 'e', '#', '@']\n"
     ]
    }
   ],
   "source": [
    "\n",
    "import re\n",
    "p=\"frd_2 fd_9 _s e#@\"  #returns spaces,special characters.Does't returns alphabets,numbers,_\n",
    "res=re.findall(\"\\S\",p)\n",
    "print(res)"
   ]
  },
  {
   "cell_type": "code",
   "execution_count": 7,
   "metadata": {},
   "outputs": [
    {
     "name": "stdout",
     "output_type": "stream",
     "text": [
      "['f', 'r', 'i', 'e', '\\\\', 'n', 'd', 't', 'a', 'u', 'g', 'h', '\\\\', 't', '1', '2', '3', '_', '*', '#']\n"
     ]
    }
   ],
   "source": [
    "p=\"frie\\nd taugh\\t 123_*#\"  #returns spaces,special characters.Does't returns alphabets,numbers,_\n",
    "res=re.findall(\"\\S\",p)\n",
    "print(res)"
   ]
  },
  {
   "cell_type": "code",
   "execution_count": 12,
   "metadata": {},
   "outputs": [
    {
     "name": "stdout",
     "output_type": "stream",
     "text": [
      "['f', 'r', 'i', 'e', 'd']\n"
     ]
    }
   ],
   "source": [
    "import re\n",
    "p=\"frie\\nd\"\n",
    "res=re.findall(\"\\S\",p)\n",
    "print(res)"
   ]
  },
  {
   "cell_type": "code",
   "execution_count": 13,
   "metadata": {},
   "outputs": [
    {
     "name": "stdout",
     "output_type": "stream",
     "text": [
      "['g', 'o', 'o', 'd', 'm', 'o', 'r', 'n', 'i', 'n', 'g', 'a', 'n', 'd', 'g', 'o', 'o', 'd', 'a', 'f', 't', 'e', 'r', 'n', 'o', 'o', 'n']\n"
     ]
    }
   ],
   "source": [
    "p=\"good morning and good afternoon\"\n",
    "res=re.findall(\"\\S\",p)\n",
    "print(res)"
   ]
  },
  {
   "cell_type": "code",
   "execution_count": 14,
   "metadata": {},
   "outputs": [
    {
     "name": "stdout",
     "output_type": "stream",
     "text": [
      "[' ', ' ', ' ', ' ']\n"
     ]
    }
   ],
   "source": [
    "p=\"good morning and good afternoon\"\n",
    "res=re.findall(\"\\s\",p)\n",
    "print(res)"
   ]
  },
  {
   "cell_type": "code",
   "execution_count": 20,
   "metadata": {},
   "outputs": [
    {
     "name": "stdout",
     "output_type": "stream",
     "text": [
      "11good morning\te and good after\n",
      "oo#2\n"
     ]
    }
   ],
   "source": [
    "p=\"11good morning\\te and good after\\noo#2\"\n",
    "print(p)"
   ]
  },
  {
   "cell_type": "code",
   "execution_count": 19,
   "metadata": {},
   "outputs": [
    {
     "name": "stdout",
     "output_type": "stream",
     "text": [
      "[' ', '\\t', ' ', ' ', '\\n']\n"
     ]
    }
   ],
   "source": [
    "p=\"good morning\\te, good after\\noon1@!\"\n",
    "res=re.findall(\"\\s\",p)\n",
    "print(res)"
   ]
  },
  {
   "cell_type": "code",
   "execution_count": 23,
   "metadata": {},
   "outputs": [
    {
     "name": "stdout",
     "output_type": "stream",
     "text": [
      "[('1', ' '), ('9', ' ')]\n"
     ]
    }
   ],
   "source": [
    "i=\"i got 1 and my no. is 1234567899\" #if we have spaces after numbers if take as pairs and return those.\n",
    "res=re.findall(\"(\\d)(\\s)\",i)\n",
    "print(res)"
   ]
  },
  {
   "cell_type": "code",
   "execution_count": 24,
   "metadata": {},
   "outputs": [
    {
     "name": "stdout",
     "output_type": "stream",
     "text": [
      "[('1', ' '), ('9', ' ')]\n"
     ]
    }
   ],
   "source": [
    "i=\"i got 1 and my no. is 1234567899 \"\n",
    "res=re.findall(\"(\\d)(\\s)\",i)\n",
    "print(res)"
   ]
  },
  {
   "cell_type": "code",
   "execution_count": 29,
   "metadata": {},
   "outputs": [
    {
     "name": "stdout",
     "output_type": "stream",
     "text": [
      "[('e', '9', ' '), ('i', '6', ' ')]\n"
     ]
    }
   ],
   "source": [
    "i=\"i got e9 and my no. is 1W3R8U9i6 \"  #(character,number,space)\n",
    "res=re.findall(\"(\\w)(\\d)(\\s)\",i)\n",
    "print(res)"
   ]
  },
  {
   "cell_type": "code",
   "execution_count": 30,
   "metadata": {},
   "outputs": [
    {
     "name": "stdout",
     "output_type": "stream",
     "text": [
      "['e', 'e', 'e', 'e', 'e']\n"
     ]
    }
   ],
   "source": [
    "i=\"friens is need indeed\"  \n",
    "res=re.findall(\"e{1}\",i)\n",
    "print(res)"
   ]
  },
  {
   "cell_type": "code",
   "execution_count": 31,
   "metadata": {},
   "outputs": [
    {
     "name": "stdout",
     "output_type": "stream",
     "text": [
      "['ee', 'ee']\n"
     ]
    }
   ],
   "source": [
    "i=\"friend is need indeed\"  \n",
    "res=re.findall(\"e{2}\",i)\n",
    "print(res)"
   ]
  },
  {
   "cell_type": "code",
   "execution_count": 32,
   "metadata": {},
   "outputs": [
    {
     "name": "stdout",
     "output_type": "stream",
     "text": [
      "['eeee']\n"
     ]
    }
   ],
   "source": [
    "i=\"friend is need indeeeed\"  \n",
    "res=re.findall(\"e{4}\",i)\n",
    "print(res)"
   ]
  },
  {
   "cell_type": "code",
   "execution_count": 33,
   "metadata": {},
   "outputs": [
    {
     "name": "stdout",
     "output_type": "stream",
     "text": [
      "[]\n"
     ]
    }
   ],
   "source": [
    "i=\"friend is need indeed\"  \n",
    "res=re.findall(\"e{9}\",i)\n",
    "print(res)"
   ]
  },
  {
   "cell_type": "code",
   "execution_count": null,
   "metadata": {},
   "outputs": [],
   "source": []
  }
 ],
 "metadata": {
  "kernelspec": {
   "display_name": "Python 3",
   "language": "python",
   "name": "python3"
  },
  "language_info": {
   "codemirror_mode": {
    "name": "ipython",
    "version": 3
   },
   "file_extension": ".py",
   "mimetype": "text/x-python",
   "name": "python",
   "nbconvert_exporter": "python",
   "pygments_lexer": "ipython3",
   "version": "3.9.13"
  }
 },
 "nbformat": 4,
 "nbformat_minor": 2
}
