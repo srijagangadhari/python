{
 "cells": [
  {
   "cell_type": "code",
   "execution_count": 3,
   "metadata": {},
   "outputs": [
    {
     "name": "stdout",
     "output_type": "stream",
     "text": [
      "welcome to twitter\n",
      "hello\n"
     ]
    }
   ],
   "source": [
    "#write a decorator function to provide the new message before executing the main function message(1Q)\n",
    "def outer(function):\n",
    "    def inner(*args,**kwargs):\n",
    "        print(\"welcome to twitter\")\n",
    "        function(*args,**kwargs)\n",
    "    return inner\n",
    "@outer\n",
    "def tweet(message):\n",
    "    print(message)\n",
    "tweet(\"hello\")    \n",
    "\n"
   ]
  },
  {
   "cell_type": "code",
   "execution_count": 10,
   "metadata": {},
   "outputs": [
    {
     "name": "stdout",
     "output_type": "stream",
     "text": [
      "hello rahul good morning\n",
      "hello rahul good afternoon\n"
     ]
    }
   ],
   "source": [
    "#WADF to change the message(2Q)\n",
    "def wish(name):\n",
    "    print(f\"hello {name} good morning\")\n",
    "wish(\"rahul\")    \n",
    "def outer(function):\n",
    "    def inner(*args,**kwargs):\n",
    "        if args[0]==\"rahul\":\n",
    "            print(F\"hello {args[0]} good afternoon\")\n",
    "        else:\n",
    "            raise Exception(\"the name is not rahul\")    \n",
    "    return inner    \n",
    "@outer\n",
    "def wish(name):\n",
    "    print(f\"hello {name} good morning\")\n",
    "wish(\"rahul\")    "
   ]
  },
  {
   "cell_type": "code",
   "execution_count": 15,
   "metadata": {},
   "outputs": [
    {
     "name": "stdout",
     "output_type": "stream",
     "text": [
      "hello srija good morning\n"
     ]
    }
   ],
   "source": [
    "#if the name is rahul raise error.The message if it not it should return main function(3Q)\n",
    "def outer(l):\n",
    "    def inner(*args,**kwargs):\n",
    "        if args[0]==\"rahul\":\n",
    "            print(f\"hello {args[0]}\")\n",
    "        else:\n",
    "            l(*args,**kwargs)\n",
    "    return inner\n",
    "@outer\n",
    "def wish(name,id):   \n",
    "    print(f\"hello {name} good morning\")\n",
    "wish(\"srija\",\"well\")          "
   ]
  },
  {
   "cell_type": "code",
   "execution_count": 17,
   "metadata": {},
   "outputs": [
    {
     "name": "stdout",
     "output_type": "stream",
     "text": [
      "('hello people good aftr',)\n",
      "hello people good aftr\n",
      "4\n",
      "22\n",
      "the no.of words in given string is 4\n",
      "the no.of characters in given string is22\n",
      "hello people good aftr\n"
     ]
    }
   ],
   "source": [
    "#WADF to print no. of words and no.of characters from a given function\n",
    "def outer (l):\n",
    "    def inner(*args,**kwargs):\n",
    "        print(args)\n",
    "        print(args[0])\n",
    "        print(len(args[0].split()))\n",
    "        print(len(args[0]))\n",
    "        print(f\"the no.of words in given string is {len(args[0].split())}\")\n",
    "        print(f\"the no.of characters in given string is{len(args[0])}\")\n",
    "        l(*args,**kwargs)\n",
    "    return inner\n",
    "@outer\n",
    "def sen(s):\n",
    "    print(s)\n",
    "sen(\"hello people good aftr\")\n",
    "    "
   ]
  },
  {
   "cell_type": "code",
   "execution_count": 10,
   "metadata": {},
   "outputs": [
    {
     "name": "stdout",
     "output_type": "stream",
     "text": [
      "welcome to python class\n",
      "('welcome to python class',)\n",
      "23\n",
      "the no. of words is 4\n",
      "the no. of charcaters is 23\n",
      "welcome to python class\n"
     ]
    }
   ],
   "source": [
    "#WADF to print no. of words and no.of characters from a given function\n",
    "def outer (l):\n",
    "    def inner(*args,**kwargs):\n",
    "        print(*args)\n",
    "        print(args)\n",
    "        print(len(args[0]))\n",
    "        print(f\"the no. of words is {len(args[0].split())}\")\n",
    "        print(f\"the no. of charcaters is {len(args[0])}\")\n",
    "        l(*args,**kwargs)\n",
    "    return inner\n",
    "@outer\n",
    "def wish(msg):\n",
    "    print(msg)\n",
    "wish(\"welcome to python class\")        "
   ]
  },
  {
   "cell_type": "code",
   "execution_count": 24,
   "metadata": {},
   "outputs": [
    {
     "name": "stdout",
     "output_type": "stream",
     "text": [
      "main function\n",
      "main function\n",
      "main function\n",
      "main function\n",
      "main function\n",
      "main function\n",
      "main function\n",
      "main function\n",
      "main function\n",
      "main function\n",
      "main function\n",
      "main function\n"
     ]
    }
   ],
   "source": [
    "count=0\n",
    "def outer(l):\n",
    "    def inner():\n",
    "        global count\n",
    "        l()\n",
    "        count+=1\n",
    "    return inner\n",
    "@outer\n",
    "def a():\n",
    "    print(\"main function\")\n",
    "a()\n",
    "a()\n",
    "a()\n",
    "\n",
    "\n"
   ]
  },
  {
   "cell_type": "code",
   "execution_count": null,
   "metadata": {},
   "outputs": [],
   "source": [
    "def outer(a):\n",
    "    def inner(*args,**kwargs):\n",
    "        print(f\"no.of boys present in clss is {args[0]}\")\n",
    "        print(f\"no.of girls present in clss is {args[1]}\")\n",
    "    return inner  \n",
    "@outer\n",
    "def we(boys,girls):\n",
    "    print(boys+girls)\n",
    "we(10,20)  "
   ]
  },
  {
   "cell_type": "code",
   "execution_count": null,
   "metadata": {},
   "outputs": [],
   "source": [
    "def outer(a):\n",
    "    def inner(username,password):\n",
    "        valid_user=\"rahul\"\n",
    "        valid_password=\"rahul@123\"\n",
    "        if valid_user==username and valid_password==password:\n",
    "            print(f\"{username} is looged in\")\n",
    "            a(username)\n",
    "        else:\n",
    "            raise Exception(\"invalid username\")\n",
    "    return inner\n",
    "@outer\n",
    "def main(username):\n",
    "    print(username)\n",
    "main(\"rahul\",\"rahul@123\")    "
   ]
  },
  {
   "cell_type": "code",
   "execution_count": 1,
   "metadata": {},
   "outputs": [
    {
     "name": "stdout",
     "output_type": "stream",
     "text": [
      "waiting starts\n",
      "hariharan logged success\n"
     ]
    }
   ],
   "source": [
    "import time\n",
    "def outer(main):\n",
    "    def inner(*args,**kwargs):\n",
    "        print(\"waiting starts\")\n",
    "        time.sleep(5)\n",
    "        main(*args,**kwargs)\n",
    "    return inner \n",
    "@outer\n",
    "def wait(username):\n",
    "    print(f\"{username} logged success\")\n",
    "wait(\"hariharan\")   "
   ]
  },
  {
   "cell_type": "code",
   "execution_count": 2,
   "metadata": {},
   "outputs": [
    {
     "name": "stdout",
     "output_type": "stream",
     "text": [
      "2\n",
      "4\n",
      "6\n",
      "8\n",
      "10\n",
      "12\n",
      "14\n",
      "the time taken by main funtn to execute kis 14.005409002304077\n"
     ]
    }
   ],
   "source": [
    "import time\n",
    "def external(main):\n",
    "    def internal():\n",
    "        start=time.time()\n",
    "        main()\n",
    "        end=time.time()\n",
    "        diff=end-start\n",
    "        print(f\"the time taken by main funtn to execute kis {diff}\")\n",
    "    return internal\n",
    "@external\n",
    "def even():\n",
    "    for i in range(1,15):\n",
    "        if i%2==0:\n",
    "            time.sleep(2)\n",
    "            print(i)\n",
    "even()"
   ]
  },
  {
   "cell_type": "code",
   "execution_count": 4,
   "metadata": {},
   "outputs": [
    {
     "name": "stdout",
     "output_type": "stream",
     "text": [
      "enter OTP to confirm\n",
      "5000 was withdrawn\n",
      "enter OTP to confirm\n",
      "10000 is ramining balance\n"
     ]
    }
   ],
   "source": [
    "def outer(main):\n",
    "    def inner(*args,**kwargs):\n",
    "        time.sleep(2)\n",
    "        print(\"enter OTP to confirm\")\n",
    "        time.sleep(5)\n",
    "        main(*args,**kwargs)\n",
    "    return inner\n",
    "@outer\n",
    "def withdraw(msg):\n",
    "    print(f\"{msg} was withdrawn\")\n",
    "withdraw(5000)\n",
    "@outer\n",
    "def balance(bal):\n",
    "    print(f\"{bal} is ramining balance\")\n",
    "balance(10000)"
   ]
  },
  {
   "cell_type": "code",
   "execution_count": null,
   "metadata": {},
   "outputs": [],
   "source": []
  }
 ],
 "metadata": {
  "kernelspec": {
   "display_name": "base",
   "language": "python",
   "name": "python3"
  },
  "language_info": {
   "codemirror_mode": {
    "name": "ipython",
    "version": 3
   },
   "file_extension": ".py",
   "mimetype": "text/x-python",
   "name": "python",
   "nbconvert_exporter": "python",
   "pygments_lexer": "ipython3",
   "version": "3.12.4"
  }
 },
 "nbformat": 4,
 "nbformat_minor": 2
}
