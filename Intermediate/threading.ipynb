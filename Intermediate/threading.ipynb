{
 "cells": [
  {
   "cell_type": "code",
   "execution_count": 2,
   "metadata": {},
   "outputs": [
    {
     "name": "stdout",
     "output_type": "stream",
     "text": [
      "<_MainThread(MainThread, started 13540)>\n"
     ]
    }
   ],
   "source": [
    "import threading\n",
    "print(threading.current_thread())"
   ]
  },
  {
   "cell_type": "code",
   "execution_count": 3,
   "metadata": {},
   "outputs": [
    {
     "name": "stdout",
     "output_type": "stream",
     "text": [
      "MainThread\n"
     ]
    }
   ],
   "source": [
    "print(threading.current_thread().getName())"
   ]
  },
  {
   "cell_type": "code",
   "execution_count": 4,
   "metadata": {},
   "outputs": [
    {
     "name": "stdout",
     "output_type": "stream",
     "text": [
      "<_MainThread(MainThread, started 13540)>\n"
     ]
    }
   ],
   "source": [
    "print(threading.currentThread())"
   ]
  },
  {
   "cell_type": "code",
   "execution_count": 5,
   "metadata": {},
   "outputs": [
    {
     "name": "stdout",
     "output_type": "stream",
     "text": [
      "MainThread\n"
     ]
    }
   ],
   "source": [
    "print(threading.current_thread().getName())"
   ]
  },
  {
   "cell_type": "code",
   "execution_count": 7,
   "metadata": {},
   "outputs": [
    {
     "name": "stdout",
     "output_type": "stream",
     "text": [
      "None\n",
      "python\n"
     ]
    }
   ],
   "source": [
    "print(threading.current_thread().setName(\"python\"))\n",
    "print(threading.current_thread().getName())"
   ]
  },
  {
   "cell_type": "code",
   "execution_count": 11,
   "metadata": {},
   "outputs": [
    {
     "name": "stdout",
     "output_type": "stream",
     "text": [
      "13540\n"
     ]
    }
   ],
   "source": [
    "print(threading.current_thread().ident)"
   ]
  },
  {
   "cell_type": "code",
   "execution_count": 12,
   "metadata": {},
   "outputs": [
    {
     "name": "stdout",
     "output_type": "stream",
     "text": [
      "<_MainThread(python, started 13540)>\n"
     ]
    }
   ],
   "source": [
    "#WAP to print the working thread\n",
    "from threading import *\n",
    "print(threading.current_thread())"
   ]
  },
  {
   "cell_type": "code",
   "execution_count": 26,
   "metadata": {},
   "outputs": [
    {
     "name": "stdout",
     "output_type": "stream",
     "text": [
      "<reversed object at 0x0000019020B78820>\n",
      "<reversed object at 0x0000019020B788B0>\n",
      "['o', 'l', 'l', 'e', 'h']\n",
      "('o', 'l', 'l', 'e', 'h')\n",
      "{'o', 'h', 'l', 'e'}\n",
      "olleh\n",
      "jirs\n"
     ]
    }
   ],
   "source": [
    "#reversed() allows us to process the items in sequence in reverse order.\n",
    "s=\"hello\"\n",
    "print(reversed(s))\n",
    "print(str(reversed(s)))\n",
    "print(list(reversed(s)))\n",
    "print(tuple(reversed(s)))\n",
    "print(set(reversed(s)))\n",
    "print(\"\".join(list(reversed(s))))\n",
    "l=\"srij\"\n",
    "print(\"\".join(reversed(l)))"
   ]
  },
  {
   "cell_type": "code",
   "execution_count": 28,
   "metadata": {},
   "outputs": [
    {
     "name": "stdout",
     "output_type": "stream",
     "text": [
      "<list_reverseiterator object at 0x0000019020B78940>\n",
      "[86, 75, 22, 5]\n"
     ]
    }
   ],
   "source": [
    "l=[5,22,75,86]\n",
    "print(reversed(l))\n",
    "print(list(reversed(l)))"
   ]
  },
  {
   "cell_type": "code",
   "execution_count": 30,
   "metadata": {},
   "outputs": [
    {
     "name": "stdout",
     "output_type": "stream",
     "text": [
      "<reversed object at 0x000001901FF5DD60>\n",
      "(6, 5, 4, 3, 2, 1)\n",
      "[6, 5, 4, 3, 2, 1]\n"
     ]
    }
   ],
   "source": [
    "t=(1,2,3,4,5,6)\n",
    "print(reversed(t))\n",
    "print(tuple(reversed(t)))\n",
    "print(list(reversed(t)))"
   ]
  },
  {
   "cell_type": "code",
   "execution_count": 38,
   "metadata": {},
   "outputs": [
    {
     "name": "stdout",
     "output_type": "stream",
     "text": [
      "[32, 98, 54, 23]\n",
      "<list_reverseiterator object at 0x000001901FF5DAC0>\n",
      "{32, 98, 54, 23}\n"
     ]
    }
   ],
   "source": [
    "s={23,54,32,98,98,32}\n",
    "# print(reversed(s))\n",
    "a=list(s)\n",
    "print(a)\n",
    "print(reversed(a))\n",
    "print(set(reversed(a)))"
   ]
  },
  {
   "cell_type": "code",
   "execution_count": 43,
   "metadata": {},
   "outputs": [
    {
     "name": "stdout",
     "output_type": "stream",
     "text": [
      "<dict_reversekeyiterator object at 0x0000019020C660E0>\n",
      "['c', 'b', 'a']\n",
      "[30, 20, 10]\n",
      "[('c', 30), ('b', 20), ('a', 10)]\n",
      "{'c': 30, 'b': 20, 'a': 10}\n"
     ]
    }
   ],
   "source": [
    "d={\"a\":10,\"b\":20,\"c\":30}\n",
    "print(reversed(d))\n",
    "print(list(reversed(d)))\n",
    "print(list(reversed(d.values())))\n",
    "print(list(reversed(d.items())))\n",
    "print(dict(reversed(d.items())))"
   ]
  },
  {
   "cell_type": "code",
   "execution_count": 44,
   "metadata": {},
   "outputs": [
    {
     "name": "stdout",
     "output_type": "stream",
     "text": [
      "['h', 'n', 'o', 'p', 't', 'y']\n"
     ]
    }
   ],
   "source": [
    "s=\"python\"\n",
    "print(sorted(s))"
   ]
  },
  {
   "cell_type": "code",
   "execution_count": 47,
   "metadata": {},
   "outputs": [
    {
     "name": "stdout",
     "output_type": "stream",
     "text": [
      "[12, 22, 32, 42]\n",
      "[42, 32, 22, 12]\n"
     ]
    }
   ],
   "source": [
    "l=[12,32,22,42]\n",
    "print(sorted(l))\n",
    "print(sorted(l,reverse=True))"
   ]
  },
  {
   "cell_type": "code",
   "execution_count": 51,
   "metadata": {},
   "outputs": [
    {
     "name": "stdout",
     "output_type": "stream",
     "text": [
      "['class', 'human', 'man', 'mango', 'owl', 'virat', 'woman', 'woof']\n",
      "['woof', 'woman', 'virat', 'owl', 'mango', 'man', 'human', 'class']\n",
      "['owl', 'man', 'woof', 'mango', 'human', 'woman', 'class', 'virat']\n",
      "['mango', 'human', 'woman', 'class', 'virat', 'woof', 'owl', 'man']\n"
     ]
    }
   ],
   "source": [
    "l=[\"mango\",\"owl\",\"man\",\"human\",\"woman\",\"class\",\"woof\",\"virat\"]\n",
    "print(sorted(l))\n",
    "print(sorted(l,reverse=True))\n",
    "print(sorted(l,key=len))\n",
    "print(sorted(l,key=len,reverse=True))"
   ]
  },
  {
   "cell_type": "code",
   "execution_count": 58,
   "metadata": {},
   "outputs": [
    {
     "name": "stdout",
     "output_type": "stream",
     "text": [
      "['a', 'c', 'y']\n",
      "['y', 'c', 'a']\n",
      "[10, 24, 85]\n",
      "[85, 24, 10]\n",
      "[('a', 10), ('c', 24), ('y', 85)]\n",
      "[('y', 85), ('c', 24), ('a', 10)]\n",
      "{'a': 10, 'c': 24, 'y': 85}\n"
     ]
    }
   ],
   "source": [
    "d={\"a\":10,\"y\":85,\"c\":24}\n",
    "print(sorted(d))\n",
    "print(sorted(d,reverse=True))\n",
    "print(sorted(d.values()))\n",
    "print(sorted(d.values(),reverse=True))\n",
    "print(sorted(d.items()))\n",
    "print(sorted(d.items(),reverse=True))\n",
    "print(dict(sorted(d.items())))"
   ]
  },
  {
   "cell_type": "code",
   "execution_count": 61,
   "metadata": {},
   "outputs": [
    {
     "name": "stdout",
     "output_type": "stream",
     "text": [
      "['woof', 'owl', 'man', 'human', 'woman', 'mango', 'class', 'virat']\n",
      "['virat', 'class', 'mango', 'man', 'human', 'woman', 'owl', 'woof']\n"
     ]
    }
   ],
   "source": [
    "l=[\"mango\",\"owl\",\"man\",\"human\",\"woman\",\"class\",\"woof\",\"virat\"]\n",
    "a=lambda i:i[-1]\n",
    "print(sorted(l,key=a))\n",
    "print(sorted(l,key=a,reverse=True))"
   ]
  },
  {
   "cell_type": "code",
   "execution_count": null,
   "metadata": {},
   "outputs": [],
   "source": []
  }
 ],
 "metadata": {
  "kernelspec": {
   "display_name": "base",
   "language": "python",
   "name": "python3"
  },
  "language_info": {
   "codemirror_mode": {
    "name": "ipython",
    "version": 3
   },
   "file_extension": ".py",
   "mimetype": "text/x-python",
   "name": "python",
   "nbconvert_exporter": "python",
   "pygments_lexer": "ipython3",
   "version": "3.9.13"
  }
 },
 "nbformat": 4,
 "nbformat_minor": 2
}
