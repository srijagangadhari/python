{
 "cells": [
  {
   "cell_type": "code",
   "execution_count": 1,
   "id": "4e285648",
   "metadata": {},
   "outputs": [
    {
     "name": "stdout",
     "output_type": "stream",
     "text": [
      "0 1 2 3 4 5 6 7 8 9 10 "
     ]
    }
   ],
   "source": [
    "#print the values from 0 to 10\n",
    "start=0\n",
    "end=10\n",
    "while start<=end:\n",
    "    print(start,end=\" \")\n",
    "    start+=1"
   ]
  },
  {
   "cell_type": "code",
   "execution_count": 3,
   "id": "cf98bd03",
   "metadata": {},
   "outputs": [
    {
     "name": "stdout",
     "output_type": "stream",
     "text": [
      "hello world\n",
      "hello world\n",
      "hello world\n",
      "hello world\n",
      "hello world\n"
     ]
    }
   ],
   "source": [
    "#WAP to print hello world 5 time\n",
    "st=\"hello world\"\n",
    "start=1\n",
    "end=5\n",
    "while start<=end:\n",
    "    print(st)\n",
    "    start+=1"
   ]
  },
  {
   "cell_type": "code",
   "execution_count": 3,
   "id": "fc3ec470",
   "metadata": {},
   "outputs": [
    {
     "name": "stdout",
     "output_type": "stream",
     "text": [
      "ganesh\n",
      "ganesh\n",
      "ganesh\n",
      "ganesh\n",
      "ganesh\n"
     ]
    }
   ],
   "source": [
    "start=1\n",
    "end=5\n",
    "while start<=end:\n",
    "    print(\"ganesh\")\n",
    "    start+=1"
   ]
  },
  {
   "cell_type": "code",
   "execution_count": 6,
   "id": "20a0098f",
   "metadata": {},
   "outputs": [
    {
     "name": "stdout",
     "output_type": "stream",
     "text": [
      "100\n",
      "99\n",
      "98\n",
      "97\n",
      "96\n",
      "95\n",
      "94\n",
      "93\n",
      "92\n",
      "91\n",
      "90\n"
     ]
    }
   ],
   "source": [
    "start=100\n",
    "end=90\n",
    "while start>=end:\n",
    "    print(start)\n",
    "    start-=1"
   ]
  },
  {
   "cell_type": "code",
   "execution_count": 3,
   "id": "3b52c813",
   "metadata": {},
   "outputs": [
    {
     "name": "stdout",
     "output_type": "stream",
     "text": [
      "1,2,3,4,5,6,7,8,9,10,"
     ]
    }
   ],
   "source": [
    "start=1\n",
    "end=10\n",
    "while start<=end:\n",
    "    print(start,end=\",\")\n",
    "    start+=1"
   ]
  },
  {
   "cell_type": "code",
   "execution_count": 2,
   "id": "58793f51",
   "metadata": {},
   "outputs": [
    {
     "name": "stdout",
     "output_type": "stream",
     "text": [
      "1\n",
      "2\n",
      "3\n",
      "4\n",
      "5\n",
      "6\n"
     ]
    }
   ],
   "source": [
    "start=1\n",
    "end=int(input())\n",
    "while start<=end:\n",
    "    print(start)\n",
    "    start+=1"
   ]
  },
  {
   "cell_type": "code",
   "execution_count": 1,
   "id": "c3b5c458",
   "metadata": {},
   "outputs": [
    {
     "name": "stdout",
     "output_type": "stream",
     "text": [
      "20,21,22,23,24,25,26,27,28,29,30,31,32,33,34,35,36,37,38,39,40,41,42,43,44,45,46,47,48,49,50,"
     ]
    }
   ],
   "source": [
    "#print the values from 20 to 50\n",
    "start=20\n",
    "end=50\n",
    "while start<=end:\n",
    "    print(start,end=\",\")\n",
    "    start+=1"
   ]
  },
  {
   "cell_type": "code",
   "execution_count": null,
   "id": "d7991350",
   "metadata": {},
   "outputs": [],
   "source": []
  },
  {
   "cell_type": "code",
   "execution_count": 2,
   "id": "32764e6c",
   "metadata": {},
   "outputs": [
    {
     "name": "stdout",
     "output_type": "stream",
     "text": [
      "0 2 4 6 8 10 "
     ]
    }
   ],
   "source": [
    "#print even no's from 0 to 30\n",
    "# start=0\n",
    "# end=30\n",
    "# while start<=end:\n",
    "#     print(start,end=\",\")\n",
    "#     start+=2\n",
    "    # or\n",
    "start=0\n",
    "end=10\n",
    "while start<=end:\n",
    "    if start%2==0:\n",
    "        print(start,end=\" \")\n",
    "    start+=1    "
   ]
  },
  {
   "cell_type": "code",
   "execution_count": 4,
   "id": "7d4a2b7f",
   "metadata": {},
   "outputs": [
    {
     "name": "stdout",
     "output_type": "stream",
     "text": [
      "11 13 15 17 19 21 23 25 27 29 31 33 35 37 39 41 43 45 47 49 51 53 55 57 59 "
     ]
    }
   ],
   "source": [
    "#print odd no's from 10 to 60\n",
    "start=11\n",
    "end=60\n",
    "# while start<=end:\n",
    "#     print(start,end=\",\")\n",
    "#     start+=2 \n",
    "    # or\n",
    "while start<=end:\n",
    "    if start%2==1:\n",
    "        print(start,end=\" \")\n",
    "    start+=1    "
   ]
  },
  {
   "cell_type": "code",
   "execution_count": 3,
   "id": "d84095eb",
   "metadata": {},
   "outputs": [
    {
     "name": "stdout",
     "output_type": "stream",
     "text": [
      "20,19,18,17,16,15,14,13,12,11,10,"
     ]
    }
   ],
   "source": [
    "#print values from 20 to 10\n",
    "start=20\n",
    "end=10\n",
    "while start>=end:\n",
    "    print(start,end=\",\")\n",
    "    start-=1"
   ]
  },
  {
   "cell_type": "code",
   "execution_count": 7,
   "id": "412cf5be",
   "metadata": {},
   "outputs": [
    {
     "name": "stdout",
     "output_type": "stream",
     "text": [
      "A B C D E F G H I J K L M N O P Q R S T U V W X Y Z "
     ]
    }
   ],
   "source": [
    "#print uppercase characters from A to Z\n",
    "# start=65\n",
    "# end=90\n",
    "# while start<=end:\n",
    "#     print(chr(start),end=\" \")\n",
    "#     start+=1\n",
    "#     or \n",
    "start=ord(\"A\")\n",
    "end=ord(\"Z\")\n",
    "while start<=end:\n",
    "    print(chr(start),end=\" \")\n",
    "    start+=1    "
   ]
  },
  {
   "cell_type": "code",
   "execution_count": 7,
   "id": "90430aa4",
   "metadata": {},
   "outputs": [
    {
     "name": "stdout",
     "output_type": "stream",
     "text": [
      "3 * 1 = 3\n",
      "3 * 2 = 6\n",
      "3 * 3 = 9\n",
      "3 * 4 = 12\n",
      "3 * 5 = 15\n",
      "3 * 6 = 18\n",
      "3 * 7 = 21\n",
      "3 * 8 = 24\n",
      "3 * 9 = 27\n",
      "3 * 10 = 30\n"
     ]
    }
   ],
   "source": [
    "#print the 3rd table from 1 to 20 format =>[3*1=3]\n",
    "start=1\n",
    "end=10\n",
    "n=3\n",
    "while start<=end:\n",
    "    print(n,'*',start,'=',n*start)\n",
    "    start+=1"
   ]
  },
  {
   "cell_type": "code",
   "execution_count": 10,
   "id": "ea81f463",
   "metadata": {},
   "outputs": [
    {
     "name": "stdout",
     "output_type": "stream",
     "text": [
      "4 * 10 = 40\n",
      "4 * 9 = 36\n",
      "4 * 8 = 32\n",
      "4 * 7 = 28\n",
      "4 * 6 = 24\n",
      "4 * 5 = 20\n",
      "4 * 4 = 16\n",
      "4 * 3 = 12\n",
      "4 * 2 = 8\n",
      "4 * 1 = 4\n"
     ]
    }
   ],
   "source": [
    "#WAP to reverse a table \n",
    "start=10\n",
    "end=1\n",
    "n=int(input(\"enter\"))\n",
    "while start>=end:\n",
    "    print(n,'*',start,'=',start*n)\n",
    "    start-=1"
   ]
  },
  {
   "cell_type": "code",
   "execution_count": 13,
   "id": "76b3d9e8",
   "metadata": {},
   "outputs": [
    {
     "name": "stdout",
     "output_type": "stream",
     "text": [
      "0 1 2 3 4 5 6 7 8 9 "
     ]
    }
   ],
   "source": [
    "#WAP to print ascii numbers from 0 to 9\n",
    "start=48\n",
    "end=57\n",
    "while start<=end:\n",
    "    print(chr(start),end=\" \")\n",
    "    start+=1\n",
    "\n"
   ]
  },
  {
   "cell_type": "code",
   "execution_count": 9,
   "id": "545702bf",
   "metadata": {},
   "outputs": [
    {
     "name": "stdout",
     "output_type": "stream",
     "text": [
      "h\n"
     ]
    }
   ],
   "source": [
    "#WAP to check whether given string contians alphabets or not\n",
    "# while True:\n",
    "#     var=\"0\"\n",
    "#     if var.isalpha():\n",
    "#         print(var) \n",
    "#         break\n",
    "#     else:\n",
    "#         print(\"invalid\")  \n",
    "#         break\n",
    "a=\"he123\"\n",
    "i=0\n",
    "while a:\n",
    "    if a[i].isalpha():\n",
    "        print(a[i])\n",
    "        break\n",
    "    i+=1\n"
   ]
  },
  {
   "cell_type": "code",
   "execution_count": 21,
   "id": "b9ef3da1",
   "metadata": {},
   "outputs": [
    {
     "name": "stdout",
     "output_type": "stream",
     "text": [
      "mahantesh python@123\n",
      "invalid\n",
      "invalid\n"
     ]
    }
   ],
   "source": [
    "while True:\n",
    "    username=\"mahantesh\"\n",
    "    password=\"python@123\"\n",
    "    if username==\"mahantesh\" and password==\"python@123\":\n",
    "        print(username,password)\n",
    "    else:\n",
    "        print(\"invalid\")    "
   ]
  },
  {
   "cell_type": "code",
   "execution_count": 2,
   "id": "f23a0448",
   "metadata": {},
   "outputs": [
    {
     "name": "stdout",
     "output_type": "stream",
     "text": [
      "8\n",
      "6\n",
      "2\n",
      "5\n",
      "4\n"
     ]
    }
   ],
   "source": [
    "#WAP to fetch/extract the digit individually\n",
    "n=45268\n",
    "while n:\n",
    "    re=n%10\n",
    "    print(re)\n",
    "    n=n//10\n"
   ]
  },
  {
   "cell_type": "code",
   "execution_count": 9,
   "id": "0526fe06",
   "metadata": {},
   "outputs": [
    {
     "name": "stdout",
     "output_type": "stream",
     "text": [
      "1234\n",
      "1234\n"
     ]
    }
   ],
   "source": [
    "#WAP to reverse the no. and print original no. and reverse no.\n",
    "n=1234\n",
    "og=n\n",
    "# i=0\n",
    "res=\" \"\n",
    "while n:\n",
    "    a=n%10\n",
    "    res=res+str(a)\n",
    "    n=n//10\n",
    "print(int(res[::-1]))\n",
    "print(og)    \n",
    "\n"
   ]
  },
  {
   "cell_type": "code",
   "execution_count": 2,
   "id": "5c0be076",
   "metadata": {},
   "outputs": [
    {
     "name": "stdout",
     "output_type": "stream",
     "text": [
      "321\n",
      "123\n"
     ]
    }
   ],
   "source": [
    "n=123\n",
    "m=\"\"\n",
    "temp=n\n",
    "while n:\n",
    "    p=n%10\n",
    "    m+=str(p)\n",
    "    n//=10\n",
    "print(int(m))\n",
    "print(temp)\n",
    "    "
   ]
  },
  {
   "cell_type": "code",
   "execution_count": 10,
   "id": "b2ec0119",
   "metadata": {},
   "outputs": [
    {
     "name": "stdout",
     "output_type": "stream",
     "text": [
      "1\n"
     ]
    }
   ],
   "source": [
    "#find the min value\n",
    "# n=45268\n",
    "# og=n\n",
    "# i=0\n",
    "# min_=9\n",
    "# while i<n:\n",
    "#     lt=n%10  #8\n",
    "#     if lt<min_:\n",
    "#         min_=lt  #min=8\n",
    "#     n=n//10\n",
    "# print(f\"the minimum value is {min_}\")        \n",
    "\n",
    "n=1234\n",
    "i=0\n",
    "temp=n\n",
    "min_=9\n",
    "while n:\n",
    "    lt=n%10\n",
    "    if lt<min_:\n",
    "        min_=lt\n",
    "    n//=10\n",
    "print(min_)\n"
   ]
  },
  {
   "cell_type": "code",
   "execution_count": 11,
   "id": "1cf8cbc7",
   "metadata": {},
   "outputs": [
    {
     "name": "stdout",
     "output_type": "stream",
     "text": [
      "the max value is 8\n"
     ]
    }
   ],
   "source": [
    "n=45268\n",
    "og=n\n",
    "max_=0\n",
    "while n:\n",
    "    a=n%10  #a=8\n",
    "    if a>max_:\n",
    "        max_=a  #max_=8\n",
    "    n=n//10\n",
    "print(f\"the max value is {max_}\")        \n",
    "\n",
    "\n",
    "\n"
   ]
  },
  {
   "cell_type": "code",
   "execution_count": 12,
   "id": "2b983a71",
   "metadata": {},
   "outputs": [
    {
     "name": "stdout",
     "output_type": "stream",
     "text": [
      "1\n"
     ]
    }
   ],
   "source": [
    "l=[6,4,2,1]\n",
    "i=0\n",
    "min_=l[0]\n",
    "\n",
    "while i<len(l):\n",
    "    if l[i]<min_:\n",
    "        min_=l[i]  \n",
    "    i+=1\n",
    "print(min_)     "
   ]
  },
  {
   "cell_type": "code",
   "execution_count": 10,
   "id": "0e1e4d45",
   "metadata": {},
   "outputs": [
    {
     "name": "stdout",
     "output_type": "stream",
     "text": [
      "1\n",
      "5\n"
     ]
    }
   ],
   "source": [
    "#print factors of given number\n",
    "start=1\n",
    "end=int(input(\"enter a number\"))\n",
    "while start<=end:\n",
    "    if end%start==0:\n",
    "        print(start)\n",
    "    start+=1        \n",
    "\n",
    "\n"
   ]
  },
  {
   "cell_type": "code",
   "execution_count": 1,
   "id": "b6d351b1",
   "metadata": {},
   "outputs": [
    {
     "name": "stdout",
     "output_type": "stream",
     "text": [
      "965\n"
     ]
    }
   ],
   "source": [
    "#WAP to  reverse of a no.\n",
    "res=0\n",
    "n=569\n",
    "while n:\n",
    "    p=n%10\n",
    "    res=res*10+p\n",
    "    n=n//10\n",
    "print(res)"
   ]
  },
  {
   "cell_type": "code",
   "execution_count": 17,
   "id": "011f3b77",
   "metadata": {},
   "outputs": [
    {
     "name": "stdout",
     "output_type": "stream",
     "text": [
      "35 70 "
     ]
    }
   ],
   "source": [
    "start=22\n",
    "end=77\n",
    "while start<=end :\n",
    "    if (start%5==0) and (start%7==0):\n",
    "        print(start,end=\" \")\n",
    "    start+=1"
   ]
  },
  {
   "cell_type": "code",
   "execution_count": null,
   "id": "2cde4acb",
   "metadata": {},
   "outputs": [],
   "source": [
    "#WAP to add 1 to 5 numbers\n",
    "sum=0\n",
    "start=1\n",
    "end=5\n",
    "while start<=end:\n",
    "    sum+=start\n",
    "    start+=1\n",
    "print(sum)"
   ]
  },
  {
   "cell_type": "code",
   "execution_count": 16,
   "id": "31fc53c2",
   "metadata": {},
   "outputs": [
    {
     "name": "stdout",
     "output_type": "stream",
     "text": [
      "not perfect\n"
     ]
    }
   ],
   "source": [
    "#WAP to check given no. is perfect numbers or not.\n",
    "start=1\n",
    "end=6\n",
    "sum=0\n",
    "while start<end:\n",
    "    if end%start==0:\n",
    "        sum+=start\n",
    "    start+=1    \n",
    "if sum==end:\n",
    "    print(\"perfect\") \n",
    "else:       \n",
    "    print(\"not perfect\")\n"
   ]
  },
  {
   "cell_type": "code",
   "execution_count": null,
   "metadata": {},
   "outputs": [
    {
     "name": "stdout",
     "output_type": "stream",
     "text": [
      "15\n"
     ]
    }
   ],
   "source": [
    "#WAP to add 1 to 5 numbers\n",
    "sum=0\n",
    "start=1\n",
    "end=5\n",
    "while start<=end:\n",
    "    sum+=start\n",
    "    start+=1\n",
    "print(sum)"
   ]
  },
  {
   "cell_type": "code",
   "execution_count": 1,
   "metadata": {},
   "outputs": [
    {
     "name": "stdout",
     "output_type": "stream",
     "text": [
      "perfect num: 6\n",
      "perfect num: 28\n",
      "perfect num: 496\n"
     ]
    }
   ],
   "source": [
    "#WAP to print perfect no's from 1 to 1000\n",
    "start=1\n",
    "end=1000\n",
    "while start <= end:\n",
    "    n = start\n",
    "    sum1 = 0\n",
    "    i = 1\n",
    "    while i<n:\n",
    "        if n%i==0:\n",
    "            sum1+=i\n",
    "        i+=1    \n",
    "    if sum1 == n:\n",
    "        print(\"perfect num:\",start)\n",
    "\n",
    "    start+=1    \n",
    "\n"
   ]
  },
  {
   "cell_type": "code",
   "execution_count": 1,
   "metadata": {},
   "outputs": [
    {
     "name": "stdout",
     "output_type": "stream",
     "text": [
      "789\n"
     ]
    }
   ],
   "source": [
    "#reverse the given no. without type casting\n",
    "res=0\n",
    "n=987\n",
    "while n:\n",
    "    i=n%10\n",
    "    res=res*10+i\n",
    "    n=n//10\n",
    "print(res)    "
   ]
  },
  {
   "cell_type": "code",
   "execution_count": 1,
   "metadata": {},
   "outputs": [
    {
     "name": "stdout",
     "output_type": "stream",
     "text": [
      "palindrome\n"
     ]
    }
   ],
   "source": [
    "#to check given no. is palindrome or not\n",
    "n=1221\n",
    "temp=n\n",
    "sum1=0\n",
    "while n:\n",
    "    r=n%10\n",
    "    sum1=sum1*10+r\n",
    "    n=n//10\n",
    "if sum1==temp:\n",
    "    print(\"palindrome\")\n",
    "else:\n",
    "    print(\"not palindrome\")\n",
    "\n",
    "\n",
    "    \n"
   ]
  },
  {
   "cell_type": "code",
   "execution_count": 19,
   "metadata": {},
   "outputs": [
    {
     "name": "stdout",
     "output_type": "stream",
     "text": [
      "not a palindrome\n"
     ]
    }
   ],
   "source": [
    "# write a program to check palindrome or not\n",
    "# Note:Take input from user(runtime)\n",
    "# sample Input1:6226 output:Palindrome\n",
    "# sample Input2:124 output:Not a Palindrome\n",
    "n=int(input(\"enter a number:\"))\n",
    "temp=n\n",
    "sum1=0\n",
    "while n:\n",
    "    ld=n%10\n",
    "    sum1=sum1*10+ld\n",
    "    n=n//10\n",
    "if sum1==temp:\n",
    "    print(\"palindrome\")  \n",
    "else:\n",
    "    print(\"not a palindrome\")      "
   ]
  },
  {
   "cell_type": "code",
   "execution_count": 15,
   "metadata": {},
   "outputs": [
    {
     "name": "stdout",
     "output_type": "stream",
     "text": [
      "A B C D E F G H I J K L M N O P Q R S T U V W X Y Z "
     ]
    }
   ],
   "source": [
    "#WAP to print A to Z\n",
    "\n",
    "#1st logic\n",
    "# start=ord('A')\n",
    "# end=ord('Z')\n",
    "# while start<=end:\n",
    "#     print(chr(start),end=\" \")\n",
    "#     start+=1\n",
    "\n",
    "#2nd logic\n",
    "start=65\n",
    "end=90\n",
    "while start<=end:\n",
    "    print(chr(start),end=' ')\n",
    "    start+=1    \n",
    "\n",
    "# start=\"A\"\n",
    "# end=\"Z\"\n",
    "# while start<=end:\n",
    "#     print(chr(ord(start)+1))\n",
    "\n"
   ]
  },
  {
   "cell_type": "code",
   "execution_count": 4,
   "id": "685b98b5",
   "metadata": {},
   "outputs": [
    {
     "name": "stdout",
     "output_type": "stream",
     "text": [
      "login successful\n"
     ]
    }
   ],
   "source": [
    "candidate_name=\"mahantesh\"\n",
    "candidate_passwrd=\"python@123\"\n",
    "while True:\n",
    "    user_name=input(\"enter the username:\")\n",
    "    user_passwrd=input(\"enter the password:\")\n",
    "    if user_name==\"mahantesh\" and user_passwrd==\"python@123\":\n",
    "        print(\"login successful\")\n",
    "        break\n",
    "    else:\n",
    "        print(\"invalid\")    "
   ]
  },
  {
   "cell_type": "code",
   "execution_count": 29,
   "id": "699cbad0",
   "metadata": {},
   "outputs": [
    {
     "name": "stdout",
     "output_type": "stream",
     "text": [
      "Lowercase Alphabets: elloo\n",
      "Uppercase Alphabets: HWRLD\n",
      "Digits: 1123\n",
      "Special Characters: @\n"
     ]
    }
   ],
   "source": [
    "\n",
    "#WAP to print the lowercase alphabets,uppercase alphabets,0-9,special characters from given string using only while loop\n",
    "\n",
    "S = \"1HelloWoRLD@123\"\n",
    "start = 0\n",
    "end = len(S) - 1\n",
    "lowercase_alphabets = \"\"\n",
    "uppercase_alphabets = \"\"\n",
    "numbers = \"\"\n",
    "special_characters = \"\"\n",
    "\n",
    "while start < end:\n",
    "    char = S[start]\n",
    "    \n",
    "    if 'a'<=char<='z':\n",
    "        lowercase_alphabets+=char\n",
    "    elif 'A'<=char<='Z':\n",
    "        uppercase_alphabets+=char\n",
    "    elif '0' <= char<='9':\n",
    "        numbers += char\n",
    "    else:\n",
    "        special_characters += char\n",
    "    \n",
    "    start += 1\n",
    "\n",
    "print(\"lowercase alphabets:\", lowercase_alphabets)\n",
    "print(\"uppercase alphabets:\", uppercase_alphabets)\n",
    "print(\"Digits:\", numbers)\n",
    "print(\"special characters:\", special_characters)\n",
    "\n",
    "        "
   ]
  },
  {
   "cell_type": "code",
   "execution_count": 2,
   "id": "17fc1e97",
   "metadata": {},
   "outputs": [
    {
     "name": "stdout",
     "output_type": "stream",
     "text": [
      "1\n"
     ]
    }
   ],
   "source": [
    "l=[6,4,2,1]\n",
    "i=0\n",
    "min_=l[0]\n",
    "\n",
    "while i<len(l):\n",
    "    if l[i]<min_:\n",
    "        min_=l[i]  \n",
    "    i+=1\n",
    "print(min_)     "
   ]
  },
  {
   "cell_type": "code",
   "execution_count": 1,
   "id": "f3f9e95b",
   "metadata": {},
   "outputs": [
    {
     "name": "stdout",
     "output_type": "stream",
     "text": [
      "Amstrong 1\n",
      "Amstrong 2\n",
      "Amstrong 3\n",
      "Amstrong 4\n",
      "Amstrong 5\n",
      "Amstrong 6\n",
      "Amstrong 7\n",
      "Amstrong 8\n",
      "Amstrong 9\n",
      "Amstrong 153\n",
      "Amstrong 370\n",
      "Amstrong 371\n",
      "Amstrong 407\n"
     ]
    }
   ],
   "source": [
    "start=1\n",
    "end=1000\n",
    "while start<=end:\n",
    "    res=start\n",
    "    temp=start\n",
    "    count=0\n",
    "    while res:\n",
    "        a=res%10\n",
    "        count+=1\n",
    "        res//=10\n",
    "    sum1=0\n",
    "    while temp:\n",
    "        ld=temp%10\n",
    "        sum1+=ld**count\n",
    "        temp=temp//10\n",
    "    if sum1==start:\n",
    "        print(\"Amstrong\",sum1)\n",
    "    start+=1        \n",
    "            "
   ]
  },
  {
   "cell_type": "code",
   "execution_count": 2,
   "id": "651b50cf",
   "metadata": {},
   "outputs": [
    {
     "name": "stdout",
     "output_type": "stream",
     "text": [
      "spy number\n"
     ]
    }
   ],
   "source": [
    "#WAP sumof digits and product of digits of the given number abd check product and sum are equal or \n",
    "#not if equal print spy number or else print not a spy nuumber.\n",
    "n=123\n",
    "sum1=0\n",
    "prod=1\n",
    "while n:\n",
    "    res=n%10\n",
    "    sum1+=res\n",
    "    prod*=res\n",
    "    n=n//10\n",
    "if sum1==prod:\n",
    "    print(\"spy number\")\n",
    "else:\n",
    "    print(\"not spy number\")    \n"
   ]
  },
  {
   "cell_type": "code",
   "execution_count": 2,
   "id": "fa5509ee",
   "metadata": {},
   "outputs": [
    {
     "name": "stdout",
     "output_type": "stream",
     "text": [
      "1 2 3 4 5 6 7 8 9 22 123 132 213 231 312 321 "
     ]
    }
   ],
   "source": [
    "#WAP to display the spy numbers from 1 to 1000\n",
    "start=1\n",
    "end=1000\n",
    "while start<=end:\n",
    "    n=start\n",
    "    sum1=0\n",
    "    prod=1\n",
    "    while n:\n",
    "        res=n%10\n",
    "        sum1+=res\n",
    "        prod*=res\n",
    "        n=n//10\n",
    "    if sum1==prod:\n",
    "        print(start,end=\" \")\n",
    "    start+=1        \n"
   ]
  },
  {
   "cell_type": "code",
   "execution_count": 3,
   "id": "f69e837c",
   "metadata": {},
   "outputs": [
    {
     "name": "stdout",
     "output_type": "stream",
     "text": [
      "happy 1\n",
      "happy 7\n",
      "happy 10\n",
      "happy 13\n",
      "happy 19\n",
      "happy 23\n",
      "happy 28\n",
      "happy 31\n",
      "happy 32\n",
      "happy 44\n",
      "happy 49\n",
      "happy 68\n",
      "happy 70\n",
      "happy 79\n",
      "happy 82\n",
      "happy 86\n",
      "happy 91\n",
      "happy 94\n",
      "happy 97\n",
      "happy 100\n",
      "happy 103\n",
      "happy 109\n",
      "happy 129\n",
      "happy 130\n",
      "happy 133\n",
      "happy 139\n",
      "happy 167\n",
      "happy 176\n",
      "happy 188\n",
      "happy 190\n",
      "happy 192\n",
      "happy 193\n",
      "happy 203\n",
      "happy 208\n",
      "happy 219\n",
      "happy 226\n",
      "happy 230\n",
      "happy 236\n",
      "happy 239\n",
      "happy 262\n",
      "happy 263\n",
      "happy 280\n",
      "happy 291\n",
      "happy 293\n",
      "happy 301\n",
      "happy 302\n",
      "happy 310\n",
      "happy 313\n",
      "happy 319\n",
      "happy 320\n",
      "happy 326\n",
      "happy 329\n",
      "happy 331\n",
      "happy 338\n",
      "happy 356\n",
      "happy 362\n",
      "happy 365\n",
      "happy 367\n",
      "happy 368\n",
      "happy 376\n",
      "happy 379\n",
      "happy 383\n",
      "happy 386\n",
      "happy 391\n",
      "happy 392\n",
      "happy 397\n",
      "happy 404\n",
      "happy 409\n",
      "happy 440\n",
      "happy 446\n",
      "happy 464\n",
      "happy 469\n",
      "happy 478\n",
      "happy 487\n",
      "happy 490\n",
      "happy 496\n",
      "happy 536\n",
      "happy 556\n",
      "happy 563\n",
      "happy 565\n",
      "happy 566\n",
      "happy 608\n",
      "happy 617\n",
      "happy 622\n",
      "happy 623\n",
      "happy 632\n",
      "happy 635\n",
      "happy 637\n",
      "happy 638\n",
      "happy 644\n",
      "happy 649\n",
      "happy 653\n",
      "happy 655\n",
      "happy 656\n",
      "happy 665\n",
      "happy 671\n",
      "happy 673\n",
      "happy 680\n",
      "happy 683\n",
      "happy 694\n",
      "happy 700\n",
      "happy 709\n",
      "happy 716\n",
      "happy 736\n",
      "happy 739\n",
      "happy 748\n",
      "happy 761\n",
      "happy 763\n",
      "happy 784\n",
      "happy 790\n",
      "happy 793\n",
      "happy 802\n",
      "happy 806\n",
      "happy 818\n",
      "happy 820\n",
      "happy 833\n",
      "happy 836\n",
      "happy 847\n",
      "happy 860\n",
      "happy 863\n",
      "happy 874\n",
      "happy 881\n",
      "happy 888\n",
      "happy 899\n",
      "happy 901\n",
      "happy 904\n",
      "happy 907\n",
      "happy 910\n",
      "happy 912\n",
      "happy 913\n",
      "happy 921\n",
      "happy 923\n",
      "happy 931\n",
      "happy 932\n",
      "happy 937\n",
      "happy 940\n",
      "happy 946\n",
      "happy 964\n",
      "happy 970\n",
      "happy 973\n",
      "happy 989\n",
      "happy 998\n",
      "happy 1000\n"
     ]
    }
   ],
   "source": [
    "i=1\n",
    "end=1000\n",
    "while i<=end:\n",
    "    start=i\n",
    "    # is_happy=False\n",
    "    while start!=1 and start!=4:\n",
    "        sum1=0\n",
    "        while start>0:\n",
    "            ld=start%10\n",
    "            sum1=sum1+(ld**2)\n",
    "            start=start//10\n",
    "        start=sum1\n",
    "    if start==1:\n",
    "        print(\"happy\",i)\n",
    "    i+=1\n",
    "     \n"
   ]
  },
  {
   "cell_type": "code",
   "execution_count": 3,
   "id": "58c9f042",
   "metadata": {},
   "outputs": [
    {
     "name": "stdout",
     "output_type": "stream",
     "text": [
      "['4', '5']\n",
      "20\n"
     ]
    }
   ],
   "source": [
    "a=\"4,5\"\n",
    "nums=a.split(',')\n",
    "print(nums)\n",
    "x,y=nums\n",
    "b=int(x)*int(y)\n",
    "print(b)"
   ]
  },
  {
   "cell_type": "code",
   "execution_count": 18,
   "id": "91a961d0",
   "metadata": {},
   "outputs": [
    {
     "name": "stdout",
     "output_type": "stream",
     "text": [
      "pYtHoN PrOgRaMmInG\n"
     ]
    }
   ],
   "source": [
    "p= \"Python Programming\"\n",
    "u= p.upper()\n",
    "l = p.lower()\n",
    "a = \"\"\n",
    "for i in range(len(p)):\n",
    "  if i % 2 == 0:\n",
    "    a += l[i]\n",
    "  else:\n",
    "    a += u[i]\n",
    "print(a)"
   ]
  },
  {
   "cell_type": "code",
   "execution_count": 4,
   "id": "6c8e1a0c",
   "metadata": {},
   "outputs": [
    {
     "name": "stdout",
     "output_type": "stream",
     "text": [
      "321\n"
     ]
    }
   ],
   "source": [
    "#WAP to reverse the given number without type casting\n",
    "# n=123\n",
    "# res=0\n",
    "# while n:\n",
    "#     i=n%10  #3\n",
    "#     res=res*10+i\n",
    "#     n=n//10\n",
    "# print(res)\n",
    "# i-=1\n",
    "n = 123\n",
    "res = 0\n",
    "while n:\n",
    "    i = n % 10  # Extract the last digit\n",
    "    res = res * 10 + i  # Build the reversed number\n",
    "    n = n // 10  # Remove the last digit from the original number\n",
    "\n",
    "print(res)\n"
   ]
  },
  {
   "cell_type": "code",
   "execution_count": 15,
   "id": "9418beb1",
   "metadata": {},
   "outputs": [
    {
     "name": "stdout",
     "output_type": "stream",
     "text": [
      "122 is not palindrome\n",
      "12 is not palindrome\n",
      "1 is not palindrome\n",
      "0 is palindrome\n"
     ]
    }
   ],
   "source": [
    "#WAP to check given number is palindrome or not\n",
    "n=1221\n",
    "res=0\n",
    "temp=n\n",
    "while n:\n",
    "    ld=n%10  #1 2 2 1\n",
    "    res=res*10+ld  #1 12 122  1221\n",
    "    n=n//10  #122  12  1  0\n",
    "    if temp==res:\n",
    "        print(f\"{n} is palindrome\")    \n",
    "    else:\n",
    "        print(f\"{n} is not palindrome\")"
   ]
  },
  {
   "cell_type": "code",
   "execution_count": 20,
   "id": "c860ee22",
   "metadata": {},
   "outputs": [
    {
     "name": "stdout",
     "output_type": "stream",
     "text": [
      "not pallindrome\n"
     ]
    }
   ],
   "source": [
    "n=1226\n",
    "temp=n\n",
    "r=0\n",
    "while n>0:\n",
    "    l=n%10\n",
    "    r=r*10+l\n",
    "    n//=10\n",
    "if r==temp:\n",
    "    print(\"pallindrome\")\n",
    "else:\n",
    "    print(\"not pallindrome\")"
   ]
  },
  {
   "cell_type": "code",
   "execution_count": 18,
   "id": "86e590e9",
   "metadata": {},
   "outputs": [
    {
     "name": "stdout",
     "output_type": "stream",
     "text": [
      "10010 \n"
     ]
    }
   ],
   "source": [
    "#WAP to convert decimal to binary \n",
    "n=18\n",
    "s=\" \"\n",
    "while n: #18  9  4  2  1  \n",
    "    res=n%2  #0 1 0 0 1\n",
    "    s=str(res)+s  #s=\"0\"+\" \"=>\"0\"  \"1\" \"10\"  \"010\" \"0010\" \"10010\"\n",
    "    n=n//2  #9  4  2  1 0\n",
    "print(s)\n"
   ]
  },
  {
   "cell_type": "code",
   "execution_count": 21,
   "id": "6126a841",
   "metadata": {},
   "outputs": [
    {
     "name": "stdout",
     "output_type": "stream",
     "text": [
      "10010\n"
     ]
    }
   ],
   "source": [
    "n=18\n",
    "s=\"\"\n",
    "while n>0: #18 #9 #4\n",
    "    l=n%2 #0 #1 #0\n",
    "    s=str(l)+s #'0'+\"\"='0'  #'1'+'0'='10' #'0'+'10'='010'\n",
    "    n//=2 #9 #4\n",
    "print(s)\n"
   ]
  },
  {
   "cell_type": "code",
   "execution_count": 25,
   "id": "f79f7940",
   "metadata": {},
   "outputs": [
    {
     "name": "stdout",
     "output_type": "stream",
     "text": [
      "17\n"
     ]
    }
   ],
   "source": [
    "n=10001\n",
    "s=0\n",
    "i=0\n",
    "while n>0:\n",
    "    l=n%10\n",
    "    s+=l*(2**i)\n",
    "    n//=10\n",
    "    i+=1\n",
    "print(s)\n"
   ]
  },
  {
   "cell_type": "code",
   "execution_count": 19,
   "id": "19c28b5b",
   "metadata": {},
   "outputs": [
    {
     "name": "stdout",
     "output_type": "stream",
     "text": [
      "16\n"
     ]
    }
   ],
   "source": [
    "#WAP to convert binary to decimal\n",
    "num=10000\n",
    "sum1=0\n",
    "i=0  #0 1 2 3 4 5\n",
    "while num:    #10000 1000 100 10 1 \n",
    "    ld=num%10 #0  0 0 0 1\n",
    "    sum1=sum1+ld*(2**i)  #(0+1000)*(2**0)=>0 0 0 0 16\n",
    "    num=num//10 #1000  100  10  1 0\n",
    "    i+=1  #\n",
    "print(sum1)    "
   ]
  },
  {
   "cell_type": "code",
   "execution_count": 26,
   "id": "202539c0",
   "metadata": {},
   "outputs": [
    {
     "name": "stdout",
     "output_type": "stream",
     "text": [
      "120\n"
     ]
    }
   ],
   "source": [
    "#wAP  to find out the factorial of given number =>5*4*3*2*1\n",
    "fact=1\n",
    "num=5\n",
    "while num!=0:\n",
    "    fact*=num\n",
    "    num-=1\n",
    "print(fact)    "
   ]
  },
  {
   "cell_type": "code",
   "execution_count": 14,
   "id": "23638688",
   "metadata": {},
   "outputs": [
    {
     "name": "stdout",
     "output_type": "stream",
     "text": [
      "9376 is an automorphic number\n"
     ]
    }
   ],
   "source": [
    "#WAP to check given no.is automorphic no. or not\n",
    "num=int(input())\n",
    "sq=(num)**2\n",
    "while (num>0):\n",
    "    s=str(num)\n",
    "    l=10**int(len(s))\n",
    "    if (num%l==num%l):\n",
    "        print(f\"{num} is an automorphic number\")\n",
    "        break\n",
    "    num//=10\n",
    "    # sq//=10"
   ]
  },
  {
   "cell_type": "code",
   "execution_count": null,
   "id": "ed0446e6",
   "metadata": {},
   "outputs": [
    {
     "name": "stdout",
     "output_type": "stream",
     "text": [
      "automorphic\n"
     ]
    }
   ],
   "source": [
    "n=int(input())\n",
    "s=n*n\n",
    "while n>0:\n",
    "    p=str(n)\n",
    "    l=10*int(len(p))\n",
    "    if (n%l==s%l):\n",
    "        print(\"automorphic\")\n",
    "    n//=10\n",
    "    "
   ]
  },
  {
   "cell_type": "code",
   "execution_count": 20,
   "id": "9675f113",
   "metadata": {},
   "outputs": [
    {
     "name": "stdout",
     "output_type": "stream",
     "text": [
      "376 is an automorphic number\n"
     ]
    }
   ],
   "source": [
    "#WAP to check given no.is automorphic no. or not\n",
    "num=int(input())\n",
    "sq=(num)**2\n",
    "while (num>0):\n",
    "    s=str(num)\n",
    "    l=10**int(len(s))\n",
    "    if (num%l==sq%l):\n",
    "        print(f\"{num} is an automorphic number\")\n",
    "        break\n",
    "    num//=10\n",
    "    # sq//=10"
   ]
  },
  {
   "cell_type": "code",
   "execution_count": 44,
   "id": "97449058",
   "metadata": {},
   "outputs": [
    {
     "name": "stdout",
     "output_type": "stream",
     "text": [
      "120\n",
      "24\n",
      "1\n",
      "145\n",
      "stong\n"
     ]
    }
   ],
   "source": [
    "n=145\n",
    "temp=n\n",
    "s=0\n",
    "while n:\n",
    "    l=n%10 #5\n",
    "    f=1\n",
    "    while l>0:\n",
    "        f*=l #1*5=5 5*4=20 20*\n",
    "        l-=1\n",
    "    print(f)\n",
    "    s+=f #24\n",
    "    n//=10\n",
    "print(s)\n",
    "if s==temp:\n",
    "    print(\"stong\")\n",
    "else:\n",
    "    print(\"not strong\")"
   ]
  },
  {
   "cell_type": "code",
   "execution_count": 41,
   "id": "b44e17fa",
   "metadata": {},
   "outputs": [
    {
     "name": "stdout",
     "output_type": "stream",
     "text": [
      "12\n"
     ]
    }
   ],
   "source": [
    "x=0\n",
    "while x<=5:\n",
    "    flag=0\n",
    "    if x==4:\n",
    "        flag=1\n",
    "    x=x+1"
   ]
  },
  {
   "cell_type": "code",
   "execution_count": 61,
   "metadata": {},
   "outputs": [
    {
     "name": "stdout",
     "output_type": "stream",
     "text": [
      "[2, 5, 10, 50, 100]\n"
     ]
    }
   ],
   "source": [
    "l=[50,10,100,2,5]\n",
    "# o/p:[2,5,10,50,100]\n",
    "i=0\n",
    "while i<len(l)-1:\n",
    "    j=i+1\n",
    "    while j<len(l):\n",
    "        if l[i]>l[j]:\n",
    "            l[j],l[i]=l[i],l[j]\n",
    "        j+=1\n",
    "    i+=1\n",
    "print(l)\n"
   ]
  },
  {
   "cell_type": "code",
   "execution_count": 7,
   "id": "3b7f3b04",
   "metadata": {},
   "outputs": [
    {
     "name": "stdout",
     "output_type": "stream",
     "text": [
      "abbccc\n"
     ]
    }
   ],
   "source": [
    "a=\"a1b2cc2\"\n",
    "b=\"\"\n",
    "i=0\n",
    "j=i+1\n",
    "while i<len(a)-1:\n",
    "    c=a[i]\n",
    "    n=a[i+1]\n",
    "    if '0'<=n<='9' and 'a'<=c<='z':\n",
    "        b+=c*int(n)\n",
    "    elif 'a'<=c<='z' and 'a'<=n<='z':\n",
    "        b+=c\n",
    "    i+=1\n",
    "print(b)"
   ]
  },
  {
   "cell_type": "code",
   "execution_count": 15,
   "id": "674da128",
   "metadata": {},
   "outputs": [
    {
     "name": "stdout",
     "output_type": "stream",
     "text": [
      "['this', 'is', 'python', 'program']\n"
     ]
    }
   ],
   "source": [
    "a=\"this is python program\"\n",
    "r=\"\"\n",
    "l=[]\n",
    "for i in a:\n",
    "    if i==\" \":\n",
    "        l+=[r]\n",
    "        r=\"\"\n",
    "    else:\n",
    "        r+=i\n",
    "l+=[r]\n",
    "print(l)"
   ]
  },
  {
   "cell_type": "code",
   "execution_count": 16,
   "id": "cecfd6de",
   "metadata": {},
   "outputs": [
    {
     "name": "stdout",
     "output_type": "stream",
     "text": [
      "['hello', 'world', 'welcome', 'to', 'python', 'class']\n"
     ]
    }
   ],
   "source": [
    "k=\"hello world welcome to python class\"\n",
    "r=\"\"\n",
    "l=[]\n",
    "for i in k:\n",
    "    if i==\" \":\n",
    "        l+=[r]\n",
    "        r=\"\"\n",
    "    else:\n",
    "        r+=i\n",
    "l+=[r]\n",
    "print(l)\n"
   ]
  },
  {
   "cell_type": "code",
   "execution_count": 1,
   "id": "309ed88d",
   "metadata": {},
   "outputs": [
    {
     "name": "stdout",
     "output_type": "stream",
     "text": [
      "not prime\n"
     ]
    }
   ],
   "source": [
    "n=500\n",
    "i=1\n",
    "c=0\n",
    "while i<=n:\n",
    "    if n%i==0:\n",
    "        c+=1\n",
    "    i+=1\n",
    "if c==2:\n",
    "    print(\"prime\")\n",
    "else:\n",
    "    print(\"not prime\")"
   ]
  },
  {
   "cell_type": "code",
   "execution_count": 1,
   "id": "05557333",
   "metadata": {},
   "outputs": [
    {
     "name": "stdout",
     "output_type": "stream",
     "text": [
      "python\n",
      "language\n"
     ]
    }
   ],
   "source": [
    "#WAP to print only even length of words from the given string\n",
    "a=\"hello python programming language\"\n",
    "#o/p:\"python\" \"language\"\n",
    "# l=a.split()\n",
    "# d={}\n",
    "# for i in l:\n",
    "#     d[i]=len(i)\n",
    "# for j in d:\n",
    "#     if d[j]%2==0:\n",
    "#         print(j)\n",
    "\n",
    "i=0\n",
    "s=\"\"\n",
    "while i<len(a):\n",
    "  if a[i]==\" \":\n",
    "    if len(s)%2==0:\n",
    "      print(s)\n",
    "    s=\"\"\n",
    "  else:\n",
    "    s+=a[i]\n",
    "  i+=1\n",
    "if s!=\"\":\n",
    "  if len(s)%2==0:\n",
    "    print(s)\n",
    "    \n"
   ]
  },
  {
   "cell_type": "code",
   "execution_count": null,
   "id": "7b2e9245",
   "metadata": {},
   "outputs": [],
   "source": [
    "#WAP to print substring according to the length of the substring\n",
    "a=\"program\"\n",
    "n=int(input())\n",
    "res=\"\"\n",
    "i=0\n",
    "while i<len(a):\n",
    "    res=a[i:i+n]\n",
    "    if len(res)==n and \" \" not in res:\n",
    "        print(res)\n",
    "        "
   ]
  },
  {
   "cell_type": "code",
   "execution_count": 2,
   "id": "5a12f3d1",
   "metadata": {},
   "outputs": [
    {
     "name": "stdout",
     "output_type": "stream",
     "text": [
      "pr\n",
      "ro\n",
      "og\n",
      "gr\n",
      "ra\n",
      "am\n"
     ]
    }
   ],
   "source": [
    "a=\"program\"\n",
    "n=int(input())\n",
    "i=0\n",
    "while i<len(a):\n",
    "    j=i\n",
    "    res=\"\"\n",
    "    while j<len(a):\n",
    "        res+=a[j]\n",
    "        if len(res)==n:\n",
    "            print(res)\n",
    "        j+=1\n",
    "    i+=1"
   ]
  },
  {
   "cell_type": "code",
   "execution_count": 3,
   "id": "3a665077",
   "metadata": {},
   "outputs": [
    {
     "name": "stdout",
     "output_type": "stream",
     "text": [
      "prorams\n"
     ]
    }
   ],
   "source": [
    "a=\"programs\"\n",
    "n=int(input())\n",
    "i=0\n",
    "res=\"\"\n",
    "while i<len(a):\n",
    "    if i!=n-1:\n",
    "        res+=a[i]\n",
    "    i+=1\n",
    "print(res)"
   ]
  },
  {
   "cell_type": "code",
   "execution_count": null,
   "id": "9571d483",
   "metadata": {},
   "outputs": [],
   "source": []
  },
  {
   "cell_type": "code",
   "execution_count": null,
   "id": "22a1570a",
   "metadata": {},
   "outputs": [],
   "source": []
  }
 ],
 "metadata": {
  "kernelspec": {
   "display_name": "Python 3 (ipykernel)",
   "language": "python",
   "name": "python3"
  },
  "language_info": {
   "codemirror_mode": {
    "name": "ipython",
    "version": 3
   },
   "file_extension": ".py",
   "mimetype": "text/x-python",
   "name": "python",
   "nbconvert_exporter": "python",
   "pygments_lexer": "ipython3",
   "version": "3.12.4"
  }
 },
 "nbformat": 4,
 "nbformat_minor": 5
}
