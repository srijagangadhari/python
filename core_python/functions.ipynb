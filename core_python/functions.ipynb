{
 "cells": [
  {
   "cell_type": "code",
   "execution_count": 1,
   "metadata": {},
   "outputs": [
    {
     "name": "stdout",
     "output_type": "stream",
     "text": [
      "10 inside the function\n",
      "10 outside the function\n"
     ]
    }
   ],
   "source": [
    "#Accessing the variable inside and outside the function\n",
    "a=10\n",
    "def sample():\n",
    "   print(f\"{a} inside the function\")\n",
    "sample()\n",
    "print(f\"{a} outside the function\")    "
   ]
  },
  {
   "cell_type": "code",
   "execution_count": 2,
   "metadata": {},
   "outputs": [
    {
     "name": "stdout",
     "output_type": "stream",
     "text": [
      "1000,inside the function\n",
      "1000,outside the function\n"
     ]
    }
   ],
   "source": [
    "#Modification of global variable\n",
    "a=999\n",
    "def sample():\n",
    "    global a\n",
    "    a=a+1\n",
    "    print(f\"{a},inside the function\")\n",
    "sample()\n",
    "print(f\"{a},outside the function\")  "
   ]
  },
  {
   "cell_type": "code",
   "execution_count": 3,
   "metadata": {},
   "outputs": [
    {
     "name": "stdout",
     "output_type": "stream",
     "text": [
      "10,inside the function\n",
      "2,outside the function\n"
     ]
    }
   ],
   "source": [
    "b=2\n",
    "def sample1():\n",
    "    b=10\n",
    "    print(f\"{b},inside the function\")\n",
    "sample1()    \n",
    "print(f\"{b},outside the function\")"
   ]
  },
  {
   "cell_type": "code",
   "execution_count": 4,
   "metadata": {},
   "outputs": [
    {
     "name": "stdout",
     "output_type": "stream",
     "text": [
      "5,inside the function\n"
     ]
    }
   ],
   "source": [
    "#Modification of local variable\n",
    "def sample():\n",
    "    a=3\n",
    "    a=a+2\n",
    "    print(f\"{a},inside the function\")\n",
    "sample()"
   ]
  },
  {
   "cell_type": "code",
   "execution_count": 5,
   "metadata": {},
   "outputs": [
    {
     "name": "stdout",
     "output_type": "stream",
     "text": [
      "111\n",
      "222\n"
     ]
    }
   ],
   "source": [
    "#positional argument(1Q)\n",
    "def display(a,b):\n",
    "    print(a)\n",
    "    print(b)\n",
    "display(111,222) "
   ]
  },
  {
   "cell_type": "code",
   "execution_count": 6,
   "metadata": {},
   "outputs": [
    {
     "name": "stdout",
     "output_type": "stream",
     "text": [
      "1\n",
      "2\n"
     ]
    }
   ],
   "source": [
    "#keyword argument(2Q)\n",
    "def display(a,b):\n",
    "    print(a)\n",
    "    print(b)\n",
    "display(a=1,b=2) "
   ]
  },
  {
   "cell_type": "code",
   "execution_count": 7,
   "metadata": {},
   "outputs": [
    {
     "name": "stdout",
     "output_type": "stream",
     "text": [
      "111\n",
      "222\n"
     ]
    }
   ],
   "source": [
    "#combination argument(3Q)\n",
    "def display(a,b):\n",
    "    print(a)\n",
    "    print(b)\n",
    "display(111,b=222)   "
   ]
  },
  {
   "cell_type": "code",
   "execution_count": 8,
   "metadata": {},
   "outputs": [
    {
     "name": "stdout",
     "output_type": "stream",
     "text": [
      "111\n",
      "222\n"
     ]
    }
   ],
   "source": [
    "#positional only argument(4Q)\n",
    "def display(a,b,/):\n",
    "    print(a)\n",
    "    print(b)\n",
    "display(111,222) "
   ]
  },
  {
   "cell_type": "code",
   "execution_count": 9,
   "metadata": {},
   "outputs": [
    {
     "name": "stdout",
     "output_type": "stream",
     "text": [
      "10\n",
      "20\n"
     ]
    }
   ],
   "source": [
    "#keyword only argument(5Q)\n",
    "def display(*,a,b):\n",
    "    print(a)\n",
    "    print(b)\n",
    "display(a=10,b=20)    "
   ]
  },
  {
   "cell_type": "code",
   "execution_count": 10,
   "metadata": {},
   "outputs": [
    {
     "name": "stdout",
     "output_type": "stream",
     "text": [
      "10\n",
      "20\n",
      "4\n",
      "6\n"
     ]
    }
   ],
   "source": [
    "#combination of positional and keyword only argument only argument(6Q)\n",
    "def display(a,b,/,*,c,d):\n",
    "    print(a)\n",
    "    print(b)\n",
    "    print(c)\n",
    "    print(d)\n",
    "display(10,20,c=4,d=6) "
   ]
  },
  {
   "cell_type": "code",
   "execution_count": 11,
   "metadata": {},
   "outputs": [
    {
     "name": "stdout",
     "output_type": "stream",
     "text": [
      "1 2 3 4 5 6 7 8 9 10\n"
     ]
    }
   ],
   "source": [
    "#variable number of arguments(7Q)\n",
    "def display(*args):\n",
    "    print(*args)\n",
    "display(1,2,3,4,5,6,7,8,9,10)"
   ]
  },
  {
   "cell_type": "code",
   "execution_count": 62,
   "metadata": {},
   "outputs": [
    {
     "name": "stdout",
     "output_type": "stream",
     "text": [
      "(10,)\n",
      "10\n",
      "(10, 20, 30)\n",
      "10 20 30\n",
      "()\n",
      "\n"
     ]
    }
   ],
   "source": [
    "def sum(*args):\n",
    "    print(args)\n",
    "    print(*args)\n",
    "sum(10)\n",
    "sum(10,20,30)\n",
    "sum()"
   ]
  },
  {
   "cell_type": "code",
   "execution_count": 63,
   "metadata": {},
   "outputs": [
    {
     "name": "stdout",
     "output_type": "stream",
     "text": [
      "(10,)\n",
      "10\n",
      "10\n",
      "(10, 20, 30)\n",
      "10 20 30\n",
      "60\n"
     ]
    }
   ],
   "source": [
    "def sum(*args):\n",
    "    print(args)\n",
    "    print(*args)\n",
    "    s=0\n",
    "    for i in args:\n",
    "        s+=i\n",
    "    print(s)\n",
    "sum(10)\n",
    "sum(10,20,30)\n",
    "# sum()"
   ]
  },
  {
   "cell_type": "code",
   "execution_count": 64,
   "metadata": {},
   "outputs": [
    {
     "name": "stdout",
     "output_type": "stream",
     "text": [
      "{'name': 'srija', 'age': 20}\n",
      "name srija\n",
      "age 20\n"
     ]
    }
   ],
   "source": [
    "def info(**kwargs):\n",
    "    print(kwargs)\n",
    "    for i in kwargs:\n",
    "        print(i,kwargs[i])\n",
    "info(name=\"srija\",age=20)"
   ]
  },
  {
   "cell_type": "code",
   "execution_count": null,
   "metadata": {},
   "outputs": [],
   "source": []
  },
  {
   "cell_type": "code",
   "execution_count": null,
   "metadata": {},
   "outputs": [],
   "source": []
  },
  {
   "cell_type": "code",
   "execution_count": 12,
   "metadata": {},
   "outputs": [
    {
     "name": "stdout",
     "output_type": "stream",
     "text": [
      "{'a': 10, 'b': 20, 'c': 30, 'z': 40, 'u': 50}\n",
      "a b c z u\n"
     ]
    }
   ],
   "source": [
    "#dictionary(8Q)\n",
    "def display(**kwargs):\n",
    "    print(kwargs)\n",
    "    print(*kwargs)\n",
    "display(a=10,b=20,c=30,z=40,u=50)"
   ]
  },
  {
   "cell_type": "code",
   "execution_count": 13,
   "metadata": {},
   "outputs": [
    {
     "name": "stdout",
     "output_type": "stream",
     "text": [
      "100 200\n",
      "(100, 200)\n",
      "{'a': 5, 'b': 4}\n",
      "a b\n"
     ]
    }
   ],
   "source": [
    "#combination of tuple and dictiionary variable length arguments(9Q)\n",
    "def display(*args,**kwargs):\n",
    "    print(*args)\n",
    "    print(args)\n",
    "    print(kwargs)\n",
    "    print(*kwargs)\n",
    "display(100,200,a=5,b=4)    "
   ]
  },
  {
   "cell_type": "code",
   "execution_count": 14,
   "metadata": {},
   "outputs": [
    {
     "name": "stdout",
     "output_type": "stream",
     "text": [
      "11 22 33 44 55\n",
      "\n",
      "(11, 22, 33, 44, 55)\n",
      "{}\n"
     ]
    }
   ],
   "source": [
    "#only positional/tuple variable length(10Q)\n",
    "def display(*args,**kwargs):\n",
    "    print(*args)\n",
    "    print(*kwargs)\n",
    "    print(args)\n",
    "    print(kwargs)\n",
    "display(11,22,33,44,55)    "
   ]
  },
  {
   "cell_type": "code",
   "execution_count": 15,
   "metadata": {},
   "outputs": [
    {
     "name": "stdout",
     "output_type": "stream",
     "text": [
      "\n",
      "a b c d\n",
      "()\n",
      "{'a': 1, 'b': 2, 'c': 3, 'd': 9}\n"
     ]
    }
   ],
   "source": [
    "#only keyword variable length(11Q)\n",
    "def display(*args,**kwargs):\n",
    "    print(*args)\n",
    "    print(*kwargs)\n",
    "    print(args)\n",
    "    print(kwargs)\n",
    "display(a=1,b=2,c=3,d=9)   "
   ]
  },
  {
   "cell_type": "code",
   "execution_count": 16,
   "metadata": {},
   "outputs": [
    {
     "name": "stdout",
     "output_type": "stream",
     "text": [
      "10\n",
      "3\n",
      "106\n",
      "1000\n"
     ]
    }
   ],
   "source": [
    "#default parameter(11Q)\n",
    "#with arguments\n",
    "def display(a,b):\n",
    "    print(a+b)\n",
    "display(8,2)   \n",
    "\n",
    "#without arguments\n",
    "def add(a=1,b=2):\n",
    "    print(a+b)\n",
    "add()  \n",
    "\n",
    "#with one parameter\n",
    "def hello(a=1,b=6):\n",
    "   print(a+b)\n",
    "hello(100)   \n",
    "\n",
    "#with b parameter argument\n",
    "def well(a=1,b=2):\n",
    "    print(a+b)\n",
    "well(b=999)"
   ]
  },
  {
   "cell_type": "code",
   "execution_count": 17,
   "metadata": {},
   "outputs": [
    {
     "name": "stdout",
     "output_type": "stream",
     "text": [
      "1\n"
     ]
    }
   ],
   "source": [
    "count_=0\n",
    "l=[1,2,1,5,4,1]\n",
    "def user_count(a):\n",
    "    if type(l)==list:\n",
    "        for i in l:\n",
    "            if i==a:\n",
    "                global count_\n",
    "                count_+=1\n",
    "user_count(2)\n",
    "print(count_)"
   ]
  },
  {
   "cell_type": "code",
   "execution_count": 18,
   "metadata": {},
   "outputs": [
    {
     "name": "stdout",
     "output_type": "stream",
     "text": [
      "[1, 2, 3, 4]\n"
     ]
    }
   ],
   "source": [
    "#user_defined append method(global)\n",
    "l=[1,2,3]\n",
    "def user_append(object):\n",
    "    global l\n",
    "    if type(l)!=list:\n",
    "        raise AttributeError(f\"{type(l)},is not having the append method\")\n",
    "    l+=[object]\n",
    "user_append(4)  \n",
    "print(l)  "
   ]
  },
  {
   "cell_type": "code",
   "execution_count": 19,
   "metadata": {},
   "outputs": [
    {
     "name": "stdout",
     "output_type": "stream",
     "text": [
      "[1, 2, 3, 4]\n"
     ]
    }
   ],
   "source": [
    "#user_defined append method(local)\n",
    "def user_append(coll,object):\n",
    "    if type(coll)!=list:\n",
    "        raise AttributeError(\"collection is not list\")\n",
    "    coll+=[object]\n",
    "    # print(coll)\n",
    "    return coll\n",
    "\n",
    "print(user_append([1,2,3],4))  "
   ]
  },
  {
   "cell_type": "code",
   "execution_count": 20,
   "metadata": {},
   "outputs": [
    {
     "name": "stdout",
     "output_type": "stream",
     "text": [
      "[5, 9, 3, 7, 'r', 'a', 'j', 'u']\n"
     ]
    }
   ],
   "source": [
    "#user defined extend method(global)\n",
    "l=[5,9,3,7]\n",
    "def user_extend(object):\n",
    "    global l\n",
    "    if type(l)!=list:\n",
    "        raise AttributeError(\"collection is not list\")\n",
    "    for i in object:\n",
    "        l+=[i]\n",
    "user_extend(\"raju\") \n",
    "print(l)   "
   ]
  },
  {
   "cell_type": "code",
   "execution_count": 21,
   "metadata": {},
   "outputs": [
    {
     "name": "stdout",
     "output_type": "stream",
     "text": [
      "[1, 2, 5, 'h', 'e', 'l', 'l', 'o']\n"
     ]
    }
   ],
   "source": [
    "# user_defined extend method(local variable)\n",
    "def user_extend(coll,object):   \n",
    "    if type(coll)!=list:\n",
    "        raise AttributeError\n",
    "    # coll+=object\n",
    "    # print(coll)\n",
    "    for i in object:\n",
    "        coll+=[i]\n",
    "    print(coll)\n",
    "user_extend([1,2,5],\"hello\")    "
   ]
  },
  {
   "cell_type": "code",
   "execution_count": 22,
   "metadata": {},
   "outputs": [
    {
     "name": "stdout",
     "output_type": "stream",
     "text": [
      "[]\n"
     ]
    }
   ],
   "source": [
    "l=[1,2,3]\n",
    "def user_clear():\n",
    "    if type(l)!=list:\n",
    "        raise AttributeError\n",
    "    l[::]=[]\n",
    "user_clear()\n",
    "print(l)    "
   ]
  },
  {
   "cell_type": "code",
   "execution_count": 23,
   "metadata": {},
   "outputs": [
    {
     "name": "stdout",
     "output_type": "stream",
     "text": [
      "[1, 6, 'book', 4, (9+3j), True, 'welcome', 100, 4.21]\n"
     ]
    }
   ],
   "source": [
    "#user_defined insert method(global variable)\n",
    "l=[1,6,4,9+3j,True,\"welcome\",100,4.21]\n",
    "def user_insert(index,object):\n",
    "    global l\n",
    "    if type(l)!=list:\n",
    "        raise AttributeError(f\"{type(l)} doesn't have insert method\")\n",
    "    l[index:index]=[object]\n",
    "user_insert(2,\"book\")\n",
    "print(l)    "
   ]
  },
  {
   "cell_type": "code",
   "execution_count": 24,
   "metadata": {},
   "outputs": [
    {
     "name": "stdout",
     "output_type": "stream",
     "text": [
      "1\n",
      "[6, 4, (9+3j), True, 'welcome', 100, 4.21]\n"
     ]
    }
   ],
   "source": [
    "#user_defined pop method(Removing elements)\n",
    "l=[1,6,4,9+3j,True,\"welcome\",100,4.21]\n",
    "def user_pop(index):\n",
    "    if type(l)!=list:\n",
    "        raise AttributeError(\"use list datatype\")\n",
    "    \n",
    "    removed_value=l[index]\n",
    "    del l[index]\n",
    "    return removed_value\n",
    "\n",
    "print(user_pop(0)) \n",
    "print(l)   "
   ]
  },
  {
   "cell_type": "code",
   "execution_count": 25,
   "metadata": {},
   "outputs": [
    {
     "name": "stdout",
     "output_type": "stream",
     "text": [
      "[1, 4, (9+3j), True, 'welcome', 100, 4.21]\n"
     ]
    }
   ],
   "source": [
    "#user_defined remove method(global)\n",
    "l=[1,6,4,9+3j,True,\"welcome\",100,4.21]\n",
    "def user_remove(value):\n",
    "    if type(l)!=list:\n",
    "        raise AttributeError(\"collection is not list type\")\n",
    "    elif value not in l:\n",
    "        raise ValueError\n",
    "    \n",
    "    for i in range(len(l)):\n",
    "        if l[i]==value:\n",
    "            del l[i]\n",
    "            break\n",
    "\n",
    "user_remove(6)    \n",
    "print(l)"
   ]
  },
  {
   "cell_type": "code",
   "execution_count": 26,
   "metadata": {},
   "outputs": [
    {
     "name": "stdout",
     "output_type": "stream",
     "text": [
      "[]\n"
     ]
    }
   ],
   "source": [
    "#user_defined clear method(global)\n",
    "# l=[\"raju\",\"anil\",\"nisha\",\"mahesh\",\"rajesh\"]\n",
    "# def user_clear():\n",
    "#     if type(l)!=list:\n",
    "#         raise AttributeError\n",
    "#     l[::]=[]\n",
    "\n",
    "# user_clear()  \n",
    "# print(l)  \n",
    "\n",
    "# 2nd method\n",
    "l=[\"raju\",\"anil\",\"nisha\",\"mahesh\",\"rajesh\"]\n",
    "def user_clear():\n",
    "    if type(l)!=list:\n",
    "        raise AttributeError\n",
    "    for i in range(len(l)):\n",
    "        del l[-1]\n",
    "user_clear()\n",
    "print(l)        "
   ]
  },
  {
   "cell_type": "code",
   "execution_count": 27,
   "metadata": {},
   "outputs": [
    {
     "ename": "NameError",
     "evalue": "name 'l' is not defined",
     "output_type": "error",
     "traceback": [
      "\u001b[1;31m---------------------------------------------------------------------------\u001b[0m",
      "\u001b[1;31mNameError\u001b[0m                                 Traceback (most recent call last)",
      "Cell \u001b[1;32mIn[27], line 9\u001b[0m\n\u001b[0;32m      7\u001b[0m     \u001b[38;5;28;01mdel\u001b[39;00m l\n\u001b[0;32m      8\u001b[0m user_delete()\n\u001b[1;32m----> 9\u001b[0m \u001b[38;5;28mprint\u001b[39m(\u001b[43ml\u001b[49m)        \n",
      "\u001b[1;31mNameError\u001b[0m: name 'l' is not defined"
     ]
    }
   ],
   "source": [
    "#user_defined delete method\n",
    "l=[\"raju\",\"anil\",\"nisha\",\"mahesh\",\"rajesh\"]\n",
    "def user_delete():\n",
    "    global l\n",
    "    if type(l)!=list:\n",
    "        raise AttributeError\n",
    "    del l\n",
    "user_delete()\n",
    "print(l)        "
   ]
  },
  {
   "cell_type": "code",
   "execution_count": 28,
   "metadata": {},
   "outputs": [
    {
     "name": "stdout",
     "output_type": "stream",
     "text": [
      "6\n"
     ]
    }
   ],
   "source": [
    "#count method\n",
    "l=[1,2,3,1,1,1,2,6,2,3,1,3,1]\n",
    "def user_count(value):\n",
    "    if type(l)!=list:\n",
    "        raise AttributeError\n",
    "    count=0\n",
    "    for i in range(len(l)):\n",
    "        if l[i]==value:\n",
    "            count+=1\n",
    "    return count\n",
    "print(user_count(1))\n",
    "    "
   ]
  },
  {
   "cell_type": "code",
   "execution_count": 29,
   "metadata": {},
   "outputs": [
    {
     "name": "stdout",
     "output_type": "stream",
     "text": [
      "{1, 2, 3, 4, (1, 2)}\n"
     ]
    }
   ],
   "source": [
    "s={1,2,3,4}\n",
    "def set1(element):\n",
    "    global s\n",
    "    if type(s)!=set:\n",
    "        raise AttributeError\n",
    "    elif type(element) in (list,dict,set):\n",
    "        raise TypeError\n",
    "    s|={element}\n",
    "\n",
    "\n",
    "set1((1,2)) \n",
    "print(s)   \n"
   ]
  },
  {
   "cell_type": "code",
   "execution_count": 30,
   "metadata": {},
   "outputs": [
    {
     "name": "stdout",
     "output_type": "stream",
     "text": [
      "rajesh\n"
     ]
    }
   ],
   "source": [
    "l=[\"raju\",\"anil\",\"nisha\",\"mahesh\",\"rajesh\"]\n",
    "def user_pop(index):\n",
    "    global l\n",
    "    if type(l)!=list:\n",
    "        raise AttributeError\n",
    "    \n",
    "    removed_value=l[index]\n",
    "    del l[index]\n",
    "    print(removed_value)\n",
    "user_pop(-1)\n",
    "   "
   ]
  },
  {
   "cell_type": "code",
   "execution_count": 31,
   "metadata": {},
   "outputs": [
    {
     "name": "stdout",
     "output_type": "stream",
     "text": [
      "['raju', 'anil', 'nisha', 'mahesh']\n"
     ]
    }
   ],
   "source": [
    "l=[\"raju\",\"anil\",\"nisha\",\"mahesh\",\"rajesh\"]\n",
    "def user_rem(value):\n",
    "    global l\n",
    "    if type(l)!=list:\n",
    "        raise AttributeError\n",
    "    elif value not in l:\n",
    "        raise ValueError\n",
    "    \n",
    "    for i in range(len(l)):\n",
    "        if l[i]==value:\n",
    "            del l[i]\n",
    "            break\n",
    "          \n",
    "\n",
    "user_rem(\"rajesh\") \n",
    "print(l) "
   ]
  },
  {
   "cell_type": "code",
   "execution_count": 32,
   "metadata": {},
   "outputs": [
    {
     "name": "stdout",
     "output_type": "stream",
     "text": [
      "[]\n"
     ]
    }
   ],
   "source": [
    "l=[\"raju\",\"anil\",\"nisha\",\"mahesh\",\"rajesh\"]\n",
    "def user_cl():\n",
    "    if type(l)!=list:\n",
    "        raise AttributeError\n",
    "    \n",
    "    for i in range(len(l)):\n",
    "        del l[-1]     \n",
    "\n",
    "user_cl()\n",
    "print(l)  "
   ]
  },
  {
   "cell_type": "code",
   "execution_count": 33,
   "metadata": {},
   "outputs": [
    {
     "name": "stdout",
     "output_type": "stream",
     "text": [
      "4\n"
     ]
    }
   ],
   "source": [
    "l=[\"raju\",\"anil\",\"nisha\",\"mahesh\",\"rajesh\",\"nisha\",\"nisha\",\"nisha\"]\n",
    "def user_count(value):\n",
    "    global l\n",
    "    if type(l)!=list:\n",
    "        raise AttributeError\n",
    "\n",
    "    count=0\n",
    "    for i in range(len(l)):\n",
    "        if l[i]==value:\n",
    "          count+=1\n",
    "    return count\n",
    "print(user_count(\"nisha\"))"
   ]
  },
  {
   "cell_type": "code",
   "execution_count": 34,
   "metadata": {},
   "outputs": [
    {
     "name": "stdout",
     "output_type": "stream",
     "text": [
      "anil\n"
     ]
    }
   ],
   "source": [
    "l=[\"raju\",\"anil\",\"nisha\",\"mahesh\",\"rajesh\",\"nisha\",\"nisha\",\"nisha\"]\n",
    "def user_index(value):\n",
    "    global l\n",
    "    if type(l)!=list:\n",
    "        raise AttributeError\n",
    "    # elif value not in l:\n",
    "    #     raise ValueError\n",
    "    \n",
    "    return l[value]\n",
    "            \n",
    "            \n",
    "print(user_index(1))"
   ]
  },
  {
   "cell_type": "code",
   "execution_count": 35,
   "metadata": {},
   "outputs": [
    {
     "name": "stdout",
     "output_type": "stream",
     "text": [
      "{1, 2, 3, 4, (1, 2)}\n"
     ]
    }
   ],
   "source": [
    "#adding of elements to set\n",
    "#user defined add method in set\n",
    "s={1,2,3,4}\n",
    "def user_add(value):\n",
    "    global s\n",
    "    if type(s)!=set:\n",
    "        raise AttributeError\n",
    "    elif type(value) in (list,set,dict):\n",
    "        raise TypeError(\"value is not immutable\")\n",
    "    s|={value}\n",
    "    return(s)\n",
    "print(user_add((1,2))) "
   ]
  },
  {
   "cell_type": "code",
   "execution_count": 36,
   "metadata": {},
   "outputs": [
    {
     "name": "stdout",
     "output_type": "stream",
     "text": [
      "{2, 3, 4}\n"
     ]
    }
   ],
   "source": [
    "#removing elements from the set\n",
    "#user defined discard method in set\n",
    "s={1,2,3,4}\n",
    "def user_discard(value):\n",
    "    global s\n",
    "    if type(s)!=set:\n",
    "        raise AttributeError\n",
    "    s-={value}\n",
    "user_discard(1)\n",
    "print(s)"
   ]
  },
  {
   "cell_type": "code",
   "execution_count": 37,
   "metadata": {},
   "outputs": [
    {
     "name": "stdout",
     "output_type": "stream",
     "text": [
      "{1, 3, 4}\n"
     ]
    }
   ],
   "source": [
    "#user_defined remove method in set\n",
    "s={1,2,3,4}\n",
    "def user_remove(value):\n",
    "    global s\n",
    "    if type(s)!=set:\n",
    "        raise AttributeError\n",
    "    elif value not in s:\n",
    "        raise KeyError(f\"{value} is not present in the set\")\n",
    "    s-={value}\n",
    "    return s\n",
    "print(user_remove(2))"
   ]
  },
  {
   "cell_type": "code",
   "execution_count": 38,
   "metadata": {},
   "outputs": [
    {
     "name": "stdout",
     "output_type": "stream",
     "text": [
      "3\n"
     ]
    }
   ],
   "source": [
    "#user_defined pop method in set\n",
    "s={1,2,3,4,5,6}\n",
    "def use_pop():\n",
    "    global s\n",
    "    if type(s)!=set:\n",
    "        raise AttributeError\n",
    "    elif s==set():\n",
    "        raise KeyError\n",
    "    removed_value=list(s)[2]\n",
    "    # s-={list(s)[2]}\n",
    "    print(removed_value)\n",
    "\n",
    "use_pop() "
   ]
  },
  {
   "cell_type": "code",
   "execution_count": 39,
   "metadata": {},
   "outputs": [
    {
     "name": "stdout",
     "output_type": "stream",
     "text": [
      "1\n"
     ]
    }
   ],
   "source": [
    "s={1,2,3,4,5,6}\n",
    "def use_pop():\n",
    "    global s\n",
    "    if type(s)!=set:\n",
    "        raise AttributeError\n",
    "    elif s==set():\n",
    "        raise KeyError\n",
    "    removed_value=list(s)[0]\n",
    "    s-={list(s)[0]}\n",
    "    print(removed_value)\n",
    "use_pop()   "
   ]
  },
  {
   "cell_type": "code",
   "execution_count": 41,
   "metadata": {},
   "outputs": [
    {
     "name": "stdout",
     "output_type": "stream",
     "text": [
      "3\n"
     ]
    }
   ],
   "source": [
    "#1)WAP for below requirement\n",
    "#create a funcrion with 2 integer arguments\n",
    "# #function will print sum of the 2 values\n",
    "def hello(a,b):\n",
    "    print(a+b)\n",
    "hello(1,2)\n",
    "# hello()"
   ]
  },
  {
   "cell_type": "code",
   "execution_count": 42,
   "metadata": {},
   "outputs": [
    {
     "name": "stdout",
     "output_type": "stream",
     "text": [
      "5 is greater\n",
      "7 is greater\n"
     ]
    }
   ],
   "source": [
    "#2)wAP for below requirement\n",
    "#create  a function with 2 arguments\n",
    "#function will print greatest among 2 values\n",
    "def greatest(a,b):\n",
    "    if a>b:\n",
    "        print(a,\"is greater\")\n",
    "    else:\n",
    "        print(b,\"is greater\")\n",
    "greatest(1,5)\n",
    "greatest(7,5)"
   ]
  },
  {
   "cell_type": "code",
   "execution_count": 56,
   "metadata": {},
   "outputs": [
    {
     "name": "stdout",
     "output_type": "stream",
     "text": [
      "10\n",
      "30\n",
      "6\n"
     ]
    }
   ],
   "source": [
    "def product(n1,n2):\n",
    "    res=n1*n2\n",
    "    return res\n",
    "print(product(5,2))\n",
    "print(product(15,2))\n",
    "a=product(3,2)\n",
    "print(a)\n"
   ]
  },
  {
   "cell_type": "code",
   "execution_count": 54,
   "metadata": {},
   "outputs": [
    {
     "name": "stdout",
     "output_type": "stream",
     "text": [
      "800.0\n"
     ]
    }
   ],
   "source": [
    "#simple intrest\n",
    "def simple_interest(p,t,r):\n",
    "    smp_intst=(p*t*r)/100\n",
    "    print(smp_intst)\n",
    "simple_interest(20000,2,2)"
   ]
  },
  {
   "cell_type": "code",
   "execution_count": 43,
   "metadata": {},
   "outputs": [
    {
     "name": "stdout",
     "output_type": "stream",
     "text": [
      "9\n",
      "8\n",
      "7\n",
      "6\n",
      "5\n",
      "4\n",
      "3\n"
     ]
    }
   ],
   "source": [
    "#3)WAP for below requirement\n",
    "#create a funtn with 2 positive arguments\n",
    "#function will print the series of numbers from n1 to n2 call the funt by passing the argument\n",
    "def abc(n1,n2):\n",
    "    # while n1<=n2:\n",
    "    #     print(n1)\n",
    "    #     n1+=1\n",
    "    while n1>=n2:\n",
    "        print(n1)\n",
    "        n1-=1\n",
    "abc(5,8)\n",
    "abc(9,3)"
   ]
  },
  {
   "cell_type": "code",
   "execution_count": 44,
   "metadata": {},
   "outputs": [
    {
     "name": "stdout",
     "output_type": "stream",
     "text": [
      "120\n",
      "24\n",
      "6\n",
      "1\n"
     ]
    }
   ],
   "source": [
    "#4)WAP for below requirement\n",
    "#create a futn with 1 argument function will print factorail of thhe given number,call the funtn for 3 times\n",
    "def fact(a):\n",
    "    f=1\n",
    "    while a>0:\n",
    "        f*=a\n",
    "        a-=1\n",
    "    print(f)\n",
    "fact(5)\n",
    "fact(4)\n",
    "fact(3)\n",
    "fact(0)"
   ]
  },
  {
   "cell_type": "code",
   "execution_count": 45,
   "metadata": {},
   "outputs": [
    {
     "name": "stdout",
     "output_type": "stream",
     "text": [
      "95.0\n"
     ]
    }
   ],
   "source": [
    "#5)WAP for below requirement \n",
    "#create a futn with arguments called price and discount percentage \n",
    "#function need to calculate   discounted price based on the price and discount,print the discounted price\n",
    "def discounted_price(price,discount):\n",
    "    discounted_price=price-(price*discount/100)\n",
    "    print(discounted_price)\n",
    "discounted_price(100,5)"
   ]
  },
  {
   "cell_type": "code",
   "execution_count": 46,
   "metadata": {},
   "outputs": [
    {
     "name": "stdout",
     "output_type": "stream",
     "text": [
      "10500.0\n"
     ]
    }
   ],
   "source": [
    "#6)WAP for below requirement \n",
    "#create a futn with arguments like price and tax in the percentaile \n",
    "#funcion with generates final price by adding tax to the price and it prints final price\n",
    "def final_Amount(price,tax):\n",
    "    final_price=price+price*tax/100\n",
    "    print(final_price)\n",
    "final_Amount(10000,5)"
   ]
  },
  {
   "cell_type": "code",
   "execution_count": 47,
   "metadata": {},
   "outputs": [
    {
     "name": "stdout",
     "output_type": "stream",
     "text": [
      "ajirs\n"
     ]
    }
   ],
   "source": [
    "#7)WAP to simple intrest\n",
    "#WAP for below requirement \n",
    "#create a futn with arguments with string argument\n",
    "#funcion will print reverse of a string\n",
    "\n",
    "# def reverse1(str):\n",
    "#     res=str[::-1]\n",
    "#     print(res)\n",
    "# reverse1(\"srija\")\n",
    "\n",
    "def reverse1(str):\n",
    "    res=\"\"\n",
    "    for i in str:\n",
    "        res=i+res\n",
    "    print(res)\n",
    "reverse1(\"srija\")"
   ]
  },
  {
   "cell_type": "code",
   "execution_count": 57,
   "metadata": {},
   "outputs": [
    {
     "name": "stdout",
     "output_type": "stream",
     "text": [
      "120\n",
      "720\n"
     ]
    }
   ],
   "source": [
    "#WAP for below requirement\n",
    "#create a function with 1 argument \n",
    "#function will generate factorial of given number,return the factorail,call the function 2 time,print the factorail\n",
    "def factorail(a):\n",
    "    fact=1\n",
    "    j=1\n",
    "    while j<=a:\n",
    "        fact*=a\n",
    "        a-=1\n",
    "    return fact\n",
    "\n",
    "print(factorail(5))\n",
    "b=factorail(6)\n",
    "print(b)"
   ]
  },
  {
   "cell_type": "code",
   "execution_count": 58,
   "metadata": {},
   "outputs": [
    {
     "name": "stdout",
     "output_type": "stream",
     "text": [
      "8\n",
      "even\n"
     ]
    }
   ],
   "source": [
    "#WAP for below requirement\n",
    "#create a function with  arguments \n",
    "#function will return sum of the values from n1 and n2\n",
    "#check whether the sum is even or odd\n",
    "def sum(n1,n2):\n",
    "    a=n1+n2\n",
    "    return a\n",
    "b=sum(5,3)\n",
    "print(b)\n",
    "if b%2==0:\n",
    "    print(\"even\")\n",
    "else:\n",
    "    print(\"odd\")"
   ]
  },
  {
   "cell_type": "code",
   "execution_count": 59,
   "metadata": {},
   "outputs": [
    {
     "name": "stdout",
     "output_type": "stream",
     "text": [
      "52\n",
      "even\n"
     ]
    }
   ],
   "source": [
    "def sum(n1,n2):\n",
    "    s=0\n",
    "    if (n1>n2):\n",
    "        b=n1\n",
    "        a=n2\n",
    "    else:\n",
    "        a=n1\n",
    "        b=n2\n",
    "    i=a\n",
    "    while i<=b:\n",
    "        s+=i\n",
    "        i+=1\n",
    "    return s\n",
    "res=sum(10,3)\n",
    "print(res)\n",
    "if res%2==0:\n",
    "    print(\"even\")\n",
    "else:\n",
    "    print(\"odd\")"
   ]
  },
  {
   "cell_type": "code",
   "execution_count": 60,
   "metadata": {},
   "outputs": [
    {
     "name": "stdout",
     "output_type": "stream",
     "text": [
      "odd\n"
     ]
    }
   ],
   "source": [
    "#2nd method\n",
    "def sumseries(n1,n2):\n",
    "    sum=0\n",
    "    while n1<=n2:\n",
    "        sum+=n1\n",
    "        n1+=1\n",
    "    return sum\n",
    "a=sumseries(1,5)\n",
    "if a%2==0:\n",
    "    print(\"even\")\n",
    "else:\n",
    "    print(\"odd\")"
   ]
  },
  {
   "cell_type": "code",
   "execution_count": 61,
   "metadata": {},
   "outputs": [
    {
     "name": "stdout",
     "output_type": "stream",
     "text": [
      "5\n"
     ]
    }
   ],
   "source": [
    "#WAP for below requirement\n",
    "#creta a fuctn which returns count of the digit sin given number\n",
    "#call the funtn 2 times and prit count o fthe digits\n",
    "def count_digits(num):\n",
    "    c=0\n",
    "    while num:\n",
    "        l=num%10\n",
    "        c+=1\n",
    "        num//=10\n",
    "    return c\n",
    "print(count_digits(12345))"
   ]
  },
  {
   "cell_type": "code",
   "execution_count": null,
   "metadata": {},
   "outputs": [],
   "source": []
  },
  {
   "cell_type": "code",
   "execution_count": null,
   "metadata": {},
   "outputs": [],
   "source": []
  },
  {
   "cell_type": "code",
   "execution_count": null,
   "metadata": {},
   "outputs": [],
   "source": []
  },
  {
   "cell_type": "code",
   "execution_count": null,
   "metadata": {},
   "outputs": [],
   "source": []
  },
  {
   "cell_type": "code",
   "execution_count": 48,
   "metadata": {},
   "outputs": [
    {
     "name": "stdout",
     "output_type": "stream",
     "text": [
      "False\n"
     ]
    }
   ],
   "source": [
    "# create a function for prime number\n",
    "# single value\n",
    "# def prime(a):\n",
    "#     i=1\n",
    "#     c=0\n",
    "#     while i<=a:\n",
    "#         if a%i==0:\n",
    "#             c+=1\n",
    "#         i+=1\n",
    "#     if c==2:\n",
    "#         print(\"Prime\")\n",
    "#     else:\n",
    "#         print(\"nto prime\")\n",
    "# prime(5)\n",
    "\n",
    "#collection\n",
    "# def prime(a):\n",
    "#     for i in a:\n",
    "#         j=1\n",
    "#         c=0\n",
    "#         while j<=i:\n",
    "#             if i%j==0:\n",
    "#                 c+=1\n",
    "#             j+=1\n",
    "#         if c==2:\n",
    "#             print(i,\"prime\")\n",
    "#         else:\n",
    "#             print(i,\"not prime\")\n",
    "#         i+=1\n",
    "# prime([1,2,3,4,5])\n",
    "\n",
    "# def is_prime(a):\n",
    "#     if a<=1:\n",
    "#         return False\n",
    "#     i=2\n",
    "#     while i*i<=a:\n",
    "#         if a%i==0:\n",
    "#             return False\n",
    "#         else:\n",
    "#             return True\n",
    "# print(is_prime(5))\n",
    "# def  prime(a):\n",
    "#     i=1\n",
    "#     c=0\n",
    "#     while i<=a:\n",
    "#         if a%i==0:\n",
    "#             c+=1\n",
    "#         i+=1\n",
    "#     if c==2:\n",
    "#         return True\n",
    "#     else:\n",
    "#         return False\n",
    "\n",
    "# prime(5)\n",
    "def prime(a):\n",
    "    r=[]\n",
    "    for i in a:\n",
    "        if i<=1:\n",
    "            return False\n",
    "        else:\n",
    "            j=2\n",
    "            is_prime=True\n",
    "            while j*j<=i:\n",
    "                if i%j==0:\n",
    "                    is_prime=False\n",
    "                    break\n",
    "                j+=1\n",
    "            r+=[i,is_prime]\n",
    "print(prime([1,2,3,4,5]))"
   ]
  },
  {
   "cell_type": "code",
   "execution_count": 49,
   "metadata": {},
   "outputs": [
    {
     "name": "stdout",
     "output_type": "stream",
     "text": [
      "[False, True, True, False, True]\n"
     ]
    }
   ],
   "source": [
    "# def perfect(a):\n",
    "#     j=1\n",
    "#     s=0\n",
    "#     while j<a:\n",
    "#         if a%j==0:\n",
    "#             s+=j\n",
    "#         j+=1\n",
    "#     if a==s:\n",
    "#         print(j,\"perfect\")\n",
    "#     else:\n",
    "#         print(j,\"not perfect\")\n",
    "# perfect(6)\n",
    "\n",
    "#collection\n",
    "def prime(a):\n",
    "    r=[]\n",
    "    for i in a:\n",
    "        if i<=1:\n",
    "            r+=[(False)]\n",
    "        else:\n",
    "            j=2\n",
    "            is_prime=True\n",
    "            while j*j<=i:\n",
    "                if i%j==0:\n",
    "                    is_prime=False\n",
    "                    break\n",
    "                j+=1\n",
    "            r+=[(is_prime)]\n",
    "    return r\n",
    "print(prime([1,2,3,4,5]))\n"
   ]
  },
  {
   "cell_type": "code",
   "execution_count": 50,
   "metadata": {},
   "outputs": [
    {
     "name": "stdout",
     "output_type": "stream",
     "text": [
      "True\n",
      "True\n"
     ]
    }
   ],
   "source": [
    "#strong number[sum of the factorails of its digits==number itself ]\n",
    "# def strong(a):\n",
    "#     temp=a\n",
    "#     s=0\n",
    "#     while a:\n",
    "#         l=a%10\n",
    "#         p=l\n",
    "#         f=1\n",
    "#         while p:\n",
    "#             f*=p\n",
    "#             p-=1\n",
    "#         s+=f\n",
    "#         a//=10\n",
    "#     if temp==s:\n",
    "#         print(temp,\"strong number\")\n",
    "#     else:\n",
    "#         print(temp,\"not strong number\")\n",
    "\n",
    "# strong(145)\n",
    "# def strong(a):\n",
    "#     temp=a\n",
    "#     res=a\n",
    "#     while temp:\n",
    "#         l=temp%10\n",
    "#         f=1\n",
    "#         p=l\n",
    "#         while p:\n",
    "#             f*=p\n",
    "#             p-=1\n",
    "#         temp//=10\n",
    "#     if res==a:\n",
    "#         return True\n",
    "#     else:\n",
    "#         return False\n",
    "# print(strong(145))\n",
    "\n",
    "#2nd method for boolean values\n",
    "def factorail(n):\n",
    "    if n==0 or n==1:\n",
    "        return 1\n",
    "    else:\n",
    "        f=1\n",
    "        for i in range(1,n+1):\n",
    "            f*=i\n",
    "        return f\n",
    "def is_strong(a):\n",
    "    temp=a\n",
    "    s=0\n",
    "    while temp>0:\n",
    "        d=temp%10\n",
    "        s+=factorail(d)\n",
    "        temp//=10\n",
    "    return s==a\n",
    "print(is_strong(145))\n",
    "print(is_strong(2))"
   ]
  },
  {
   "cell_type": "code",
   "execution_count": 51,
   "metadata": {},
   "outputs": [
    {
     "name": "stdout",
     "output_type": "stream",
     "text": [
      "True\n",
      "False\n"
     ]
    }
   ],
   "source": [
    "#armstrong number\n",
    "# def amstrong(a):\n",
    "#     temp=a\n",
    "#     res=a\n",
    "#     c=0\n",
    "#     s=0\n",
    "#     while a:\n",
    "#         a//=10\n",
    "#         c+=1\n",
    "#     while temp:\n",
    "#         l=temp%10\n",
    "#         s+=l**c\n",
    "#         temp//=10\n",
    "#     if res==s:\n",
    "#         print(res,\"amstrong no.\")\n",
    "#     else:\n",
    "#         print(res,\"not armstrong\")\n",
    "# amstrong(153)\n",
    "def amstrong(a):\n",
    "    temp=a\n",
    "    res=a\n",
    "    c=0\n",
    "    while temp:\n",
    "        l=temp%10\n",
    "        c+=1\n",
    "        temp//=10\n",
    "    s=0\n",
    "    while res:\n",
    "        p=res%10\n",
    "        s+=p**c\n",
    "        res//=10\n",
    "    return a==s\n",
    "\n",
    "print(amstrong(153))\n",
    "print(amstrong(10))"
   ]
  },
  {
   "cell_type": "code",
   "execution_count": 52,
   "metadata": {},
   "outputs": [
    {
     "name": "stdout",
     "output_type": "stream",
     "text": [
      "True\n",
      "False\n"
     ]
    }
   ],
   "source": [
    "# #spy no\n",
    "# def spy(a):\n",
    "#     s=0\n",
    "#     p=1\n",
    "#     while a:\n",
    "#         l=a%10\n",
    "#         s+=l\n",
    "#         p*=l\n",
    "#         a//=10\n",
    "#     if s==p:\n",
    "#         print(\"spy no.\")\n",
    "#     else:\n",
    "#         print(\"not spy\")\n",
    "# spy(123)\n",
    "\n",
    "def spy(a):\n",
    "    s=0\n",
    "    p=1\n",
    "    temp=a\n",
    "    while temp:\n",
    "        l=temp%10\n",
    "        s+=l\n",
    "        p*=l\n",
    "        temp//=10\n",
    "    return s==p\n",
    "print(spy(123))\n",
    "print(spy(90))\n"
   ]
  },
  {
   "cell_type": "code",
   "execution_count": 53,
   "metadata": {},
   "outputs": [
    {
     "name": "stdout",
     "output_type": "stream",
     "text": [
      "True\n",
      "False\n",
      "True\n"
     ]
    }
   ],
   "source": [
    "#neon number\n",
    "# def neon(a):\n",
    "#     temp=a\n",
    "#     s=0\n",
    "#     while temp:\n",
    "#         l=temp%10\n",
    "#         s+=l\n",
    "#         temp//=10\n",
    "#     if a==s**2:\n",
    "#         print(\"neon no.\")\n",
    "#     else:\n",
    "#         print(\"not neon no.\")\n",
    "# neon(81)\n",
    "def neon(a):\n",
    "    temp=a\n",
    "    s=0\n",
    "    while temp:\n",
    "        l=temp%10\n",
    "        s+=l\n",
    "        temp//=10\n",
    "    return a==s**2\n",
    "\n",
    "print(neon(81))\n",
    "print(neon(55))\n",
    "print(neon(1))"
   ]
  },
  {
   "cell_type": "code",
   "execution_count": 55,
   "metadata": {},
   "outputs": [
    {
     "name": "stdout",
     "output_type": "stream",
     "text": [
      "True\n",
      "False\n",
      "True\n",
      "True\n"
     ]
    }
   ],
   "source": [
    "#harshad number(Niven Number)\n",
    "#Calculate the sum of the digits of the number.\n",
    "#Check if the number is divisible by this sum.\n",
    "# def harshad(a):\n",
    "#     temp=a\n",
    "#     s=0\n",
    "#     while temp:\n",
    "#         l=temp%10\n",
    "#         s+=l\n",
    "#         temp//=10\n",
    "#     if a%s==0:\n",
    "#         print(a,\"is harshad\")\n",
    "#     else:\n",
    "#         print(a,\"not harshad\")\n",
    "# harshad(21)\n",
    "def hashard(a):\n",
    "    temp=a\n",
    "    s=0\n",
    "    while temp:\n",
    "        l=temp%10\n",
    "        s+=l\n",
    "        temp//=10\n",
    "    return a%s==0\n",
    "print(hashard(21))\n",
    "print(hashard(19))\n",
    "print(hashard(10))\n",
    "print(hashard(18))"
   ]
  },
  {
   "cell_type": "code",
   "execution_count": 65,
   "metadata": {},
   "outputs": [
    {
     "name": "stdout",
     "output_type": "stream",
     "text": [
      "hello people good night\n",
      "('hello people good night',)\n",
      "hello people good night\n",
      "23\n",
      "no. of characters in given string are 23\n",
      "4\n",
      "no. of words in string is 4\n",
      "hello people good night\n"
     ]
    }
   ],
   "source": [
    "def outer(main):\n",
    "    def inner(*args,**kwargs):\n",
    "        print(*args)\n",
    "        print(args)\n",
    "        print(args[0])\n",
    "        print(len(args[0]))  #each character in sentence\n",
    "        print(f\"no. of characters in given string are {len(args[0])}\")\n",
    "        print(len(args[0].split()))\n",
    "        print(f\"no. of words in string is {len(args[0].split())}\")\n",
    "        main(*args,**kwargs)\n",
    "    return inner   \n",
    "@outer\n",
    "def we(msg):\n",
    "    print(msg)\n",
    "we(\"hello people good night\")"
   ]
  },
  {
   "cell_type": "code",
   "execution_count": 66,
   "metadata": {},
   "outputs": [
    {
     "name": "stdout",
     "output_type": "stream",
     "text": [
      "[2]\n"
     ]
    }
   ],
   "source": [
    "def vowels1(n):\n",
    "    count=0\n",
    "    for i in n:\n",
    "        if i in \"AEIOUaeiou\":\n",
    "            count+=1\n",
    "    yield count\n",
    "\n",
    "print(list(vowels1(\"hello\")))"
   ]
  },
  {
   "cell_type": "code",
   "execution_count": null,
   "metadata": {},
   "outputs": [],
   "source": []
  }
 ],
 "metadata": {
  "kernelspec": {
   "display_name": "Python 3",
   "language": "python",
   "name": "python3"
  },
  "language_info": {
   "codemirror_mode": {
    "name": "ipython",
    "version": 3
   },
   "file_extension": ".py",
   "mimetype": "text/x-python",
   "name": "python",
   "nbconvert_exporter": "python",
   "pygments_lexer": "ipython3",
   "version": "3.12.4"
  }
 },
 "nbformat": 4,
 "nbformat_minor": 2
}
