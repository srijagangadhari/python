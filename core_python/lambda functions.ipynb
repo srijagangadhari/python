{
 "cells": [
  {
   "cell_type": "code",
   "execution_count": 4,
   "metadata": {},
   "outputs": [
    {
     "name": "stdout",
     "output_type": "stream",
     "text": [
      "30\n"
     ]
    }
   ],
   "source": [
    "p=lambda a,b:a+b\n",
    "print(p(10,20))"
   ]
  },
  {
   "cell_type": "code",
   "execution_count": 5,
   "metadata": {},
   "outputs": [
    {
     "name": "stdout",
     "output_type": "stream",
     "text": [
      "4\n"
     ]
    }
   ],
   "source": [
    "a=lambda p:p**2\n",
    "print(a(2))"
   ]
  },
  {
   "cell_type": "code",
   "execution_count": 8,
   "metadata": {},
   "outputs": [
    {
     "name": "stdout",
     "output_type": "stream",
     "text": [
      "false\n"
     ]
    }
   ],
   "source": [
    "n=lambda a:\"True\" if a%2==0 else \"false\"\n",
    "print(n(3))"
   ]
  },
  {
   "cell_type": "code",
   "execution_count": 11,
   "metadata": {},
   "outputs": [
    {
     "name": "stdout",
     "output_type": "stream",
     "text": [
      "9 is not divisible by 5 and 3\n"
     ]
    }
   ],
   "source": [
    "n=lambda a:f\"{a} is divisible by 5 and 3\"if a%5==0 and a%3==0 else f\"{a} is not divisible by 5 and 3\"\n",
    "print(n(9)) "
   ]
  },
  {
   "cell_type": "code",
   "execution_count": 20,
   "metadata": {},
   "outputs": [
    {
     "name": "stdout",
     "output_type": "stream",
     "text": [
      "ayom ayom\n",
      "well\n"
     ]
    }
   ],
   "source": [
    "n=lambda a:a if len(a)%2==0 else a[::-1]\n",
    "print(n(\"moya moya\"))\n",
    "print(n(\"well\"))\n"
   ]
  },
  {
   "cell_type": "code",
   "execution_count": 1,
   "metadata": {},
   "outputs": [
    {
     "name": "stdout",
     "output_type": "stream",
     "text": [
      "[1, 2, 3, 5, 6, 7]\n"
     ]
    }
   ],
   "source": [
    "a=[1,2,3]\n",
    "b=[5,6,7]\n",
    "p=lambda a,b:a+b\n",
    "print(p(a,b))\n"
   ]
  },
  {
   "cell_type": "code",
   "execution_count": 22,
   "metadata": {},
   "outputs": [
    {
     "name": "stdout",
     "output_type": "stream",
     "text": [
      "(1, 2, 3, 5, 6, 7)\n"
     ]
    }
   ],
   "source": [
    "a=(1,2,3)\n",
    "b=(5,6,7)\n",
    "o=lambda a,b:a+b\n",
    "print(o(a,b))"
   ]
  },
  {
   "cell_type": "code",
   "execution_count": 24,
   "metadata": {},
   "outputs": [
    {
     "name": "stdout",
     "output_type": "stream",
     "text": [
      "{1, 2, 3, 5, 6, 7}\n"
     ]
    }
   ],
   "source": [
    "a={1,2,3}\n",
    "b={5,6,7}\n",
    "o=lambda a,b:a|b\n",
    "print(o(a,b))"
   ]
  },
  {
   "cell_type": "code",
   "execution_count": 25,
   "metadata": {},
   "outputs": [
    {
     "name": "stdout",
     "output_type": "stream",
     "text": [
      "{'a': 1, 'b': 2, 'c': 5, 'k': 9}\n"
     ]
    }
   ],
   "source": [
    "o=lambda a,b:a|b\n",
    "print(o({\"a\":1,\"b\":2},{\"c\":5,\"k\":9}))"
   ]
  },
  {
   "cell_type": "code",
   "execution_count": 26,
   "metadata": {},
   "outputs": [
    {
     "name": "stdout",
     "output_type": "stream",
     "text": [
      "hellopython\n"
     ]
    }
   ],
   "source": [
    "a=\"hello\"\n",
    "b=\"python\"\n",
    "m=lambda a,b:a+b\n",
    "print(m(a,b))"
   ]
  },
  {
   "cell_type": "code",
   "execution_count": 33,
   "metadata": {},
   "outputs": [
    {
     "name": "stdout",
     "output_type": "stream",
     "text": [
      "4\n",
      "None\n",
      "[4, None]\n",
      "[4]\n",
      "<map object at 0x0000026513E5B550>\n",
      "<filter object at 0x0000026513E5B820>\n"
     ]
    }
   ],
   "source": [
    "def even(n):\n",
    "    if n%2==0:\n",
    "        return n\n",
    "print(even(4))    \n",
    "print(even(9))\n",
    "print(list(map(even,[4,5])))\n",
    "print(list(filter(even,[4,5])))\n",
    "print((map(even,[4,5])))\n",
    "print((filter(even,[4,5])))"
   ]
  },
  {
   "cell_type": "code",
   "execution_count": 36,
   "metadata": {},
   "outputs": [
    {
     "name": "stdout",
     "output_type": "stream",
     "text": [
      "[True, False, True]\n"
     ]
    }
   ],
   "source": [
    "res=lambda a:a%2==0\n",
    "print(list(map(res,{4,5,6})))"
   ]
  },
  {
   "cell_type": "code",
   "execution_count": 2,
   "metadata": {},
   "outputs": [
    {
     "name": "stdout",
     "output_type": "stream",
     "text": [
      "[True, True, False]\n"
     ]
    }
   ],
   "source": [
    "a=lambda a:a%2==0\n",
    "print(list(map(a,(2,4,5))))"
   ]
  },
  {
   "cell_type": "code",
   "execution_count": 45,
   "metadata": {},
   "outputs": [
    {
     "name": "stdout",
     "output_type": "stream",
     "text": [
      "[False, True, False]\n"
     ]
    }
   ],
   "source": [
    "p=lambda a:a%2==0\n",
    "print(list(map(p,(1,2,3))))"
   ]
  },
  {
   "cell_type": "code",
   "execution_count": 47,
   "metadata": {},
   "outputs": [
    {
     "name": "stdout",
     "output_type": "stream",
     "text": [
      "[4, 6]\n"
     ]
    }
   ],
   "source": [
    "print(list(filter(p,{3,4,5,6})))"
   ]
  },
  {
   "cell_type": "code",
   "execution_count": 82,
   "metadata": {},
   "outputs": [
    {
     "name": "stdout",
     "output_type": "stream",
     "text": [
      "30\n"
     ]
    }
   ],
   "source": [
    "def arith(a,b):\n",
    "    return a+b\n",
    "    return a-b\n",
    "print(arith(10,20))    "
   ]
  },
  {
   "cell_type": "code",
   "execution_count": 97,
   "metadata": {},
   "outputs": [
    {
     "name": "stdout",
     "output_type": "stream",
     "text": [
      "<generator object arith at 0x0000026513FC3F20>\n",
      "[8, -2, 15, 0.6, 0]\n"
     ]
    }
   ],
   "source": [
    "def arith(a,b):\n",
    "    yield a+b\n",
    "    yield a-b\n",
    "    yield a*b\n",
    "    yield a/b\n",
    "    yield a//b\n",
    "print(arith(3,5))    \n",
    "print(list(arith(3,5)))  "
   ]
  },
  {
   "cell_type": "code",
   "execution_count": 104,
   "metadata": {},
   "outputs": [
    {
     "name": "stdout",
     "output_type": "stream",
     "text": [
      "<generator object we at 0x0000026513E8A0B0>\n",
      "[13, 14, 24, 9]\n"
     ]
    }
   ],
   "source": [
    "import random\n",
    "def we(n):\n",
    "    for i in range(n):\n",
    "        yield random.randint(1,25)\n",
    "print(we(4))\n",
    "print(list(we(4)))"
   ]
  },
  {
   "cell_type": "code",
   "execution_count": 1,
   "metadata": {},
   "outputs": [
    {
     "name": "stdout",
     "output_type": "stream",
     "text": [
      "[1, 2]\n"
     ]
    }
   ],
   "source": [
    "def a(s):\n",
    "    count=1\n",
    "    for i in s:\n",
    "        if i in \"AEIOUaeiou\":\n",
    "            yield count\n",
    "            count+=1\n",
    "print(list(a(\"hello\")))"
   ]
  },
  {
   "cell_type": "code",
   "execution_count": 106,
   "metadata": {},
   "outputs": [
    {
     "name": "stdout",
     "output_type": "stream",
     "text": [
      "18\n",
      "1\n",
      "14\n",
      "18\n"
     ]
    }
   ],
   "source": [
    "for j in we(4):\n",
    "    print(j)"
   ]
  },
  {
   "cell_type": "code",
   "execution_count": 112,
   "metadata": {},
   "outputs": [
    {
     "name": "stdout",
     "output_type": "stream",
     "text": [
      "[2]\n"
     ]
    }
   ],
   "source": [
    "def vowels1(n):\n",
    "    count=0\n",
    "    for i in n:\n",
    "        if i in \"AEIOUaeiou\":\n",
    "            count+=1\n",
    "    yield count\n",
    "\n",
    "print(list(vowels1(\"hello\")))"
   ]
  },
  {
   "cell_type": "code",
   "execution_count": 2,
   "metadata": {},
   "outputs": [
    {
     "name": "stdout",
     "output_type": "stream",
     "text": [
      "[True, False, False]\n"
     ]
    }
   ],
   "source": [
    "res=lambda a:a%2==0\n",
    "print(list(map(res,[2,3,5])))"
   ]
  },
  {
   "cell_type": "code",
   "execution_count": 3,
   "metadata": {},
   "outputs": [
    {
     "name": "stdout",
     "output_type": "stream",
     "text": [
      "[2]\n"
     ]
    }
   ],
   "source": [
    "print(list(filter(res,[2,3,5])))"
   ]
  },
  {
   "cell_type": "code",
   "execution_count": 1,
   "metadata": {},
   "outputs": [
    {
     "name": "stdout",
     "output_type": "stream",
     "text": [
      "<function <lambda> at 0x00000245ABEDBF70>\n",
      "30\n"
     ]
    }
   ],
   "source": [
    "a=lambda p,q:p+q\n",
    "print(a)\n",
    "print(a(10,20))"
   ]
  },
  {
   "cell_type": "code",
   "execution_count": 2,
   "metadata": {},
   "outputs": [
    {
     "name": "stdout",
     "output_type": "stream",
     "text": [
      "4\n"
     ]
    }
   ],
   "source": [
    "a=lambda p:p**2\n",
    "print(a(2))"
   ]
  },
  {
   "cell_type": "code",
   "execution_count": 3,
   "metadata": {},
   "outputs": [
    {
     "name": "stdout",
     "output_type": "stream",
     "text": [
      "True\n"
     ]
    }
   ],
   "source": [
    "a=lambda a:a%2==0\n",
    "print(a(2))"
   ]
  },
  {
   "cell_type": "code",
   "execution_count": 4,
   "metadata": {},
   "outputs": [
    {
     "name": "stdout",
     "output_type": "stream",
     "text": [
      "15 is divisible by 5 and divisible by 3 if n%5==0 and n%3==0\n"
     ]
    }
   ],
   "source": [
    "a=lambda n:f\"{n} is divisible by 5 and divisible by 3 if n%5==0 and n%3==0\"\n",
    "print(a(15))"
   ]
  },
  {
   "cell_type": "code",
   "execution_count": 11,
   "metadata": {},
   "outputs": [
    {
     "name": "stdout",
     "output_type": "stream",
     "text": [
      "[2, 4]\n"
     ]
    }
   ],
   "source": [
    "# a=[1,2,3]\n",
    "# b=[4,5,6]\n",
    "res=lambda a:a%2==0\n",
    "print(list(filter(res,[2,3,4])))"
   ]
  },
  {
   "cell_type": "code",
   "execution_count": null,
   "metadata": {},
   "outputs": [],
   "source": []
  }
 ],
 "metadata": {
  "kernelspec": {
   "display_name": "base",
   "language": "python",
   "name": "python3"
  },
  "language_info": {
   "codemirror_mode": {
    "name": "ipython",
    "version": 3
   },
   "file_extension": ".py",
   "mimetype": "text/x-python",
   "name": "python",
   "nbconvert_exporter": "python",
   "pygments_lexer": "ipython3",
   "version": "3.12.4"
  }
 },
 "nbformat": 4,
 "nbformat_minor": 2
}
