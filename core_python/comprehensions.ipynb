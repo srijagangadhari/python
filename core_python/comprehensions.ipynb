{
 "cells": [
  {
   "cell_type": "code",
   "execution_count": 1,
   "metadata": {},
   "outputs": [
    {
     "name": "stdout",
     "output_type": "stream",
     "text": [
      "{10, 11, 4}\n"
     ]
    }
   ],
   "source": [
    "l1=[1,2,5,3,6]\n",
    "l2=[3,2,5,1,5]\n",
    "s={a+b for a,b in zip(l1,l2)}\n",
    "print(s)"
   ]
  },
  {
   "cell_type": "code",
   "execution_count": 2,
   "metadata": {},
   "outputs": [
    {
     "name": "stdout",
     "output_type": "stream",
     "text": [
      "{25, 3, 4, 30}\n"
     ]
    }
   ],
   "source": [
    "l1=[1,2,5,3,6]\n",
    "l2=[3,2,5,1,5]\n",
    "p={a*b for a,b in zip(l1,l2)}\n",
    "print(p)"
   ]
  },
  {
   "cell_type": "code",
   "execution_count": 11,
   "metadata": {},
   "outputs": [
    {
     "name": "stdout",
     "output_type": "stream",
     "text": [
      "{'animal', 'google', 'yahooo'}\n"
     ]
    }
   ],
   "source": [
    "#WAP to return a list having even length unique value that are taking from list \n",
    "l=[\"google\",\"birds\",\"animal\",\"google\",\"apple\",\"birds\",\"yahooo\"]\n",
    "# l1=[]\n",
    "# for i in l:\n",
    "#     if len(i)%2==0:\n",
    "#         {l1.append(i)}\n",
    "\n",
    "# print(set(l1))\n",
    "s={i for i in l if len(i)%2==0}\n",
    "print(s)"
   ]
  },
  {
   "cell_type": "code",
   "execution_count": 1,
   "metadata": {},
   "outputs": [
    {
     "name": "stdout",
     "output_type": "stream",
     "text": [
      "{'unicorn', 'only', 'icecream', 'online'}\n"
     ]
    }
   ],
   "source": [
    "#WAP to return a set having word starting with vowel\n",
    "l=[\"icecream\",\"online\",\"light\",\"only\",\"unicorn\",\"chips\"]\n",
    "s={ i for i in l if i[0] in \"aeiouAEIOU\"}\n",
    "print(s)"
   ]
  },
  {
   "cell_type": "code",
   "execution_count": 1,
   "metadata": {},
   "outputs": [
    {
     "name": "stdout",
     "output_type": "stream",
     "text": [
      "divhgf\n"
     ]
    }
   ],
   "source": [
    "res = lambda a,b: a+b\n",
    "print(res(\"div\",\"hgf\"))"
   ]
  },
  {
   "cell_type": "code",
   "execution_count": 4,
   "metadata": {},
   "outputs": [
    {
     "name": "stdout",
     "output_type": "stream",
     "text": [
      "[1, 4, 9]\n"
     ]
    }
   ],
   "source": [
    "l=[1,2,3]\n",
    "a=[i**2 for i in l]\n",
    "print(a)"
   ]
  },
  {
   "cell_type": "code",
   "execution_count": 8,
   "metadata": {},
   "outputs": [
    {
     "name": "stdout",
     "output_type": "stream",
     "text": [
      "[5, 6]\n"
     ]
    }
   ],
   "source": [
    "s=\"hello people\"\n",
    "b=[len(i) for i in s.split()]\n",
    "print(b)"
   ]
  },
  {
   "cell_type": "code",
   "execution_count": 11,
   "metadata": {},
   "outputs": [
    {
     "data": {
      "text/plain": [
       "['HELLO PEOPLE']"
      ]
     },
     "execution_count": 11,
     "metadata": {},
     "output_type": "execute_result"
    }
   ],
   "source": [
    "w=[\"hello people\"]\n",
    "k=[i.upper() for i in w if \"a\"<=i<=\"z\"]\n",
    "k"
   ]
  },
  {
   "cell_type": "code",
   "execution_count": 12,
   "metadata": {},
   "outputs": [
    {
     "data": {
      "text/plain": [
       "[8, 64, 216]"
      ]
     },
     "execution_count": 12,
     "metadata": {},
     "output_type": "execute_result"
    }
   ],
   "source": [
    "l=[1,2,3,4,5,6]\n",
    "k=[i**3 for i in l if i%2==0]\n",
    "k"
   ]
  },
  {
   "cell_type": "code",
   "execution_count": 13,
   "metadata": {},
   "outputs": [
    {
     "data": {
      "text/plain": [
       "['banana', 'orange']"
      ]
     },
     "execution_count": 13,
     "metadata": {},
     "output_type": "execute_result"
    }
   ],
   "source": [
    "w=[\"apple\",\"banana\",'orange',\"guava\"]\n",
    "k=[i for i in w if len(i)>5]\n",
    "k"
   ]
  },
  {
   "cell_type": "code",
   "execution_count": 16,
   "metadata": {},
   "outputs": [
    {
     "data": {
      "text/plain": [
       "[1, 2, 3, 4, 5, 6]"
      ]
     },
     "execution_count": 16,
     "metadata": {},
     "output_type": "execute_result"
    }
   ],
   "source": [
    "l=[1,-2,3,-4,5,-6]\n",
    "s=[abs(i) if i<0 else i for i in l ]\n",
    "s"
   ]
  },
  {
   "cell_type": "code",
   "execution_count": 18,
   "metadata": {},
   "outputs": [
    {
     "data": {
      "text/plain": [
       "['Odd', 'even', 'Odd', 'even', 'Odd', 'even']"
      ]
     },
     "execution_count": 18,
     "metadata": {},
     "output_type": "execute_result"
    }
   ],
   "source": [
    "l=[1,2,3,4,5,6]\n",
    "k=[\"even\" if i%2==0 else \"Odd\" for i in l]\n",
    "k\n"
   ]
  },
  {
   "cell_type": "code",
   "execution_count": 19,
   "metadata": {},
   "outputs": [
    {
     "data": {
      "text/plain": [
       "[1, 2, None, None, 4]"
      ]
     },
     "execution_count": 19,
     "metadata": {},
     "output_type": "execute_result"
    }
   ],
   "source": [
    "l=[1,2,\"hello\",\"how\",4]\n",
    "p=[ i if type(i)==int else None for i in l]\n",
    "p"
   ]
  },
  {
   "cell_type": "code",
   "execution_count": 26,
   "metadata": {},
   "outputs": [
    {
     "data": {
      "text/plain": [
       "[None, (1, 'banana'), (2, 'orange'), None]"
      ]
     },
     "execution_count": 26,
     "metadata": {},
     "output_type": "execute_result"
    }
   ],
   "source": [
    "w=[\"apple\",\"banana\",'orange',\"guava\"]\n",
    "o=[(i,j) if len(j)%2==0 else None for i,j in enumerate(w)]\n",
    "o"
   ]
  },
  {
   "cell_type": "code",
   "execution_count": 27,
   "metadata": {},
   "outputs": [
    {
     "data": {
      "text/plain": [
       "[1, 2, 3, 4, 5, 6]"
      ]
     },
     "execution_count": 27,
     "metadata": {},
     "output_type": "execute_result"
    }
   ],
   "source": [
    "l=[[1,2],[3,4],[5,6]]\n",
    "p=[j for i in l for j in i]\n",
    "p"
   ]
  },
  {
   "cell_type": "code",
   "execution_count": 29,
   "metadata": {},
   "outputs": [
    {
     "data": {
      "text/plain": [
       "[(1, 1), (1, 2), (1, 3), (2, 1), (2, 2), (2, 3), (3, 1), (3, 2), (3, 3)]"
      ]
     },
     "execution_count": 29,
     "metadata": {},
     "output_type": "execute_result"
    }
   ],
   "source": [
    "l=[1,2,3]\n",
    "p=[(i,j) for i in l for j in l]\n",
    "p"
   ]
  },
  {
   "cell_type": "code",
   "execution_count": 33,
   "metadata": {},
   "outputs": [
    {
     "data": {
      "text/plain": [
       "['H', 'E', 'L', 'L', 'O', 'P', 'E', 'O', 'P', 'L', 'E']"
      ]
     },
     "execution_count": 33,
     "metadata": {},
     "output_type": "execute_result"
    }
   ],
   "source": [
    "w=[\"hello\", \"people\"]\n",
    "p=[j.upper() for i in w for  j in i]\n",
    "p"
   ]
  },
  {
   "cell_type": "code",
   "execution_count": 34,
   "metadata": {},
   "outputs": [
    {
     "data": {
      "text/plain": [
       "['a', 'e', 'a', 'a', 'a', 'o', 'a', 'e']"
      ]
     },
     "execution_count": 34,
     "metadata": {},
     "output_type": "execute_result"
    }
   ],
   "source": [
    "w=[\"apple\",\"banana\",'orange']\n",
    "p=[j for i in w for j in i if j in \"AEIOUaeiou\"]\n",
    "p"
   ]
  },
  {
   "cell_type": "code",
   "execution_count": 35,
   "metadata": {},
   "outputs": [
    {
     "data": {
      "text/plain": [
       "[(2, 'a'), (2, 'b'), (2, 'c')]"
      ]
     },
     "execution_count": 35,
     "metadata": {},
     "output_type": "execute_result"
    }
   ],
   "source": [
    "l1=[1,2,3]\n",
    "l2=[\"a\",\"b\",\"c\"]\n",
    "p=[(i,j) for i in l1 for j in l2 if i==2]\n",
    "p"
   ]
  },
  {
   "cell_type": "code",
   "execution_count": 38,
   "metadata": {},
   "outputs": [
    {
     "data": {
      "text/plain": [
       "[6, 8, 7, 9]"
      ]
     },
     "execution_count": 38,
     "metadata": {},
     "output_type": "execute_result"
    }
   ],
   "source": [
    "m=[[1,6,3],[4,2,8],[7,9,5]]\n",
    "p=[j for i in m for j in i if j>5]\n",
    "p"
   ]
  },
  {
   "cell_type": "code",
   "execution_count": 48,
   "metadata": {},
   "outputs": [
    {
     "data": {
      "text/plain": [
       "[1, 1, 1, '2a', '2b', '2c', 3, 3, 3]"
      ]
     },
     "execution_count": 48,
     "metadata": {},
     "output_type": "execute_result"
    }
   ],
   "source": [
    "l1=[1,2,3]\n",
    "l2=[\"a\",\"b\",\"c\"]\n",
    "p=[(str(i)+j) if i==2 else i for i in l1 for j in l2]\n",
    "p"
   ]
  },
  {
   "cell_type": "code",
   "execution_count": 52,
   "metadata": {},
   "outputs": [
    {
     "data": {
      "text/plain": [
       "[1, 4, 3, 16, 5, 36, 7, 64, 9]"
      ]
     },
     "execution_count": 52,
     "metadata": {},
     "output_type": "execute_result"
    }
   ],
   "source": [
    "m=[[1,2,3],[4,5,6],[7,8,9]]\n",
    "p=[j**2 if j%2==0 else j for i in m for j in i ]\n",
    "p"
   ]
  },
  {
   "cell_type": "code",
   "execution_count": 54,
   "metadata": {},
   "outputs": [
    {
     "name": "stdout",
     "output_type": "stream",
     "text": [
      "['a', '-', '-', '-', 'e', '-', 'a', '-', 'a', '-', 'a', 'o', '-', 'a', '-', '-', 'e'],"
     ]
    }
   ],
   "source": [
    "i=[\"apple\",\"banana\",\"orange\"]\n",
    "p=[j if j in \"AEIOUaeiou\" else \"-\" for i in i for j in i]\n",
    "print(p,end=\",\")"
   ]
  },
  {
   "cell_type": "code",
   "execution_count": 56,
   "metadata": {},
   "outputs": [
    {
     "data": {
      "text/plain": [
       "[[1, 1], [4, 256], [27, 81], [16, 65536], [125, 625]]"
      ]
     },
     "execution_count": 56,
     "metadata": {},
     "output_type": "execute_result"
    }
   ],
   "source": [
    "p=[1,2,3,4,5]\n",
    "o=[[i**2,i**8]if i%2==0 else [i**3,i**4]for i in p]\n",
    "o"
   ]
  },
  {
   "cell_type": "code",
   "execution_count": 57,
   "metadata": {},
   "outputs": [
    {
     "data": {
      "text/plain": [
       "[['odd'], ['even'], ['odd'], ['even'], ['odd']]"
      ]
     },
     "execution_count": 57,
     "metadata": {},
     "output_type": "execute_result"
    }
   ],
   "source": [
    "p=[1,2,3,4,5]\n",
    "o=[[\"odd\"]if i%2==1 else [\"even\"] for i in p]\n",
    "o"
   ]
  },
  {
   "cell_type": "code",
   "execution_count": 2,
   "metadata": {},
   "outputs": [
    {
     "name": "stdout",
     "output_type": "stream",
     "text": [
      "[4, 9, 16]\n"
     ]
    }
   ],
   "source": [
    "t=(2,3,4)\n",
    "p=(i**2 for i in t)\n",
    "print(list(p))"
   ]
  },
  {
   "cell_type": "code",
   "execution_count": 60,
   "metadata": {},
   "outputs": [
    {
     "data": {
      "text/plain": [
       "{1, 3, 4, 5, 6, 7, 8, 94}"
      ]
     },
     "execution_count": 60,
     "metadata": {},
     "output_type": "execute_result"
    }
   ],
   "source": [
    "p=[1,4,5,6,7,8,94,5,6,1,1,3,5]\n",
    "a={i for i in p}\n",
    "a"
   ]
  },
  {
   "cell_type": "code",
   "execution_count": 63,
   "metadata": {},
   "outputs": [
    {
     "data": {
      "text/plain": [
       "{4, 10, 11}"
      ]
     },
     "execution_count": 63,
     "metadata": {},
     "output_type": "execute_result"
    }
   ],
   "source": [
    "l1=[1,2,5,3,6]\n",
    "l2=[3,2,5,1,5]\n",
    "p={(i+j) for i,j in zip(l1,l2)}\n",
    "p"
   ]
  },
  {
   "cell_type": "code",
   "execution_count": 64,
   "metadata": {},
   "outputs": [
    {
     "data": {
      "text/plain": [
       "{3, 4, 25, 30}"
      ]
     },
     "execution_count": 64,
     "metadata": {},
     "output_type": "execute_result"
    }
   ],
   "source": [
    "l1=[1,2,5,3,6]\n",
    "l2=[3,2,5,1,5]\n",
    "p={i*j for i,j in zip(l1,l2)}\n",
    "p"
   ]
  },
  {
   "cell_type": "code",
   "execution_count": 65,
   "metadata": {},
   "outputs": [
    {
     "data": {
      "text/plain": [
       "{'animal', 'google', 'yahooo'}"
      ]
     },
     "execution_count": 65,
     "metadata": {},
     "output_type": "execute_result"
    }
   ],
   "source": [
    "l=[\"google\",\"birds\",\"animal\",\"google\",\"apple\",\"birds\",\"yahooo\"]\n",
    "p={i for i in l if len(i)%2==0}\n",
    "p"
   ]
  },
  {
   "cell_type": "code",
   "execution_count": 67,
   "metadata": {},
   "outputs": [
    {
     "data": {
      "text/plain": [
       "{'animal', 'apple'}"
      ]
     },
     "execution_count": 67,
     "metadata": {},
     "output_type": "execute_result"
    }
   ],
   "source": [
    "l=[\"google\",\"birds\",\"animal\",\"google\",\"apple\",\"birds\",\"yahooo\"]\n",
    "p={i for i in l if i[0] in \"AEIOUaeiou\"}\n",
    "p"
   ]
  },
  {
   "cell_type": "code",
   "execution_count": 68,
   "metadata": {},
   "outputs": [
    {
     "data": {
      "text/plain": [
       "{'apple', 'google', 'lamina', 'sdrib', 'yahooo'}"
      ]
     },
     "execution_count": 68,
     "metadata": {},
     "output_type": "execute_result"
    }
   ],
   "source": [
    "l=[\"google\",\"birds\",\"animal\",\"google\",\"apple\",\"birds\",\"yahooo\"]\n",
    "p={i if i[-1] in \"AEIOUaeiou\" else i[::-1] for i in l}\n",
    "p"
   ]
  },
  {
   "cell_type": "code",
   "execution_count": 69,
   "metadata": {},
   "outputs": [
    {
     "data": {
      "text/plain": [
       "{2: 4, 3: 9, 4: 16, 5: 25}"
      ]
     },
     "execution_count": 69,
     "metadata": {},
     "output_type": "execute_result"
    }
   ],
   "source": [
    "l=[2,3,4,5]\n",
    "p={i:i**2 for i in l}\n",
    "p"
   ]
  },
  {
   "cell_type": "code",
   "execution_count": 70,
   "metadata": {},
   "outputs": [
    {
     "data": {
      "text/plain": [
       "{0: 'hi', 1: 'queen', 2: 'well'}"
      ]
     },
     "execution_count": 70,
     "metadata": {},
     "output_type": "execute_result"
    }
   ],
   "source": [
    "\n",
    "p=[\"hi\",\"queen\",\"well\"]\n",
    "o={i:j for i,j in enumerate(p)}\n",
    "o"
   ]
  },
  {
   "cell_type": "code",
   "execution_count": 71,
   "metadata": {},
   "outputs": [
    {
     "data": {
      "text/plain": [
       "{'ahtivak', 'depali', 'dhivya', 'ihtpeed'}"
      ]
     },
     "execution_count": 71,
     "metadata": {},
     "output_type": "execute_result"
    }
   ],
   "source": [
    "l=[\"deepthi\",\"kavitha\",\"depali\",\"dhivya\"]\n",
    "p={i if len(i)%2==0 else i[::-1] for i in l}\n",
    "p"
   ]
  },
  {
   "cell_type": "code",
   "execution_count": 73,
   "metadata": {},
   "outputs": [
    {
     "data": {
      "text/plain": [
       "{10: (7, 3), 11: (5, 6), 6: (3, 3), 4: (2, 2), 9: (1, 8)}"
      ]
     },
     "execution_count": 73,
     "metadata": {},
     "output_type": "execute_result"
    }
   ],
   "source": [
    "l1=[7,5,3,2,1]\n",
    "l2=[3,6,3,2,8]\n",
    "p={i+j:(i,j) for i,j in zip(l1,l2)}\n",
    "p"
   ]
  },
  {
   "cell_type": "code",
   "execution_count": 78,
   "metadata": {},
   "outputs": [
    {
     "data": {
      "text/plain": [
       "{10: (7, 3), 11: (5, 6), 6: (3, 3), 4: (2, 2), 9: (9, 0), 22: (22, 0)}"
      ]
     },
     "execution_count": 78,
     "metadata": {},
     "output_type": "execute_result"
    }
   ],
   "source": [
    "l1=[7,5,3,2,1,9,22]\n",
    "l2=[3,6,3,2,8]\n",
    "from itertools import zip_longest\n",
    "p={i+j:(i,j) for i,j in zip_longest(l1,l2,fillvalue=0)}\n",
    "p"
   ]
  },
  {
   "cell_type": "code",
   "execution_count": 79,
   "metadata": {},
   "outputs": [
    {
     "data": {
      "text/plain": [
       "{7: [7, 49], 5: [5, 25], 3: [3, 9], 2: [2, 4], 1: [1, 1]}"
      ]
     },
     "execution_count": 79,
     "metadata": {},
     "output_type": "execute_result"
    }
   ],
   "source": [
    "l1=[7,5,3,2,1]\n",
    "p={i:[i,i**2] for i in l1}\n",
    "p"
   ]
  },
  {
   "cell_type": "code",
   "execution_count": 1,
   "metadata": {},
   "outputs": [
    {
     "data": {
      "text/plain": [
       "{7: [7, 49], 5: [5, 25], 3: [3, 9], 2: [2, 4], 1: [1, 1]}"
      ]
     },
     "execution_count": 1,
     "metadata": {},
     "output_type": "execute_result"
    }
   ],
   "source": [
    "l1=[7,5,3,2,1]\n",
    "p={i:[i,i**2] for i in l1}\n",
    "p"
   ]
  },
  {
   "cell_type": "code",
   "execution_count": 2,
   "metadata": {},
   "outputs": [
    {
     "name": "stdout",
     "output_type": "stream",
     "text": [
      "{10: (7, 3), 11: (5, 6), 6: (3, 3), 4: (2, 2), 9: (9, 0), 22: (22, 0)}\n"
     ]
    }
   ],
   "source": [
    "l1=[7,5,3,2,1,9,22]\n",
    "l2=[3,6,3,2,8]\n",
    "from itertools import zip_longest\n",
    "e={i+j:(i,j) for i,j in zip_longest(l1,l2,fillvalue=0)}\n",
    "print(e)"
   ]
  }
 ],
 "metadata": {
  "kernelspec": {
   "display_name": "Python 3",
   "language": "python",
   "name": "python3"
  },
  "language_info": {
   "codemirror_mode": {
    "name": "ipython",
    "version": 3
   },
   "file_extension": ".py",
   "mimetype": "text/x-python",
   "name": "python",
   "nbconvert_exporter": "python",
   "pygments_lexer": "ipython3",
   "version": "3.9.13"
  }
 },
 "nbformat": 4,
 "nbformat_minor": 2
}
