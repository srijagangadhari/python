{
 "cells": [
  {
   "cell_type": "code",
   "execution_count": 8,
   "metadata": {},
   "outputs": [
    {
     "name": "stdout",
     "output_type": "stream",
     "text": [
      "<list_iterator object at 0x0000029ECEC216A0>\n",
      "1\n",
      "66\n",
      "87\n",
      "4\n",
      "9\n",
      "no value iterate\n"
     ]
    }
   ],
   "source": [
    "l=[1,66,87,4,9]\n",
    "it_obj=iter(l)\n",
    "print(it_obj)\n",
    "print(next(it_obj))  #1\n",
    "print(next(it_obj))  #66\n",
    "print(next(it_obj))  #87\n",
    "print(next(it_obj))  #4\n",
    "print(next(it_obj))  #9\n",
    "# print(next(it_obj))  #StopIteration\n",
    "print(next(it_obj,\"no value iterate\"))\n"
   ]
  },
  {
   "cell_type": "code",
   "execution_count": 13,
   "metadata": {},
   "outputs": [
    {
     "name": "stdout",
     "output_type": "stream",
     "text": [
      "<tuple_iterator object at 0x0000029ECF9059A0>\n",
      "1\n",
      "(66+4j)\n",
      "87.5\n",
      "4\n",
      "hello\n",
      "No value to iterate\n"
     ]
    }
   ],
   "source": [
    "l=(1,66+4j,87.5,4,\"hello\")\n",
    "it_obj=iter(l)\n",
    "print(it_obj)  #object address\n",
    "print(next(it_obj))  #1\n",
    "print(next(it_obj))  #66\n",
    "print(next(it_obj))  #87\n",
    "print(next(it_obj))  #4\n",
    "print(next(it_obj))  #9\n",
    "# print(next(it_obj))  #StopIteration\n",
    "print(next(it_obj,\"No value to iterate\")) "
   ]
  },
  {
   "cell_type": "code",
   "execution_count": null,
   "metadata": {},
   "outputs": [],
   "source": [
    "l={}\n",
    "it_obj=iter(l)\n",
    "print(it_obj)\n",
    "print(next(it_obj))  #1\n",
    "print(next(it_obj))  #66\n",
    "print(next(it_obj))  #87\n",
    "print(next(it_obj))  #4\n",
    "print(next(it_obj))  #9"
   ]
  },
  {
   "cell_type": "code",
   "execution_count": 2,
   "metadata": {},
   "outputs": [
    {
     "name": "stdout",
     "output_type": "stream",
     "text": [
      "<set_iterator object at 0x000002AC5BC835C0>\n",
      "1\n",
      "2\n",
      "3\n",
      "4\n",
      "5\n"
     ]
    }
   ],
   "source": [
    "q={1,2,3,4,5}\n",
    "p=q.__iter__()\n",
    "print(p)\n",
    "print(p.__next__())\n",
    "print(p.__next__())\n",
    "print(p.__next__())\n",
    "print(p.__next__())\n",
    "print(p.__next__())\n",
    "# print(p.__next__())"
   ]
  },
  {
   "cell_type": "code",
   "execution_count": 3,
   "metadata": {},
   "outputs": [
    {
     "name": "stdout",
     "output_type": "stream",
     "text": [
      "<str_ascii_iterator object at 0x000002AC5B6BF550>\n",
      "h\n",
      "e\n",
      "l\n",
      "l\n",
      "o\n",
      "world\n"
     ]
    }
   ],
   "source": [
    "s=\"hello\"\n",
    "p=iter(s)\n",
    "print(p)\n",
    "print(next(p))\n",
    "print(next(p))\n",
    "print(next(p))\n",
    "print(next(p))\n",
    "print(next(p))\n",
    "print(next(p,\"world\"))"
   ]
  },
  {
   "cell_type": "code",
   "execution_count": null,
   "metadata": {},
   "outputs": [],
   "source": []
  }
 ],
 "metadata": {
  "kernelspec": {
   "display_name": "base",
   "language": "python",
   "name": "python3"
  },
  "language_info": {
   "codemirror_mode": {
    "name": "ipython",
    "version": 3
   },
   "file_extension": ".py",
   "mimetype": "text/x-python",
   "name": "python",
   "nbconvert_exporter": "python",
   "pygments_lexer": "ipython3",
   "version": "3.12.4"
  }
 },
 "nbformat": 4,
 "nbformat_minor": 2
}
