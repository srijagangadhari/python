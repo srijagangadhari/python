{
 "cells": [
  {
   "cell_type": "code",
   "execution_count": 11,
   "metadata": {},
   "outputs": [
    {
     "name": "stdout",
     "output_type": "stream",
     "text": [
      "9\n",
      "1\n"
     ]
    }
   ],
   "source": [
    "#WAP to print largest and smallest number\n",
    "l=[1,2,9,6,5]\n",
    "larg=l[0]\n",
    "smal=l[0]\n",
    "i=0\n",
    "while i<len(l):\n",
    "    if l[i]>larg:\n",
    "        larg=l[i]\n",
    "    elif l[i]<smal:\n",
    "        smal=l[i]\n",
    "    i+=1\n",
    "    \n",
    "print(larg)\n",
    "print(smal)"
   ]
  },
  {
   "cell_type": "code",
   "execution_count": 12,
   "metadata": {},
   "outputs": [
    {
     "name": "stdout",
     "output_type": "stream",
     "text": [
      "4\n"
     ]
    }
   ],
   "source": [
    "#WAP to find length of the list\n",
    "l=[1,2,3,4]\n",
    "length=0\n",
    "for i in l:\n",
    "    length+=1\n",
    "print(length)"
   ]
  },
  {
   "cell_type": "code",
   "execution_count": 13,
   "metadata": {},
   "outputs": [
    {
     "name": "stdout",
     "output_type": "stream",
     "text": [
      "[1, 2]\n"
     ]
    }
   ],
   "source": [
    "a = [1, 2, 3]\n",
    "b = [3, 5, 6]\n",
    "\n",
    "# Difference operation\n",
    "c = list(set(a) - set(b))\n",
    "print(c)\n"
   ]
  },
  {
   "cell_type": "code",
   "execution_count": 14,
   "metadata": {},
   "outputs": [
    {
     "name": "stdout",
     "output_type": "stream",
     "text": [
      "[3, 10, 18]\n"
     ]
    }
   ],
   "source": [
    "#WAP  to python list multiplication prgm\n",
    "l1=[1,2,3]\n",
    "l2=[3,5,6]\n",
    "# print(l1*l2)\n",
    "r=[]\n",
    "for i in range(len(l1)):\n",
    "    r.append(l1[i]*l2[i])\n",
    "print(r)"
   ]
  },
  {
   "cell_type": "code",
   "execution_count": 15,
   "metadata": {},
   "outputs": [
    {
     "name": "stdout",
     "output_type": "stream",
     "text": [
      "1\n",
      "2\n",
      "3\n",
      "4\n"
     ]
    }
   ],
   "source": [
    "#WAP to print elements in a list\n",
    "l=[1,2,3,4]\n",
    "for i in l:\n",
    "    print(i)"
   ]
  },
  {
   "cell_type": "code",
   "execution_count": 16,
   "metadata": {},
   "outputs": [
    {
     "name": "stdout",
     "output_type": "stream",
     "text": [
      "2\n",
      "4\n"
     ]
    }
   ],
   "source": [
    "#WAp to print even numbers in a list\n",
    "l=[1,2,3,4]\n",
    "for  i in l:\n",
    "    if i%2==0:\n",
    "        print(i)"
   ]
  },
  {
   "cell_type": "code",
   "execution_count": 17,
   "metadata": {},
   "outputs": [
    {
     "name": "stdout",
     "output_type": "stream",
     "text": [
      "[1, 3, 5]\n"
     ]
    }
   ],
   "source": [
    "#python program to print odd list numbers\n",
    "l=[1,2,3,4,5,6]\n",
    "o=[]\n",
    "for i in l:\n",
    "    if i % 2==1:\n",
    "        o+=[i]\n",
    "print(o)"
   ]
  },
  {
   "cell_type": "code",
   "execution_count": 18,
   "metadata": {},
   "outputs": [
    {
     "name": "stdout",
     "output_type": "stream",
     "text": [
      "1\n",
      "6\n",
      "10\n"
     ]
    }
   ],
   "source": [
    "#pythpn program to print positive numbers\n",
    "l=[1,-5,6,-9,10,-2]\n",
    "for i in l:\n",
    "    if i>0:\n",
    "        print(i)"
   ]
  },
  {
   "cell_type": "code",
   "execution_count": 19,
   "metadata": {},
   "outputs": [
    {
     "name": "stdout",
     "output_type": "stream",
     "text": [
      "[2, 4]\n",
      "[1, 3, 5]\n"
     ]
    }
   ],
   "source": [
    "#python program to put even and odd no's in seperate list\n",
    "l=[1,2,3,4,5]\n",
    "e=[]\n",
    "o=[]\n",
    "for i in l:\n",
    "    if i%2==0:\n",
    "        e+=[i]\n",
    "    else:\n",
    "        o+=[i]\n",
    "print(e)\n",
    "print(o)"
   ]
  },
  {
   "cell_type": "code",
   "execution_count": 1,
   "metadata": {},
   "outputs": [
    {
     "name": "stdout",
     "output_type": "stream",
     "text": [
      "[1, 3, 9]\n"
     ]
    }
   ],
   "source": [
    "l=[1,2,3,4,6,9]\n",
    "l1=[]\n",
    "for i in l:\n",
    "    if i%2==1:\n",
    "        l1+=[i]\n",
    "print(l1)"
   ]
  },
  {
   "cell_type": "code",
   "execution_count": null,
   "metadata": {},
   "outputs": [
    {
     "name": "stdout",
     "output_type": "stream",
     "text": [
      "[1, 3, 9]\n"
     ]
    }
   ],
   "source": [
    "l=[1,2,3,4,6,9]\n",
    "l1=[]\n",
    "i=0\n",
    "while i<len(l):\n",
    "    if l[i]%2==1:\n",
    "        l1+=[l[i]]\n",
    "    i+=1\n",
    "print(l1)"
   ]
  },
  {
   "cell_type": "code",
   "execution_count": null,
   "metadata": {},
   "outputs": [
    {
     "name": "stdout",
     "output_type": "stream",
     "text": [
      "[4, 3, 2, 1]\n"
     ]
    }
   ],
   "source": [
    "#python program to reverse lis titems\n",
    "# l=[1,2,3,4]\n",
    "# r=l[::-1]\n",
    "# print(r)\n",
    "\n"
   ]
  },
  {
   "cell_type": "code",
   "execution_count": null,
   "metadata": {},
   "outputs": [
    {
     "name": "stdout",
     "output_type": "stream",
     "text": [
      "[4, 3, 2, 1]\n"
     ]
    }
   ],
   "source": [
    "l=[1,2,3,4]\n",
    "r=[]\n",
    "for i in range(len(l)-1,-1,-1):\n",
    "    r+=[l[i]]\n",
    "print(r)"
   ]
  },
  {
   "cell_type": "code",
   "execution_count": null,
   "metadata": {},
   "outputs": [
    {
     "name": "stdout",
     "output_type": "stream",
     "text": [
      "[4, 3, 2, 1]\n"
     ]
    }
   ],
   "source": [
    "\n",
    "l=[1,2,3,4]\n",
    "r=[]\n",
    "i=len(l)-1\n",
    "while i>=0:\n",
    "    r+=[l[i]]\n",
    "    i-=1\n",
    "print(r)"
   ]
  },
  {
   "cell_type": "code",
   "execution_count": null,
   "metadata": {},
   "outputs": [
    {
     "name": "stdout",
     "output_type": "stream",
     "text": [
      "99\n"
     ]
    }
   ],
   "source": [
    "\n",
    "#python program to print second largest no in a  list\n",
    "l=[1,2,99,10,32]\n",
    "max=l[0]\n",
    "second_max=l[0]\n",
    "for i in l[1:]:\n",
    "    if i>max:\n",
    "        second_max=max\n",
    "        max=i\n",
    "    elif i>second_max:\n",
    "        second_max=i\n",
    "print(max)"
   ]
  },
  {
   "cell_type": "code",
   "execution_count": 1,
   "metadata": {},
   "outputs": [
    {
     "name": "stdout",
     "output_type": "stream",
     "text": [
      "[1, 4, 5, 8, 9]\n"
     ]
    }
   ],
   "source": [
    "#python program to sort elements in ascending order\n",
    "l = [5, 4, 8, 1, 9]\n",
    "n = len(l)\n",
    "i = 0\n",
    "min_index = 0\n",
    "j = 1\n",
    "\n",
    "while i < n:\n",
    "    if j < n:\n",
    "        if l[j] < l[min_index]:\n",
    "            min_index = j\n",
    "        j += 1\n",
    "    else:\n",
    "        l[i], l[min_index] = l[min_index], l[i]\n",
    "        i += 1\n",
    "        min_index = i\n",
    "        j = i + 1\n",
    "\n",
    "print(l)\n",
    "\n"
   ]
  },
  {
   "cell_type": "code",
   "execution_count": null,
   "metadata": {},
   "outputs": [
    {
     "name": "stdout",
     "output_type": "stream",
     "text": [
      "3\n"
     ]
    }
   ],
   "source": [
    "#python program to print smallest element in a list\n",
    "l=[10,3,6,9]\n",
    "s=l[0]\n",
    "for i in l:\n",
    "    if i<s:\n",
    "        s=i\n",
    "print(s)"
   ]
  },
  {
   "cell_type": "code",
   "execution_count": null,
   "metadata": {},
   "outputs": [
    {
     "name": "stdout",
     "output_type": "stream",
     "text": [
      "6\n"
     ]
    }
   ],
   "source": [
    "#WAP to find summ of all elements in a list\n",
    "l=[1,2,3]\n",
    "s=0\n",
    "for i in l:\n",
    "    s+=i\n",
    "print(s)"
   ]
  },
  {
   "cell_type": "code",
   "execution_count": null,
   "metadata": {},
   "outputs": [
    {
     "name": "stdout",
     "output_type": "stream",
     "text": [
      "10\n"
     ]
    }
   ],
   "source": [
    "#python program to find sum of even and odd numbers in a list\n",
    "l=[1,2,3,4]\n",
    "s=0\n",
    "for i in l:\n",
    "    if i%2==0:\n",
    "        s+=i\n",
    "    else:\n",
    "        s+=i\n",
    "print(s)"
   ]
  },
  {
   "cell_type": "code",
   "execution_count": null,
   "metadata": {},
   "outputs": [
    {
     "name": "stdout",
     "output_type": "stream",
     "text": [
      "{1: 4, 2: 3, 3: 1, 5: 1}\n"
     ]
    }
   ],
   "source": [
    "l=[1,2,3,2,2,1,5,1,1]\n",
    "d={}\n",
    "for i in l:\n",
    "    count=0\n",
    "    for j in l:\n",
    "        if i==j:\n",
    "            count+=1\n",
    "    d[i]=count \n",
    "  \n",
    "print(d) "
   ]
  },
  {
   "cell_type": "code",
   "execution_count": null,
   "metadata": {},
   "outputs": [
    {
     "name": "stdout",
     "output_type": "stream",
     "text": [
      "3\n",
      "5\n"
     ]
    }
   ],
   "source": [
    "l=[1,2,3,2,2,1,5,1,1]\n",
    "for i in l:\n",
    "    c=0\n",
    "    for j in l:\n",
    "        if i==j:\n",
    "            c+=1\n",
    "    if c==1:\n",
    "        print(i)"
   ]
  },
  {
   "cell_type": "code",
   "execution_count": null,
   "metadata": {},
   "outputs": [
    {
     "name": "stdout",
     "output_type": "stream",
     "text": [
      "the maximum occurence of 1 is: 6\n"
     ]
    }
   ],
   "source": [
    "l=[1,2,3,1,6,1,1,1,1,2]\n",
    "maxele=l[0]\n",
    "max=1\n",
    "for i in l:\n",
    "    count=0\n",
    "    for j in l:\n",
    "        if i==j:\n",
    "            count+=1\n",
    "    if count>max:\n",
    "        max=count\n",
    "        maxele=i\n",
    "print (\"the maximum occurence of\",maxele,\"is:\",max)"
   ]
  },
  {
   "cell_type": "code",
   "execution_count": null,
   "metadata": {},
   "outputs": [
    {
     "name": "stdout",
     "output_type": "stream",
     "text": [
      "[2, 1, 4, 3, 5]\n"
     ]
    }
   ],
   "source": [
    "# l=[1,2,3,4,5,9]\n",
    "# i=0\n",
    "# while i<len(l):\n",
    "#    ele=l[i]\n",
    "#    l[i]=l[i+1]\n",
    "#    l[i+1]=ele\n",
    "#    i+=2\n",
    "# print(l)\n",
    "\n",
    "\n",
    "l=[1,2,3,4,5]\n",
    "i=0\n",
    "while i<len(l)-1:\n",
    "   ele=l[i]\n",
    "   l[i]=l[i+1]\n",
    "   l[i+1]=ele\n",
    "   i+=2\n",
    "print(l)"
   ]
  },
  {
   "cell_type": "code",
   "execution_count": null,
   "metadata": {},
   "outputs": [
    {
     "name": "stdout",
     "output_type": "stream",
     "text": [
      "1\n"
     ]
    }
   ],
   "source": [
    "#WAP tofind the 2nd min element from the given list\n",
    "l=[1,2,3,4,5]\n",
    "min=l[0]\n",
    "smin=l[0]\n",
    "i=0\n",
    "while i<len(l):\n",
    "    if l[i]<min:\n",
    "        min=l[i]\n",
    "    if l[i]<smin and l[1]!=min:\n",
    "        smin=l[i]\n",
    "    i+=1\n",
    "print(smin)"
   ]
  },
  {
   "cell_type": "code",
   "execution_count": null,
   "metadata": {},
   "outputs": [
    {
     "name": "stdout",
     "output_type": "stream",
     "text": [
      "2 is prime\n",
      "3 is prime\n",
      "5 is prime\n"
     ]
    }
   ],
   "source": [
    "l=[2,3,4,5,6]\n",
    "for i in l:\n",
    "    if i>1:\n",
    "        j=2\n",
    "        while j<i:\n",
    "            if i%j==0:\n",
    "                break\n",
    "            j+=1\n",
    "        else:\n",
    "            print(i,\"is prime\")\n",
    "            # count+=1\n",
    "# print(count)"
   ]
  },
  {
   "cell_type": "code",
   "execution_count": null,
   "metadata": {},
   "outputs": [
    {
     "name": "stdout",
     "output_type": "stream",
     "text": [
      "2 is prime\n",
      "3 is prime\n"
     ]
    }
   ],
   "source": [
    "l=[2,3,4,5,6]\n",
    "for i in l:\n",
    "    count=0\n",
    "    for j in range(1,len(l)):\n",
    "        if i%j==0:\n",
    "            count+=1\n",
    "    if count==2:\n",
    "        print(i,\"is prime\")"
   ]
  },
  {
   "cell_type": "code",
   "execution_count": null,
   "metadata": {},
   "outputs": [
    {
     "name": "stdout",
     "output_type": "stream",
     "text": [
      "2 is prime\n",
      "3 is prime\n",
      "5 is prime\n"
     ]
    }
   ],
   "source": [
    "l=[2,3,4,5,6]\n",
    "for i in l:\n",
    "    count=0\n",
    "    j=1\n",
    "    # for j in i+1:\n",
    "    while j<=i+1:\n",
    "        if i%j==0:\n",
    "            count+=1\n",
    "        j+=1\n",
    "    if count==2:\n",
    "        print(i,\"is prime\")"
   ]
  },
  {
   "cell_type": "code",
   "execution_count": null,
   "metadata": {},
   "outputs": [
    {
     "name": "stdout",
     "output_type": "stream",
     "text": [
      "2 is prime\n",
      "3 is prime\n",
      "5 is prime\n"
     ]
    }
   ],
   "source": [
    "l=[2,3,4,5,6]\n",
    "for i in l:\n",
    "    count=0\n",
    "    for j in range(1,i+1):\n",
    "        if i%j==0:\n",
    "            count+=1\n",
    "    if count==2:\n",
    "        print(i,\"is prime\")"
   ]
  },
  {
   "cell_type": "code",
   "execution_count": null,
   "metadata": {},
   "outputs": [
    {
     "name": "stdout",
     "output_type": "stream",
     "text": [
      "6 is perfect no.\n"
     ]
    }
   ],
   "source": [
    "l=[2,3,4,5,6]\n",
    "for i in l:\n",
    "    sum=0\n",
    "    for j in range(1,i):\n",
    "        if i%j==0:\n",
    "            sum+=j\n",
    "    if sum==i:\n",
    "        print(i,\"is perfect no.\")"
   ]
  },
  {
   "cell_type": "code",
   "execution_count": null,
   "metadata": {},
   "outputs": [
    {
     "name": "stdout",
     "output_type": "stream",
     "text": [
      "6 is perfect\n"
     ]
    }
   ],
   "source": [
    "l=[1,2,6,9,10]\n",
    "for i in l:\n",
    "    sum=0\n",
    "    j=1\n",
    "    while j<i:\n",
    "        if i%j==0:\n",
    "            sum+=j\n",
    "        j+=1\n",
    "    if i==sum:\n",
    "        print(i,\"is perfect\")"
   ]
  },
  {
   "cell_type": "code",
   "execution_count": null,
   "metadata": {},
   "outputs": [
    {
     "name": "stdout",
     "output_type": "stream",
     "text": [
      "2 is prime\n",
      "3 is prime\n",
      "5 is prime\n"
     ]
    }
   ],
   "source": [
    "l=[2,3,4,5,6]\n",
    "for i in l:\n",
    "    count=0\n",
    "    j=1\n",
    "    # for j in i+1:\n",
    "    while j<=i+1:\n",
    "        if i%j==0:\n",
    "            count+=1\n",
    "        j+=1\n",
    "    if count==2:\n",
    "        print(i,\"is prime\")"
   ]
  },
  {
   "cell_type": "code",
   "execution_count": null,
   "metadata": {},
   "outputs": [
    {
     "name": "stdout",
     "output_type": "stream",
     "text": [
      "2 is prime\n",
      "3 is prime\n"
     ]
    }
   ],
   "source": [
    "l=[2,3,4,5,6]\n",
    "for i in l:\n",
    "    count=0\n",
    "    for j in range(1,len(l)):\n",
    "        if i%j==0:\n",
    "            count+=1\n",
    "    if count==2:\n",
    "        print(i,\"is prime\")"
   ]
  },
  {
   "cell_type": "code",
   "execution_count": null,
   "metadata": {},
   "outputs": [
    {
     "name": "stdout",
     "output_type": "stream",
     "text": [
      "2 is prime no.\n",
      "3 is prime no.\n",
      "4 is prime no.\n",
      "5 is prime no.\n",
      "6 is prime no.\n"
     ]
    }
   ],
   "source": [
    "l=[2,3,4,5,6]\n",
    "count=0\n",
    "for i in l:\n",
    "    if i%1==0 and i%i==0:\n",
    "        print(i,\"is prime no.\")\n",
    "        count+=1\n",
    "\n",
    "    "
   ]
  },
  {
   "cell_type": "code",
   "execution_count": null,
   "metadata": {},
   "outputs": [
    {
     "name": "stdout",
     "output_type": "stream",
     "text": [
      "2 is prime\n",
      "3 is prime\n",
      "5 is prime\n"
     ]
    }
   ],
   "source": [
    "l=[2,3,4,5,6]\n",
    "for i in l:\n",
    "    if i>1:\n",
    "        j=2\n",
    "        while j<i:\n",
    "            if i%j==0:\n",
    "                break\n",
    "            j+=1\n",
    "        else:\n",
    "            print(i,\"is prime\")\n",
    "            # count+=1\n",
    "# print(count)"
   ]
  },
  {
   "cell_type": "code",
   "execution_count": null,
   "metadata": {},
   "outputs": [
    {
     "name": "stdout",
     "output_type": "stream",
     "text": [
      "b:1\n"
     ]
    }
   ],
   "source": [
    "a=\"abcda\"\n",
    "maxchar=\" \"\n",
    "maxcount=len(a)\n",
    "for i in a:\n",
    "    count=0\n",
    "    char=i\n",
    "    for j in a:\n",
    "        if (i==j):\n",
    "            count+=1\n",
    "    if (count<maxcount):\n",
    "        maxcount=count\n",
    "        maxchar=char \n",
    "print(maxchar,maxcount,sep=\":\")\n",
    "                                                       \n",
    "     "
   ]
  },
  {
   "cell_type": "code",
   "execution_count": null,
   "metadata": {},
   "outputs": [
    {
     "name": "stdout",
     "output_type": "stream",
     "text": [
      "1 0\n"
     ]
    }
   ],
   "source": [
    "l=[1,2,3,4,5]\n",
    "max=l[0]\n",
    "smin=l[0]\n",
    "for i in l:\n",
    "    count=0\n",
    "    a=i\n",
    "    while j in l:\n",
    "        if (i==j):\n",
    "            count+=1\n",
    "    if count<max:\n",
    "        max=count\n",
    "        smin=a\n",
    "print(smin,max,)"
   ]
  },
  {
   "cell_type": "code",
   "execution_count": null,
   "metadata": {},
   "outputs": [
    {
     "name": "stdout",
     "output_type": "stream",
     "text": [
      "2\n"
     ]
    }
   ],
   "source": [
    "l=[1,2,3,4,5]\n",
    "min=l[0]\n",
    "smin=l[0]\n",
    "i=0\n",
    "while i<len(l):\n",
    "    if l[i]<min:\n",
    "        smin=min\n",
    "        min=l[i]\n",
    "    elif l[i]>min and (smin==min or l[i]<smin):\n",
    "        smin=l[i]\n",
    "    i+=1\n",
    "print(smin)"
   ]
  },
  {
   "cell_type": "code",
   "execution_count": null,
   "metadata": {},
   "outputs": [
    {
     "name": "stdout",
     "output_type": "stream",
     "text": [
      "2\n"
     ]
    }
   ],
   "source": [
    "l=[1,2,3,4,5]\n",
    "min=l[0]\n",
    "smin=l[0]\n",
    "for i in l:\n",
    "    if i<min:\n",
    "        smin=min\n",
    "        min=i\n",
    "    elif i>min and (smin==min or i<smin):\n",
    "        smin=i\n",
    "print(smin)    "
   ]
  },
  {
   "cell_type": "code",
   "execution_count": null,
   "metadata": {},
   "outputs": [
    {
     "name": "stdout",
     "output_type": "stream",
     "text": [
      "2\n"
     ]
    }
   ],
   "source": [
    "#WAP to find out the 2nd minimum element from a given list\n",
    "l=[3,2,1]\n",
    "min=l[0]\n",
    "smin=l[0]\n",
    "i=0\n",
    "while i<len(l):\n",
    "    if l[i]<min:\n",
    "        smin=min\n",
    "        min=l[i] \n",
    "    i+=1\n",
    "print(smin)\n"
   ]
  },
  {
   "cell_type": "code",
   "execution_count": null,
   "metadata": {},
   "outputs": [
    {
     "name": "stdout",
     "output_type": "stream",
     "text": [
      "9\n"
     ]
    }
   ],
   "source": [
    "\n",
    "#WAP to find 2nd max element from the given list\n",
    "l=[3,2,1,9,10]\n",
    "max=l[0]\n",
    "smax=l[0]\n",
    "i=0\n",
    "while i<len(l):\n",
    "    if l[i]>max:\n",
    "        smax=max\n",
    "        max=l[i] \n",
    "    i+=1\n",
    "print(smax)"
   ]
  },
  {
   "cell_type": "code",
   "execution_count": null,
   "metadata": {},
   "outputs": [
    {
     "name": "stdout",
     "output_type": "stream",
     "text": [
      "0\n"
     ]
    }
   ],
   "source": [
    "#find the average value of a list\n",
    "l=[1,2,3]\n",
    "s=0\n",
    "for i in l:\n",
    "    s+=i\n",
    "    d=s%2\n",
    "print(d)"
   ]
  },
  {
   "cell_type": "code",
   "execution_count": null,
   "metadata": {},
   "outputs": [
    {
     "name": "stdout",
     "output_type": "stream",
     "text": [
      "2.0\n"
     ]
    }
   ],
   "source": [
    "l = [1, 2, 3]\n",
    "s = 0\n",
    "\n",
    "for i in l:\n",
    "    s += i\n",
    "\n",
    "average = s / len(l)\n",
    "print(average)\n"
   ]
  },
  {
   "cell_type": "code",
   "execution_count": null,
   "metadata": {},
   "outputs": [
    {
     "name": "stdout",
     "output_type": "stream",
     "text": [
      "9\n"
     ]
    }
   ],
   "source": [
    "#Find out the sum of all the even indexed elements from a given list\n",
    "l=[1,2,3,4,5]\n",
    "s=0\n",
    "i=0\n",
    "while i<len(l):\n",
    "    if i%2==0:\n",
    "        s+=l[i]\n",
    "    i+=1\n",
    "print(s)"
   ]
  },
  {
   "cell_type": "code",
   "execution_count": null,
   "metadata": {},
   "outputs": [
    {
     "name": "stdout",
     "output_type": "stream",
     "text": [
      "6\n"
     ]
    }
   ],
   "source": [
    "#Find out the sum of all the odd indexed elements from a given list\n",
    "l=[1,2,3,4,5]\n",
    "s=0\n",
    "i=0\n",
    "while i<len(l):\n",
    "    if i%2==1:\n",
    "        s+=l[i]\n",
    "    i+=1\n",
    "print(s)"
   ]
  },
  {
   "cell_type": "code",
   "execution_count": null,
   "metadata": {},
   "outputs": [
    {
     "name": "stdout",
     "output_type": "stream",
     "text": [
      "5\n"
     ]
    }
   ],
   "source": [
    "#find out the min value from all even indexed elements from a given list\n",
    "l=[9,3,5,2,11]\n",
    "emin=l[0]\n",
    "i=0\n",
    "while i<len(l):\n",
    "    if i%2==0:\n",
    "        if l[i]<emin:\n",
    "            emin=l[i]   \n",
    "    i+=1\n",
    "print(emin)\n"
   ]
  },
  {
   "cell_type": "code",
   "execution_count": null,
   "metadata": {},
   "outputs": [
    {
     "name": "stdout",
     "output_type": "stream",
     "text": [
      "3\n"
     ]
    }
   ],
   "source": [
    "#find out the max value from all odd indexed elements from a given list\n",
    "l=[9,3,5,2,11]\n",
    "omax=l[1]\n",
    "i=0\n",
    "while i<len(l):\n",
    "    if i%2==1:\n",
    "        if l[i]>omax:\n",
    "            omax=l[i]   \n",
    "    i+=1\n",
    "print(omax)"
   ]
  },
  {
   "cell_type": "code",
   "execution_count": null,
   "metadata": {},
   "outputs": [
    {
     "name": "stdout",
     "output_type": "stream",
     "text": [
      "3.6666666666666665\n"
     ]
    }
   ],
   "source": [
    "#11)find out the avg value from all even indexed elements from a given list\n",
    "l=[1,9,4,3,6]\n",
    "i=0\n",
    "s=0\n",
    "c=0\n",
    "while i<len(l):\n",
    "    if i%2==0:\n",
    "        s+=l[i]\n",
    "        c+=1\n",
    "    i+=1\n",
    "avg=s/c\n",
    "print(avg)"
   ]
  },
  {
   "cell_type": "code",
   "execution_count": null,
   "metadata": {},
   "outputs": [
    {
     "name": "stdout",
     "output_type": "stream",
     "text": [
      "6.0\n"
     ]
    }
   ],
   "source": [
    "#12)find out the avg value from all odd indexed elements from a given list \n",
    "l=[1,9,4,3,6]\n",
    "c=0\n",
    "s=0\n",
    "i=0\n",
    "while i<len(l):\n",
    "    if i%2==1:\n",
    "        s+=l[i]\n",
    "        c+=1\n",
    "    i+=1\n",
    "avg=s/c\n",
    "print(avg)"
   ]
  },
  {
   "cell_type": "code",
   "execution_count": null,
   "metadata": {},
   "outputs": [
    {
     "name": "stdout",
     "output_type": "stream",
     "text": [
      "6.0\n"
     ]
    }
   ],
   "source": [
    "l = [1, 9, 4, 3, 6]\n",
    "c = 0  \n",
    "s = 0  \n",
    "i = 0  \n",
    "\n",
    "while i < len(l):\n",
    "    if i % 2 == 1: \n",
    "        s += l[i] \n",
    "        c += 1  \n",
    "    i += 1 \n",
    "\n",
    "avg = s / c  \n",
    "print(avg)  \n"
   ]
  },
  {
   "cell_type": "code",
   "execution_count": null,
   "metadata": {},
   "outputs": [
    {
     "name": "stdout",
     "output_type": "stream",
     "text": [
      "6\n"
     ]
    }
   ],
   "source": [
    "#13)find out the sum of all elements from a first half of a given list\n",
    "l=[1,2,3,4,5,6]\n",
    "s=0\n",
    "i=0\n",
    "while i<len(l)//2:\n",
    "    s+=l[i]\n",
    "    i+=1\n",
    "print(s)\n",
    "\n",
    "# l=[1,2,3,4,5]\n",
    "# s=0\n",
    "# i=0\n",
    "# while i<len(l)//2:\n",
    "#     s+=l[i]\n",
    "#     i+=1\n",
    "# print(s)"
   ]
  },
  {
   "cell_type": "code",
   "execution_count": null,
   "metadata": {},
   "outputs": [
    {
     "name": "stdout",
     "output_type": "stream",
     "text": [
      "12\n"
     ]
    }
   ],
   "source": [
    "#14)find out the sum of all elements from a second half of a given list\n",
    "# l=[1,2,3,4,5,6]\n",
    "# i=len(l)//2\n",
    "# s=0\n",
    "# while i<len(l):\n",
    "#     s+=l[i]\n",
    "#     i+=1\n",
    "# print(s)\n",
    "\n",
    "l=[1,2,3,4,5]\n",
    "i=len(l)//2\n",
    "s=0\n",
    "while i<len(l):\n",
    "    s+=l[i]\n",
    "    i+=1\n",
    "print(s)"
   ]
  },
  {
   "cell_type": "code",
   "execution_count": null,
   "metadata": {},
   "outputs": [
    {
     "name": "stdout",
     "output_type": "stream",
     "text": [
      "1\n"
     ]
    }
   ],
   "source": [
    "#15)find out the min value from a first half of given list\n",
    "l=[1,2,3,4,5]\n",
    "min=l[0]\n",
    "i=0\n",
    "while i<len(l)//2:\n",
    "    if l[i]<min:\n",
    "        min=l[i]\n",
    "    i+=1\n",
    "print(min)\n"
   ]
  },
  {
   "cell_type": "code",
   "execution_count": null,
   "metadata": {},
   "outputs": [
    {
     "name": "stdout",
     "output_type": "stream",
     "text": [
      "3\n"
     ]
    }
   ],
   "source": [
    "#16)find out the min value from a second half of given list\n",
    "l=[1,2,3,4,5]\n",
    "min=l[len(l)//2]\n",
    "i=len(l)//2\n",
    "while i<len(l):\n",
    "    if l[i]<min:\n",
    "        min=l[i]\n",
    "    i+=1\n",
    "print(min)"
   ]
  },
  {
   "cell_type": "code",
   "execution_count": null,
   "metadata": {},
   "outputs": [
    {
     "name": "stdout",
     "output_type": "stream",
     "text": [
      "2\n"
     ]
    }
   ],
   "source": [
    "#17)find out the max value from a first half of given list\n",
    "l=[1,2,3,4,5]\n",
    "max=l[0]\n",
    "i=0\n",
    "while i<len(l)//2:\n",
    "    if l[i]>max:\n",
    "        min=l[i]\n",
    "    i+=1\n",
    "print(min)\n"
   ]
  },
  {
   "cell_type": "code",
   "execution_count": null,
   "metadata": {},
   "outputs": [
    {
     "name": "stdout",
     "output_type": "stream",
     "text": [
      "5\n"
     ]
    }
   ],
   "source": [
    "#18)find out the max value from a second half of given list\n",
    "l=[1,2,3,4,5]\n",
    "max=l[len(l)//2]\n",
    "i=len(l)//2\n",
    "while i<len(l):\n",
    "    if l[i]>max:\n",
    "        min=l[i]\n",
    "    i+=1\n",
    "print(min)"
   ]
  },
  {
   "cell_type": "code",
   "execution_count": null,
   "metadata": {},
   "outputs": [
    {
     "name": "stdout",
     "output_type": "stream",
     "text": [
      "1.5\n"
     ]
    }
   ],
   "source": [
    "#19)find out the avg value from a first half of given list\n",
    "l=[1,2,3,4,5]\n",
    "s=0\n",
    "i=0\n",
    "while i<len(l)//2:\n",
    "    s+=l[i]\n",
    "    i+=1\n",
    "n=len(l)//2\n",
    "avg=s/n\n",
    "print(avg)"
   ]
  },
  {
   "cell_type": "code",
   "execution_count": null,
   "metadata": {},
   "outputs": [
    {
     "name": "stdout",
     "output_type": "stream",
     "text": [
      "4.0\n"
     ]
    }
   ],
   "source": [
    "#20)find out the avg value from a second half of given list\n",
    "l=[1,2,3,4,5]\n",
    "s=0\n",
    "i=len(l)//2\n",
    "while i<len(l):\n",
    "    s+=l[i]\n",
    "    i+=1\n",
    "n=len(l)-len(l)//2\n",
    "avg=s/n\n",
    "print(avg)"
   ]
  },
  {
   "cell_type": "code",
   "execution_count": null,
   "metadata": {},
   "outputs": [
    {
     "name": "stdout",
     "output_type": "stream",
     "text": [
      "4\n",
      "3\n",
      "2\n",
      "1\n"
     ]
    }
   ],
   "source": [
    "#21)read all elements from a list in the reverse order\n",
    "l=[1,2,3,4]\n",
    "# for i in l[::-1]:\n",
    "#     print(i)\n",
    "i=len(l)-1\n",
    "while  i>=0:\n",
    "    print(l[i])\n",
    "    i-=1"
   ]
  },
  {
   "cell_type": "code",
   "execution_count": null,
   "metadata": {},
   "outputs": [
    {
     "name": "stdout",
     "output_type": "stream",
     "text": [
      "3\n",
      "2\n",
      "1\n"
     ]
    }
   ],
   "source": [
    "#22)read first half of the elements in the reverse direction from a list\n",
    "l=[1,2,3,4,5,6]\n",
    "i=(len(l)//2)-1   #2-1=>1\n",
    "while i>=0:\n",
    "    print(l[i])\n",
    "    i-=1"
   ]
  },
  {
   "cell_type": "code",
   "execution_count": null,
   "metadata": {},
   "outputs": [
    {
     "name": "stdout",
     "output_type": "stream",
     "text": [
      "6\n",
      "5\n",
      "4\n"
     ]
    }
   ],
   "source": [
    "#23)read second half of the elements in the reverse direction from a list\n",
    "l=[1,2,3,4,5,6]\n",
    "start=len(l)//2\n",
    "i=len(l)-1  #2-1=>1\n",
    "while i>=start:\n",
    "    print(l[i])\n",
    "    i-=1"
   ]
  },
  {
   "cell_type": "code",
   "execution_count": null,
   "metadata": {},
   "outputs": [
    {
     "name": "stdout",
     "output_type": "stream",
     "text": [
      "1\n",
      "3\n",
      "5\n"
     ]
    }
   ],
   "source": [
    "#24)read only even indexed elements from a list\n",
    "l=[1,2,3,4,5,6]\n",
    "i=0\n",
    "while i<len(l):\n",
    "    if i%2==0:\n",
    "        print(l[i])\n",
    "    i+=1\n"
   ]
  },
  {
   "cell_type": "code",
   "execution_count": null,
   "metadata": {},
   "outputs": [
    {
     "name": "stdout",
     "output_type": "stream",
     "text": [
      "5\n",
      "3\n",
      "1\n"
     ]
    }
   ],
   "source": [
    "#25)read only even indexed elements from a list in a reverse order\n",
    "l=[1,2,3,4,5,6]\n",
    "i=len(l)-1\n",
    "while i>=0:\n",
    "    if i%2==0:\n",
    "        print(l[i])\n",
    "    i-=1\n",
    "    "
   ]
  },
  {
   "cell_type": "code",
   "execution_count": null,
   "metadata": {},
   "outputs": [
    {
     "name": "stdout",
     "output_type": "stream",
     "text": [
      "2\n",
      "4\n",
      "6\n"
     ]
    }
   ],
   "source": [
    "#26)read only odd indexed elements from a list\n",
    "l=[1,2,3,4,5,6]\n",
    "i=0\n",
    "while i<len(l):\n",
    "    if i%2==1:\n",
    "        print(l[i])\n",
    "    i+=1\n"
   ]
  },
  {
   "cell_type": "code",
   "execution_count": null,
   "metadata": {},
   "outputs": [
    {
     "name": "stdout",
     "output_type": "stream",
     "text": [
      "6\n",
      "4\n",
      "2\n"
     ]
    }
   ],
   "source": [
    "#27)read only even indexed elements from a list in a revesed order\n",
    "l=[1,2,3,4,5,6]\n",
    "i=len(l)-1\n",
    "while i>=0:\n",
    "    if i%2==1:\n",
    "        print(l[i])\n",
    "    i-=1\n"
   ]
  },
  {
   "cell_type": "code",
   "execution_count": null,
   "metadata": {},
   "outputs": [
    {
     "name": "stdout",
     "output_type": "stream",
     "text": [
      "1\n"
     ]
    }
   ],
   "source": [
    "#28)find out index of a specific element from a given list\n",
    "l=[9,21,66,8]\n",
    "e=21\n",
    "i=0\n",
    "while i<len(l):\n",
    "    if l[i]==e:\n",
    "        print(i)\n",
    "    i+=1\n"
   ]
  },
  {
   "cell_type": "code",
   "execution_count": null,
   "metadata": {},
   "outputs": [
    {
     "name": "stdout",
     "output_type": "stream",
     "text": [
      "[7, 22, 3, 4, 86]\n"
     ]
    }
   ],
   "source": [
    "#29)swap two given indexed elements from the array\n",
    "l=[7,4,3,22,86]\n",
    "i1 = 1  \n",
    "i2 = 3  \n",
    "temp = l[i1]\n",
    "l[i1] = l[i2]\n",
    "l[i2] = temp\n",
    "print(l)\n"
   ]
  },
  {
   "cell_type": "code",
   "execution_count": null,
   "metadata": {},
   "outputs": [
    {
     "name": "stdout",
     "output_type": "stream",
     "text": [
      "[86, 22, 3, 4, 7]\n"
     ]
    }
   ],
   "source": [
    "#30)reverse the elements of given list \n",
    "l=[7,4,3,22,86]\n",
    "# for i in l[::-1]:\n",
    "#     print(i)\n",
    "r=[]\n",
    "i=len(l)-1\n",
    "while i>=0:\n",
    "    # print(l[i])\n",
    "    r+=[l[i]]\n",
    "    i-=1\n",
    "print(r)\n"
   ]
  },
  {
   "cell_type": "code",
   "execution_count": 2,
   "metadata": {},
   "outputs": [
    {
     "name": "stdout",
     "output_type": "stream",
     "text": [
      "[4, 7]\n"
     ]
    }
   ],
   "source": [
    "#31)reverse the first half of the elements of given list \n",
    "l=[7,4,3,22,86]\n",
    "i=(len(l)//2)-1\n",
    "p=[]\n",
    "while i>=0:\n",
    "    # print(l[i])\n",
    "    p+=[l[i]]\n",
    "    i-=1\n",
    "print(p)\n",
    "    "
   ]
  },
  {
   "cell_type": "code",
   "execution_count": null,
   "metadata": {},
   "outputs": [
    {
     "name": "stdout",
     "output_type": "stream",
     "text": [
      "86\n",
      "22\n",
      "3\n"
     ]
    }
   ],
   "source": [
    "#32)reverse the last half of the elements of given list \n",
    "l=[7,4,3,22,86]\n",
    "i=len(l)-1\n",
    "while i>=len(l)//2:\n",
    "    print(l[i])\n",
    "    i-=1"
   ]
  },
  {
   "cell_type": "code",
   "execution_count": null,
   "metadata": {},
   "outputs": [
    {
     "name": "stdout",
     "output_type": "stream",
     "text": [
      "[86, 4, 3, 22, 7]\n"
     ]
    }
   ],
   "source": [
    "#33)reverse only even indexed of the elements of given list \n",
    "l=[7,4,3,22,86]\n",
    "e=l[::2]  #[7,3,86]\n",
    "r=e[::-1]  #[86,3,7]\n",
    "i=0\n",
    "for ele in r:\n",
    "    l[i]=ele\n",
    "    i+=2\n",
    "print(l)\n"
   ]
  },
  {
   "cell_type": "code",
   "execution_count": null,
   "metadata": {},
   "outputs": [
    {
     "name": "stdout",
     "output_type": "stream",
     "text": [
      "[7, 22, 3, 4, 86]\n"
     ]
    }
   ],
   "source": [
    "#34)reverse only odd indexed of the elements of given list \n",
    "# l=[7,4,3,22,86]\n",
    "# e=l[1::2]  #[4,22]\n",
    "# r=e[::-1]  #[22,4]\n",
    "# i=1\n",
    "# for ele in r:\n",
    "#     l[i]=ele\n",
    "#     i+=2\n",
    "# print(l)\n",
    "\n",
    "l=[7,4,3,22,86]\n",
    "e=l[1::2]  #[4,22]\n",
    "r=e[::-1]  #[22,4]\n",
    "i=1\n",
    "j=0\n",
    "while i<len(l):\n",
    "    l[i]=r[j]\n",
    "    i+=2\n",
    "    j+=1\n",
    "print(l)"
   ]
  },
  {
   "cell_type": "code",
   "execution_count": null,
   "metadata": {},
   "outputs": [
    {
     "name": "stdout",
     "output_type": "stream",
     "text": [
      "[7, 3, 4, 86, 22]\n"
     ]
    }
   ],
   "source": [
    "#35)swap odd indexed elements with its immediate next even indexed elements of given list\n",
    "l=[7,4,3,22,86]\n",
    "i=1\n",
    "while i<len(l)-1:\n",
    "    l[i],l[i+1]=l[i+1],l[i]\n",
    "    i+=2\n",
    "print(l)\n"
   ]
  },
  {
   "cell_type": "code",
   "execution_count": null,
   "metadata": {},
   "outputs": [
    {
     "name": "stdout",
     "output_type": "stream",
     "text": [
      "[4, 1, 2, 3]\n"
     ]
    }
   ],
   "source": [
    "#36)Do right shift by one for elements of given list\n",
    "l=[1,2,3,4]\n",
    "# n=len(l)\n",
    "a=l[-1]\n",
    "i=len(l)-1\n",
    "while i>=1:\n",
    "    l[i]=l[i-1]  #l[3]=l[2]==>l[3]=3\n",
    "    i-=1\n",
    "l[0]=a\n",
    "print(l)"
   ]
  },
  {
   "cell_type": "code",
   "execution_count": null,
   "metadata": {},
   "outputs": [
    {
     "name": "stdout",
     "output_type": "stream",
     "text": [
      "[5, 6, 1, 2, 3, 4]\n"
     ]
    }
   ],
   "source": [
    "#37)Do right shift by two for elements of given list\n",
    "l=[1,2,3,4,5,6]\n",
    "# n=len(l)\n",
    "a=l[-1]\n",
    "b=l[-2]\n",
    "i=len(l)-1\n",
    "while i>=2:\n",
    "    l[i]=l[i-2]  #l[5]=l[4]==>l[5]=5\n",
    "    i-=1\n",
    "l[0]=b\n",
    "l[1]=a\n",
    "print(l)"
   ]
  },
  {
   "cell_type": "code",
   "execution_count": null,
   "metadata": {},
   "outputs": [
    {
     "name": "stdout",
     "output_type": "stream",
     "text": [
      "[4, 5, 6, 1, 2, 3]\n"
     ]
    }
   ],
   "source": [
    "#38)Do right shift by three for elements of given list\n",
    "l=[1,2,3,4,5,6]\n",
    "# n=len(l)\n",
    "a=l[-1]\n",
    "b=l[-2]\n",
    "c=l[-3]\n",
    "i=len(l)-1\n",
    "while i>=3:\n",
    "    l[i]=l[i-3] \n",
    "    i-=1\n",
    "l[0]=c\n",
    "l[1]=b\n",
    "l[2]=a\n",
    "\n",
    "print(l)"
   ]
  },
  {
   "cell_type": "code",
   "execution_count": null,
   "metadata": {},
   "outputs": [
    {
     "name": "stdout",
     "output_type": "stream",
     "text": [
      "[4, 1, 2, 3]\n"
     ]
    }
   ],
   "source": [
    "#39)Do left shift by one for elements of given list\n",
    "l=[1,2,3,4]\n",
    "a=l[0]\n",
    "i=len(l)-1\n",
    "while i>0:\n",
    "    l[i]=l[i-1] \n",
    "    i-=1\n",
    "l[0]=a\n",
    "print(l)"
   ]
  },
  {
   "cell_type": "code",
   "execution_count": null,
   "metadata": {},
   "outputs": [
    {
     "name": "stdout",
     "output_type": "stream",
     "text": [
      "[3, 4, 1, 2]\n"
     ]
    }
   ],
   "source": [
    "#40)Do left shift by two for elements of given list\n",
    "l=[1,2,3,4]\n",
    "a=l[0]\n",
    "b=l[1]\n",
    "i=0\n",
    "while i<len(l)-2:\n",
    "    l[i]=l[i+2] \n",
    "    i+=1\n",
    "l[-2]=a\n",
    "l[-1]=b\n",
    "print(l)"
   ]
  },
  {
   "cell_type": "code",
   "execution_count": null,
   "metadata": {},
   "outputs": [
    {
     "name": "stdout",
     "output_type": "stream",
     "text": [
      "[4, 1, 2, 3]\n"
     ]
    }
   ],
   "source": [
    "#41)Do left shift by three for elements of given list\n",
    "l=[1,2,3,4]\n",
    "a=l[0]\n",
    "b=l[1]\n",
    "c=l[2]\n",
    "i=0\n",
    "while i<len(l)-3:\n",
    "    l[i]=l[i+3] \n",
    "    i+=1\n",
    "l[-3]=a\n",
    "l[-2]=b\n",
    "l[-1]=c\n",
    "print(l)"
   ]
  },
  {
   "cell_type": "code",
   "execution_count": null,
   "metadata": {},
   "outputs": [
    {
     "name": "stdout",
     "output_type": "stream",
     "text": [
      "[4, 1, 2, 3]\n"
     ]
    }
   ],
   "source": [
    "#42)Do right rotate by one for elements of given list\n",
    "l=[1,2,3,4]\n",
    "a=l[-1]\n",
    "i=len(l)-1\n",
    "while i>0:\n",
    "    l[i]=l[i-1]\n",
    "    i-=1\n",
    "l[0]=a\n",
    "print(l)"
   ]
  },
  {
   "cell_type": "code",
   "execution_count": null,
   "metadata": {},
   "outputs": [
    {
     "name": "stdout",
     "output_type": "stream",
     "text": [
      "[3, 4, 1, 2]\n"
     ]
    }
   ],
   "source": [
    "#43)Do right rotate by two for elements of given list\n",
    "l=[1,2,3,4]\n",
    "a=l[-1]\n",
    "b=l[-2]\n",
    "i=len(l)-1\n",
    "while i>=2:\n",
    "    l[i]=l[i-2]\n",
    "    i-=1\n",
    "l[0]=b\n",
    "l[1]=a\n",
    "print(l)"
   ]
  },
  {
   "cell_type": "code",
   "execution_count": null,
   "metadata": {},
   "outputs": [
    {
     "name": "stdout",
     "output_type": "stream",
     "text": [
      "[2, 3, 4, 1]\n"
     ]
    }
   ],
   "source": [
    "#44)Do right rotate by three for elements of given list\n",
    "l=[1,2,3,4]\n",
    "a=l[-1]\n",
    "b=l[-2]\n",
    "c=l[-3]\n",
    "i=len(l)-1\n",
    "while i>=3:\n",
    "    l[i]=l[i-3]\n",
    "    i-=1\n",
    "l[0]=c\n",
    "l[1]=b\n",
    "l[2]=a\n",
    "print(l)"
   ]
  },
  {
   "cell_type": "code",
   "execution_count": null,
   "metadata": {},
   "outputs": [
    {
     "name": "stdout",
     "output_type": "stream",
     "text": [
      "[2, 3, 4, 1]\n"
     ]
    }
   ],
   "source": [
    "#45)Do left rotate by one for elements of given list\n",
    "l=[1,2,3,4]\n",
    "a=l[0]\n",
    "i=0\n",
    "while i<len(l)-1:\n",
    "    l[i]=l[i+1]\n",
    "    i+=1\n",
    "l[-1]=a\n",
    "print(l)"
   ]
  },
  {
   "cell_type": "code",
   "execution_count": null,
   "metadata": {},
   "outputs": [
    {
     "name": "stdout",
     "output_type": "stream",
     "text": [
      "[3, 4, 1, 2]\n"
     ]
    }
   ],
   "source": [
    "#45)Do left rotate by two for elements of given list\n",
    "l=[1,2,3,4]\n",
    "a=l[0]\n",
    "b=l[1]\n",
    "i=0\n",
    "while i<len(l)-2:\n",
    "    l[i]=l[i+2]\n",
    "    i+=1\n",
    "l[-1]=b\n",
    "l[-2]=a\n",
    "print(l)"
   ]
  },
  {
   "cell_type": "code",
   "execution_count": null,
   "metadata": {},
   "outputs": [
    {
     "name": "stdout",
     "output_type": "stream",
     "text": [
      "[4, 1, 2, 3]\n"
     ]
    }
   ],
   "source": [
    "#47)Do left rotate by three for elements of given list\n",
    "l=[1,2,3,4]\n",
    "a=l[0]\n",
    "b=l[1]\n",
    "c=l[2]\n",
    "i=0\n",
    "while i<len(l)-3:\n",
    "    l[i]=l[i+3]\n",
    "    i+=1\n",
    "l[-1]=c\n",
    "l[-2]=b\n",
    "l[-3]=a\n",
    "print(l)"
   ]
  },
  {
   "cell_type": "code",
   "execution_count": null,
   "metadata": {},
   "outputs": [
    {
     "name": "stdout",
     "output_type": "stream",
     "text": [
      "[2, 3, 1, 4, 5, 6, 7]\n"
     ]
    }
   ],
   "source": [
    "#48)Rotate first half of elements by one\n",
    "l=[1,2,3,4,5,6,7]\n",
    "mid=len(l)//2\n",
    "a=l[0]\n",
    "i=0\n",
    "while i<mid:\n",
    "    l[i]=l[i+1]\n",
    "    i+=1\n",
    "l[mid-1]=a\n",
    "print(l)"
   ]
  },
  {
   "cell_type": "code",
   "execution_count": null,
   "metadata": {},
   "outputs": [
    {
     "name": "stdout",
     "output_type": "stream",
     "text": [
      "[2, 3, 1, 4, 5, 6, 7]\n"
     ]
    }
   ],
   "source": [
    "#48)Rotate first half of elements by one\n",
    "l=[1,2,3,4,5,6,7]\n",
    "mid=len(l)//2\n",
    "a=l[0]\n",
    "i=0\n",
    "while i<mid:\n",
    "    l[i]=l[i+1]\n",
    "    i+=1\n",
    "l[mid-1]=a\n",
    "print(l)"
   ]
  },
  {
   "cell_type": "code",
   "execution_count": null,
   "metadata": {},
   "outputs": [
    {
     "name": "stdout",
     "output_type": "stream",
     "text": [
      "[1, 2, 5, 3, 4]\n"
     ]
    }
   ],
   "source": [
    "#49)Rotate 2nd half of elements by one\n",
    "l = [1, 2, 3, 4, 5]\n",
    "i = len(l)-2\n",
    "a = l[-1]\n",
    "while i>=len(l)//2:\n",
    "    l[i + 1] = l[i]\n",
    "    i -= 1\n",
    "l[len(l) // 2] =a\n",
    "print(l)\n"
   ]
  },
  {
   "cell_type": "code",
   "execution_count": null,
   "metadata": {},
   "outputs": [
    {
     "name": "stdout",
     "output_type": "stream",
     "text": [
      "[1, 2, 4, 5, 3]\n"
     ]
    }
   ],
   "source": [
    "l = [1, 2, 3, 4, 5]\n",
    "i = len(l)//2\n",
    "a =len(l)//2+1\n",
    "while i<len(l)-1:\n",
    "    l[i]=l[i+1]\n",
    "    i +=1 \n",
    "l[-1]=a\n",
    "print(l)"
   ]
  },
  {
   "cell_type": "code",
   "execution_count": null,
   "metadata": {},
   "outputs": [
    {
     "name": "stdout",
     "output_type": "stream",
     "text": [
      "[1, 2, 3, 5, 6, 4]\n"
     ]
    }
   ],
   "source": [
    "l=[1,2,3,4,5,6]  #[1,2,3,5,6,4]\n",
    "mid=len(l)//2\n",
    "i=mid\n",
    "temp=l[mid]\n",
    "while i<len(l)-1:  #4<6\n",
    "    l[i]=l[i+1]\n",
    "    i+=1\n",
    "l[-1]=temp\n",
    "print(l)"
   ]
  },
  {
   "cell_type": "code",
   "execution_count": null,
   "metadata": {},
   "outputs": [
    {
     "name": "stdout",
     "output_type": "stream",
     "text": [
      "[1, 2, 3, 6, 4, 5]\n"
     ]
    }
   ],
   "source": [
    "l=[1,2,3,4,5,6] #[1,2,3,6,4,5]\n",
    "i=len(l)-2\n",
    "mid=len(l)//2\n",
    "temp=l[-1]\n",
    "while i>=mid:\n",
    "    l[i+1]=l[i]\n",
    "    i-=1\n",
    "l[mid]=temp\n",
    "print(l)\n",
    "\n"
   ]
  },
  {
   "cell_type": "code",
   "execution_count": null,
   "metadata": {},
   "outputs": [
    {
     "name": "stdout",
     "output_type": "stream",
     "text": [
      "[2, 3, 1, 4, 5, 6]\n",
      "[2, 3, 1, 5, 6, 4]\n"
     ]
    }
   ],
   "source": [
    "#Rotate first half of elements by one and 2nd half of elements by one seperatly\n",
    "l=[1,2,3,4,5,6]    \n",
    "i=0\n",
    "mid=len(l)//2\n",
    "a=l[0]\n",
    "while i<mid-1:\n",
    "    l[i]=l[i+1]\n",
    "    i+=1\n",
    "l[mid-1]=a\n",
    "print(l)\n",
    "j=mid\n",
    "b=l[j]\n",
    "while j<len(l)-1:\n",
    "    l[j]=l[j+1]\n",
    "    j+=1\n",
    "l[-1]=b\n",
    "print(l)\n"
   ]
  },
  {
   "cell_type": "code",
   "execution_count": null,
   "metadata": {},
   "outputs": [],
   "source": [
    "# mid=len(l)//2\n",
    "# a=l[0]\n",
    "# i=0\n",
    "# while i<mid:\n",
    "#     l[i]=l[i+1]\n",
    "#     i+=1\n",
    "# l[mid-1]=a\n",
    "# print(l)"
   ]
  },
  {
   "cell_type": "code",
   "execution_count": null,
   "metadata": {},
   "outputs": [
    {
     "name": "stdout",
     "output_type": "stream",
     "text": [
      "[1, 2, 4]\n"
     ]
    }
   ],
   "source": [
    "#Remove specified indexed element from the given list\n",
    "l=[1,2,3,4]\n",
    "a=0\n",
    "i=0\n",
    "while i<len(l):\n",
    "    if i==2:\n",
    "        l.remove(l[2])\n",
    "    i+=1\n",
    "print(l)"
   ]
  },
  {
   "cell_type": "code",
   "execution_count": null,
   "metadata": {},
   "outputs": [
    {
     "name": "stdout",
     "output_type": "stream",
     "text": [
      "[1, 2, 4]\n"
     ]
    }
   ],
   "source": [
    "l = [1, 2, 3, 4]\n",
    "a = 2\n",
    "i = 0\n",
    "while i < len(l):\n",
    "    if i == a:\n",
    "        j = i\n",
    "        while j < len(l) - 1:\n",
    "            l[j] = l[j + 1]\n",
    "            j += 1\n",
    "        l.pop()\n",
    "        break\n",
    "    i += 1\n",
    "\n",
    "print(l)\n"
   ]
  },
  {
   "cell_type": "code",
   "execution_count": null,
   "metadata": {},
   "outputs": [
    {
     "name": "stdout",
     "output_type": "stream",
     "text": [
      "[1, 99, 3, 4]\n"
     ]
    }
   ],
   "source": [
    "#52)Update specified indexed element with a new element from the given list\n",
    "l=[1,2,3,4]\n",
    "a=1\n",
    "i=0\n",
    "while i<len(l):\n",
    "    if i==a:\n",
    "        l[i]=99\n",
    "    i+=1\n",
    "print(l)"
   ]
  },
  {
   "cell_type": "code",
   "execution_count": null,
   "metadata": {},
   "outputs": [
    {
     "name": "stdout",
     "output_type": "stream",
     "text": [
      "[1, 2, 99, 4, 5]\n"
     ]
    }
   ],
   "source": [
    "#52)Update specified indexed element with a new element from the given list\n",
    "# by using break after uodation\n",
    "l=[1,2,3,4,5]\n",
    "i=0\n",
    "a=2\n",
    "while i<len(l):\n",
    "    if i==a:\n",
    "        j=i\n",
    "        while j<len(l)-1:\n",
    "            l[j]=99\n",
    "            break\n",
    "            j+=1\n",
    "    i+=1\n",
    "print(l)\n",
    "    "
   ]
  },
  {
   "cell_type": "code",
   "execution_count": null,
   "metadata": {},
   "outputs": [
    {
     "name": "stdout",
     "output_type": "stream",
     "text": [
      "[1, 2, 99, 4, 5]\n"
     ]
    }
   ],
   "source": [
    "#updating by using count and while loop without using break\n",
    "l=[1,2,3,4,5]\n",
    "i=0\n",
    "a=2\n",
    "c=0\n",
    "while i<len(l):\n",
    "    if i==a and c<1:\n",
    "        l[i]=99\n",
    "        c+=1\n",
    "    i+=1\n",
    "print(l)\n",
    "    "
   ]
  },
  {
   "cell_type": "code",
   "execution_count": null,
   "metadata": {},
   "outputs": [
    {
     "name": "stdout",
     "output_type": "stream",
     "text": [
      "[3, 4, 3, 1]\n"
     ]
    }
   ],
   "source": [
    "#53)Remove all occurences of specified element from the given list\n",
    "l=[1,3,4,1,3,1,1]\n",
    "a=1\n",
    "c=0\n",
    "for i in l:\n",
    "    if i==a:\n",
    "        c+=1\n",
    "        if c>=1:\n",
    "            l.remove(i)\n",
    "print(l)\n",
    "\n"
   ]
  },
  {
   "cell_type": "code",
   "execution_count": null,
   "metadata": {},
   "outputs": [
    {
     "name": "stdout",
     "output_type": "stream",
     "text": [
      "[3, 4, 3]\n"
     ]
    }
   ],
   "source": [
    "#53)Remove all occurences of specified element from the given list\n",
    "l=[1,3,4,1,3,1,1]\n",
    "a=1\n",
    "while a in l:\n",
    "    l.remove(a)\n",
    "print(l)"
   ]
  },
  {
   "cell_type": "code",
   "execution_count": null,
   "metadata": {},
   "outputs": [
    {
     "name": "stdout",
     "output_type": "stream",
     "text": [
      "3\n",
      "4\n",
      "3\n"
     ]
    }
   ],
   "source": [
    "l=[1,1,1,1,3,4,3]\n",
    "a=1\n",
    "for i in l:\n",
    "    if i!=a:\n",
    "        print(i)\n"
   ]
  },
  {
   "cell_type": "code",
   "execution_count": null,
   "metadata": {},
   "outputs": [
    {
     "name": "stdout",
     "output_type": "stream",
     "text": [
      "[4, 2, 32]\n"
     ]
    }
   ],
   "source": [
    "#54)Remove all odd indexed elements from the given list\n",
    "l=[4,7,2,91,32]\n",
    "# using while loop\n",
    "l1=[]\n",
    "i=0\n",
    "while i<len(l):\n",
    "    if i%2==0:\n",
    "        l1+=[l[i]]\n",
    "    i+=1\n",
    "print(l1)\n",
    "\n",
    "#using slicing\n",
    "# l1 = l[::2] \n",
    "# print(l1)\n",
    "\n",
    "# using for loop without range \n",
    "# c=0\n",
    "# for i in l:\n",
    "#     if c%2==0:\n",
    "#         l1+=[i]\n",
    "#     c+=1\n",
    "# print(l1)\n",
    "\n",
    "#using for loop with range futn\n",
    "# for i in range(len(l)):\n",
    "#     if i%2==0:\n",
    "#         l1+=[l[i]]\n",
    "# print(l1)\n",
    "\n",
    "\n",
    "    \n"
   ]
  },
  {
   "cell_type": "code",
   "execution_count": null,
   "metadata": {},
   "outputs": [
    {
     "name": "stdout",
     "output_type": "stream",
     "text": [
      "[7, 91]\n"
     ]
    }
   ],
   "source": [
    "#55)Remove all even indexed elements from given list\n",
    "#using while loop\n",
    "# l=[4,7,2,91,32]\n",
    "# i=0\n",
    "# l1=[]\n",
    "# while i<len(l):\n",
    "#     if i%2==1:\n",
    "#         l1+=[l[i]]\n",
    "#     i+=1\n",
    "# print(l1)\n",
    "\n",
    "#using for loop with range\n",
    "# l=[4,7,2,91,32]\n",
    "# l1=[]\n",
    "# for i in range(len(l)):\n",
    "#     if i%2==1:\n",
    "#         l1+=[l[i]]\n",
    "# print(l1)\n",
    "\n",
    "\n",
    "l=[4,7,2,91,32]\n",
    "# i=0\n",
    "# while i<len(l):\n",
    "#     if i%2==0:\n",
    "#         l.pop(i)\n",
    "#     i+=1\n",
    "# print(l)\n",
    "i=len(l)-1\n",
    "while i>=0:\n",
    "    if i%2==0:\n",
    "        l.pop(i)\n",
    "    i-=1\n",
    "print(l)"
   ]
  },
  {
   "cell_type": "code",
   "execution_count": null,
   "metadata": {},
   "outputs": [
    {
     "name": "stdout",
     "output_type": "stream",
     "text": [
      "[7, 2, 91, 32]\n"
     ]
    }
   ],
   "source": [
    "l=[4,7,2,91,32]\n",
    "i=0\n",
    "l.pop(i)\n",
    "print(l)"
   ]
  },
  {
   "cell_type": "code",
   "execution_count": null,
   "metadata": {},
   "outputs": [
    {
     "name": "stdout",
     "output_type": "stream",
     "text": [
      "[1, 2, 3]\n"
     ]
    }
   ],
   "source": [
    "#56)Remove all duplicates from the given list\n",
    "#by usnig not in and 1 for loop\n",
    "# l=[1,2,3,2,2,1,1]\n",
    "# d=[]\n",
    "# c=0\n",
    "# for i in l:\n",
    "#     if i not in d:\n",
    "#         d+=[i]\n",
    "# print(d)\n",
    "\n",
    "#by using set conversion\n",
    "# a=list(set(l))\n",
    "# print(a)\n",
    "\n",
    "#by using 1 for loop and set() and not in operator\n",
    "# a=set()\n",
    "# unq=[]\n",
    "# for i in l:\n",
    "#     if i not in a:\n",
    "#         unq+=[i]\n",
    "#         a|={i}\n",
    "# print(unq)\n",
    "\n",
    "#by using dict,for loop\n",
    "# d={}\n",
    "# for i in l:\n",
    "#     if i in d:\n",
    "#         d[i]+=1\n",
    "#     else:\n",
    "#         d[i]=1\n",
    "# print(d)\n",
    "# unq=[]\n",
    "# for i in l:\n",
    "#     if d[i]>0:\n",
    "#         unq+=[i]\n",
    "#         d[i]=0\n",
    "# print(unq)\n",
    "\n",
    "# by using 2 while loops\n",
    "# i=0\n",
    "# while i<len(l):\n",
    "#     j=i+1\n",
    "#     while j<len(l):\n",
    "#         if l[i]==l[j]:\n",
    "#             l.pop(j)\n",
    "#         else:\n",
    "#             j+=1\n",
    "#     i+=1\n",
    "# print(l)\n",
    "\n",
    "#by using while loop\n",
    "r=l\n",
    "i=0\n",
    "while i<len(r):\n",
    "    j=i+1\n",
    "    while j<len(r):\n",
    "        if r[i]==r[j]:\n",
    "            r.pop(j)\n",
    "            # i-=1\n",
    "            # break\n",
    "        j+=1\n",
    "    i+=1\n",
    "final=[]\n",
    "for i in r:\n",
    "    if r.count(i)==1:\n",
    "        final+=[i]\n",
    "print(final)"
   ]
  },
  {
   "cell_type": "code",
   "execution_count": null,
   "metadata": {},
   "outputs": [
    {
     "name": "stdout",
     "output_type": "stream",
     "text": [
      "[1, 2, 3]\n"
     ]
    }
   ],
   "source": [
    "l=[1,2,3,1,2,3]\n",
    "i=0\n",
    "r=l\n",
    "while i<len(l):\n",
    "    j=0\n",
    "    while j<len(l):\n",
    "        if i!=j and r[i]==r[j]:\n",
    "            r.pop(j)  #1\n",
    "            # i-=1\n",
    "            # break\n",
    "\n",
    "        j+=1\n",
    "    i+=1\n",
    "f=[]\n",
    "for i in r:\n",
    "    if r.count(i)==1:\n",
    "        f+=[i]\n",
    "print(f)\n"
   ]
  },
  {
   "cell_type": "code",
   "execution_count": null,
   "metadata": {},
   "outputs": [
    {
     "name": "stdout",
     "output_type": "stream",
     "text": [
      "1\n"
     ]
    }
   ],
   "source": [
    "l=[1,2,3,1,2,3]\n",
    "a=l.pop(3)\n",
    "print(a)"
   ]
  },
  {
   "cell_type": "code",
   "execution_count": null,
   "metadata": {},
   "outputs": [
    {
     "name": "stdout",
     "output_type": "stream",
     "text": [
      "4\n"
     ]
    }
   ],
   "source": [
    "#python Program to Find the Largest Number in a List\n",
    "l=[1,2,3,4]\n",
    "max=l[0]\n",
    "for i in l:\n",
    "    if i>max:\n",
    "        max=i\n",
    "print(max)"
   ]
  },
  {
   "cell_type": "code",
   "execution_count": null,
   "metadata": {},
   "outputs": [
    {
     "name": "stdout",
     "output_type": "stream",
     "text": [
      "0 spy no\n",
      "1 spy no\n",
      "2 spy no\n",
      "3 not spy no\n",
      "4 not spy no\n"
     ]
    }
   ],
   "source": [
    "l=[1,3,9,123,33]\n",
    "i=0\n",
    "while i<len(l):\n",
    "    s=0\n",
    "    p=1\n",
    "    num=l[i]\n",
    "    while num>0:\n",
    "        d=num%10\n",
    "        s+=d\n",
    "        p*=d\n",
    "        num//=10\n",
    "    if s==d:\n",
    "        print(i,\"spy no\")\n",
    "    else:\n",
    "        print(i,\"not spy no\")    \n",
    "    i+=1\n"
   ]
  },
  {
   "cell_type": "code",
   "execution_count": null,
   "metadata": {},
   "outputs": [
    {
     "name": "stdout",
     "output_type": "stream",
     "text": [
      "[1, 123, 665]\n",
      "1 spy\n",
      "123 spy\n",
      "665 not spy\n"
     ]
    }
   ],
   "source": [
    "# l=[1,2,123,99,543]\n",
    "size=int(input())\n",
    "l=[]\n",
    "i=0\n",
    "while i<size:\n",
    "    e=int(input())\n",
    "    l+=[e]\n",
    "    i+=1\n",
    "print(l)\n",
    "i=0\n",
    "while i<len(l):\n",
    "    num=l[i]\n",
    "    s=0\n",
    "    p=1\n",
    "    while num>0:\n",
    "        d=num%10\n",
    "        s+=d\n",
    "        p*=d\n",
    "        num//=10\n",
    "    if s==p:\n",
    "        print(l[i],\"spy\")\n",
    "    else:\n",
    "        print(l[i],\"not spy\")\n",
    "    i+=1"
   ]
  },
  {
   "cell_type": "code",
   "execution_count": null,
   "metadata": {},
   "outputs": [
    {
     "name": "stdout",
     "output_type": "stream",
     "text": [
      "1\n",
      "2\n",
      "3\n",
      "4\n",
      "[1, 2, 3, 4]\n"
     ]
    }
   ],
   "source": [
    "#check each element is spy or not\n",
    "# s=int(input())\n",
    "l=[1,2,3,4]\n",
    "i=0\n",
    "# while i<s:\n",
    "#     a=int(input())\n",
    "#     l+=[a]\n",
    "#     i+=1\n",
    "# # print(l)\n",
    "j=0\n",
    "r=[]\n",
    "while j<len(l):\n",
    "    r+=[l[j]]\n",
    "    print(l[j])\n",
    "    j+=1\n",
    "    \n",
    "print(r)"
   ]
  },
  {
   "cell_type": "code",
   "execution_count": 21,
   "metadata": {},
   "outputs": [
    {
     "name": "stdout",
     "output_type": "stream",
     "text": [
      "2\n",
      "4\n"
     ]
    }
   ],
   "source": [
    "e=[1, 2, 3, 4]\n",
    "i=0\n",
    "while i<len(e):\n",
    "    if i%2==1 and l[i]%2==0:\n",
    "        print(l[i])\n",
    "    i+=1"
   ]
  },
  {
   "cell_type": "code",
   "execution_count": 25,
   "metadata": {},
   "outputs": [
    {
     "name": "stdout",
     "output_type": "stream",
     "text": [
      "7\n"
     ]
    }
   ],
   "source": [
    "e=[1, 2, 3, 4]\n",
    "i=0\n",
    "s=0\n",
    "while i<len(e):\n",
    "    j=1\n",
    "    c=0\n",
    "    while j<i+1:\n",
    "        if i%j==0:\n",
    "            c+=1\n",
    "        j+=1\n",
    "    if c==2:\n",
    "        s+=j\n",
    "    i+=1\n",
    "print(s)\n",
    "\n"
   ]
  },
  {
   "cell_type": "code",
   "execution_count": 27,
   "metadata": {},
   "outputs": [
    {
     "name": "stdout",
     "output_type": "stream",
     "text": [
      "12\n"
     ]
    }
   ],
   "source": [
    "e=[1, 2, 3, 4,5]\n",
    "i=len(l)//2\n",
    "s=0\n",
    "# while i<len(l): \n",
    "#     s+=l[i]\n",
    "#     i+=1\n",
    "# print(s)\n",
    "\n"
   ]
  },
  {
   "cell_type": "code",
   "execution_count": 29,
   "metadata": {},
   "outputs": [
    {
     "name": "stdout",
     "output_type": "stream",
     "text": [
      "4\n"
     ]
    }
   ],
   "source": [
    "e=[1, 2, 3, 4]\n",
    "max=e[0]\n",
    "for i in e:\n",
    "    if i>max:\n",
    "        max =i\n",
    "print(max)"
   ]
  },
  {
   "cell_type": "code",
   "execution_count": 30,
   "metadata": {},
   "outputs": [
    {
     "name": "stdout",
     "output_type": "stream",
     "text": [
      "3\n"
     ]
    }
   ],
   "source": [
    "l=[1, 2, 3, 4]\n",
    "max=l[0]\n",
    "min=l[0]\n",
    "i=0\n",
    "while i<len(l):\n",
    "    if l[i]>max:\n",
    "        max=l[i]\n",
    "    elif l[i]<min:\n",
    "        min=l[i]\n",
    "    i+=1\n",
    "print(max-min)"
   ]
  },
  {
   "cell_type": "code",
   "execution_count": 2,
   "metadata": {},
   "outputs": [
    {
     "name": "stdout",
     "output_type": "stream",
     "text": [
      "2\n",
      "3\n",
      "-1\n"
     ]
    }
   ],
   "source": [
    "l=[1, 2, 3, 4]\n",
    "i=0\n",
    "mid=len(l)//2\n",
    "max=l[0]\n",
    "min=l[mid]\n",
    "j=len(l)//2\n",
    "while i<mid:\n",
    "    if l[i]>max:\n",
    "        max=l[i]\n",
    "    i+=1\n",
    "j=mid\n",
    "while j<len(l):\n",
    "    if l[j]<min:\n",
    "        min=l[j]\n",
    "    j+=1\n",
    "print(max)\n",
    "print(min)\n",
    "print(max-min)\n",
    "\n"
   ]
  },
  {
   "cell_type": "code",
   "execution_count": 10,
   "metadata": {},
   "outputs": [
    {
     "name": "stdout",
     "output_type": "stream",
     "text": [
      "2\n",
      "3\n",
      "-1\n"
     ]
    }
   ],
   "source": [
    "l=[1,2,8,3,4]\n",
    "i=0\n",
    "max=l[0]\n",
    "mid=len(l)//2\n",
    "min=l[mid]\n",
    "while i<mid:\n",
    "    if l[i]>max:\n",
    "        max=l[i]\n",
    "    i+=1 \n",
    "while mid<len(l):\n",
    "    if l[mid]<min:\n",
    "        min=l[mid]\n",
    "    mid+=1\n",
    "print(max)\n",
    "print(min)\n",
    "print(max-min)"
   ]
  },
  {
   "cell_type": "code",
   "execution_count": 15,
   "metadata": {},
   "outputs": [
    {
     "name": "stdout",
     "output_type": "stream",
     "text": [
      "[8, 7, 6, 10, 3, 9, 12, 8, 11, 25]\n"
     ]
    }
   ],
   "source": [
    "l=[8,7,6,10,3,9,12,8,11,25]\n",
    "max=l[0]\n",
    "for i in l:\n",
    "    if i>max:\n",
    "        max=i\n",
    "    i=max\n",
    "print(l)\n"
   ]
  },
  {
   "cell_type": "code",
   "execution_count": 16,
   "metadata": {},
   "outputs": [
    {
     "name": "stdout",
     "output_type": "stream",
     "text": [
      "[8, 8, 8, 10, 10, 10, 12, 12, 12, 25]\n"
     ]
    }
   ],
   "source": [
    "l=[8,7,6,10,3,9,12,8,11,25]\n",
    "i=0\n",
    "max=l[0]\n",
    "while i<len(l):\n",
    "    if l[i]>max:\n",
    "        max=l[i]\n",
    "    l[i]=max\n",
    "    i+=1\n",
    "print(l)"
   ]
  },
  {
   "cell_type": "code",
   "execution_count": 18,
   "metadata": {},
   "outputs": [
    {
     "name": "stdout",
     "output_type": "stream",
     "text": [
      "4\n",
      "[4, 4, 4, 4]\n"
     ]
    }
   ],
   "source": [
    "l=[1,2,3,4]\n",
    "max=l[0]\n",
    "i=0\n",
    "while i<len(l):\n",
    "    if l[i]>max:\n",
    "        max=l[i]\n",
    "    i+=1\n",
    "print(max)\n",
    "j=0\n",
    "while j<len(l):\n",
    "    l[j]=max\n",
    "    j+=1\n",
    "print(l)"
   ]
  },
  {
   "cell_type": "code",
   "execution_count": 26,
   "metadata": {},
   "outputs": [
    {
     "name": "stdout",
     "output_type": "stream",
     "text": [
      "[8, 2, 99, 2, 10, 1, 5, 3, 6]\n"
     ]
    }
   ],
   "source": [
    "a=[1,5,3,6]\n",
    "b=[8,2,99,2,10]\n",
    "# for i in b:\n",
    "#     a+=[i]\n",
    "# print(a)\n",
    "# a[len(a):]=b\n",
    "# print(a)\n",
    "# b[len(b):]=a\n",
    "# print(b)\n",
    "r=[]\n",
    "for i in b:\n",
    "    r.append(i)\n",
    "for i in a:\n",
    "    r.append(i)\n",
    "print(r)"
   ]
  },
  {
   "cell_type": "code",
   "execution_count": 28,
   "metadata": {},
   "outputs": [
    {
     "name": "stdout",
     "output_type": "stream",
     "text": [
      "[1, 3, 5]\n"
     ]
    }
   ],
   "source": [
    "#WAP to find list difference\n",
    "a=[1,5,3,2,10]\n",
    "b=[8,2,99,2,10]\n",
    "r=list(set(a)-set(b))\n",
    "print(r)"
   ]
  },
  {
   "cell_type": "code",
   "execution_count": 31,
   "metadata": {},
   "outputs": [
    {
     "name": "stdout",
     "output_type": "stream",
     "text": [
      "[6, 14, 24, 36, 50]\n"
     ]
    }
   ],
   "source": [
    "# Define the lists\n",
    "a = [1, 2, 3, 4, 5]\n",
    "b = [6, 7, 8, 9, 10]\n",
    "r=[]\n",
    "# i=0\n",
    "# while i<len(a):\n",
    "#     r+=[a[i]*b[i]]\n",
    "#     i+=1\n",
    "# print(r)\n",
    "for i in range(len(a)):\n",
    "    r+=[a[i]*b[i]]\n",
    "print(r)\n"
   ]
  },
  {
   "cell_type": "code",
   "execution_count": 35,
   "metadata": {},
   "outputs": [
    {
     "name": "stdout",
     "output_type": "stream",
     "text": [
      "6\n"
     ]
    }
   ],
   "source": [
    "a = [1, 2, 3, 4, 5,6]\n",
    "i=0\n",
    "max=l[0]\n",
    "while i<len(a):\n",
    "    if a[i]>max:\n",
    "        max=a[i]\n",
    "    i+=1\n",
    "print(max)\n"
   ]
  },
  {
   "cell_type": "code",
   "execution_count": 37,
   "metadata": {},
   "outputs": [
    {
     "name": "stdout",
     "output_type": "stream",
     "text": [
      "6\n",
      "1\n"
     ]
    }
   ],
   "source": [
    "a = [1, 2, 3, 4, 5,6]\n",
    "i=0\n",
    "larg=l[0]\n",
    "sma=l[0]\n",
    "while i<len(a):\n",
    "    if a[i]>larg:\n",
    "        larg=a[i]\n",
    "    elif a[i]<sma:\n",
    "        sma=a[i]\n",
    "    i+=1\n",
    "print(larg)\n",
    "print(sma)"
   ]
  },
  {
   "cell_type": "code",
   "execution_count": 1,
   "metadata": {},
   "outputs": [
    {
     "name": "stdout",
     "output_type": "stream",
     "text": [
      "3\n"
     ]
    }
   ],
   "source": [
    "#WAP for below requirement\n",
    "#create a funcrion with 2 integer arguments\n",
    "# #function will print sum of the 2 values\n",
    "def hello(a,b):\n",
    "    print(a+b)\n",
    "hello(1,2)\n",
    "# hello()"
   ]
  },
  {
   "cell_type": "code",
   "execution_count": 3,
   "metadata": {},
   "outputs": [
    {
     "name": "stdout",
     "output_type": "stream",
     "text": [
      "5 is greater\n",
      "7 is greater\n"
     ]
    }
   ],
   "source": [
    "#wAP for below requirement\n",
    "#create  a function with 2 arguments\n",
    "#function will print greatest among 2 values\n",
    "def greatest(a,b):\n",
    "    if a>b:\n",
    "        print(a,\"is greater\")\n",
    "    else:\n",
    "        print(b,\"is greater\")\n",
    "greatest(1,5)\n",
    "greatest(7,5)"
   ]
  },
  {
   "cell_type": "code",
   "execution_count": 8,
   "metadata": {},
   "outputs": [
    {
     "name": "stdout",
     "output_type": "stream",
     "text": [
      "9\n",
      "8\n",
      "7\n",
      "6\n",
      "5\n",
      "4\n",
      "3\n"
     ]
    }
   ],
   "source": [
    "#WAP for below requirement\n",
    "#create a funtn with 2 positive arguments\n",
    "#function will print the series of numbers from n1 to n2 call the funt by passing the argument\n",
    "def abc(n1,n2):\n",
    "    # while n1<=n2:\n",
    "    #     print(n1)\n",
    "    #     n1+=1\n",
    "    while n1>=n2:\n",
    "        print(n1)\n",
    "        n1-=1\n",
    "abc(5,8)\n",
    "abc(9,3)"
   ]
  },
  {
   "cell_type": "code",
   "execution_count": 7,
   "metadata": {},
   "outputs": [
    {
     "name": "stdout",
     "output_type": "stream",
     "text": [
      "6\n"
     ]
    }
   ],
   "source": [
    "l=[1,2,3]\n",
    "i=0\n",
    "max=l[0]\n",
    "while i<len(l):\n",
    "    j=i\n",
    "    s=0\n",
    "    p=[]\n",
    "    while j<len(l):\n",
    "        s+=l[j]\n",
    "        if s>max:\n",
    "            max=s\n",
    "            \n",
    "        j+=1\n",
    "    i+=1\n",
    "print(max)"
   ]
  },
  {
   "cell_type": "code",
   "execution_count": 1,
   "metadata": {},
   "outputs": [
    {
     "name": "stdout",
     "output_type": "stream",
     "text": [
      "[6, 4, 3, 3]\n"
     ]
    }
   ],
   "source": [
    "l=[\"python\",\"java\",\"web\",\"sql\"]\n",
    "p=[]\n",
    "for i in l:\n",
    "    p+=[len(i)]\n",
    "print(p)"
   ]
  },
  {
   "cell_type": "code",
   "execution_count": 7,
   "metadata": {},
   "outputs": [
    {
     "name": "stdout",
     "output_type": "stream",
     "text": [
      "[['python', 6], ['java', 4], ['web', 3], ['sql', 3]]\n"
     ]
    }
   ],
   "source": [
    "l=[\"python\",\"java\",\"web\",\"sql\"]\n",
    "p=[]\n",
    "for i in l:\n",
    "    p+=[[i,len(i)]]\n",
    "print(p)\n"
   ]
  },
  {
   "cell_type": "code",
   "execution_count": 8,
   "metadata": {},
   "outputs": [
    {
     "name": "stdout",
     "output_type": "stream",
     "text": [
      "['nohtyp', 'java', 'bew', 'sql']\n"
     ]
    }
   ],
   "source": [
    "l=[\"python\",\"java\",\"web\",\"sql\"]\n",
    "p=[]\n",
    "i=0\n",
    "while i<len(l):\n",
    "    if i%2==0:\n",
    "        p+=[l[i][::-1]]\n",
    "    else:\n",
    "        p+=[l[i]]\n",
    "    i+=1\n",
    "print(p)"
   ]
  },
  {
   "cell_type": "code",
   "execution_count": 9,
   "metadata": {},
   "outputs": [
    {
     "name": "stdout",
     "output_type": "stream",
     "text": [
      "['com', 'in', 'in']\n"
     ]
    }
   ],
   "source": [
    "l=[\"www.google.com\",\"www.fb.in\",\"www.insta.com.in\"]\n",
    "p=[]\n",
    "for i in l:\n",
    "    c=0\n",
    "    r=\"\"\n",
    "    for j in i[::-1]:\n",
    "        if j!=\".\":\n",
    "            r=j+r\n",
    "        else:\n",
    "            break\n",
    "    p+=[r]\n",
    "print(p)\n",
    "    \n",
    "# o/p:[\"com\",\"in\",\"in\"]"
   ]
  },
  {
   "cell_type": "code",
   "execution_count": 10,
   "metadata": {},
   "outputs": [
    {
     "name": "stdout",
     "output_type": "stream",
     "text": [
      "[8]\n",
      "[8, 9]\n",
      "[8, 9, 10]\n",
      "[8, 9, 10, 21]\n",
      "[9]\n",
      "[9, 10]\n",
      "[9, 10, 21]\n",
      "[10]\n",
      "[10, 21]\n",
      "[21]\n"
     ]
    }
   ],
   "source": [
    "l=[8,9,10,21]\n",
    "i=0\n",
    "while i<len(l):\n",
    "    sub=[]\n",
    "    j=i\n",
    "    while j<len(l):\n",
    "        sub+=[l[j]]\n",
    "        print(sub)\n",
    "        j+=1\n",
    "    i+=1\n",
    "# print(sub)  "
   ]
  },
  {
   "cell_type": "code",
   "execution_count": 11,
   "metadata": {},
   "outputs": [
    {
     "name": "stdout",
     "output_type": "stream",
     "text": [
      "[1]\n",
      "[1, 2]\n",
      "[1, 2, 3]\n",
      "[1, 2, 3, 4]\n",
      "[2]\n",
      "[2, 3]\n",
      "[2, 3, 4]\n",
      "[3]\n",
      "[3, 4]\n",
      "[4]\n",
      "10\n"
     ]
    }
   ],
   "source": [
    "l=[1,2,3,4]\n",
    "i=0\n",
    "c=0\n",
    "while i<len(l):\n",
    "    j=i\n",
    "    sub=[]\n",
    "    while j<len(l):\n",
    "        sub+=[l[j]]\n",
    "        print(sub)\n",
    "        c+=1\n",
    "        j+=1\n",
    "    i+=1\n",
    "print(c)"
   ]
  },
  {
   "cell_type": "code",
   "execution_count": 14,
   "metadata": {},
   "outputs": [
    {
     "name": "stdout",
     "output_type": "stream",
     "text": [
      "1\n",
      "3\n",
      "6\n",
      "2\n",
      "5\n",
      "3\n"
     ]
    }
   ],
   "source": [
    "l=[1,2,3]\n",
    "i=0\n",
    "while i<len(l):\n",
    "    j=i\n",
    "    s=0\n",
    "    while j<len(l):\n",
    "        s+=l[j]\n",
    "        print(s)\n",
    "        j+=1\n",
    "    i+=1\n",
    "# print"
   ]
  },
  {
   "cell_type": "code",
   "execution_count": 12,
   "metadata": {},
   "outputs": [
    {
     "name": "stdout",
     "output_type": "stream",
     "text": [
      "1\n",
      "3\n",
      "6\n",
      "2\n",
      "5\n",
      "3\n"
     ]
    }
   ],
   "source": [
    "#WAP to print sum of the SubArray\n",
    "# l=[1,2,3,4]\n",
    "# a=0\n",
    "# for i in l:\n",
    "#     s=0\n",
    "#     l1=l[a:]\n",
    "#     for a in l1:\n",
    "#         s+=a\n",
    "#         print(s)\n",
    "#     i+=1\n",
    "l=[1,2,3]\n",
    "for i in range(len(l)):\n",
    "    s=0\n",
    "    for j in range(i,len(l)):\n",
    "        s+=l[j]\n",
    "        print(s)"
   ]
  },
  {
   "cell_type": "code",
   "execution_count": 15,
   "metadata": {},
   "outputs": [
    {
     "name": "stdout",
     "output_type": "stream",
     "text": [
      "8\n",
      "17\n",
      "27\n",
      "48\n",
      "9\n",
      "19\n",
      "40\n",
      "10\n",
      "31\n",
      "21\n"
     ]
    }
   ],
   "source": [
    "l=[8,9,10,21]\n",
    "i=0\n",
    "while i<len(l):\n",
    "    j=i\n",
    "    s=0\n",
    "    while j<len(l):\n",
    "        s+=l[j]\n",
    "        print(s)\n",
    "        j+=1\n",
    "    i+=1"
   ]
  },
  {
   "cell_type": "code",
   "execution_count": 16,
   "metadata": {},
   "outputs": [
    {
     "name": "stdout",
     "output_type": "stream",
     "text": [
      "6\n"
     ]
    }
   ],
   "source": [
    "l=[1,2,3]\n",
    "i=0\n",
    "max=l[0]\n",
    "while i<len(l):\n",
    "    j=i\n",
    "    s=0\n",
    "    while j<len(l):\n",
    "        s+=l[j]\n",
    "        if s>max:\n",
    "            max=s\n",
    "        j+=1\n",
    "    i+=1\n",
    "print(max)"
   ]
  },
  {
   "cell_type": "code",
   "execution_count": 2,
   "metadata": {},
   "outputs": [
    {
     "name": "stdout",
     "output_type": "stream",
     "text": [
      "[1, 2, 1, 0]\n"
     ]
    }
   ],
   "source": [
    "l=[\"python\",\"java\",\"web\",\"sql\"]\n",
    "p=[]\n",
    "for i in l:\n",
    "    c=0\n",
    "    for j in i:\n",
    "        if j in \"aeiouAEIOU\":\n",
    "            c+=1\n",
    "    p+=[c]\n",
    "print(p)\n",
    "# o/p:[1,2,1,0]\n"
   ]
  },
  {
   "cell_type": "code",
   "execution_count": 4,
   "metadata": {},
   "outputs": [
    {
     "name": "stdout",
     "output_type": "stream",
     "text": [
      "[1, 2, 3, 6, 4, 5]\n"
     ]
    }
   ],
   "source": [
    "l=[1,2,3,4,5,6] #[1,2,3,6,4,5]\n",
    "i=len(l)-2\n",
    "mid=len(l)//2\n",
    "temp=l[-1]\n",
    "while i>=mid:\n",
    "    l[i+1]=l[i]\n",
    "    i-=1\n",
    "l[mid]=temp\n",
    "print(l)"
   ]
  },
  {
   "cell_type": "code",
   "execution_count": 5,
   "metadata": {},
   "outputs": [
    {
     "name": "stdout",
     "output_type": "stream",
     "text": [
      "{1: 3, 2: 2, 3: 2}\n"
     ]
    }
   ],
   "source": [
    "l=[1,2,1,1,2,3,3]\n",
    "d={}\n",
    "for i in l:\n",
    "    if i not in d:\n",
    "        d[i]=1\n",
    "    else:\n",
    "        d[i]+=1\n",
    "print(d)"
   ]
  },
  {
   "cell_type": "code",
   "execution_count": 6,
   "metadata": {},
   "outputs": [
    {
     "name": "stdout",
     "output_type": "stream",
     "text": [
      "{1: 1, 2: 4, 3: 9, 4: 16}\n"
     ]
    }
   ],
   "source": [
    "l=[1,2,3,4]\n",
    "d={}\n",
    "for i in l:\n",
    "    d[i]=i**2\n",
    "    # d|=d[i]\n",
    "print(d)\n"
   ]
  },
  {
   "cell_type": "code",
   "execution_count": 13,
   "metadata": {},
   "outputs": [
    {
     "name": "stdout",
     "output_type": "stream",
     "text": [
      "48\n"
     ]
    }
   ],
   "source": [
    "#WAP to find maximum sum of the subarray(among all subarray whose sum is maximum print that maximum value)\n",
    "l=[8,9,10,21]\n",
    "i=0\n",
    "max=l[0]\n",
    "while i<len(l):\n",
    "    j=i\n",
    "    s=0\n",
    "    while j<len(l):\n",
    "        s+=l[j]\n",
    "        if s>max:\n",
    "            max=s\n",
    "        j+=1\n",
    "    i+=1\n",
    "print(max)"
   ]
  },
  {
   "cell_type": "code",
   "execution_count": null,
   "metadata": {},
   "outputs": [],
   "source": []
  }
 ],
 "metadata": {
  "kernelspec": {
   "display_name": "Python 3",
   "language": "python",
   "name": "python3"
  },
  "language_info": {
   "codemirror_mode": {
    "name": "ipython",
    "version": 3
   },
   "file_extension": ".py",
   "mimetype": "text/x-python",
   "name": "python",
   "nbconvert_exporter": "python",
   "pygments_lexer": "ipython3",
   "version": "3.12.4"
  }
 },
 "nbformat": 4,
 "nbformat_minor": 2
}
