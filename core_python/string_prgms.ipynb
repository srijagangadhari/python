{
 "cells": [
  {
   "cell_type": "code",
   "execution_count": 1,
   "metadata": {},
   "outputs": [
    {
     "name": "stdout",
     "output_type": "stream",
     "text": [
      "P\n",
      "T\n",
      "N\n"
     ]
    }
   ],
   "source": [
    "s=\"PyThoN\"\n",
    "for i in s:\n",
    "    if 'A'<=i<='Z':\n",
    "        print(i)"
   ]
  },
  {
   "cell_type": "code",
   "execution_count": 2,
   "metadata": {},
   "outputs": [
    {
     "name": "stdout",
     "output_type": "stream",
     "text": [
      "y\n",
      "h\n",
      "o\n"
     ]
    }
   ],
   "source": [
    "s=\"PyThoN\"\n",
    "for i in s:\n",
    "    if 'a'<=i<='z':\n",
    "        print(i)"
   ]
  },
  {
   "cell_type": "code",
   "execution_count": 3,
   "metadata": {},
   "outputs": [
    {
     "name": "stdout",
     "output_type": "stream",
     "text": [
      "a\n",
      "n\n",
      "u\n",
      "a\n",
      "g\n",
      "1\n",
      "2\n",
      "3\n"
     ]
    }
   ],
   "source": [
    "st=\"LanGuagE123\"\n",
    "for i in st:\n",
    "    if 'a'<=i<='z' or '0'<=i<='9':\n",
    "        print(i)\n",
    "    "
   ]
  },
  {
   "cell_type": "code",
   "execution_count": 4,
   "metadata": {},
   "outputs": [
    {
     "name": "stdout",
     "output_type": "stream",
     "text": [
      "@\n",
      "!\n"
     ]
    }
   ],
   "source": [
    "st=\"LanGu@gE!23\"\n",
    "for i in st:\n",
    "    if not('a'<=i<='z' or '0'<=i<='9' or 'A'<=i<='Z'):\n",
    "        print(i)"
   ]
  },
  {
   "cell_type": "code",
   "execution_count": 5,
   "metadata": {},
   "outputs": [
    {
     "name": "stdout",
     "output_type": "stream",
     "text": [
      "L\n",
      "G\n"
     ]
    }
   ],
   "source": [
    "st=\"LanGu@gE!23\"\n",
    "for i in st:\n",
    "    if 'A'<=i<='Z' and (i not in \"aeiouAEIOU\"):\n",
    "        print(i)"
   ]
  },
  {
   "cell_type": "code",
   "execution_count": 6,
   "metadata": {},
   "outputs": [
    {
     "name": "stdout",
     "output_type": "stream",
     "text": [
      "a\n",
      "u\n"
     ]
    }
   ],
   "source": [
    "st=\"LanGu@gE!23\"\n",
    "for i in st:\n",
    "    if 'a'<=i<='z' and (i in \"aeiouAEIOU\"):\n",
    "        print(i)"
   ]
  },
  {
   "cell_type": "code",
   "execution_count": 7,
   "metadata": {},
   "outputs": [
    {
     "name": "stdout",
     "output_type": "stream",
     "text": [
      "a\n",
      "G\n",
      "E\n"
     ]
    }
   ],
   "source": [
    "st=\"LanGu@gE!23\"\n",
    "i=0\n",
    "while i<len(st):\n",
    "    if i%2==1 and ('a'<=st[i]<='z' or 'A'<=st[i]<='Z'):\n",
    "        print(st[i])\n",
    "    i+=1\n"
   ]
  },
  {
   "cell_type": "code",
   "execution_count": 8,
   "metadata": {},
   "outputs": [
    {
     "name": "stdout",
     "output_type": "stream",
     "text": [
      "2\n"
     ]
    }
   ],
   "source": [
    "st=\"LanGu@gE!23\"\n",
    "i=0\n",
    "c=0\n",
    "while i<len(st):\n",
    "    if   not('a'<=st[i]<='z' or 'A'<=st[i]<='Z' or '0'<=st[i]<='9'):\n",
    "        # print(st[i])\n",
    "        c+=1\n",
    "    i+=1\n",
    "\n",
    "print(c)"
   ]
  },
  {
   "cell_type": "code",
   "execution_count": 9,
   "metadata": {},
   "outputs": [
    {
     "name": "stdout",
     "output_type": "stream",
     "text": [
      "2\n",
      "3\n"
     ]
    }
   ],
   "source": [
    "st=\"LanGu@gE!234\"\n",
    "sy=0\n",
    "d=0\n",
    "i=0\n",
    "while i<len(st):\n",
    "    if   not('a'<=st[i]<='z' or 'A'<=st[i]<='Z' or '0'<=st[i]<='9'):\n",
    "        # print(st[i])\n",
    "        sy+=1\n",
    "    elif '0'<=st[i]<='9':\n",
    "        d+=1\n",
    "    i+=1\n",
    "\n",
    "print(sy)\n",
    "print(d)"
   ]
  },
  {
   "cell_type": "code",
   "execution_count": 10,
   "metadata": {},
   "outputs": [
    {
     "name": "stdout",
     "output_type": "stream",
     "text": [
      "7\n"
     ]
    }
   ],
   "source": [
    "st=\"LanGu@gE!234\"\n",
    "l=0\n",
    "i=0\n",
    "while i<len(st):\n",
    "    if 'a'<=st[i]<='z' or '0'<=st[i]<='9':\n",
    "        # print(st[i])\n",
    "        l+=1\n",
    "    i+=1\n",
    "print(l)"
   ]
  },
  {
   "cell_type": "code",
   "execution_count": 11,
   "metadata": {},
   "outputs": [
    {
     "name": "stdout",
     "output_type": "stream",
     "text": [
      "2\n"
     ]
    }
   ],
   "source": [
    "st=\"LanGu@gE!234\"\n",
    "odd=0\n",
    "i=0\n",
    "while i<len(st):\n",
    "    if 'A'<=st[i]<='Z' and i%2==1:\n",
    "        # print(st[i])\n",
    "        odd+=1\n",
    "    i+=1\n",
    "print(odd)"
   ]
  },
  {
   "cell_type": "code",
   "execution_count": 12,
   "metadata": {},
   "outputs": [
    {
     "name": "stdout",
     "output_type": "stream",
     "text": [
      "L\n",
      "n\n",
      "@\n",
      "2\n",
      "4\n",
      "5\n"
     ]
    }
   ],
   "source": [
    "#count even ascii values characters from string\n",
    "st=\"LanGu@gE!234\"\n",
    "c=0\n",
    "i=0\n",
    "while i<len(st):\n",
    "    if ord(st[i])%2==0:\n",
    "        print(st[i])\n",
    "        c+=1\n",
    "    i+= 1\n",
    "print(c)\n",
    "\n"
   ]
  },
  {
   "cell_type": "code",
   "execution_count": 13,
   "metadata": {},
   "outputs": [
    {
     "name": "stdout",
     "output_type": "stream",
     "text": [
      "L\n",
      "G\n",
      "E\n"
     ]
    }
   ],
   "source": [
    "st=\"LanGu@gE!234\"\n",
    "i=0\n",
    "while i<len(st):\n",
    "    if 'A'<=st[i]<='Z':\n",
    "        print(st[i])\n",
    "    i+=1\n",
    "\n"
   ]
  },
  {
   "cell_type": "code",
   "execution_count": 14,
   "metadata": {},
   "outputs": [
    {
     "name": "stdout",
     "output_type": "stream",
     "text": [
      "yhn\n"
     ]
    }
   ],
   "source": [
    "st=\"python\"\n",
    "i=0\n",
    "r=\"\"\n",
    "while i<len(st):\n",
    "    if i%2==1:\n",
    "        r+=st[i]\n",
    "    i+=1\n",
    "print(r)\n"
   ]
  },
  {
   "cell_type": "code",
   "execution_count": 15,
   "metadata": {},
   "outputs": [
    {
     "name": "stdout",
     "output_type": "stream",
     "text": [
      "nohtyp\n"
     ]
    }
   ],
   "source": [
    "st=\"python\"\n",
    "r=\"\"\n",
    "i=0\n",
    "while i<len(st):\n",
    "    r=st[i]+r\n",
    "    i+=1\n",
    "print(r)"
   ]
  },
  {
   "cell_type": "code",
   "execution_count": 16,
   "metadata": {},
   "outputs": [
    {
     "name": "stdout",
     "output_type": "stream",
     "text": [
      "eoo123aii\n"
     ]
    }
   ],
   "source": [
    "a=\"helloworld 123 haii\"\n",
    "# o/p:\"eoo123aii\"\n",
    "r=\"\"\n",
    "for i in a:\n",
    "    if i in \"aeiouAEIOU\" or '0'<=i<='9':\n",
    "        # print(i)\n",
    "        r+=i\n",
    "print(r)\n",
    "\n"
   ]
  },
  {
   "cell_type": "code",
   "execution_count": 17,
   "metadata": {},
   "outputs": [
    {
     "name": "stdout",
     "output_type": "stream",
     "text": [
      "eo o 123 aii\n"
     ]
    }
   ],
   "source": [
    "a=\"hello world 123 haii\"\n",
    "r=\"\"\n",
    "for i in a:\n",
    "    if i in 'aeiouAEIOU' or '0'<=i<='9' or i==' ':\n",
    "        r+=i\n",
    "print(r)\n"
   ]
  },
  {
   "cell_type": "code",
   "execution_count": 18,
   "metadata": {},
   "outputs": [
    {
     "name": "stdout",
     "output_type": "stream",
     "text": [
      "eo o  aii\n"
     ]
    }
   ],
   "source": [
    "a=\"hello world 123 haii\"\n",
    "r=\"\"\n",
    "for i in a:\n",
    "    if i in 'aeiouAEIOU' or i==\" \":\n",
    "        r+=i\n",
    "print(r)"
   ]
  },
  {
   "cell_type": "code",
   "execution_count": 19,
   "metadata": {},
   "outputs": [
    {
     "name": "stdout",
     "output_type": "stream",
     "text": [
      "hll wrld  h\n"
     ]
    }
   ],
   "source": [
    "a=\"hello world 123 haii\"\n",
    "r=\"\"\n",
    "for i in a:\n",
    "    if i not in \"AEIOUaeiou\" and not('0'<=i<='9'):\n",
    "        r+=i\n",
    "print(r)\n"
   ]
  },
  {
   "cell_type": "code",
   "execution_count": 20,
   "metadata": {},
   "outputs": [
    {
     "name": "stdout",
     "output_type": "stream",
     "text": [
      "hello world  haii\n"
     ]
    }
   ],
   "source": [
    "a=\"hello world 123 haii\"\n",
    "r=\"\"\n",
    "for i in a:\n",
    "    if not('0'<=i<='9'):\n",
    "        r+=i\n",
    "print(r)"
   ]
  },
  {
   "cell_type": "code",
   "execution_count": 21,
   "metadata": {},
   "outputs": [
    {
     "name": "stdout",
     "output_type": "stream",
     "text": [
      "hll wrld\n"
     ]
    }
   ],
   "source": [
    "a=\"hello world\"\n",
    "# o/p:hll wrld\n",
    "r=\"\"\n",
    "for i in a:\n",
    "    if not(i in 'aeiouAEIOU'):\n",
    "        r+=i\n",
    "print(r)"
   ]
  },
  {
   "cell_type": "code",
   "execution_count": 22,
   "metadata": {},
   "outputs": [
    {
     "name": "stdout",
     "output_type": "stream",
     "text": [
      "eoo\n"
     ]
    }
   ],
   "source": [
    "a=\"hello world\"\n",
    "# o/p:eoo\n",
    "r=\"\"\n",
    "for i in a:\n",
    "    if (i in 'aeiouAEIOU'):\n",
    "        r+=i\n",
    "print(r)"
   ]
  },
  {
   "cell_type": "code",
   "execution_count": 23,
   "metadata": {},
   "outputs": [
    {
     "name": "stdout",
     "output_type": "stream",
     "text": [
      "hll wrld\n"
     ]
    }
   ],
   "source": [
    "p=\"12hello3 4world4\"\n",
    "# o/p:'hll wrld'\n",
    "r=\"\"\n",
    "for i in p:\n",
    "    if i not in \"aeiouAEIOU\" and not('0'<=i<='9'):\n",
    "        # print(i)\n",
    "        r+=i\n",
    "print(r)\n"
   ]
  },
  {
   "cell_type": "code",
   "execution_count": 24,
   "metadata": {},
   "outputs": [
    {
     "name": "stdout",
     "output_type": "stream",
     "text": [
      "eoo\n"
     ]
    }
   ],
   "source": [
    "p=\"12hello3 4world4\"\n",
    "# o/p:eoo\n",
    "r=\"\"\n",
    "for i in p:\n",
    "    if i in \"aeiouAEIOU\":\n",
    "        r+=i\n",
    "print(r)"
   ]
  },
  {
   "cell_type": "code",
   "execution_count": 25,
   "metadata": {},
   "outputs": [
    {
     "name": "stdout",
     "output_type": "stream",
     "text": [
      "12344\n"
     ]
    }
   ],
   "source": [
    "p=\"12hello3 4world4\"\n",
    "# o/p:12344\n",
    "r=\"\"\n",
    "for i in p:\n",
    "    if '0'<=i<='9':\n",
    "        # print(i)\n",
    "        r+=i\n",
    "print(r)"
   ]
  },
  {
   "cell_type": "code",
   "execution_count": 26,
   "metadata": {},
   "outputs": [
    {
     "name": "stdout",
     "output_type": "stream",
     "text": [
      "*hll$ $#wrld\n"
     ]
    }
   ],
   "source": [
    "a=\"*12hello3$ $4#world4\"\n",
    "# o/p:\"hllwrld\"\n",
    "r=\"\"\n",
    "for i in a:\n",
    "     if i not in \"aeiouAEIOU\" and not('0'<=i<='9'):\n",
    "          r+=i\n",
    "print(r)"
   ]
  },
  {
   "cell_type": "code",
   "execution_count": 27,
   "metadata": {},
   "outputs": [
    {
     "name": "stdout",
     "output_type": "stream",
     "text": [
      "hllwrld\n"
     ]
    }
   ],
   "source": [
    "a=\"*12hello3$ $4#world4\"\n",
    "# o/p:\"hllwrld\"\n",
    "r=\"\"\n",
    "for i in a:\n",
    "     if ('a'<=i<='z') and i not in \"aeiouAEIOU\":\n",
    "          r+=i\n",
    "print(r)"
   ]
  },
  {
   "cell_type": "code",
   "execution_count": 29,
   "metadata": {},
   "outputs": [
    {
     "name": "stdout",
     "output_type": "stream",
     "text": [
      "*$ $#*\n"
     ]
    }
   ],
   "source": [
    "a=\"*12hello3$ $4#world4*\"\n",
    "# o/p:\"$ $#\"\n",
    "r=\"\"\n",
    "for i in a:\n",
    "     if not('a'<=i<='z' or 'A'<=i<='Z' or '0'<=i<='9'):\n",
    "          r+=i\n",
    "print(r)"
   ]
  },
  {
   "cell_type": "code",
   "execution_count": 30,
   "metadata": {},
   "outputs": [
    {
     "name": "stdout",
     "output_type": "stream",
     "text": [
      "12344\n"
     ]
    }
   ],
   "source": [
    "r=\"*12hello3$ $4#world4\"\n",
    "# o/p:\"12344\"\n",
    "r=\"\"\n",
    "for i in a:\n",
    "     if '0'<=i<='9':\n",
    "          r+=i\n",
    "print(r)"
   ]
  },
  {
   "cell_type": "code",
   "execution_count": 31,
   "metadata": {},
   "outputs": [
    {
     "name": "stdout",
     "output_type": "stream",
     "text": [
      "eoo123aii\n"
     ]
    }
   ],
   "source": [
    "p='helloworld 123 haii'\n",
    "# o:\"eoo123aii\"\n",
    "r=\"\"\n",
    "for i in p:\n",
    "    if i in 'aeiouAEIOU' or '0'<=i<='9':\n",
    "        r+=i\n",
    "print(r)\n"
   ]
  },
  {
   "cell_type": "code",
   "execution_count": 32,
   "metadata": {},
   "outputs": [
    {
     "name": "stdout",
     "output_type": "stream",
     "text": [
      "eo o 123 aii\n"
     ]
    }
   ],
   "source": [
    "p='hello world 123 haii'\n",
    "# o:\"eoo123aii\"\n",
    "r=\"\"\n",
    "for i in p:\n",
    "    if i in 'aeiouAEIOU' or '0'<=i<='9' or i==\" \":\n",
    "        r+=i\n",
    "print(r)"
   ]
  },
  {
   "cell_type": "code",
   "execution_count": 33,
   "metadata": {},
   "outputs": [
    {
     "name": "stdout",
     "output_type": "stream",
     "text": [
      "eo o  aii\n"
     ]
    }
   ],
   "source": [
    "a=\"hello world 123 haii\"\n",
    "# o:eo o 123 aii\n",
    "r=\"\"\n",
    "for i in a:\n",
    "    if i in 'aeiouAEIOU' or i==\" \":\n",
    "        r+=i\n",
    "print(r)"
   ]
  },
  {
   "cell_type": "code",
   "execution_count": 34,
   "metadata": {},
   "outputs": [
    {
     "name": "stdout",
     "output_type": "stream",
     "text": [
      "eo o\n"
     ]
    }
   ],
   "source": [
    "a=\"hello world\"\n",
    "# o/p:hll world\n",
    "r=\"\"\n",
    "for i in a:\n",
    "    if i in 'aeiouAEIOU' or i==\" \" :\n",
    "        r+=i\n",
    "print(r)"
   ]
  },
  {
   "cell_type": "code",
   "execution_count": 35,
   "metadata": {},
   "outputs": [
    {
     "name": "stdout",
     "output_type": "stream",
     "text": [
      "Langu\n"
     ]
    }
   ],
   "source": [
    "a=\"Language\"\n",
    "i=0\n",
    "r=\"\"\n",
    "while i<=len(a)//2:\n",
    "    r+=a[i]\n",
    "    i+=1\n",
    "print(r)"
   ]
  },
  {
   "cell_type": "code",
   "execution_count": 36,
   "metadata": {},
   "outputs": [
    {
     "name": "stdout",
     "output_type": "stream",
     "text": [
      "11\n",
      "11\n",
      "pallindrome\n"
     ]
    }
   ],
   "source": [
    "st=\"pyhton911\"\n",
    "s=0\n",
    "for i in st:\n",
    "    if '0'<=i<='9':\n",
    "        s+=int(i)\n",
    "print(s)  #11\n",
    "temp=s  #11\n",
    "a=0 \n",
    "while s>0: #11  1\n",
    "    l=s%10  #1  1\n",
    "    a=a*10+l  #0*10+1=1  1*10+1=11 \n",
    "    s//=10\n",
    "print(a)\n",
    "if temp==a:\n",
    "    print(\"pallindrome\")\n",
    "else:\n",
    "    print(\"not pallindrome\")\n"
   ]
  },
  {
   "cell_type": "code",
   "execution_count": 37,
   "metadata": {},
   "outputs": [
    {
     "name": "stdout",
     "output_type": "stream",
     "text": [
      "{'a': 2, 'b': 1, 'c': 2, 'd': 1}\n"
     ]
    }
   ],
   "source": [
    "a=\"aabccd\"\n",
    "d={}\n",
    "for i in a:\n",
    "    if i not in d:\n",
    "        d[i]=1\n",
    "    else:\n",
    "        d[i]+=1\n",
    "print(d)\n"
   ]
  },
  {
   "cell_type": "code",
   "execution_count": 38,
   "metadata": {},
   "outputs": [
    {
     "name": "stdout",
     "output_type": "stream",
     "text": [
      "{'a': 3, 'b': 1, 'c': 1, 'd': 2}\n"
     ]
    }
   ],
   "source": [
    "st=\"aabcdda\"\n",
    "d={}\n",
    "c=0\n",
    "max=st[0]\n",
    "for i in st:\n",
    "    if i in d:\n",
    "        d[i]+=1  \n",
    "    else:\n",
    "        d[i]=1\n",
    "print(d)\n",
    "\n",
    "\n"
   ]
  },
  {
   "cell_type": "code",
   "execution_count": 39,
   "metadata": {},
   "outputs": [
    {
     "name": "stdout",
     "output_type": "stream",
     "text": [
      "{'a': 12, 'b': 1, 'c': 1, 'd': 4, 's': 2, 'x': 1, 'f': 2, 'g': 2, 'h': 1, 'j': 1, 'k': 2, 'y': 3, 'i': 1, 'u': 1, 't': 2, 'r': 1}\n"
     ]
    }
   ],
   "source": [
    "#optimization of  max chars in string\n",
    "st=\"aabcddaasdxfghgjkykiyutrytsfdaaaaaaaa\"\n",
    "d={}\n",
    "for i in st:\n",
    "    if i not in d:\n",
    "        d[i]=1\n",
    "    else:\n",
    "        d[i]+=1\n",
    "print(d)\n",
    "max_co=-1\n",
    "max_cha=\"\"\n",
    "for j in d:\n",
    "    if d[j]>max_co:\n",
    "        max_co=d[j]\n",
    "        max_cha=j"
   ]
  },
  {
   "cell_type": "code",
   "execution_count": 40,
   "metadata": {},
   "outputs": [
    {
     "name": "stdout",
     "output_type": "stream",
     "text": [
      "a 2\n"
     ]
    }
   ],
   "source": [
    "st=\"aab\"\n",
    "max_char=\"\"\n",
    "max_count=0\n",
    "for i in st:\n",
    "    char=i\n",
    "    count=0\n",
    "    for j in st:\n",
    "        if j==char: #a==a\n",
    "            count+=1\n",
    "    if count>max_count:\n",
    "        max_count=count\n",
    "        max_char=char\n",
    "print(max_char,max_count)"
   ]
  },
  {
   "cell_type": "code",
   "execution_count": 41,
   "metadata": {},
   "outputs": [
    {
     "name": "stdout",
     "output_type": "stream",
     "text": [
      "3\n"
     ]
    }
   ],
   "source": [
    "t=\"aaab\"\n",
    "m_c=0\n",
    "for i in t:\n",
    "    c=0\n",
    "    for j in t:\n",
    "        if i==j:\n",
    "            c+=1\n",
    "    if c>m_c:\n",
    "        m_c=c\n",
    "print(m_c)\n"
   ]
  },
  {
   "cell_type": "code",
   "execution_count": 42,
   "metadata": {},
   "outputs": [
    {
     "name": "stdout",
     "output_type": "stream",
     "text": [
      "a:a\n",
      "a:b\n",
      "a:c\n",
      "a:c\n",
      "a:d\n",
      "b:a\n",
      "b:b\n",
      "b:c\n",
      "b:c\n",
      "b:d\n",
      "c:a\n",
      "c:b\n",
      "c:c\n",
      "c:c\n",
      "c:d\n",
      "c:a\n",
      "c:b\n",
      "c:c\n",
      "c:c\n",
      "c:d\n",
      "d:a\n",
      "d:b\n",
      "d:c\n",
      "d:c\n",
      "d:d\n"
     ]
    }
   ],
   "source": [
    "e=\"abccd\"\n",
    "for i in e:\n",
    "    for j in e: \n",
    "        print(f\"{i}:{j}\") "
   ]
  },
  {
   "cell_type": "code",
   "execution_count": 43,
   "metadata": {},
   "outputs": [
    {
     "name": "stdout",
     "output_type": "stream",
     "text": [
      "a 2\n"
     ]
    }
   ],
   "source": [
    "a=\"aab\"\n",
    "max_char=\"\"\n",
    "max_count=0\n",
    "for i in a:\n",
    "    c=0\n",
    "    char=i\n",
    "    for j in a:\n",
    "        if i==j:\n",
    "            c+=1\n",
    "    if c>max_count:\n",
    "        max_count=c\n",
    "        max_char=char\n",
    "print(max_char,max_count)"
   ]
  },
  {
   "cell_type": "code",
   "execution_count": 44,
   "metadata": {},
   "outputs": [
    {
     "name": "stdout",
     "output_type": "stream",
     "text": [
      "a 3\n"
     ]
    }
   ],
   "source": [
    "s=\"aaabbc\"\n",
    "max_char=\"\"\n",
    "max_count=0\n",
    "for i in s:\n",
    "    char=i\n",
    "    count=0\n",
    "    for j in s:\n",
    "        if i==j:\n",
    "            count+=1\n",
    "    if count>max_count:\n",
    "        max_count=count\n",
    "        max_char=char\n",
    "print(max_char,max_count)"
   ]
  },
  {
   "cell_type": "code",
   "execution_count": 45,
   "metadata": {},
   "outputs": [
    {
     "name": "stdout",
     "output_type": "stream",
     "text": [
      "b 1\n"
     ]
    }
   ],
   "source": [
    "s=\"aab\"\n",
    "min_char=\"\"\n",
    "min_count=len(s)\n",
    "for i in s:\n",
    "    char=i #char=a char=a char=b\n",
    "    count=0\n",
    "    for j in s:\n",
    "        if j==char:\n",
    "            count+=1\n",
    "    if (count<min_count): #1<0\n",
    "        min_count=count\n",
    "        min_char=i #a a b\n",
    "        \n",
    "print(min_char,min_count)"
   ]
  },
  {
   "cell_type": "code",
   "execution_count": 46,
   "metadata": {},
   "outputs": [
    {
     "name": "stdout",
     "output_type": "stream",
     "text": [
      "corepython\n"
     ]
    }
   ],
   "source": [
    "a=\"core\"\n",
    "b=\"python\"\n",
    "# c=a+b\n",
    "# print(c)\n",
    "r=\"\"\n",
    "for i in a:\n",
    "    r+=i\n",
    "print(r+b)"
   ]
  },
  {
   "cell_type": "code",
   "execution_count": 47,
   "metadata": {},
   "outputs": [
    {
     "name": "stdout",
     "output_type": "stream",
     "text": [
      "maxiu\n"
     ]
    }
   ],
   "source": [
    "s=\"maximum\"\n",
    "r=\"\"\n",
    "for i in s:\n",
    "    if i not in r:\n",
    "        r+=i\n",
    "print(r)"
   ]
  },
  {
   "cell_type": "code",
   "execution_count": 48,
   "metadata": {},
   "outputs": [
    {
     "name": "stdout",
     "output_type": "stream",
     "text": [
      "abcd\n"
     ]
    }
   ],
   "source": [
    "s=\"abcddca\"\n",
    "p=\"\"\n",
    "for i in s:\n",
    "    if i not in p:\n",
    "        p+=i\n",
    "print(p)"
   ]
  },
  {
   "cell_type": "code",
   "execution_count": 49,
   "metadata": {},
   "outputs": [
    {
     "name": "stdout",
     "output_type": "stream",
     "text": [
      "aabbcc\n"
     ]
    }
   ],
   "source": [
    "s=\"a2b2c2\"\n",
    "# o/p:aabbcc\n",
    "i=0\n",
    "r=\"\"\n",
    "while i<=len(s)-1:\n",
    "    if 'a'<=s[i]<='z' and '0'<=s[i+1]<='9':\n",
    "        r+=s[i]*int(s[i+1])\n",
    "    i+=2\n",
    "print(r)"
   ]
  },
  {
   "cell_type": "code",
   "execution_count": 50,
   "metadata": {},
   "outputs": [
    {
     "name": "stdout",
     "output_type": "stream",
     "text": [
      "aabbcc\n"
     ]
    }
   ],
   "source": [
    "s=\"a2b2c2\"\n",
    "i=0\n",
    "r=\"\"\n",
    "while i<=len(s)-1:  #0<=6\n",
    "    if 'a'<=s[i]<='z' and '0'<=s[i+1]<='9':\n",
    "        r+=s[i] * int(s[i+1])\n",
    "    i+=1\n",
    "print(r)"
   ]
  },
  {
   "cell_type": "code",
   "execution_count": 51,
   "metadata": {},
   "outputs": [
    {
     "name": "stdout",
     "output_type": "stream",
     "text": [
      "aabbcc\n"
     ]
    }
   ],
   "source": [
    "l=\"a2b2c2\"\n",
    "i=0\n",
    "p=\"\"\n",
    "while i<len(l): #0<6\n",
    "    if 'a'<=l[i]<='z' and '0'<=l[i+1]<='9':\n",
    "        p+=l[i]*int(l[i+1])\n",
    "    i+=1\n",
    "print(p)"
   ]
  },
  {
   "cell_type": "code",
   "execution_count": 52,
   "metadata": {},
   "outputs": [
    {
     "name": "stdout",
     "output_type": "stream",
     "text": [
      "hello\n",
      "hello\n",
      "hello\n",
      "hello\n",
      "hello\n",
      "5\n"
     ]
    }
   ],
   "source": [
    "count=0\n",
    "def outer(main):\n",
    "    def inner():\n",
    "        global count\n",
    "        main()\n",
    "        count+=1\n",
    "    return inner\n",
    "@outer\n",
    "def we():\n",
    "    print(\"hello\")\n",
    "we()\n",
    "we()\n",
    "we()\n",
    "we()\n",
    "we()\n",
    "print(f\"{count}\")"
   ]
  },
  {
   "cell_type": "code",
   "execution_count": null,
   "metadata": {},
   "outputs": [],
   "source": []
  }
 ],
 "metadata": {
  "kernelspec": {
   "display_name": "Python 3",
   "language": "python",
   "name": "python3"
  },
  "language_info": {
   "codemirror_mode": {
    "name": "ipython",
    "version": 3
   },
   "file_extension": ".py",
   "mimetype": "text/x-python",
   "name": "python",
   "nbconvert_exporter": "python",
   "pygments_lexer": "ipython3",
   "version": "3.12.4"
  }
 },
 "nbformat": 4,
 "nbformat_minor": 2
}
