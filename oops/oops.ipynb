{
 "cells": [
  {
   "cell_type": "code",
   "execution_count": 22,
   "metadata": {},
   "outputs": [
    {
     "name": "stdout",
     "output_type": "stream",
     "text": [
      "{'__module__': '__main__', 'trainer': 'hariharan', 'sub_': 'web', 'display': <function Web.display at 0x00000144CE3CDB80>, '__dict__': <attribute '__dict__' of 'Web' objects>, '__weakref__': <attribute '__weakref__' of 'Web' objects>, '__doc__': None}\n"
     ]
    }
   ],
   "source": [
    "#memory management of class and object\n",
    "class Web:\n",
    "    trainer=\"hariharan\"  #class variable\n",
    "    sub_=\"web\"\n",
    "    def display(self):  #method\n",
    "        a=10   \n",
    "print(Web.__dict__)  "
   ]
  },
  {
   "cell_type": "code",
   "execution_count": 23,
   "metadata": {},
   "outputs": [
    {
     "name": "stdout",
     "output_type": "stream",
     "text": [
      "<class '__main__.Qspiders'>\n",
      "1395029586560\n",
      "1395029588192\n"
     ]
    }
   ],
   "source": [
    "#accessing class variable and modifying class variable\n",
    "class Qspiders:\n",
    "    trainer=\"hariharan\"\n",
    "    sub_=\"web\"\n",
    "    mob=1234567896\n",
    "q1=Qspiders()\n",
    "q2=Qspiders()\n",
    "print(Qspiders)\n",
    "print(id(q1))\n",
    "print(id(q2))"
   ]
  },
  {
   "cell_type": "code",
   "execution_count": 1,
   "metadata": {},
   "outputs": [],
   "source": [
    "#Accessing the class variable\n",
    "class Qspiders:\n",
    "    trainer=\"hariharan\"\n",
    "    sub_=\"web\"\n",
    "    mob=1234567896\n",
    "q1=Qspiders()\n",
    "q2=Qspiders()\n",
    "# print(trainer)"
   ]
  },
  {
   "cell_type": "code",
   "execution_count": 26,
   "metadata": {},
   "outputs": [
    {
     "name": "stdout",
     "output_type": "stream",
     "text": [
      "hariharan q1 accessing the trainer variable\n",
      "hariharan q2 accessing the trainer variable\n"
     ]
    }
   ],
   "source": [
    "#By using class object\n",
    "class Qspiders:\n",
    "    trainer=\"hariharan\"\n",
    "    sub_=\"web\"\n",
    "    mob=1234567896\n",
    "q1=Qspiders()\n",
    "q2=Qspiders()\n",
    "print(q1.trainer,\"q1 accessing the trainer variable\")\n",
    "print(q2.trainer,\"q2 accessing the trainer variable\")\n"
   ]
  },
  {
   "cell_type": "code",
   "execution_count": 1,
   "metadata": {},
   "outputs": [
    {
     "name": "stdout",
     "output_type": "stream",
     "text": [
      "hariharan Qspiders class accessing trainer varible\n"
     ]
    }
   ],
   "source": [
    "#by using the class\n",
    "class Qspiders:\n",
    "    trainer=\"hariharan\"\n",
    "    sub_=\"web\"\n",
    "    mob=1234567896\n",
    "q1=Qspiders()\n",
    "q2=Qspiders()\n",
    "print(Qspiders.trainer,\"Qspiders class accessing trainer varible\")"
   ]
  },
  {
   "cell_type": "code",
   "execution_count": 29,
   "metadata": {},
   "outputs": [
    {
     "name": "stdout",
     "output_type": "stream",
     "text": [
      "563\n",
      "563\n",
      "563\n"
     ]
    }
   ],
   "source": [
    "#before modifying class variables\n",
    "class Cartoon:\n",
    "   channel=\"CN\"\n",
    "   channel_num=563\n",
    "   time=\"2pm-4pm\"\n",
    "c1=Cartoon()\n",
    "c2=Cartoon()\n",
    "print(Cartoon.channel_num)\n",
    "print(c1.channel_num)\n",
    "print(c2.channel_num)"
   ]
  },
  {
   "cell_type": "code",
   "execution_count": 30,
   "metadata": {},
   "outputs": [
    {
     "name": "stdout",
     "output_type": "stream",
     "text": [
      "999\n",
      "999\n",
      "999\n"
     ]
    }
   ],
   "source": [
    "#Modification with class name\n",
    "class Cartoon:\n",
    "   channel=\"CN\"\n",
    "   channel_num=563\n",
    "   time=\"2pm-4pm\"\n",
    "c1=Cartoon()\n",
    "c2=Cartoon()\n",
    "Cartoon.channel_num=999\n",
    "print(Cartoon.channel_num)\n",
    "print(c1.channel_num)\n",
    "print(c2.channel_num)"
   ]
  },
  {
   "cell_type": "code",
   "execution_count": 31,
   "metadata": {},
   "outputs": [
    {
     "name": "stdout",
     "output_type": "stream",
     "text": [
      "563\n",
      "222\n",
      "563\n"
     ]
    }
   ],
   "source": [
    "#Modification with c1\n",
    "class Cartoon:\n",
    "   channel=\"CN\"\n",
    "   channel_num=563\n",
    "   time=\"2pm-4pm\"\n",
    "c1=Cartoon()\n",
    "c2=Cartoon()\n",
    "c1.channel_num=222   #objectname.class varible-->to access class variable\n",
    "print(Cartoon.channel_num)\n",
    "print(c1.channel_num)\n",
    "print(c2.channel_num)"
   ]
  },
  {
   "cell_type": "code",
   "execution_count": 33,
   "metadata": {},
   "outputs": [
    {
     "name": "stdout",
     "output_type": "stream",
     "text": [
      "1000\n",
      "1000\n",
      "1000\n"
     ]
    }
   ],
   "source": [
    "#Modification with class name after modification with c1 object\n",
    "Cartoon.channel_num=1000  \n",
    "print(Cartoon.channel_num)\n",
    "print(c1.channel_num)\n",
    "print(c2.channel_num)"
   ]
  },
  {
   "cell_type": "code",
   "execution_count": 40,
   "metadata": {},
   "outputs": [
    {
     "name": "stdout",
     "output_type": "stream",
     "text": [
      "<__main__.School object at 0x00000144CE3E35B0>\n",
      "shamsheer\n",
      "maths\n",
      "9876543541\n"
     ]
    }
   ],
   "source": [
    "class School:\n",
    "    teacher=\"shamsheer\"\n",
    "    sub_=\"maths\"\n",
    "    mob=9876543541\n",
    "s1=School()\n",
    "print(s1)\n",
    "print(s1.teacher)\n",
    "print(s1.sub_)\n",
    "print(s1.mob)\n",
    " #(or)\n",
    "# print(School.teacher)\n",
    "# print(School.sub_)\n",
    "# print(School.mob)"
   ]
  },
  {
   "cell_type": "code",
   "execution_count": 4,
   "metadata": {},
   "outputs": [
    {
     "name": "stdout",
     "output_type": "stream",
     "text": [
      "this car is best\n"
     ]
    }
   ],
   "source": [
    "class car:\n",
    "    brand=\"BMW\"\n",
    "    wheels=4\n",
    "    def dispaly(self):\n",
    "        print(\"this car is best\")\n",
    "c1=car()\n",
    "c1.dispaly()\n",
    "# print(c1)"
   ]
  },
  {
   "cell_type": "code",
   "execution_count": 9,
   "metadata": {},
   "outputs": [
    {
     "name": "stdout",
     "output_type": "stream",
     "text": [
      "10\n"
     ]
    }
   ],
   "source": [
    "#Syntax for constructor\n",
    "class Classname:\n",
    "    def __init__(self,a):\n",
    "        print(a)\n",
    "c1=Classname(10)"
   ]
  },
  {
   "cell_type": "code",
   "execution_count": 20,
   "metadata": {},
   "outputs": [],
   "source": [
    "#Syntax for instance method\n",
    "class ClassName:\n",
    "    def methodName(self, other_parameters):\n",
    "        pass\n",
    "        # Method body\n"
   ]
  },
  {
   "cell_type": "code",
   "execution_count": 13,
   "metadata": {},
   "outputs": [
    {
     "name": "stdout",
     "output_type": "stream",
     "text": [
      "siri\n",
      "90\n"
     ]
    }
   ],
   "source": [
    "class Qspiders:\n",
    "    branch_=\"Dilsuknagar\"\n",
    "    location=\"chaitanyapuri\"\n",
    "    course=\"Developer\"\n",
    "    def __init__(self,name,attendence):\n",
    "        self.name=name\n",
    "        self.attendence=attendence\n",
    "        print(self.name,self.attendence,sep=\"\\n\")\n",
    "q1=Qspiders(\"siri\",90)\n",
    "# print(self.name)"
   ]
  },
  {
   "cell_type": "code",
   "execution_count": 28,
   "metadata": {},
   "outputs": [
    {
     "name": "stdout",
     "output_type": "stream",
     "text": [
      "bobber\n",
      "334\n",
      "red and white\n",
      "18 liters\n",
      "350000\n",
      "bobber 334 red and white 18 liters 350000\n",
      "perk\n",
      "340\n",
      "orange\n",
      "30 liters\n",
      "240000\n",
      "perk 340 orange 30 liters 240000\n",
      "jawa\n",
      "jawa\n"
     ]
    }
   ],
   "source": [
    "class Bike:\n",
    "    brand=\"jawa\"\n",
    "    def __init__(self,name,cc,color,tank,price):\n",
    "        self.name=name\n",
    "        self.cc=cc\n",
    "        self.color=color\n",
    "        self.tank=tank\n",
    "        self.price=price\n",
    "        print(self.name,self.cc,self.color,self.tank,self.price,sep=\"\\n\")\n",
    "        print(name,cc,color,tank,price)\n",
    "c1=Bike(\"bobber\",334,\"red and white\",\"18 liters\",350000)\n",
    "c2=Bike(\"perk\",340,\"orange\",\"30 liters\",240000)\n",
    "print(c1.brand)\n",
    "print(Bike.brand)\n",
    "    "
   ]
  },
  {
   "cell_type": "code",
   "execution_count": 35,
   "metadata": {},
   "outputs": [
    {
     "name": "stdout",
     "output_type": "stream",
     "text": [
      "the name of the emp is virat and the experience is 3\n",
      "30000\n"
     ]
    }
   ],
   "source": [
    "class Amazon:\n",
    "    def __init__(self,name,sal,exp):\n",
    "        self.name=name\n",
    "        self.sal=sal\n",
    "        self.exp=exp\n",
    "    def emp_details(self):\n",
    "        print(f\"the name of the emp is {self.name} and the experience is {self.exp}\")\n",
    "    def modify_sal(self,value):\n",
    "        self.sal+=value\n",
    "        print(self.sal)\n",
    "c1=Amazon(\"virat\",20000,3)\n",
    "c1.emp_details()\n",
    "c1.modify_sal(10000)\n"
   ]
  },
  {
   "cell_type": "code",
   "execution_count": 16,
   "metadata": {},
   "outputs": [
    {
     "name": "stdout",
     "output_type": "stream",
     "text": [
      "yeh jawani hai dewani\n",
      "drama\n",
      "2012\n",
      "anandham\n",
      "travel\n",
      "2001\n",
      "the movie name is yeh jawani hai dewanireleased in the year 2012\n",
      "the movie name is anandhamreleased in the year 2001\n"
     ]
    }
   ],
   "source": [
    "class Netflix:\n",
    "    watch_list={}\n",
    "    def __init__(self,title,genre,released_year):\n",
    "        self.title=title\n",
    "        self.genre=genre\n",
    "        self.year=released_year\n",
    "        print(self.title,self.genre,self.year,sep=\"\\n\")\n",
    "        self.watch_list[self.title]=self\n",
    "\n",
    "    def display(self):\n",
    "        for k,o in self.watch_list.items():\n",
    "            print(f\"the movie name is {o.title}released in the year {o.year}\")\n",
    "          \n",
    "n1=Netflix(\"yeh jawani hai dewani\",\"drama\",2012)\n",
    "n2=Netflix(\"anandham\",\"travel\",2001)\n",
    "n1.display()\n",
    "\n",
    "\n"
   ]
  },
  {
   "cell_type": "code",
   "execution_count": 58,
   "metadata": {},
   "outputs": [
    {
     "name": "stdout",
     "output_type": "stream",
     "text": [
      "the name of the employee is virat and the experience is 5\n",
      "the name of the employee is rahul and the experience is 8\n",
      "the name of the employee is virat and the experience is 6 after modification\n",
      "the name of the employee is rahul and the experience is 10 after modification\n"
     ]
    }
   ],
   "source": [
    "class Amazon:\n",
    "    def __init__(self,name,sal,experience):\n",
    "        self.emp_name=name\n",
    "        self.emp_sal=sal\n",
    "        self.emp_exp=experience\n",
    "\n",
    "    def display_emp_details(self):\n",
    "        print(f\"the name of the employee is {self.emp_name} and the experience is {self.emp_exp}\")\n",
    "    def after_some_year(self,value):\n",
    "        self.emp_exp+=value\n",
    "        print(f\"the name of the employee is {self.emp_name} and the experience is {self.emp_exp} after modification\")\n",
    "a1=Amazon(\"virat\",20000,5)\n",
    "a2=Amazon(\"rahul\",3000,8)\n",
    "a1.display_emp_details()\n",
    "a2.display_emp_details()\n",
    "a1.after_some_year(1)\n",
    "a2.after_some_year(2)\n"
   ]
  },
  {
   "cell_type": "code",
   "execution_count": 13,
   "metadata": {},
   "outputs": [
    {
     "name": "stdout",
     "output_type": "stream",
     "text": [
      "<__main__.Sample object at 0x00000144CC7C3850>\n"
     ]
    }
   ],
   "source": [
    "class Sample:\n",
    "    def access_(cls):\n",
    "        print(cls)\n",
    "s1=Sample()\n",
    "s1.access_()"
   ]
  },
  {
   "cell_type": "code",
   "execution_count": 16,
   "metadata": {},
   "outputs": [
    {
     "name": "stdout",
     "output_type": "stream",
     "text": [
      "<class '__main__.Sample'>\n"
     ]
    }
   ],
   "source": [
    "class Sample:\n",
    "    @classmethod\n",
    "    def access_(cls):\n",
    "        print(cls)\n",
    "s1=Sample()\n",
    "s1.access_()"
   ]
  },
  {
   "cell_type": "code",
   "execution_count": 18,
   "metadata": {},
   "outputs": [
    {
     "name": "stdout",
     "output_type": "stream",
     "text": [
      "10\n"
     ]
    }
   ],
   "source": [
    "class Sample:\n",
    "    v=10\n",
    "    @classmethod\n",
    "    def access_(cls):\n",
    "        print(cls.v)\n",
    "s1=Sample()\n",
    "s1.access_()"
   ]
  },
  {
   "cell_type": "code",
   "execution_count": 19,
   "metadata": {},
   "outputs": [
    {
     "name": "stdout",
     "output_type": "stream",
     "text": [
      "10\n",
      "11\n",
      "11\n"
     ]
    }
   ],
   "source": [
    "class Sample:\n",
    "    v=10\n",
    "    @classmethod\n",
    "    def access_(cls):\n",
    "        print(cls.v)\n",
    "    @classmethod\n",
    "    def modify_(cls):\n",
    "        cls.v+=1\n",
    "        print(cls.v)\n",
    "s1=Sample()\n",
    "s1.access_()\n",
    "s1.modify_()\n",
    "s1.access_()"
   ]
  },
  {
   "cell_type": "code",
   "execution_count": 53,
   "metadata": {},
   "outputs": [
    {
     "name": "stdout",
     "output_type": "stream",
     "text": [
      "10\n",
      "11\n"
     ]
    }
   ],
   "source": [
    "#Class method example\n",
    "class Sample:\n",
    "    v=10\n",
    "    @classmethod\n",
    "    def hello(cls):\n",
    "        print(cls.v)\n",
    "    @classmethod\n",
    "    def display(cls):\n",
    "        cls.v+=1\n",
    "        print(cls.v)\n",
    "s1=Sample()\n",
    "s1.hello()\n",
    "s1.display()"
   ]
  },
  {
   "cell_type": "code",
   "execution_count": 54,
   "metadata": {},
   "outputs": [],
   "source": [
    "#Syntax for staticmethod\n",
    "class Classname:\n",
    "    @staticmethod\n",
    "    def methodname(parameter):\n",
    "        pass"
   ]
  },
  {
   "cell_type": "code",
   "execution_count": 61,
   "metadata": {},
   "outputs": [
    {
     "name": "stdout",
     "output_type": "stream",
     "text": [
      "5\n",
      "None\n"
     ]
    }
   ],
   "source": [
    "class Utility:\n",
    "    @staticmethod\n",
    "    def len1(iterable):\n",
    "        count=0\n",
    "        for i in iterable:\n",
    "            count+=1\n",
    "        print(count)\n",
    "u1=Utility()\n",
    "print(u1.len1(\"hello\"))\n",
    "# u1.len1({1,1,3,4,4,1})\n",
    "# u1.len1([1,23,4,6,1,1])"
   ]
  },
  {
   "cell_type": "code",
   "execution_count": 71,
   "metadata": {},
   "outputs": [
    {
     "name": "stdout",
     "output_type": "stream",
     "text": [
      "True\n",
      "False\n",
      "True\n"
     ]
    }
   ],
   "source": [
    "class MyUtility:\n",
    "    @staticmethod\n",
    "    def even(value):\n",
    "        return value%2==0\n",
    "    @staticmethod\n",
    "    def odd(value):\n",
    "        return value%2==1\n",
    "m1=MyUtility()\n",
    "print(m1.even(4))\n",
    "print(m1.odd(2))\n",
    "#(or)\n",
    "# a=m1.even(20)\n",
    "# print(a)\n"
   ]
  },
  {
   "cell_type": "code",
   "execution_count": 73,
   "metadata": {},
   "outputs": [],
   "source": [
    "#Syntax of inheritence\n",
    "class Parent:\n",
    "    pass\n",
    "class Child(Parent):\n",
    "    pass"
   ]
  },
  {
   "cell_type": "code",
   "execution_count": 96,
   "metadata": {},
   "outputs": [
    {
     "name": "stdout",
     "output_type": "stream",
     "text": [
      "20\n",
      "this is child class\n"
     ]
    }
   ],
   "source": [
    "class Parent:\n",
    "    a=10\n",
    "    def display(self):\n",
    "        print(\"this is parent class\")\n",
    "class Child(Parent):\n",
    "    b=20\n",
    "    def view(self):\n",
    "        print(\"this is child class\")\n",
    "c1=Child()\n",
    "print(c1.b)\n",
    "c1.view()\n"
   ]
  },
  {
   "cell_type": "code",
   "execution_count": 103,
   "metadata": {},
   "outputs": [
    {
     "name": "stdout",
     "output_type": "stream",
     "text": [
      "this is parent class\n"
     ]
    },
    {
     "ename": "AttributeError",
     "evalue": "'Parent' object has no attribute 'view'",
     "output_type": "error",
     "traceback": [
      "\u001b[1;31m---------------------------------------------------------------------------\u001b[0m",
      "\u001b[1;31mAttributeError\u001b[0m                            Traceback (most recent call last)",
      "\u001b[1;32m~\\AppData\\Local\\Temp\\ipykernel_2128\\3932331654.py\u001b[0m in \u001b[0;36m<module>\u001b[1;34m\u001b[0m\n\u001b[0;32m     10\u001b[0m \u001b[1;31m# print(c1.b)  #'Parent' object has no attribute 'b'\u001b[0m\u001b[1;33m\u001b[0m\u001b[1;33m\u001b[0m\u001b[0m\n\u001b[0;32m     11\u001b[0m \u001b[0mc1\u001b[0m\u001b[1;33m.\u001b[0m\u001b[0mdisplay\u001b[0m\u001b[1;33m(\u001b[0m\u001b[1;33m)\u001b[0m \u001b[1;31m#this is parent class\u001b[0m\u001b[1;33m\u001b[0m\u001b[1;33m\u001b[0m\u001b[0m\n\u001b[1;32m---> 12\u001b[1;33m \u001b[0mc1\u001b[0m\u001b[1;33m.\u001b[0m\u001b[0mview\u001b[0m\u001b[1;33m(\u001b[0m\u001b[1;33m)\u001b[0m    \u001b[1;31m#\u001b[0m\u001b[1;33m\u001b[0m\u001b[1;33m\u001b[0m\u001b[0m\n\u001b[0m\u001b[0;32m     13\u001b[0m \u001b[1;33m\u001b[0m\u001b[0m\n",
      "\u001b[1;31mAttributeError\u001b[0m: 'Parent' object has no attribute 'view'"
     ]
    }
   ],
   "source": [
    "class Parent:\n",
    "    a=10\n",
    "    def display(self):\n",
    "        print(\"this is parent class\")\n",
    "class Child():\n",
    "    b=20\n",
    "    def view(self):\n",
    "        print(\"this is child class\")\n",
    "c1=Parent()\n",
    "print(c1.b)  #'Parent' object has no attribute 'b'\n",
    "c1.display() #this is parent class\n",
    "c1.view()    #'Parent' object has no attribute 'view'\n",
    "\n"
   ]
  },
  {
   "cell_type": "code",
   "execution_count": 99,
   "metadata": {},
   "outputs": [
    {
     "name": "stdout",
     "output_type": "stream",
     "text": [
      "10\n",
      "this is parent class\n"
     ]
    }
   ],
   "source": [
    "#After inheriting\n",
    "class Parent:\n",
    "    a=10\n",
    "    def display(self):\n",
    "        print(\"this is parent class\")\n",
    "class Child(Parent):\n",
    "    b=10\n",
    "    def view(self):\n",
    "        print(\"this is child class\")\n",
    "c1=Child()\n",
    "print(c1.a)\n",
    "c1.display()"
   ]
  },
  {
   "cell_type": "code",
   "execution_count": 114,
   "metadata": {},
   "outputs": [
    {
     "name": "stdout",
     "output_type": "stream",
     "text": [
      "the name of the student is virat.kohli\n",
      "the player id is 18 and number is 12345678\n",
      "the name of the student is virat.kohli\n"
     ]
    }
   ],
   "source": [
    "class Parent:\n",
    "    def __init__(self,name,l_name):\n",
    "        self.name=name\n",
    "        self.lst=l_name\n",
    "    \n",
    "    def display(self):\n",
    "        print(f\"the name of the student is {self.name}.{self.lst}\")\n",
    "p1=Parent(\"virat\",\"kohli\")\n",
    "p1.display()\n",
    "class Child(Parent):\n",
    "    def __init__(self,id,num,name,l_name):\n",
    "        super().__init__(name,l_name)\n",
    "        self.id=id\n",
    "        self.num=num\n",
    "    def view(self):\n",
    "        print(f\"the player id is {self.id} and number is {self.num}\")\n",
    "c1=Child(18,12345678,\"virat\",\"kohli\")\n",
    "c1.view()\n",
    "c1.display()"
   ]
  },
  {
   "cell_type": "code",
   "execution_count": 121,
   "metadata": {},
   "outputs": [
    {
     "name": "stdout",
     "output_type": "stream",
     "text": [
      "10\n",
      "20\n"
     ]
    }
   ],
   "source": [
    "#Before inheriting\n",
    "class Parent:\n",
    "    a=10\n",
    "class Child:\n",
    "    b=20\n",
    "c1=Parent()\n",
    "print(c1.a)\n",
    "#print(c1.b)  'Parent' object has no attribute 'b'\n",
    "c2=Child()\n",
    "#print(c2.a)  'Child' object has no attribute 'a'\n",
    "print(c2.b)"
   ]
  },
  {
   "cell_type": "code",
   "execution_count": 129,
   "metadata": {},
   "outputs": [
    {
     "name": "stdout",
     "output_type": "stream",
     "text": [
      "10\n",
      "20\n"
     ]
    }
   ],
   "source": [
    "#After inheriting\n",
    "class Parent:\n",
    "    a=10\n",
    "class Child(Parent):\n",
    "    b=20\n",
    "c1=Child()\n",
    "print(c1.a)\n",
    "print(c1.b)  \n"
   ]
  },
  {
   "cell_type": "code",
   "execution_count": 131,
   "metadata": {},
   "outputs": [
    {
     "name": "stdout",
     "output_type": "stream",
     "text": [
      "10\n",
      "20\n",
      "500\n",
      "20\n"
     ]
    }
   ],
   "source": [
    "#Change done by parent class\n",
    "class Parent:\n",
    "    a=10\n",
    "class Child(Parent):\n",
    "    b=20\n",
    "c1=Child()\n",
    "print(c1.a)\n",
    "print(c1.b)\n",
    "Parent.a=500\n",
    "print(c1.a)\n",
    "print(c1.b)"
   ]
  },
  {
   "cell_type": "code",
   "execution_count": 133,
   "metadata": {},
   "outputs": [
    {
     "name": "stdout",
     "output_type": "stream",
     "text": [
      "3\n",
      "7\n",
      "99\n",
      "7\n"
     ]
    }
   ],
   "source": [
    "#Change done by child class\n",
    "class Parent:\n",
    "    a=3\n",
    "class Child(Parent):\n",
    "    b=7\n",
    "c1=Child()\n",
    "print(c1.a) #3\n",
    "print(c1.b) #7\n",
    "c1.a=99\n",
    "print(c1.a) #99\n",
    "print(c1.b) #7"
   ]
  },
  {
   "cell_type": "code",
   "execution_count": 13,
   "metadata": {},
   "outputs": [
    {
     "name": "stdout",
     "output_type": "stream",
     "text": [
      "this is parent class\n",
      "this is child class\n"
     ]
    }
   ],
   "source": [
    "#Chaining method\n",
    "class Parent:\n",
    "    def display(self):\n",
    "        print(f\"this is parent class\")\n",
    "class Child(Parent):\n",
    "    def display(self):\n",
    "        super().display()    # Calling display method of the parent class\n",
    "        print(\"this is child class\")\n",
    "c1=Child()\n",
    "c1.display()"
   ]
  },
  {
   "cell_type": "code",
   "execution_count": 14,
   "metadata": {},
   "outputs": [
    {
     "name": "stdout",
     "output_type": "stream",
     "text": [
      "This is parent class\n",
      "This is child class\n"
     ]
    }
   ],
   "source": [
    "class Parent:\n",
    "    def display(self):\n",
    "        print(\"This is parent class\")\n",
    "\n",
    "class Child(Parent):\n",
    "    def display(self):\n",
    "        Parent.display(self)\n",
    "        print(\"This is child class\")\n",
    "\n",
    "c1 = Child()\n",
    "c1.display()\n"
   ]
  },
  {
   "cell_type": "code",
   "execution_count": 6,
   "metadata": {},
   "outputs": [
    {
     "name": "stdout",
     "output_type": "stream",
     "text": [
      "this is parent class\n",
      "this is child class\n"
     ]
    }
   ],
   "source": [
    "class Parent:\n",
    "    def display(self):\n",
    "        print(\"this is parent class\")\n",
    "class Child(Parent):\n",
    "    def display(self):\n",
    "        #super().display()\n",
    "        Parent.display(self)\n",
    "        print(\"this is child class\")\n",
    "c1=Child()\n",
    "c1.display()\n"
   ]
  },
  {
   "cell_type": "code",
   "execution_count": 10,
   "metadata": {},
   "outputs": [
    {
     "name": "stdout",
     "output_type": "stream",
     "text": [
      "this is parent class python\n",
      "this is child class java\n"
     ]
    }
   ],
   "source": [
    "class Parent:\n",
    "    def display(self,f_name):\n",
    "        print(\"this is parent class\",f_name)\n",
    "class Child(Parent):\n",
    "    def display(self, c_name):\n",
    "        super().display(\"python\")\n",
    "        print(\"this is child class\",c_name)\n",
    "c1=Child()\n",
    "c1.display(\"java\")"
   ]
  },
  {
   "cell_type": "code",
   "execution_count": 4,
   "metadata": {},
   "outputs": [
    {
     "name": "stdout",
     "output_type": "stream",
     "text": [
      "father had 30*40 size site\n",
      "this child have a bike\n",
      "grandpa have 10 acers\n"
     ]
    }
   ],
   "source": [
    "class Grandpa:\n",
    "    def field(self):\n",
    "        print(\"grandpa have 10 acers\")\n",
    "class Parent(Grandpa):\n",
    "    def plot(self):\n",
    "        print(\"father had 30*40 size site\")\n",
    "class Child(Parent):\n",
    "    def bike(self):\n",
    "        print(\"this child have a bike\")\n",
    "c1=Child()\n",
    "c1.plot()\n",
    "c1.bike()\n",
    "c1.field()"
   ]
  },
  {
   "cell_type": "code",
   "execution_count": 8,
   "metadata": {},
   "outputs": [
    {
     "name": "stdout",
     "output_type": "stream",
     "text": [
      "child have nothing\n",
      "mom have 100 grams of gold\n",
      "father have 1 crore money\n"
     ]
    }
   ],
   "source": [
    "#Multiple inheritence:\n",
    "#A single child class inheriting property from multiple parent class.\n",
    "class Father:\n",
    "    def money(self):\n",
    "        print(\"father have 1 crore money\")\n",
    "    \n",
    "class Mother:\n",
    "    def gold(self):\n",
    "        print(\"mom have 100 grams of gold\")\n",
    "class Child(Father,Mother):\n",
    "    def nothing(self):\n",
    "        print(\"child have nothing\")\n",
    "c1=Child()\n",
    "c1.nothing()\n",
    "c1.gold()\n",
    "c1.money()\n"
   ]
  },
  {
   "cell_type": "code",
   "execution_count": 17,
   "metadata": {},
   "outputs": [
    {
     "name": "stdout",
     "output_type": "stream",
     "text": [
      "child1 have car\n",
      "2 plots\n",
      "child2 have laptop\n",
      "2 plots\n"
     ]
    }
   ],
   "source": [
    "#Hierarchical inheritence\n",
    "#multiple child class inheriting the property from single parent class\n",
    "class Father:\n",
    "    def display(self):\n",
    "        print(\"2 plots\")\n",
    "class Child1(Father):\n",
    "    def pranay(self):\n",
    "        print(\"child1 have car\")\n",
    "class Child2(Father):\n",
    "    def srija(self):\n",
    "        print(\"child2 have laptop\")\n",
    "c1=Child1()\n",
    "c1.pranay()\n",
    "c1.display()\n",
    "#c1.srija()  'Child1' object has no attribute 'srija'\n",
    "c2=Child2()\n",
    "c2.srija()\n",
    "c2.display()\n",
    "#c2.pranay()  'Child2' object has no attribute 'pranay'"
   ]
  },
  {
   "cell_type": "code",
   "execution_count": 24,
   "metadata": {},
   "outputs": [
    {
     "name": "stdout",
     "output_type": "stream",
     "text": [
      "Child1 have car\n",
      "dad have 2 plots\n",
      "Mom have gold\n"
     ]
    }
   ],
   "source": [
    "#Hybrid inheritence\n",
    "#combination of two or more inheritence is called hybrid inheritence\n",
    "#is a combination of two or more types of inheritence within a single programming language.\n",
    "class Father:\n",
    "    def property(self):\n",
    "        print(\"dad have 2 plots\")\n",
    "class Mother:\n",
    "    def gold(self):\n",
    "        print(\"Mom have gold\")\n",
    "class Child1(Father,Mother):   #Multiple inheritence\n",
    "    def car(self):\n",
    "        print(\"Child1 have car\")\n",
    "class Child2(Child1):          #Hierarchical inheritence\n",
    "    def bike(self):\n",
    "        print(\"child2 have bike\")\n",
    "c1=Child1()\n",
    "c1.car()\n",
    "c1.property()\n",
    "c1.gold()\n",
    "#c1.bike() 'Child1' object has no attribute 'bike'\n"
   ]
  },
  {
   "cell_type": "code",
   "execution_count": 2,
   "metadata": {},
   "outputs": [
    {
     "name": "stdout",
     "output_type": "stream",
     "text": [
      "5\n",
      "3\n",
      "5\n",
      "2\n"
     ]
    }
   ],
   "source": [
    "#based on methods\n",
    "print(len(\"hello\"))\n",
    "print(len([1,2,3]))\n",
    "print(len({1,2,3,3,1,6,5}))\n",
    "print(len({\"a\":10,\"b\":20}))"
   ]
  },
  {
   "cell_type": "code",
   "execution_count": 11,
   "metadata": {},
   "outputs": [
    {
     "name": "stdout",
     "output_type": "stream",
     "text": [
      "30\n",
      "helloworld\n",
      "2\n",
      "hihihi\n",
      "(2, 3, 4, 2, 3, 4, 2, 3, 4)\n"
     ]
    }
   ],
   "source": [
    "#based on operators\n",
    "print(10+20)\n",
    "print(\"hello\"+\"world\")\n",
    "print(1*2)\n",
    "print(\"hi\"*3)\n",
    "print((2,3,4)*3)"
   ]
  },
  {
   "cell_type": "code",
   "execution_count": 15,
   "metadata": {},
   "outputs": [
    {
     "name": "stdout",
     "output_type": "stream",
     "text": [
      "10\n",
      "<class 'int'>\n"
     ]
    }
   ],
   "source": [
    "#Duck typing\n",
    "#can't specify the type of the data explicitly based on a provided values at runtime-\n",
    "#-the type will be justified automatically\n",
    "a=10\n",
    "print(a)\n",
    "print(type(a))\n"
   ]
  },
  {
   "cell_type": "code",
   "execution_count": 16,
   "metadata": {},
   "outputs": [
    {
     "name": "stdout",
     "output_type": "stream",
     "text": [
      "20.22\n",
      "<class 'float'>\n"
     ]
    }
   ],
   "source": [
    "b=20.22\n",
    "print(b)\n",
    "print(type(b))"
   ]
  },
  {
   "cell_type": "code",
   "execution_count": 19,
   "metadata": {},
   "outputs": [
    {
     "name": "stdout",
     "output_type": "stream",
     "text": [
      "30\n",
      "30.6\n",
      "30.5\n"
     ]
    }
   ],
   "source": [
    "def add(a,b):\n",
    "    return(a+b)\n",
    "print(add(10,20))\n",
    "print(add(10.10,20.5))\n",
    "print(add(10.5,20))"
   ]
  },
  {
   "cell_type": "code",
   "execution_count": 21,
   "metadata": {},
   "outputs": [
    {
     "name": "stdout",
     "output_type": "stream",
     "text": [
      "30\n"
     ]
    }
   ],
   "source": [
    "#Trying to do method overloading in python\n",
    "class Maths:\n",
    "    def add_(self,a,b):\n",
    "        return a+b\n",
    "m1=Maths()\n",
    "res=m1.add_(10,20)\n",
    "print(res)"
   ]
  },
  {
   "cell_type": "code",
   "execution_count": 25,
   "metadata": {},
   "outputs": [
    {
     "name": "stdout",
     "output_type": "stream",
     "text": [
      "60\n"
     ]
    }
   ],
   "source": [
    "#Same name methods\n",
    "class Maths:\n",
    "    def add_(self,a,b):\n",
    "        return a+b\n",
    "    def add_(self,a,b,c):\n",
    "        return a+b+c\n",
    "m1=Maths()\n",
    "#print(m1.add_(10,20)) -->add_() missing 1 required positional argument: 'c'\n",
    "print(m1.add_(10,20,30))   #6"
   ]
  },
  {
   "cell_type": "code",
   "execution_count": 34,
   "metadata": {},
   "outputs": [
    {
     "name": "stdout",
     "output_type": "stream",
     "text": [
      "1\n",
      "11\n",
      "6\n"
     ]
    }
   ],
   "source": [
    "#the method is behaving differently based on the no.of argument we are passing.\n",
    "#it is not 100% overloading that why we are callig it as a \"partial overloading implementaion\".\n",
    "class Maths:\n",
    "    def add_(self,a,b=0,c=0):\n",
    "        return a+b+c\n",
    "m1=Maths()\n",
    "print(m1.add_(1))\n",
    "print(m1.add_(8,3))\n",
    "print(m1.add_(1,2,3))"
   ]
  },
  {
   "cell_type": "code",
   "execution_count": 43,
   "metadata": {},
   "outputs": [
    {
     "name": "stdout",
     "output_type": "stream",
     "text": [
      "(10, 20)\n",
      "10 20\n",
      "30\n",
      "(10, 20, 30)\n",
      "10 20 30\n",
      "60\n",
      "(10, 20, 30, 40)\n",
      "10 20 30 40\n",
      "100\n"
     ]
    }
   ],
   "source": [
    "#partial overloading by using *args & **kwargs\n",
    "class Maths:\n",
    "    def add_(self,*args):\n",
    "        print(args)   #(10, 20)\n",
    "        print(*args)  #10 20\n",
    "        if len(args)==2:\n",
    "            return args[0]+args[1]\n",
    "        elif len(args)==3:\n",
    "            return args[0]+args[1]+args[2]\n",
    "        elif len(args)==4:\n",
    "            return args[0]+args[1]+args[2]+args[3]\n",
    "        else:\n",
    "            raise ValueError(\"num of elements are more than 4\")\n",
    "m1=Maths()\n",
    "print(m1.add_(10,20))\n",
    "print(m1.add_(10,20,30))\n",
    "print(m1.add_(10,20,30,40))\n",
    "#print(m1.add_(10,20,30,40,90,56)) ValueError: num of elements are more than 4"
   ]
  },
  {
   "cell_type": "code",
   "execution_count": 52,
   "metadata": {},
   "outputs": [
    {
     "name": "stdout",
     "output_type": "stream",
     "text": [
      "{'a': 10, 'b': 20}\n",
      "30\n",
      "{'a': 10, 'b': 20, 'c': 90}\n",
      "120\n"
     ]
    }
   ],
   "source": [
    "#Methid overloading using **kwargs\n",
    "class Maths:\n",
    "    def add_(self,**kwargs):\n",
    "        print(kwargs)\n",
    "        if len(kwargs)==2:\n",
    "            return kwargs[\"a\"]+kwargs[\"b\"]\n",
    "        elif len(kwargs)==3:\n",
    "            return kwargs[\"a\"]+kwargs[\"b\"]+kwargs[\"c\"]\n",
    "m1=Maths()\n",
    "print(m1.add_(a=10,b=20))\n",
    "print(m1.add_(a=10,b=20,c=90))"
   ]
  },
  {
   "cell_type": "code",
   "execution_count": 56,
   "metadata": {},
   "outputs": [
    {
     "name": "stdout",
     "output_type": "stream",
     "text": [
      "cat says meow meow\n"
     ]
    }
   ],
   "source": [
    "#method overridding\n",
    "class Animal:\n",
    "    def Sound(self):\n",
    "        print(\"animal sound\")\n",
    "class dog(Animal):\n",
    "    def Sound(self):\n",
    "        print(\"bog says bow bow\")\n",
    "class cat(Animal):\n",
    "    def Sound(self):\n",
    "        print(\"cat says meow meow\")\n",
    "a1=cat()\n",
    "a1.Sound()"
   ]
  },
  {
   "cell_type": "code",
   "execution_count": 3,
   "metadata": {},
   "outputs": [
    {
     "ename": "TypeError",
     "evalue": "Multiply() takes no arguments",
     "output_type": "error",
     "traceback": [
      "\u001b[1;31m---------------------------------------------------------------------------\u001b[0m",
      "\u001b[1;31mTypeError\u001b[0m                                 Traceback (most recent call last)",
      "Cell \u001b[1;32mIn[3], line 6\u001b[0m\n\u001b[0;32m      4\u001b[0m     \u001b[38;5;28;01mdef\u001b[39;00m \u001b[38;5;21m_init__\u001b[39m(\u001b[38;5;28mself\u001b[39m,a):\n\u001b[0;32m      5\u001b[0m         \u001b[38;5;28mself\u001b[39m\u001b[38;5;241m.\u001b[39ma\u001b[38;5;241m=\u001b[39ma\n\u001b[1;32m----> 6\u001b[0m m1\u001b[38;5;241m=\u001b[39m\u001b[43mMultiply\u001b[49m\u001b[43m(\u001b[49m\u001b[38;5;241;43m5\u001b[39;49m\u001b[43m)\u001b[49m\n\u001b[0;32m      7\u001b[0m m2\u001b[38;5;241m=\u001b[39mMultiply(\u001b[38;5;241m2\u001b[39m)\n\u001b[0;32m      8\u001b[0m \u001b[38;5;28mprint\u001b[39m(m1\u001b[38;5;241m*\u001b[39mm2) \n",
      "\u001b[1;31mTypeError\u001b[0m: Multiply() takes no arguments"
     ]
    }
   ],
   "source": [
    "#Operator overloading\n",
    "#to do operator overloading we need some magic methods\n",
    "class Multiply:\n",
    "    def _init__(self,a):\n",
    "        self.a=a\n",
    "m1=Multiply(5)\n",
    "m2=Multiply(2)\n",
    "print(m1*m2) "
   ]
  },
  {
   "cell_type": "code",
   "execution_count": 60,
   "metadata": {},
   "outputs": [
    {
     "name": "stdout",
     "output_type": "stream",
     "text": [
      "10\n"
     ]
    }
   ],
   "source": [
    "class Multiply:\n",
    "    def __init__(self,n):\n",
    "        self.n=n\n",
    "    def __mul__(self,other):\n",
    "        return self.n*other.n\n",
    "m1=Multiply(5)\n",
    "m2=Multiply(2)\n",
    "print(m1*m2)"
   ]
  },
  {
   "cell_type": "code",
   "execution_count": 65,
   "metadata": {},
   "outputs": [
    {
     "name": "stdout",
     "output_type": "stream",
     "text": [
      "False\n",
      "False\n"
     ]
    }
   ],
   "source": [
    "class Equalsto:\n",
    "    def __init__(self,name,age):\n",
    "        self.name=name\n",
    "        self.age=age\n",
    "a1=Equalsto('virat',40)\n",
    "a2=Equalsto(\"rohit\",30)\n",
    "a3=Equalsto(\"virat\",40)\n",
    "print(a1==a2)\n",
    "print(a1==a3)"
   ]
  },
  {
   "cell_type": "code",
   "execution_count": 67,
   "metadata": {},
   "outputs": [
    {
     "name": "stdout",
     "output_type": "stream",
     "text": [
      "False\n",
      "True\n"
     ]
    }
   ],
   "source": [
    "class Equalsto:\n",
    "    def __init__(self,name,age):\n",
    "        self.name=name\n",
    "        self.age=age\n",
    "    def __eq__(self,other):\n",
    "        return self.name==other.name and self.age==other.age\n",
    "m1=Equalsto(\"virat\",40)\n",
    "m2=Equalsto(\"rohit\",35)\n",
    "m3=Equalsto(\"virat\",40)\n",
    "print(m1==m2)\n",
    "print(m1==m3)\n"
   ]
  },
  {
   "cell_type": "code",
   "execution_count": 1,
   "metadata": {},
   "outputs": [
    {
     "name": "stdout",
     "output_type": "stream",
     "text": [
      "this is abstract class\n"
     ]
    }
   ],
   "source": [
    "#Without importing abc module\n",
    "class Python:\n",
    "    def display(self):\n",
    "        print(\"this is abstract class\")\n",
    "p1=Python()\n",
    "p1.display()"
   ]
  },
  {
   "cell_type": "code",
   "execution_count": 3,
   "metadata": {},
   "outputs": [
    {
     "name": "stdout",
     "output_type": "stream",
     "text": [
      "this is abstract class\n"
     ]
    }
   ],
   "source": [
    "#With importing the abc module\n",
    "from abc import *\n",
    "class Python:\n",
    "    def display(self):\n",
    "        print(\"this is abstract class\")\n",
    "p1=Python()\n",
    "p1.display()"
   ]
  },
  {
   "cell_type": "code",
   "execution_count": 6,
   "metadata": {},
   "outputs": [
    {
     "name": "stdout",
     "output_type": "stream",
     "text": [
      "this is abstract class\n"
     ]
    }
   ],
   "source": [
    "#With importing and inherting ABC class\n",
    "from abc import *\n",
    "class Python(ABC):\n",
    "    def display(self):\n",
    "        print(\"this is abstract class\")\n",
    "p1=Python()\n",
    "p1.display()"
   ]
  },
  {
   "cell_type": "code",
   "execution_count": 8,
   "metadata": {},
   "outputs": [
    {
     "name": "stdout",
     "output_type": "stream",
     "text": [
      "this is abstract class\n"
     ]
    }
   ],
   "source": [
    "#With import & @abstractmethod & without ABC\n",
    "from abc import *\n",
    "class Python:\n",
    "    @abstractmethod\n",
    "    def display(self):\n",
    "        print(\"this is abstract class\")\n",
    "p1=Python()\n",
    "p1.display()"
   ]
  },
  {
   "cell_type": "code",
   "execution_count": 2,
   "metadata": {},
   "outputs": [
    {
     "ename": "TypeError",
     "evalue": "Can't instantiate abstract class Python without an implementation for abstract method 'display'",
     "output_type": "error",
     "traceback": [
      "\u001b[1;31m---------------------------------------------------------------------------\u001b[0m",
      "\u001b[1;31mTypeError\u001b[0m                                 Traceback (most recent call last)",
      "Cell \u001b[1;32mIn[2], line 7\u001b[0m\n\u001b[0;32m      4\u001b[0m     \u001b[38;5;129m@abstractmethod\u001b[39m\n\u001b[0;32m      5\u001b[0m     \u001b[38;5;28;01mdef\u001b[39;00m \u001b[38;5;21mdisplay\u001b[39m(\u001b[38;5;28mself\u001b[39m):\n\u001b[0;32m      6\u001b[0m         \u001b[38;5;28;01mpass\u001b[39;00m\n\u001b[1;32m----> 7\u001b[0m p1\u001b[38;5;241m=\u001b[39m\u001b[43mPython\u001b[49m\u001b[43m(\u001b[49m\u001b[43m)\u001b[49m\n\u001b[0;32m      8\u001b[0m \u001b[38;5;66;03m#p1.display() TypeError: Can't instantiate abstract class Python with abstract method display\u001b[39;00m\n",
      "\u001b[1;31mTypeError\u001b[0m: Can't instantiate abstract class Python without an implementation for abstract method 'display'"
     ]
    }
   ],
   "source": [
    "#with import & @abstractmethod with pass& inheriting ABC\n",
    "from abc import * \n",
    "class Python(ABC):\n",
    "    @abstractmethod\n",
    "    def display(self):\n",
    "        pass\n",
    "p1=Python()\n",
    "#p1.display() TypeError: Can't instantiate abstract class Python with abstract method display"
   ]
  },
  {
   "cell_type": "code",
   "execution_count": 17,
   "metadata": {},
   "outputs": [
    {
     "name": "stdout",
     "output_type": "stream",
     "text": [
      "{'__module__': '__main__', 'a': 10, '__init__': <function Public.__init__ at 0x00000230EA9A9B80>, 'display': <function Public.display at 0x00000230EA9A98B0>, '__dict__': <attribute '__dict__' of 'Public' objects>, '__weakref__': <attribute '__weakref__' of 'Public' objects>, '__doc__': None}\n",
      "the sum of numbers 32\n",
      "10\n",
      "22\n",
      "10\n",
      "the sum of numbers 110\n",
      "100\n"
     ]
    }
   ],
   "source": [
    "#Encapsulation\n",
    "#Public access specifier\n",
    "class Public:\n",
    "    a=10\n",
    "    def __init__(self,b):\n",
    "        self.b=b\n",
    "    def display(self):\n",
    "        return (f\"the sum of numbers {self.a+self.b}\")\n",
    "p1=Public(22)\n",
    "print(Public.__dict__)\n",
    "print(p1.display())\n",
    "print(p1.a)\n",
    "print(p1.b)\n",
    "class Child(Public):\n",
    "    def access_variable(self):\n",
    "        return self.a\n",
    "    def access_method(self):\n",
    "        return self.display()\n",
    "c1=Child(100)\n",
    "print(c1.access_variable())\n",
    "print(c1.access_method())\n",
    "print(c1.b)"
   ]
  },
  {
   "cell_type": "code",
   "execution_count": 27,
   "metadata": {},
   "outputs": [
    {
     "name": "stdout",
     "output_type": "stream",
     "text": [
      "the sum of the numbers are 30\n",
      "10\n",
      "20\n",
      "10\n",
      "the sum of the numbers are 75\n"
     ]
    }
   ],
   "source": [
    "#Public access specifier\n",
    "class Public:\n",
    "    a=10\n",
    "    def __init__(self,b):\n",
    "        self.b=b\n",
    "    def display(self):\n",
    "        return (f\"the sum of the numbers are {self.a+self.b}\")\n",
    "p1=Public(20)\n",
    "print(p1.display())\n",
    "print(p1.a)\n",
    "print(p1.b)\n",
    "class Child(Public):\n",
    "    def access_variable(self):\n",
    "        return self.a\n",
    "    def access_method(self):\n",
    "        return self.display()\n",
    "c1=Child(65)\n",
    "print(c1.access_variable())\n",
    "print(c1.access_method())"
   ]
  },
  {
   "cell_type": "code",
   "execution_count": 6,
   "metadata": {},
   "outputs": [
    {
     "name": "stdout",
     "output_type": "stream",
     "text": [
      "10\n",
      "20\n",
      "10\n",
      "the sum of numbers 110\n"
     ]
    }
   ],
   "source": [
    "#Public access specifier\n",
    "class Public:\n",
    "    a=10\n",
    "    def __init__(self,b):\n",
    "        self.b=b\n",
    "    def display(self):\n",
    "        return (f\"the sum of numbers {self.a+self.b}\") \n",
    "p1=Public(20)\n",
    "#print(p1.display())  NameError: name 'b' is not defined\n",
    "print(p1.a)\n",
    "print(p1.b)\n",
    "class Child(Public):\n",
    "    def access_variable(self):\n",
    "        return self.a\n",
    "    def access_method(self):\n",
    "        return self.display()\n",
    "c1=Child(100)\n",
    "print(c1.access_variable())\n",
    "print(c1.access_method())"
   ]
  },
  {
   "cell_type": "code",
   "execution_count": 18,
   "metadata": {},
   "outputs": [
    {
     "name": "stdout",
     "output_type": "stream",
     "text": [
      "10\n",
      "6\n",
      "the sum of numbers 16\n"
     ]
    }
   ],
   "source": [
    "#Protected access specifier\n",
    "class Protect:\n",
    "    _a=10\n",
    "    def __init__(self,_b):\n",
    "        self._b=_b\n",
    "    def display(self):\n",
    "        return f\"the sum of numbers {self._a+self._b}\"\n",
    "p1=Protect(6)\n",
    "print(p1._a)\n",
    "print(p1._b)\n",
    "print(p1.display())\n",
    "    "
   ]
  },
  {
   "cell_type": "code",
   "execution_count": 29,
   "metadata": {},
   "outputs": [
    {
     "name": "stdout",
     "output_type": "stream",
     "text": [
      "10\n"
     ]
    }
   ],
   "source": [
    "#Private access specifier\n",
    "class Private:\n",
    "    __a=10\n",
    "    def __init__(self,b):\n",
    "        self.__b=b\n",
    "    def __display(self):\n",
    "        return f\"the sum of numbers are {self.__a+self.__b}\"\n",
    "a1=Private(2)\n",
    "#print(a1.__a) AttributeError: 'Private' object has no attribute '__a'\n",
    "#print(a1.__display()) AttributeError: 'Private' object has no attribute '__display'\n",
    "print(a1._Private__a)\n",
    "class Child(Private):\n",
    "    def access_variable(self):\n",
    "        return self.__a\n",
    "    def access_method(self):\n",
    "        return self.__display()\n",
    "c1=Child(33)\n",
    "# print(c1.access_variable()) AttributeError:'Child' object has no attribute '_Child__a'\n",
    "#print(c1.access_method())   AttributeError:'Child' object has no attribute '_Child__display'\n",
    "    "
   ]
  },
  {
   "cell_type": "code",
   "execution_count": 42,
   "metadata": {},
   "outputs": [
    {
     "name": "stdout",
     "output_type": "stream",
     "text": [
      "10\n",
      "20\n",
      "the sum is 30\n",
      "10\n",
      "the sum is 109\n"
     ]
    }
   ],
   "source": [
    "class Private:\n",
    "    __a=10\n",
    "    def __init__(self,b):\n",
    "        self.__b=b\n",
    "    def __display(self):\n",
    "        return f\"the sum is {self.__a+self.__b}\"\n",
    "p1=Private(20)\n",
    "#print(p1.__a) AttributeError: 'Public' object has no attribute '__a'\n",
    "print(p1._Private__a)\n",
    "#print(p1.__display()) AttributeError: 'Private' object has no attribute '__display'\n",
    "print(p1._Private__b)\n",
    "print(p1._Private__display())\n",
    "\n",
    "\n",
    "class Child(Private):\n",
    "    def access_variable(self):\n",
    "        return self._Private__a\n",
    "    def access_method(self):\n",
    "        return self._Private__display()\n",
    "c1=Child(99)\n",
    "print(c1.access_variable())\n",
    "print(c1.access_method())"
   ]
  },
  {
   "cell_type": "code",
   "execution_count": 1,
   "metadata": {},
   "outputs": [
    {
     "name": "stdout",
     "output_type": "stream",
     "text": [
      "<class '__main__.A'>\n"
     ]
    }
   ],
   "source": [
    "class A:\n",
    "    pass\n",
    "print(A)"
   ]
  },
  {
   "cell_type": "code",
   "execution_count": 2,
   "metadata": {},
   "outputs": [
    {
     "name": "stdout",
     "output_type": "stream",
     "text": [
      "hyderabad\n"
     ]
    }
   ],
   "source": [
    "class Student:\n",
    "    location=\"hyderabad\"\n",
    "# print(Student.location)\n",
    "s1=Student()\n",
    "print(s1.location)"
   ]
  },
  {
   "cell_type": "code",
   "execution_count": 3,
   "metadata": {},
   "outputs": [
    {
     "name": "stdout",
     "output_type": "stream",
     "text": [
      "{'__module__': '__main__', '__dict__': <attribute '__dict__' of 'Student' objects>, '__weakref__': <attribute '__weakref__' of 'Student' objects>, '__doc__': None}\n"
     ]
    }
   ],
   "source": [
    "class Student:\n",
    "    pass\n",
    "print(Student.__dict__)"
   ]
  },
  {
   "cell_type": "code",
   "execution_count": 7,
   "metadata": {},
   "outputs": [
    {
     "name": "stdout",
     "output_type": "stream",
     "text": [
      "{'__module__': '__main__', '__dict__': <attribute '__dict__' of 'Student' objects>, '__weakref__': <attribute '__weakref__' of 'Student' objects>, '__doc__': None}\n",
      "srija\n",
      "21\n",
      "{'__module__': '__main__', '__dict__': <attribute '__dict__' of 'Student' objects>, '__weakref__': <attribute '__weakref__' of 'Student' objects>, '__doc__': None, 'name': 'srija', 'age': 21}\n"
     ]
    }
   ],
   "source": [
    "#creating\n",
    "class Student:\n",
    "    pass\n",
    "print(Student.__dict__)\n",
    "Student.name=\"srija\"\n",
    "Student.age=21\n",
    "print(Student.name)\n",
    "print(Student.age)\n",
    "print(Student.__dict__)"
   ]
  },
  {
   "cell_type": "code",
   "execution_count": 9,
   "metadata": {},
   "outputs": [
    {
     "name": "stdout",
     "output_type": "stream",
     "text": [
      "5000\n",
      "5000\n",
      "5000\n"
     ]
    }
   ],
   "source": [
    "#retriving\n",
    "class Library:\n",
    "    totalbooks=5000\n",
    "print(Library.totalbooks)\n",
    "b1=Library()\n",
    "print(b1.totalbooks)"
   ]
  },
  {
   "cell_type": "code",
   "execution_count": 10,
   "metadata": {},
   "outputs": [
    {
     "name": "stdout",
     "output_type": "stream",
     "text": [
      "5000\n",
      "5000\n",
      "2173400328352\n",
      "2173362641200\n"
     ]
    }
   ],
   "source": [
    "#updating\n",
    "class Library:\n",
    "    totalbooks=5000\n",
    "l1=Library()\n",
    "print(Library.totalbooks)\n",
    "print(l1.totalbooks)\n",
    "print(id(l1))\n",
    "print(id(Library))"
   ]
  },
  {
   "cell_type": "code",
   "execution_count": 8,
   "metadata": {},
   "outputs": [
    {
     "name": "stdout",
     "output_type": "stream",
     "text": [
      "{'__module__': '__main__', '__dict__': <attribute '__dict__' of 'Qspiders' objects>, '__weakref__': <attribute '__weakref__' of 'Qspiders' objects>, '__doc__': None}\n",
      "{'__module__': '__main__', '__dict__': <attribute '__dict__' of 'Qspiders' objects>, '__weakref__': <attribute '__weakref__' of 'Qspiders' objects>, '__doc__': None, 'total_students': 300}\n"
     ]
    }
   ],
   "source": [
    "class Qspiders:\n",
    "    pass\n",
    "print(Qspiders.__dict__)\n",
    "Qspiders.total_students=300\n",
    "print(Qspiders.__dict__)"
   ]
  },
  {
   "cell_type": "code",
   "execution_count": 9,
   "metadata": {},
   "outputs": [
    {
     "name": "stdout",
     "output_type": "stream",
     "text": [
      "{'__module__': '__main__', 'total_students': 250, '__dict__': <attribute '__dict__' of 'Qspiders' objects>, '__weakref__': <attribute '__weakref__' of 'Qspiders' objects>, '__doc__': None}\n",
      "250\n",
      "250\n",
      "250\n"
     ]
    }
   ],
   "source": [
    "class Qspiders:\n",
    "    total_students=250\n",
    "print(Qspiders.__dict__)\n",
    "q=Qspiders()\n",
    "print(Qspiders.total_students)\n",
    "print(q.total_students)\n",
    "print(Qspiders().total_students)"
   ]
  },
  {
   "cell_type": "code",
   "execution_count": 3,
   "metadata": {},
   "outputs": [
    {
     "name": "stdout",
     "output_type": "stream",
     "text": [
      "{'__module__': '__main__', 'total_students': 250, '__dict__': <attribute '__dict__' of 'Qspiders' objects>, '__weakref__': <attribute '__weakref__' of 'Qspiders' objects>, '__doc__': None}\n",
      "{'__module__': '__main__', 'total_students': 300, '__dict__': <attribute '__dict__' of 'Qspiders' objects>, '__weakref__': <attribute '__weakref__' of 'Qspiders' objects>, '__doc__': None}\n"
     ]
    }
   ],
   "source": [
    "class Qspiders:\n",
    "    total_students=250\n",
    "print(Qspiders.__dict__)\n",
    "Qspiders.total_students=300\n",
    "print(Qspiders.__dict__)\n",
    "    "
   ]
  },
  {
   "cell_type": "code",
   "execution_count": 4,
   "metadata": {},
   "outputs": [
    {
     "name": "stdout",
     "output_type": "stream",
     "text": [
      "{'__module__': '__main__', '__dict__': <attribute '__dict__' of 'dress' objects>, '__weakref__': <attribute '__weakref__' of 'dress' objects>, '__doc__': None}\n",
      "{'__module__': '__main__', '__dict__': <attribute '__dict__' of 'dress' objects>, '__weakref__': <attribute '__weakref__' of 'dress' objects>, '__doc__': None, 'shop': 'Nexus mall', 'prise': 1000, 'color': 'orange'}\n"
     ]
    }
   ],
   "source": [
    "class dress:\n",
    "    # cost=1000\n",
    "    pass\n",
    "print(dress.__dict__) \n",
    "dress.shop=\"Nexus mall\"\n",
    "dress.prise=1000\n",
    "dress.color=\"orange\"\n",
    "print(dress.__dict__)\n"
   ]
  },
  {
   "cell_type": "code",
   "execution_count": 10,
   "metadata": {},
   "outputs": [
    {
     "name": "stdout",
     "output_type": "stream",
     "text": [
      "{'__module__': '__main__', '__dict__': <attribute '__dict__' of 'dress' objects>, '__weakref__': <attribute '__weakref__' of 'dress' objects>, '__doc__': None, 'shop': 'Max', 'prise': 450, 'color': 'pink'}\n"
     ]
    }
   ],
   "source": [
    "class dress:\n",
    "    # cost=1000\n",
    "    pass\n",
    "dress.shop=\"Max\"\n",
    "dress.prise=450\n",
    "dress.color=\"pink\"\n",
    "print(dress.__dict__)"
   ]
  },
  {
   "cell_type": "code",
   "execution_count": 11,
   "metadata": {},
   "outputs": [
    {
     "name": "stdout",
     "output_type": "stream",
     "text": [
      "{'__module__': '__main__', '__dict__': <attribute '__dict__' of 'dress' objects>, '__weakref__': <attribute '__weakref__' of 'dress' objects>, '__doc__': None, 'shop': 'Max', 'prise': 450, 'color': 'pink'}\n",
      "Max\n",
      "450\n",
      "pink\n"
     ]
    }
   ],
   "source": [
    "class dress:\n",
    "    # cost=1000\n",
    "    pass\n",
    "dress.shop=\"Max\"\n",
    "dress.prise=450\n",
    "dress.color=\"pink\"\n",
    "print(dress.__dict__)\n",
    "d=dress()\n",
    "print(d.shop)\n",
    "print(dress.prise)\n",
    "print(dress().color)"
   ]
  },
  {
   "cell_type": "code",
   "execution_count": 3,
   "metadata": {},
   "outputs": [
    {
     "name": "stdout",
     "output_type": "stream",
     "text": [
      "{'__module__': '__main__', '__dict__': <attribute '__dict__' of 'coaching' objects>, '__weakref__': <attribute '__weakref__' of 'coaching' objects>, '__doc__': None}\n",
      "{'__module__': '__main__', '__dict__': <attribute '__dict__' of 'coaching' objects>, '__weakref__': <attribute '__weakref__' of 'coaching' objects>, '__doc__': None, 'subjects': 'apttitude', 'price': 20000, 'location': 'hyd'}\n",
      "apttitude\n",
      "20000\n",
      "hyd\n",
      "python\n",
      "40000\n",
      "banglore\n"
     ]
    }
   ],
   "source": [
    "class coaching:\n",
    "    pass\n",
    "print(coaching.__dict__) \n",
    "coaching.subjects=\"apttitude\"\n",
    "coaching.price=20000\n",
    "coaching.location=\"hyd\"\n",
    "print(coaching.__dict__)\n",
    "c=coaching()\n",
    "print(c.subjects)\n",
    "print(c.price)\n",
    "print(coaching().location)\n",
    "coaching.subjects=\"python\"\n",
    "coaching.price=40000\n",
    "coaching.location=\"banglore\"\n",
    "print(coaching.subjects)\n",
    "print(c.price)\n",
    "print(coaching().location)"
   ]
  },
  {
   "cell_type": "code",
   "execution_count": 8,
   "metadata": {},
   "outputs": [
    {
     "name": "stdout",
     "output_type": "stream",
     "text": [
      "{'__module__': '__main__', '__dict__': <attribute '__dict__' of 'datascience' objects>, '__weakref__': <attribute '__weakref__' of 'datascience' objects>, '__doc__': None}\n",
      "{'__module__': '__main__', '__dict__': <attribute '__dict__' of 'datascience' objects>, '__weakref__': <attribute '__weakref__' of 'datascience' objects>, '__doc__': None, 'subjects': 'machine learning'}\n",
      "machine learning\n",
      "500\n",
      "KNN\n",
      "deeplearning\n",
      "20\n",
      "K means clustering\n",
      "{'__module__': '__main__', '__dict__': <attribute '__dict__' of 'datascience' objects>, '__weakref__': <attribute '__weakref__' of 'datascience' objects>, '__doc__': None, 'subjects': 'deeplearning', 'algorithms': 'K means clustering'}\n"
     ]
    }
   ],
   "source": [
    "class datascience:\n",
    "    pass\n",
    "print(datascience.__dict__) \n",
    "datascience.subjects=\"machine learning\"\n",
    "print(datascience.__dict__)\n",
    "datascience.members=500\n",
    "datascience.algorithms=\"KNN\"\n",
    "d=datascience()\n",
    "print(datascience.subjects)\n",
    "print(datascience.members)\n",
    "print(datascience().algorithms)\n",
    "datascience.subjects=\"deeplearning\"\n",
    "datascience.members=20\n",
    "datascience.algorithms=\"K means clustering\"\n",
    "print(datascience.subjects)\n",
    "print(datascience.members)\n",
    "print(datascience().algorithms)\n",
    "del datascience.members\n",
    "print(datascience.__dict__)"
   ]
  },
  {
   "cell_type": "code",
   "execution_count": 5,
   "metadata": {},
   "outputs": [
    {
     "name": "stdout",
     "output_type": "stream",
     "text": [
      "{'__module__': '__main__', '__dict__': <attribute '__dict__' of 'employee' objects>, '__weakref__': <attribute '__weakref__' of 'employee' objects>, '__doc__': None}\n",
      "{'__module__': '__main__', '__dict__': <attribute '__dict__' of 'employee' objects>, '__weakref__': <attribute '__weakref__' of 'employee' objects>, '__doc__': None, 'name': 'priya', 'empid': 101, 'location': 'hyd'}\n"
     ]
    }
   ],
   "source": [
    "class employee:\n",
    "    pass\n",
    "print(employee.__dict__) \n",
    "employee.name=\"priya\"\n",
    "employee.empid=101\n",
    "employee.location=\"hyd\"\n",
    "print(employee.__dict__)"
   ]
  },
  {
   "cell_type": "code",
   "execution_count": 11,
   "metadata": {},
   "outputs": [
    {
     "name": "stdout",
     "output_type": "stream",
     "text": [
      "{'__module__': '__main__', '__dict__': <attribute '__dict__' of 'employee' objects>, '__weakref__': <attribute '__weakref__' of 'employee' objects>, '__doc__': None}\n",
      "{'__module__': '__main__', '__dict__': <attribute '__dict__' of 'employee' objects>, '__weakref__': <attribute '__weakref__' of 'employee' objects>, '__doc__': None, 'name': 'vani', 'empid': 130, 'location': 'pune'}\n",
      "vani\n",
      "130\n",
      "pune\n",
      "{'__module__': '__main__', '__dict__': <attribute '__dict__' of 'employee' objects>, '__weakref__': <attribute '__weakref__' of 'employee' objects>, '__doc__': None, 'empid': 130, 'location': 'pune'}\n"
     ]
    }
   ],
   "source": [
    "class employee:\n",
    "    pass\n",
    "print(employee.__dict__) \n",
    "employee.name=\"priya\"\n",
    "employee.empid=101\n",
    "employee.location=\"hyd\"\n",
    "print(employee.__dict__)\n",
    "print(employee.__dict__) \n",
    "employee.name=\"vani\"`+\n",
    "employee.empid=130\n",
    "employee.location=\"pune\"\n",
    "print(employee.__dict__)\n",
    "e=employee()\n",
    "print(employee.name)\n",
    "print(e.empid)\n",
    "print(employee().location)\n",
    "del employee.name\n",
    "print(employee.__dict__)"
   ]
  },
  {
   "cell_type": "code",
   "execution_count": 13,
   "metadata": {},
   "outputs": [
    {
     "name": "stdout",
     "output_type": "stream",
     "text": [
      "venu gopal\n",
      "python\n",
      "dilshuknagar\n",
      "kashi\n",
      "python\n",
      "kphb\n",
      "{'__module__': '__main__', 'name': 'kashi', 'branch': 'kphb', '__dict__': <attribute '__dict__' of 'trainer' objects>, '__weakref__': <attribute '__weakref__' of 'trainer' objects>, '__doc__': None}\n"
     ]
    }
   ],
   "source": [
    "class trainer:\n",
    "    name=\"venu gopal\"\n",
    "    technology=\"python\"\n",
    "    branch=\"dilshuknagar\"\n",
    "t=trainer()\n",
    "print(trainer.name)\n",
    "print(t.technology)\n",
    "print(trainer().branch)\n",
    "trainer.name=\"kashi\"\n",
    "trainer.technology=\"python\"\n",
    "trainer.branch=\"kphb\"\n",
    "print(trainer.name)\n",
    "print(t.technology)\n",
    "print(trainer().branch)\n",
    "del trainer.technology\n",
    "print(trainer.__dict__)"
   ]
  },
  {
   "cell_type": "code",
   "execution_count": 10,
   "metadata": {},
   "outputs": [
    {
     "name": "stdout",
     "output_type": "stream",
     "text": [
      "srija\n",
      "rani\n",
      "21\n"
     ]
    }
   ],
   "source": [
    "class Student:\n",
    "    pass\n",
    "s1=Student()\n",
    "s2=Student()\n",
    "s1.name=\"srija\"\n",
    "s1.age=21\n",
    "s2.name=\"rani\"\n",
    "print(s1.name)\n",
    "print(s2.name)\n",
    "print(s1.age)\n",
    "# print(s2.age)"
   ]
  },
  {
   "cell_type": "code",
   "execution_count": 2,
   "metadata": {},
   "outputs": [
    {
     "name": "stdout",
     "output_type": "stream",
     "text": [
      "max\n",
      "nexus\n",
      "near dmart\n"
     ]
    }
   ],
   "source": [
    "class shop:\n",
    "    pass\n",
    "s1=shop()\n",
    "s2=shop()\n",
    "s1.name=\"max\"\n",
    "s1.location=\"near dmart\"\n",
    "s2.name=\"nexus\"\n",
    "print(s1.name)\n",
    "print(s2.name)\n",
    "print(s1.location)\n",
    "\n",
    "# print(s2.age)"
   ]
  },
  {
   "cell_type": "code",
   "execution_count": null,
   "metadata": {},
   "outputs": [],
   "source": []
  },
  {
   "cell_type": "code",
   "execution_count": 8,
   "metadata": {},
   "outputs": [
    {
     "name": "stdout",
     "output_type": "stream",
     "text": [
      "orange\n",
      "s\n",
      "500\n",
      "pink\n"
     ]
    }
   ],
   "source": [
    "class dress:\n",
    "    pass\n",
    "d1=dress()\n",
    "d2=dress()\n",
    "d1.color=\"orange\"\n",
    "d1.size=\"s\"\n",
    "d2.color=\"pink\"\n",
    "d2.size=500\n",
    "print(d1.color)\n",
    "print(d1.size)\n",
    "print(d2.size)\n",
    "print(d2.color)"
   ]
  },
  {
   "cell_type": "code",
   "execution_count": 9,
   "metadata": {},
   "outputs": [
    {
     "name": "stdout",
     "output_type": "stream",
     "text": [
      "S.F.S high school\n",
      "korutla\n",
      "Fr.Rajkumar\n",
      "masstro\n"
     ]
    }
   ],
   "source": [
    "class school:\n",
    "    pass\n",
    "s1=school()\n",
    "s2=school()\n",
    "s1.Sname=\"S.F.S high school\"\n",
    "s1.location=\"korutla\"\n",
    "s2.principal=\"Fr.Rajkumar\"\n",
    "s2.Sname=\"masstro\"\n",
    "print(s1.Sname)\n",
    "print(s1.location)\n",
    "print(s2.principal)\n",
    "print(s2.Sname)"
   ]
  },
  {
   "cell_type": "code",
   "execution_count": 13,
   "metadata": {},
   "outputs": [
    {
     "name": "stdout",
     "output_type": "stream",
     "text": [
      "narasimha\n",
      "jeevitham ante poratam\n",
      "Ravikumar\n",
      "mahanati\n",
      "Nag ashwin\n"
     ]
    }
   ],
   "source": [
    "class movies:\n",
    "    pass\n",
    "m1=movies()\n",
    "m2=movies()\n",
    "m1.mname=\"narasimha\"\n",
    "m1.song=\"jeevitham ante poratam\"\n",
    "m1.director=\"Ravikumar\"\n",
    "m2.mname=\"mahanati\"\n",
    "m2.director=\"Nag ashwin\"\n",
    "print(m1.mname)\n",
    "print(m1.song)\n",
    "print(m1.director)\n",
    "print(m2.mname)\n",
    "print(m2.director)"
   ]
  },
  {
   "cell_type": "code",
   "execution_count": 1,
   "metadata": {},
   "outputs": [
    {
     "name": "stdout",
     "output_type": "stream",
     "text": [
      "narasimha jeevitham ante poratam Ravikumar\n",
      "mahanati Nag ashwin\n"
     ]
    }
   ],
   "source": [
    "class movies:\n",
    "    mname=None\n",
    "    song=None\n",
    "    director=None\n",
    "m1=movies()\n",
    "m2=movies()\n",
    "m1.mname=\"narasimha\"\n",
    "m1.song=\"jeevitham ante poratam\"\n",
    "m1.director=\"Ravikumar\"\n",
    "m2.mname=\"mahanati\"\n",
    "m2.director=\"Nag ashwin\"\n",
    "print(m1.mname,m1.song,m1.director)\n",
    "print(m2.mname,m2.director)"
   ]
  },
  {
   "cell_type": "code",
   "execution_count": 2,
   "metadata": {},
   "outputs": [
    {
     "name": "stdout",
     "output_type": "stream",
     "text": [
      "None None None\n",
      "None None None\n",
      "venu gopal python dilshuknagar\n",
      "None None None\n"
     ]
    }
   ],
   "source": [
    "class trainer:\n",
    "    name=None\n",
    "    technology=None\n",
    "    branch=None\n",
    "t1=trainer()\n",
    "t2=trainer()\n",
    "print(t1.name,t1.technology,t1.branch)\n",
    "print(t2.name,t2.technology,t2.branch)\n",
    "t1.name=\"venu gopal\"\n",
    "t1.technology=\"python\"\n",
    "t1.branch=\"dilshuknagar\"\n",
    "print(t1.name,t1.technology,t1.branch)\n",
    "print(t2.name,t2.technology,t2.branch)"
   ]
  },
  {
   "cell_type": "code",
   "execution_count": 6,
   "metadata": {},
   "outputs": [
    {
     "name": "stdout",
     "output_type": "stream",
     "text": [
      "S.F.S high school ,korutla\n",
      "masstro ,Fr.Rajkumar\n"
     ]
    }
   ],
   "source": [
    "class school:\n",
    "    Sname=None\n",
    "    location=None\n",
    "    principal=None\n",
    "    Sname=None\n",
    "s1=school()\n",
    "s2=school()\n",
    "s1.Sname=\"S.F.S high school\"\n",
    "s1.location=\"korutla\"\n",
    "s2.principal=\"Fr.Rajkumar\"\n",
    "s2.Sname=\"masstro\"\n",
    "print(s1.Sname,s1.location,sep=\" ,\")\n",
    "print(s2.Sname,s2.principal,sep=\" ,\")\n"
   ]
  },
  {
   "cell_type": "code",
   "execution_count": 7,
   "metadata": {},
   "outputs": [
    {
     "name": "stdout",
     "output_type": "stream",
     "text": [
      "orange, s\n",
      "500, pink\n",
      "\n"
     ]
    }
   ],
   "source": [
    "class dress:\n",
    "    color=None\n",
    "    size=None\n",
    "d1=dress()\n",
    "d2=dress()\n",
    "d1.color=\"orange\"\n",
    "d1.size=\"s\"\n",
    "d2.color=\"pink\"\n",
    "d2.size=500\n",
    "print(d1.color,d1.size, sep=\", \")\n",
    "print(d2.size,d2.color,sep=\", \")\n"
   ]
  },
  {
   "cell_type": "code",
   "execution_count": 1,
   "metadata": {},
   "outputs": [
    {
     "name": "stdout",
     "output_type": "stream",
     "text": [
      "<__main__.Student object at 0x0000025C8E85BEF0>\n"
     ]
    }
   ],
   "source": [
    "class Student:\n",
    "    name=None\n",
    "    age=None\n",
    "    def __init__(self,name,age):\n",
    "        self.name=name\n",
    "        self.age=age\n",
    "s1=Student(\"sri\",20)\n",
    "print(s1)\n",
    "# print(self.name)"
   ]
  },
  {
   "cell_type": "code",
   "execution_count": 4,
   "metadata": {},
   "outputs": [
    {
     "name": "stdout",
     "output_type": "stream",
     "text": [
      "Name: sri\n",
      "Age: 20\n"
     ]
    }
   ],
   "source": [
    "class Student:\n",
    "    name=None\n",
    "    age=None\n",
    "    def __init__(self,name,age):\n",
    "        self.name=name\n",
    "        self.age=age\n",
    "    def display(self):\n",
    "        print(\"Name:\",self.name)\n",
    "        print(\"Age:\",self.age)\n",
    "s1=Student(\"sri\",20)\n",
    "s1.display()\n"
   ]
  },
  {
   "cell_type": "code",
   "execution_count": 8,
   "metadata": {},
   "outputs": [
    {
     "name": "stdout",
     "output_type": "stream",
     "text": [
      "python dilshuknagar venu\n",
      "java kphb mahantesh\n"
     ]
    }
   ],
   "source": [
    "class Student:\n",
    "    # cur=\"web\"\n",
    "    def __init__(self,course,location,trainer):\n",
    "        self.a=course\n",
    "        self.b=location\n",
    "        self.c=trainer\n",
    "        print(self.a,self.b,self.c)\n",
    "s1=Student(\"python\",\"dilshuknagar\",\"venu\")\n",
    "s2=Student(\"java\",\"kphb\",\"mahantesh\")"
   ]
  },
  {
   "cell_type": "code",
   "execution_count": 2,
   "metadata": {},
   "outputs": [
    {
     "name": "stdout",
     "output_type": "stream",
     "text": [
      "mname: oppo\n",
      "mgb: 5gb\n",
      "mtype: touch\n",
      "mname: onepluse\n",
      "mgb: 8gb\n",
      "mtype: touch\n",
      "mname: oppo\n",
      "mgb: 5gb\n",
      "mtype: pqr\n",
      "mname: onepluse\n",
      "mgb: 8gb\n",
      "mtype: pqr\n"
     ]
    }
   ],
   "source": [
    "class mobile:\n",
    "    mname=None\n",
    "    mgb=None\n",
    "    mtype=\"touch\"\n",
    "    def __init__(self,mname,mgb):\n",
    "        self.mname=mname\n",
    "        self.mgb=mgb\n",
    "    @classmethod\n",
    "    def change(cls,dtype):\n",
    "        cls.mtype=dtype\n",
    "    def display(self):\n",
    "        print(\"mname:\",self.mname)\n",
    "        print(\"mgb:\",self.mgb)\n",
    "        print(\"mtype:\",self.mtype)\n",
    "m1=mobile(\"oppo\",\"5gb\")\n",
    "m2=mobile(\"onepluse\",\"8gb\")\n",
    "m1.display()\n",
    "m2.display()\n",
    "mobile.change(\"pqr\")\n",
    "m1.display()\n",
    "m2.display()"
   ]
  },
  {
   "cell_type": "code",
   "execution_count": 9,
   "metadata": {},
   "outputs": [
    {
     "name": "stdout",
     "output_type": "stream",
     "text": [
      "name: srija\n",
      "age: 21\n",
      "rollno: 6\n"
     ]
    }
   ],
   "source": [
    "class Student:\n",
    "    def __init__(self,name,age):\n",
    "        self.name=name\n",
    "        self.age=age\n",
    "    def display(self):\n",
    "        print(\"name:\",self.name)\n",
    "        print(\"age:\",self.age)\n",
    "class Student1(Student):\n",
    "    def __init__(self,name, age,rollno):\n",
    "        # super().__init__(name, age)\n",
    "        Student.__init__(self,name,age)\n",
    "        self.rollno=rollno\n",
    "    def display(self):\n",
    "        Student.display(self)\n",
    "        # super().display()\n",
    "        super(Student1,self).display()\n",
    "        print(\"rollno:\",self.rollno)\n",
    "s1=Student1(\"srija\",21,6)\n",
    "s1.display()"
   ]
  },
  {
   "cell_type": "code",
   "execution_count": 13,
   "metadata": {},
   "outputs": [
    {
     "name": "stdout",
     "output_type": "stream",
     "text": [
      "name: sita\n",
      "age: 25\n",
      "gender: female\n",
      "email: sita12@gmail.com\n",
      "location: hyderabad\n",
      "name: hari\n",
      "age: 23\n",
      "gender: male\n",
      "email: hari@gmail.com\n",
      "location: banglore\n"
     ]
    }
   ],
   "source": [
    "#WAP for below requirement\n",
    "#create a class employee with 5 object variables,create a constructor to initali,creat display method\n",
    "#create a subclass developer,it contains 8 object varibles,create display method,create 2 object sfor subclass and call respective methhods\n",
    "class Employee:\n",
    "    def __init__(self,ename,age,gender,email_id,location):\n",
    "        self.name=ename\n",
    "        self.age=age\n",
    "        self.gender=gender\n",
    "        self.email_id=email_id\n",
    "        self.location=location\n",
    "    def display(self):\n",
    "        print(\"name:\",self.name)\n",
    "        print(\"age:\",self.age)\n",
    "        print(\"gender:\",self.gender)\n",
    "        print(\"email:\",self.email_id)\n",
    "        print(\"location:\",self.location)\n",
    "class developer(Employee):\n",
    "    def __init__(self,name,age,gender,email_id,location,salary,project_name,role):\n",
    "        super().__init__(name,age,gender,email_id,location)\n",
    "        self.salary=salary\n",
    "        self.project_name=project_name\n",
    "        self.role=role\n",
    "    def display(self):\n",
    "        # super().display()\n",
    "        super(developer,self).display()\n",
    "d1=developer(\"sita\",25,\"female\",\"sita12@gmail.com\",\"hyderabad\",30000,\"machine_learning\",\"backend_developer\")\n",
    "d2=developer(\"hari\",23,\"male\",\"hari@gmail.com\",\"banglore\",50000,\"myntra_proj\",\"frontend_developer\")\n",
    "d1.display()\n",
    "d2.display()\n"
   ]
  },
  {
   "cell_type": "code",
   "execution_count": 3,
   "metadata": {},
   "outputs": [
    {
     "name": "stdout",
     "output_type": "stream",
     "text": [
      "Argument: 10\n",
      "Argument: 20\n",
      "Argument: 30\n",
      "name: Alice\n",
      "age: 30\n",
      "Argument: 1\n",
      "Argument: 2\n",
      "Argument: 3\n",
      "name: Bob\n",
      "country: USA\n"
     ]
    }
   ],
   "source": [
    "def display_info(*args, **kwargs):\n",
    "    for arg in args:\n",
    "        print(f\"Argument: {arg}\")\n",
    "    \n",
    "    for key, value in kwargs.items():\n",
    "        print(f\"{key}: {value}\")\n",
    "display_info(10, 20, 30)\n",
    "display_info(name=\"Alice\", age=30)\n",
    "display_info(1, 2, 3, name=\"Bob\", country=\"USA\")"
   ]
  },
  {
   "cell_type": "code",
   "execution_count": 7,
   "metadata": {},
   "outputs": [
    {
     "name": "stdout",
     "output_type": "stream",
     "text": [
      "Guest, Hello!\n",
      "Alice, Hello!\n",
      "Bob, Hi!\n"
     ]
    }
   ],
   "source": [
    "def greet(name=\"Guest\", greeting=\"Hello\"):\n",
    "    print(f\"{greeting}, {name}!\")\n",
    "def greet(name=\"Guest\", greeting=\"Hello\"):\n",
    "    print(f\"{name}, {greeting}!\")\n",
    "greet() \n",
    "greet(\"Alice\")\n",
    "greet(\"Bob\", \"Hi\")"
   ]
  },
  {
   "cell_type": "code",
   "execution_count": 9,
   "metadata": {},
   "outputs": [
    {
     "name": "stdout",
     "output_type": "stream",
     "text": [
      "6\n",
      "12\n"
     ]
    }
   ],
   "source": [
    "def product(*args):\n",
    "    p=1\n",
    "    for i in args:\n",
    "        p*=i\n",
    "    print(p)\n",
    "product(1,2,3)\n",
    "product(2,6) "
   ]
  },
  {
   "cell_type": "code",
   "execution_count": 13,
   "metadata": {},
   "outputs": [
    {
     "name": "stdout",
     "output_type": "stream",
     "text": [
      "60\n"
     ]
    }
   ],
   "source": [
    "class Maths:\n",
    "    def add_(self,a,b):\n",
    "        return a+b\n",
    "    def add_(self,a,b,c):\n",
    "        return a+b+c\n",
    "m1=Maths()\n",
    "# r=m1.add_(10,20)\n",
    "# print(r)\n",
    "p=m1.add_(10,20,30)\n",
    "print(p)"
   ]
  },
  {
   "cell_type": "code",
   "execution_count": 1,
   "metadata": {},
   "outputs": [
    {
     "name": "stdout",
     "output_type": "stream",
     "text": [
      "Example 1:\n",
      "The animal is a Lion named Leo.\n",
      "\n",
      "Example 2:\n",
      "This is a Elephant.\n",
      "\n",
      "Example 3:\n",
      "This animal's name is Whiskers.\n",
      "\n",
      "Example 4:\n",
      "No information provided about the animal.\n"
     ]
    }
   ],
   "source": [
    "def describe_animal(**kwargs):\n",
    "    if \"name\" in kwargs and \"species\" in kwargs:\n",
    "        print(f\"The animal is a {kwargs['species']} named {kwargs['name']}.\")\n",
    "    elif \"species\" in kwargs:\n",
    "        print(f\"This is a {kwargs['species']}.\")\n",
    "    elif \"name\" in kwargs:\n",
    "        print(f\"This animal's name is {kwargs['name']}.\")\n",
    "    else:\n",
    "        print(\"No information provided about the animal.\")\n",
    "\n",
    "# Testing the function\n",
    "print(\"Example 1:\")\n",
    "describe_animal(name=\"Leo\", species=\"Lion\")\n",
    "\n",
    "print(\"\\nExample 2:\")\n",
    "describe_animal(species=\"Elephant\")\n",
    "\n",
    "print(\"\\nExample 3:\")\n",
    "describe_animal(name=\"Whiskers\")\n",
    "\n",
    "print(\"\\nExample 4:\")\n",
    "describe_animal()\n",
    "\n",
    "# print(*kwargs)"
   ]
  },
  {
   "cell_type": "code",
   "execution_count": 39,
   "metadata": {},
   "outputs": [
    {
     "name": "stdout",
     "output_type": "stream",
     "text": [
      "{'deposite': 12, 'withdraw': 30}\n",
      "deposited:12\n"
     ]
    }
   ],
   "source": [
    "def bank_transaction(**kwargs):\n",
    "    print(kwargs)\n",
    "    if \"deposite\" in kwargs:\n",
    "        print(f\"deposited:{kwargs['deposite']}\")\n",
    "    elif \"withdraw\" in kwargs:\n",
    "        print(f\"withdraw:{kwargs['withdraw']}\")\n",
    "bank_transaction(deposite=12,withdraw=30)\n"
   ]
  },
  {
   "cell_type": "code",
   "execution_count": 36,
   "metadata": {},
   "outputs": [
    {
     "name": "stdout",
     "output_type": "stream",
     "text": [
      "b:20\n"
     ]
    }
   ],
   "source": [
    "def check(**kwargs):\n",
    "    if \"d\" in kwargs:\n",
    "        print(f\"a:{kwargs['a']}\")\n",
    "    elif \"b\" in kwargs:\n",
    "        print(f\"b:{kwargs['b']}\")\n",
    "    else:\n",
    "        print(f\"c:{kwargs['c']}\")\n",
    "check(a=10,b=20,c=30)"
   ]
  },
  {
   "cell_type": "code",
   "execution_count": 2,
   "metadata": {},
   "outputs": [
    {
     "name": "stdout",
     "output_type": "stream",
     "text": [
      "car starting\n",
      "bus starting\n"
     ]
    }
   ],
   "source": [
    "class vehicle:\n",
    "    def start(vehicle):\n",
    "        print(\"starting\")\n",
    "class car(vehicle):\n",
    "    def start(vehicle):\n",
    "        print(\"car starting\")\n",
    "class bus(vehicle):\n",
    "    def start(vehicle):\n",
    "        print(\"bus starting\")\n",
    "c1=car()\n",
    "c1.start()\n",
    "b1=bus()\n",
    "b1.start()"
   ]
  },
  {
   "cell_type": "code",
   "execution_count": 3,
   "metadata": {},
   "outputs": [
    {
     "name": "stdout",
     "output_type": "stream",
     "text": [
      "pegeon\n",
      "crow\n"
     ]
    }
   ],
   "source": [
    "class birds:\n",
    "    def name(self):\n",
    "        print(\"names of the birds\")\n",
    "class pegeon(birds):\n",
    "    def name(self):\n",
    "        print(\"pegeon\")\n",
    "class crow(birds):\n",
    "    def name(self):\n",
    "        print(\"crow\")\n",
    "p1=pegeon()\n",
    "p1.name()\n",
    "c1=crow()\n",
    "c1.name()"
   ]
  },
  {
   "cell_type": "code",
   "execution_count": null,
   "metadata": {},
   "outputs": [],
   "source": []
  }
 ],
 "metadata": {
  "kernelspec": {
   "display_name": "Python 3",
   "language": "python",
   "name": "python3"
  },
  "language_info": {
   "codemirror_mode": {
    "name": "ipython",
    "version": 3
   },
   "file_extension": ".py",
   "mimetype": "text/x-python",
   "name": "python",
   "nbconvert_exporter": "python",
   "pygments_lexer": "ipython3",
   "version": "3.12.4"
  }
 },
 "nbformat": 4,
 "nbformat_minor": 2
}
