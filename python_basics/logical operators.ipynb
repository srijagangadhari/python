{
 "cells": [
  {
   "cell_type": "code",
   "execution_count": 1,
   "metadata": {},
   "outputs": [
    {
     "name": "stdout",
     "output_type": "stream",
     "text": [
      "Hello World\n",
      "Hello World\n"
     ]
    }
   ],
   "source": [
    "#WAS to print \"Hello world\" by using shell(1Q)\n",
    "a=\"Hello World\"\n",
    "print(a)\n",
    " \n",
    "#or\n",
    "print(\"Hello World\")\n"
   ]
  },
  {
   "cell_type": "code",
   "execution_count": 2,
   "metadata": {},
   "outputs": [
    {
     "name": "stdout",
     "output_type": "stream",
     "text": [
      "Hello World\n"
     ]
    }
   ],
   "source": [
    "#WAS to print \"Hello World\" by using python print function(2Q)\n",
    "print(\"Hello World\")"
   ]
  },
  {
   "cell_type": "code",
   "execution_count": 3,
   "metadata": {},
   "outputs": [
    {
     "data": {
      "text/plain": [
       "50"
      ]
     },
     "execution_count": 3,
     "metadata": {},
     "output_type": "execute_result"
    }
   ],
   "source": [
    "#WAS to initialize variable and value as 50(3Q)\n",
    "a=50\n",
    "a"
   ]
  },
  {
   "cell_type": "code",
   "execution_count": 4,
   "metadata": {},
   "outputs": [
    {
     "name": "stdout",
     "output_type": "stream",
     "text": [
      "150\n",
      "120\n",
      "250\n"
     ]
    }
   ],
   "source": [
    "#WAS to initialize multi variable (values are 150,120,250)(Take your own variable name)(4Q)\n",
    "a=150\n",
    "b=120\n",
    "c=250\n",
    "print(a)\n",
    "print(b)\n",
    "print(c)\n",
    "\n",
    "# 2nd method\n",
    "\n",
    "# a,b,c=150,120,250\n",
    "# print(a)\n",
    "# print(b)\n",
    "# print(c)\n"
   ]
  },
  {
   "cell_type": "code",
   "execution_count": 5,
   "metadata": {},
   "outputs": [
    {
     "name": "stdout",
     "output_type": "stream",
     "text": [
      "<class 'complex'>\n"
     ]
    }
   ],
   "source": [
    "#WAS to print the type of the data in given value(5Q)\n",
    "p=10+2j\n",
    "print(type(p))\n",
    "# q=30.0\n",
    "# type(q)\n",
    "# r=\"machine learning\"\n",
    "# type(r)\n"
   ]
  },
  {
   "cell_type": "code",
   "execution_count": 6,
   "metadata": {},
   "outputs": [
    {
     "data": {
      "text/plain": [
       "140704608515144"
      ]
     },
     "execution_count": 6,
     "metadata": {},
     "output_type": "execute_result"
    }
   ],
   "source": [
    "#WAS to print the address of the memory block in given value(6Q)\n",
    "a=10\n",
    "id(a)\n",
    "# b=\"siri\"\n",
    "# id(b)\n"
   ]
  },
  {
   "cell_type": "code",
   "execution_count": 7,
   "metadata": {},
   "outputs": [
    {
     "name": "stdout",
     "output_type": "stream",
     "text": [
      "987\n",
      "(79+80j)\n",
      "12.46\n"
     ]
    }
   ],
   "source": [
    "# WAS to print your details,first store your detalis,extract the values and display it(7Q)\n",
    "a=[987,79+80j,12.46]\n",
    "a[0]\n",
    "a[2]\n",
    "a[1]\n",
    "print(a[0])\n",
    "print(a[1])\n",
    "print(a[2])\n"
   ]
  },
  {
   "cell_type": "code",
   "execution_count": 8,
   "metadata": {},
   "outputs": [
    {
     "name": "stdout",
     "output_type": "stream",
     "text": [
      "20\n",
      "10\n"
     ]
    }
   ],
   "source": [
    "#WAS to swap the two values with temp varible(8Q)\n",
    "a=10\n",
    "b=20\n",
    "temp=a\n",
    "a=b\n",
    "b=temp\n",
    "print(a)\n",
    "print(b)\n"
   ]
  },
  {
   "cell_type": "code",
   "execution_count": 9,
   "metadata": {},
   "outputs": [
    {
     "name": "stdout",
     "output_type": "stream",
     "text": [
      "20\n",
      "10\n"
     ]
    }
   ],
   "source": [
    "# WAS to swap without temp variable(9Q)\n",
    "a=10\n",
    "b=20\n",
    "a,b=b,a\n",
    "print(a)\n",
    "print(b)"
   ]
  },
  {
   "cell_type": "code",
   "execution_count": 10,
   "metadata": {},
   "outputs": [
    {
     "name": "stdout",
     "output_type": "stream",
     "text": [
      "59\n",
      "200\n"
     ]
    }
   ],
   "source": [
    "# WAS to initialize a value and print the value after print the value,then reinitialize the new value to the existing variable \n",
    "#and display the value(10Q)\n",
    "a=59\n",
    "print(a)\n",
    "a=200\n",
    "print(a)"
   ]
  },
  {
   "cell_type": "code",
   "execution_count": 11,
   "metadata": {},
   "outputs": [
    {
     "name": "stdout",
     "output_type": "stream",
     "text": [
      "['1', '0']\n"
     ]
    }
   ],
   "source": [
    "#WAS to convert single to multi value datatype    i/p=>a=10, o/p=>['1','0'](11Q)\n",
    "a=10\n",
    "print(list(str(a)))"
   ]
  },
  {
   "cell_type": "code",
   "execution_count": 12,
   "metadata": {},
   "outputs": [
    {
     "name": "stdout",
     "output_type": "stream",
     "text": [
      "[56, 89.76, (10+2j), 1, 2, 3]\n",
      "helloworld\n",
      "(1, 2, 3, 4, 5, 6, 7)\n",
      "{1, 2, 3, 4, 5, 6, 7, 8}\n",
      "{1: 12, 2: 'bye', False: 32, 89: 21, 'well': 100}\n"
     ]
    }
   ],
   "source": [
    "#WAS to concat the two multi value datatypes(str,list,tuple,set,dict)(12Q)\n",
    "\n",
    "d=[56,89.76,10+2j]\n",
    "e=[1,2,3]\n",
    "f=d+e\n",
    "print(f)\n",
    "\n",
    "q=\"hello\"\n",
    "r=\"world\"\n",
    "s=q+r\n",
    "print(s)\n",
    "\n",
    "a=(1,2,3,4)\n",
    "b=(5,6,7)\n",
    "c=a+b\n",
    "print(c)\n",
    "\n",
    "# x={5,6,7,8}   #TypeError: unsupported operand type(s) for +: 'set' and 'set'\n",
    "# y={1,2,3,4}\n",
    "# z=x+y\n",
    "# print(z)\n",
    "\n",
    "x={5,6,7,8}   \n",
    "y={1,2,3,4}\n",
    "z=x|y\n",
    "print(z)\n",
    "\n",
    "# d={1:\"hello\",2:\"bye\",True:12}   #TypeError: unsupported operand type(s) for +: 'dict' and 'dict'\n",
    "# e={False:32,89:21,\"well\":100}\n",
    "# j=d+e\n",
    "# print(j)\n",
    "\n",
    "\n",
    "d={1:\"hello\",2:\"bye\",True:12}   \n",
    "e={False:32,89:21,\"well\":100}\n",
    "j=d|e\n",
    "print(j)"
   ]
  },
  {
   "cell_type": "code",
   "execution_count": 13,
   "metadata": {},
   "outputs": [
    {
     "data": {
      "text/plain": [
       "13"
      ]
     },
     "execution_count": 13,
     "metadata": {},
     "output_type": "execute_result"
    }
   ],
   "source": [
    "# WAS  to perform the length of the collection(13Q)\n",
    "v=\"Deep Learning\"\n",
    "len(v)"
   ]
  },
  {
   "cell_type": "code",
   "execution_count": 14,
   "metadata": {},
   "outputs": [
    {
     "name": "stdout",
     "output_type": "stream",
     "text": [
      "[56, 30, (10+2j)]\n",
      "sreeja\n",
      "{1: 69.32, 2: 'wow'}\n"
     ]
    }
   ],
   "source": [
    "#WAS to modify the middle of the given collection(14Q)\n",
    "d=[56,89.76,10+2j]\n",
    "d[1]=30\n",
    "print(d)\n",
    "\n",
    "i=\"srija\"\n",
    "j=i[0:len(i)//2]+\"ee\"+i[len(i)//2+1:]\n",
    "print(j)\n",
    "\n",
    "\n",
    "d={1:20,2:\"orange\",True:69.32}\n",
    "d[2]=\"wow\"\n",
    "print(d)\n",
    "\n"
   ]
  },
  {
   "cell_type": "code",
   "execution_count": 15,
   "metadata": {},
   "outputs": [
    {
     "name": "stdout",
     "output_type": "stream",
     "text": [
      "grooming session\n"
     ]
    }
   ],
   "source": [
    "#WAS to concat th new string into the starting of the given string(15Q)\n",
    "a=\"session\"\n",
    "a=\"grooming \"+a\n",
    "print(a)"
   ]
  },
  {
   "cell_type": "code",
   "execution_count": 16,
   "metadata": {},
   "outputs": [
    {
     "name": "stdout",
     "output_type": "stream",
     "text": [
      "Beautifulmemories\n"
     ]
    }
   ],
   "source": [
    "#WAS to concat the new string into the ending of the given string(16Q)\n",
    "w=\"Beautiful\"\n",
    "res=w+\"memories\"\n",
    "print(res)"
   ]
  },
  {
   "cell_type": "code",
   "execution_count": 17,
   "metadata": {},
   "outputs": [
    {
     "name": "stdout",
     "output_type": "stream",
     "text": [
      "i like DATA SCIENCE soo much\n"
     ]
    }
   ],
   "source": [
    "#WAS to concat the new string into the middle of the given string(17Q)\n",
    "s=\"i like python soo much\"\n",
    "m=s[0:7]+\"DATA SCIENCE\"+s[13:]\n",
    "print(m)"
   ]
  },
  {
   "cell_type": "code",
   "execution_count": 18,
   "metadata": {},
   "outputs": [
    {
     "data": {
      "text/plain": [
       "'CaP'"
      ]
     },
     "execution_count": 18,
     "metadata": {},
     "output_type": "execute_result"
    }
   ],
   "source": [
    "#WAS to modify the new character into the middle of the given string(18Q)\n",
    "s=\"CAP\"\n",
    "s[0:len(s)//2]+\"a\"+s[(len(s)//2)+1:]"
   ]
  },
  {
   "cell_type": "code",
   "execution_count": 19,
   "metadata": {},
   "outputs": [
    {
     "name": "stdout",
     "output_type": "stream",
     "text": [
      "i love python\n"
     ]
    }
   ],
   "source": [
    "#WAS to modify the sequence of characters in given string(19Q)\n",
    "d=\"i like python\"\n",
    "res=d[:2]+\"love \"+d[7:]\n",
    "print(res)"
   ]
  },
  {
   "cell_type": "code",
   "execution_count": 20,
   "metadata": {},
   "outputs": [
    {
     "name": "stdout",
     "output_type": "stream",
     "text": [
      "BELL\n"
     ]
    }
   ],
   "source": [
    "#WAS to replace the old character into a new character of given string(20Q)\n",
    "t=\"BALL\"\n",
    "abc=t[:1]+\"E\"+t[2:]\n",
    "print(abc)"
   ]
  },
  {
   "cell_type": "code",
   "execution_count": 21,
   "metadata": {},
   "outputs": [
    {
     "name": "stdout",
     "output_type": "stream",
     "text": [
      "happynumbers\n"
     ]
    }
   ],
   "source": [
    "#WAS to delete the specific character in the given strg(21Q)\n",
    "s=\"happy numbers\"\n",
    "v=s[0:5]+s[6:]\n",
    "print(v)"
   ]
  },
  {
   "cell_type": "code",
   "execution_count": 22,
   "metadata": {},
   "outputs": [
    {
     "name": "stdout",
     "output_type": "stream",
     "text": [
      "i like soo much\n"
     ]
    }
   ],
   "source": [
    "#WAS to delete the sequence of character in the given string(22Q)\n",
    "s=\"i like python soo much\"\n",
    "p=s[0:7]+s[14:]\n",
    "print(p)\n",
    "\n"
   ]
  },
  {
   "cell_type": "code",
   "execution_count": 23,
   "metadata": {},
   "outputs": [
    {
     "name": "stdout",
     "output_type": "stream",
     "text": [
      "i like python,DATA SCIENCE soo much\n"
     ]
    }
   ],
   "source": [
    "#WAS to concat new string into the specific position of the given string(23Q)\n",
    "s=\"i like python soo much\"\n",
    "m=s[0:13]+\",DATA SCIENCE\"+s[13:]\n",
    "print(m)"
   ]
  },
  {
   "cell_type": "code",
   "execution_count": 24,
   "metadata": {},
   "outputs": [
    {
     "name": "stdout",
     "output_type": "stream",
     "text": [
      "['abc', 'beautiful', 20, (10+7j), 'python', 998]\n"
     ]
    }
   ],
   "source": [
    "#was to concat the new value into the starting of the given list(24Q)\n",
    "lst=[\"beautiful\",20,10+7j,\"python\",998]\n",
    "a=[\"abc\"]+lst\n",
    "print(a)"
   ]
  },
  {
   "cell_type": "code",
   "execution_count": 25,
   "metadata": {},
   "outputs": [
    {
     "name": "stdout",
     "output_type": "stream",
     "text": [
      "['beautiful', 20, (10+7j), 'python', 998, 'welcome']\n",
      "['beautiful', 20, (10+7j), 'python', 998, 'welcome']\n",
      "[1, 2, 3, 4, 5, 'abc']\n"
     ]
    }
   ],
   "source": [
    "#was to concat the new value into the ending of the given list(25Q)\n",
    "lst=[\"beautiful\",20,10+7j,\"python\",998]\n",
    "s=lst+[\"welcome\"]\n",
    "print(s)\n",
    "\n",
    "\n",
    "#2nd method(address not change)\n",
    "lst+=[\"welcome\"]\n",
    "print(lst)\n",
    "\n",
    "#3rd method\n",
    "a=[1,2,3,4,5]\n",
    "a[len(a):len(a)]=[\"abc\"]\n",
    "print(a)"
   ]
  },
  {
   "cell_type": "code",
   "execution_count": 26,
   "metadata": {},
   "outputs": [
    {
     "name": "stdout",
     "output_type": "stream",
     "text": [
      "[10, 20, 900, 576, 30, 40, 50]\n"
     ]
    }
   ],
   "source": [
    "#WAS to concat the new value into the middle of the given list(26Q)\n",
    "a=[10,20,30,40,50]\n",
    "a[len(a)//2:len(a)//2]=[900,576]\n",
    "print(a)\n"
   ]
  },
  {
   "cell_type": "code",
   "execution_count": 27,
   "metadata": {},
   "outputs": [
    {
     "name": "stdout",
     "output_type": "stream",
     "text": [
      "['a', 'b', 'e', 'f', 'c', 'd']\n"
     ]
    }
   ],
   "source": [
    "#WAS to concat the new value into the specific position of the given list(27Q)\n",
    "a=[\"a\",\"b\",\"c\",\"d\"]\n",
    "a[2:2]=[\"e\",\"f\"]\n",
    "print(a)"
   ]
  },
  {
   "cell_type": "code",
   "execution_count": 28,
   "metadata": {},
   "outputs": [
    {
     "name": "stdout",
     "output_type": "stream",
     "text": [
      "[11, 22, 765, 44, 55, 66]\n"
     ]
    }
   ],
   "source": [
    "#WAS to modify the new value into the specific position of the given list(28Q)\n",
    "b=[11,22,33,44,55,66]\n",
    "b[2]=765\n",
    "print(b)\n",
    "\n"
   ]
  },
  {
   "cell_type": "code",
   "execution_count": 29,
   "metadata": {},
   "outputs": [
    {
     "name": "stdout",
     "output_type": "stream",
     "text": [
      "[765, 22, 33, 44, 55, 66]\n"
     ]
    }
   ],
   "source": [
    "#WAS to modify the new value into the starting of the given list(29Q)\n",
    "b=[11,22,33,44,55,66]\n",
    "b[0]=765\n",
    "print(b)"
   ]
  },
  {
   "cell_type": "code",
   "execution_count": 30,
   "metadata": {},
   "outputs": [
    {
     "name": "stdout",
     "output_type": "stream",
     "text": [
      "[11, 22, 33, 44, 55, 765]\n"
     ]
    }
   ],
   "source": [
    "#WAS to modify the new value into the ending of the given list(30Q)\n",
    "b=[11,22,33,44,55,66]\n",
    "b[5]=765\n",
    "print(b)"
   ]
  },
  {
   "cell_type": "code",
   "execution_count": 31,
   "metadata": {},
   "outputs": [
    {
     "name": "stdout",
     "output_type": "stream",
     "text": [
      "['animals', 780, 222, 43.89, 333]\n",
      "['hello', 167, 2322, 'python']\n"
     ]
    }
   ],
   "source": [
    "#WAS to modify the new value into the middle of the given list(31Q)\n",
    "k=[\"animals\",780,\"birds\",43.89,333]\n",
    "k[len(k)//2]=222\n",
    "print(k)\n",
    "\n",
    "#even no.\n",
    "l=[\"hello\",167,10+33j,\"python\"]\n",
    "l[len(l)//2]=2322\n",
    "print(l)"
   ]
  },
  {
   "cell_type": "code",
   "execution_count": 32,
   "metadata": {},
   "outputs": [
    {
     "name": "stdout",
     "output_type": "stream",
     "text": [
      "[333, 123, 543, 987, 25, 26, 27, 28, 29]\n"
     ]
    }
   ],
   "source": [
    "#WAS to modify the starting 4 positions values into a given list(32Q)\n",
    "p=[21,22,23,24,25,26,27,28,29]\n",
    "p[:4]=[333,123,543,987]\n",
    "print(p)\n"
   ]
  },
  {
   "cell_type": "code",
   "execution_count": 33,
   "metadata": {},
   "outputs": [
    {
     "name": "stdout",
     "output_type": "stream",
     "text": [
      "[21, 22, 23, 'hello', 'bye', 'pandas', 28, 29]\n"
     ]
    }
   ],
   "source": [
    "#WAS to modify the sequence of values into a given list(33Q)\n",
    "p=[21,22,23,24,25,26,27,28,29]\n",
    "p[3:7]=[\"hello\",\"bye\",\"pandas\"]\n",
    "print(p)"
   ]
  },
  {
   "cell_type": "code",
   "execution_count": 34,
   "metadata": {},
   "outputs": [
    {
     "data": {
      "text/plain": [
       "[21, 22, 23, 24, 25, 26, 27, 28]"
      ]
     },
     "execution_count": 34,
     "metadata": {},
     "output_type": "execute_result"
    }
   ],
   "source": [
    "#WAS to delete the value into the ending of the list(34Q)\n",
    "p=[21,22,23,24,25,26,27,28,999]\n",
    "del p[8]\n",
    "# del p[-1]\n",
    "p\n"
   ]
  },
  {
   "cell_type": "code",
   "execution_count": 35,
   "metadata": {},
   "outputs": [
    {
     "name": "stdout",
     "output_type": "stream",
     "text": [
      "[20, 30, 40, 50]\n"
     ]
    }
   ],
   "source": [
    "#WAS to delete the value into the starting of the list(35Q)\n",
    "a=[10,20,30,40,50]\n",
    "del a[0]\n",
    "print(a)\n"
   ]
  },
  {
   "cell_type": "code",
   "execution_count": 36,
   "metadata": {},
   "outputs": [
    {
     "name": "stdout",
     "output_type": "stream",
     "text": [
      "[123, 345, 287, 300]\n"
     ]
    }
   ],
   "source": [
    "#WAS to delete the value into the middle of the list(36Q)\n",
    "a=[123,345,567,287,300]\n",
    "del a[len(a)//2]\n",
    "print(a)"
   ]
  },
  {
   "cell_type": "code",
   "execution_count": 37,
   "metadata": {},
   "outputs": [
    {
     "name": "stdout",
     "output_type": "stream",
     "text": [
      "[123, 345, 567, 300]\n"
     ]
    }
   ],
   "source": [
    "#WAP to delete the value in the specific position of the given list(37Q)\n",
    "a=[123,345,567,287,300]\n",
    "del a[3]\n",
    "print(a)"
   ]
  },
  {
   "cell_type": "code",
   "execution_count": 38,
   "metadata": {},
   "outputs": [
    {
     "name": "stdout",
     "output_type": "stream",
     "text": [
      "('hello', 123, 345, 567, 287, 300, 9999, 4322)\n"
     ]
    }
   ],
   "source": [
    "#WAP to concat the value into the starting of the tuple(38Q)\n",
    "a=(123,345,567,287,300,9999,4322)\n",
    "a=(\"hello\",)+a\n",
    "print(a)"
   ]
  },
  {
   "cell_type": "code",
   "execution_count": 39,
   "metadata": {},
   "outputs": [
    {
     "name": "stdout",
     "output_type": "stream",
     "text": [
      "(123, 345, 567, 3, 2, 287, 300, 9999, 4322)\n"
     ]
    }
   ],
   "source": [
    "#WAP TO concat the value into the middle of the tuple(39Q)\n",
    "a=(123,345,567,287,300,9999,4322)\n",
    "b=a[:len(a)//2]+(3,2)+a[len(a)//2:]\n",
    "print(b)"
   ]
  },
  {
   "cell_type": "code",
   "execution_count": 40,
   "metadata": {},
   "outputs": [
    {
     "name": "stdout",
     "output_type": "stream",
     "text": [
      "(123, 345, 567, 287, 300, 9999, 4322, 'pen', 765)\n"
     ]
    }
   ],
   "source": [
    "#WAP to concat the value into the ending of the tuple(40Q)\n",
    "a=(123,345,567,287,300,9999,4322)\n",
    "a=a+(\"pen\",765)\n",
    "print(a)"
   ]
  },
  {
   "cell_type": "code",
   "execution_count": 41,
   "metadata": {},
   "outputs": [
    {
     "name": "stdout",
     "output_type": "stream",
     "text": [
      "(123, 345, 567, 1, 2, 3, 72, 'hvgd', 7654)\n"
     ]
    }
   ],
   "source": [
    "#WAP to modify the sequence of values in given tuple(41Q)\n",
    "a=(123,345,567,287,300,9999,72,\"hvgd\",7654)\n",
    "b=a[:3]+(1,2,3)+a[6:]\n",
    "print(b)\n"
   ]
  },
  {
   "cell_type": "code",
   "execution_count": 42,
   "metadata": {},
   "outputs": [
    {
     "name": "stdout",
     "output_type": "stream",
     "text": [
      "(123, 9999, 72, 'hvgd', 7654)\n"
     ]
    }
   ],
   "source": [
    "#WAP to delete the sequence of values in given tuple(42Q)\n",
    "a=(123,345,567,287,300,9999,72,\"hvgd\",7654)\n",
    "b=a[:1]+a[5:]\n",
    "print(b)"
   ]
  },
  {
   "cell_type": "code",
   "execution_count": 43,
   "metadata": {},
   "outputs": [
    {
     "name": "stdout",
     "output_type": "stream",
     "text": [
      "{'holiday', 13, 'animals', 'diwali', 43.89, 780, 333, 'birds'}\n"
     ]
    }
   ],
   "source": [
    "#WAP to concat the new value into the set(43Q)\n",
    "a={\"animals\",780,\"birds\",43.89,333}\n",
    "a=a|{\"diwali\",13,\"holiday\"}\n",
    "print(a)"
   ]
  },
  {
   "cell_type": "code",
   "execution_count": 44,
   "metadata": {},
   "outputs": [
    {
     "name": "stdout",
     "output_type": "stream",
     "text": [
      "{1, 6, 7}\n"
     ]
    }
   ],
   "source": [
    "#WAP to delete the specific value into the set(44Q)\n",
    "a={1,2,3,4,6,7}\n",
    "a=a-{2,3,4}\n",
    "print(a)"
   ]
  },
  {
   "cell_type": "code",
   "execution_count": 45,
   "metadata": {},
   "outputs": [
    {
     "name": "stdout",
     "output_type": "stream",
     "text": [
      "{'name': 'dinga', 'age': 21, 'gender': 'Male'}\n"
     ]
    }
   ],
   "source": [
    "#WAP to concat the new keya and value into the dictionay(45Q)\n",
    "a={\"name\":\"dinga\",\"age\":21}\n",
    "a[\"gender\"]=\"Male\"\n",
    "print(a)"
   ]
  },
  {
   "cell_type": "code",
   "execution_count": 46,
   "metadata": {},
   "outputs": [
    {
     "name": "stdout",
     "output_type": "stream",
     "text": [
      "{'name': 'dinga', 'gender': 'Male'}\n"
     ]
    }
   ],
   "source": [
    "#WAP to delete the specific key and value in given dictionay(46Q)\n",
    "a={'name': 'dinga', 'age': 21, 'gender': 'Male'}\n",
    "del a[\"age\"]\n",
    "print(a)"
   ]
  },
  {
   "cell_type": "code",
   "execution_count": 47,
   "metadata": {},
   "outputs": [
    {
     "name": "stdout",
     "output_type": "stream",
     "text": [
      "{'name': 'Naga pradhyumna', 'age': 21, 'gender': 'Male'}\n"
     ]
    }
   ],
   "source": [
    "#WAP to modify the specific value into the given dictionary(47Q)\n",
    "a={'name': 'dinga', 'age': 21, 'gender': 'Male'}\n",
    "a[\"name\"]=\"Naga pradhyumna\"\n",
    "print(a)"
   ]
  },
  {
   "cell_type": "code",
   "execution_count": 48,
   "metadata": {},
   "outputs": [
    {
     "name": "stdout",
     "output_type": "stream",
     "text": [
      "[123, 345, 567, 287, 300, 1, 2, 3, 4]\n"
     ]
    }
   ],
   "source": [
    "#WAP to concat list and tuple values by using type casting(48Q)\n",
    "a=[123,345,567,287,300]\n",
    "b=(1,2,3,4)\n",
    "c=a+list(b)\n",
    "print(c)"
   ]
  },
  {
   "cell_type": "code",
   "execution_count": 49,
   "metadata": {},
   "outputs": [
    {
     "name": "stdout",
     "output_type": "stream",
     "text": [
      "[123, 345, 567, 287, 300, 1, 2, 3, 4]\n"
     ]
    }
   ],
   "source": [
    "#WAP to concat list and tuple values without using type casting(49Q)\n",
    "a=[123,345,567,287,300]\n",
    "b=(1,2,3,4)\n",
    "a+=b\n",
    "print(a)"
   ]
  },
  {
   "cell_type": "code",
   "execution_count": 51,
   "metadata": {},
   "outputs": [
    {
     "data": {
      "text/plain": [
       "True"
      ]
     },
     "execution_count": 51,
     "metadata": {},
     "output_type": "execute_result"
    }
   ],
   "source": [
    "#WAE to check the given number is divisible by 2 or not(50Q)\n",
    "M=30\n",
    "M%2==0\n",
    "\n",
    "#odd\n",
    "# N=21\n",
    "# N%2==0"
   ]
  },
  {
   "cell_type": "code",
   "execution_count": 52,
   "metadata": {},
   "outputs": [
    {
     "data": {
      "text/plain": [
       "True"
      ]
     },
     "execution_count": 52,
     "metadata": {},
     "output_type": "execute_result"
    }
   ],
   "source": [
    "#WAE to check given number is divisible by 2 and 6(51Q)\n",
    "a=12\n",
    "a%2==0 and a%6==0"
   ]
  },
  {
   "cell_type": "code",
   "execution_count": 53,
   "metadata": {},
   "outputs": [
    {
     "data": {
      "text/plain": [
       "3"
      ]
     },
     "execution_count": 53,
     "metadata": {},
     "output_type": "execute_result"
    }
   ],
   "source": [
    "#WAE to extract the last digit in given integer no.(without type casting)(52Q)\n",
    "a=983\n",
    "a%10"
   ]
  },
  {
   "cell_type": "code",
   "execution_count": 54,
   "metadata": {},
   "outputs": [
    {
     "data": {
      "text/plain": [
       "True"
      ]
     },
     "execution_count": 54,
     "metadata": {},
     "output_type": "execute_result"
    }
   ],
   "source": [
    "#WAE to check the last digit is divisible by 3 from given integer number(without type casting)(53Q)\n",
    "a=983\n",
    "(a%10)%3==0"
   ]
  },
  {
   "cell_type": "code",
   "execution_count": 55,
   "metadata": {},
   "outputs": [
    {
     "name": "stdout",
     "output_type": "stream",
     "text": [
      "983\n",
      "['9', '8', '3']\n"
     ]
    },
    {
     "data": {
      "text/plain": [
       "True"
      ]
     },
     "execution_count": 55,
     "metadata": {},
     "output_type": "execute_result"
    }
   ],
   "source": [
    "#WAE to check the last digit is divisible by 3 from given integer number(without type casting)(54Q)\n",
    "a=983\n",
    "b=str(a)\n",
    "print(b)\n",
    "c=list(b)\n",
    "print(c)\n",
    "int(c[-1])%3==0\n",
    "\n"
   ]
  },
  {
   "cell_type": "code",
   "execution_count": 56,
   "metadata": {},
   "outputs": [
    {
     "data": {
      "text/plain": [
       "False"
      ]
     },
     "execution_count": 56,
     "metadata": {},
     "output_type": "execute_result"
    }
   ],
   "source": [
    "#WAE to check given number is greater than 150(55Q)\n",
    "n=90\n",
    "n>150"
   ]
  },
  {
   "cell_type": "code",
   "execution_count": 57,
   "metadata": {},
   "outputs": [
    {
     "data": {
      "text/plain": [
       "True"
      ]
     },
     "execution_count": 57,
     "metadata": {},
     "output_type": "execute_result"
    }
   ],
   "source": [
    "#WAE to check given number is greater than or equal to 100(56Q)\n",
    "a=100\n",
    "a>=100"
   ]
  },
  {
   "cell_type": "code",
   "execution_count": 58,
   "metadata": {},
   "outputs": [
    {
     "data": {
      "text/plain": [
       "True"
      ]
     },
     "execution_count": 58,
     "metadata": {},
     "output_type": "execute_result"
    }
   ],
   "source": [
    "#WAP to check given no. is less than or equal to 100(57Q)\n",
    "a=100\n",
    "a<=100"
   ]
  },
  {
   "cell_type": "code",
   "execution_count": 59,
   "metadata": {},
   "outputs": [
    {
     "name": "stdout",
     "output_type": "stream",
     "text": [
      "100\n"
     ]
    }
   ],
   "source": [
    "#WAE to check given no. is less than 150,print the result(58Q)\n",
    "a=100\n",
    "a<150\n",
    "print(a)"
   ]
  },
  {
   "cell_type": "code",
   "execution_count": 60,
   "metadata": {},
   "outputs": [
    {
     "data": {
      "text/plain": [
       "True"
      ]
     },
     "execution_count": 60,
     "metadata": {},
     "output_type": "execute_result"
    }
   ],
   "source": [
    "#WAE to check the given no. is greater than 15 and less than 24(59Q)\n",
    "a=20\n",
    "a<24 and a>15\n",
    "\n",
    "#15<a<24"
   ]
  },
  {
   "cell_type": "code",
   "execution_count": 61,
   "metadata": {},
   "outputs": [
    {
     "name": "stdout",
     "output_type": "stream",
     "text": [
      "even no.\n"
     ]
    }
   ],
   "source": [
    "#WAE to check given no. is even(60Q)\n",
    "a=20\n",
    "a%2==0\n",
    "print(\"even no.\")"
   ]
  },
  {
   "cell_type": "code",
   "execution_count": 62,
   "metadata": {},
   "outputs": [
    {
     "name": "stdout",
     "output_type": "stream",
     "text": [
      "odd no.\n"
     ]
    }
   ],
   "source": [
    "#WAE to check given no.is odd(61Q)\n",
    "a=3\n",
    "a%2==1\n",
    "print(\"odd no.\")"
   ]
  },
  {
   "cell_type": "code",
   "execution_count": 63,
   "metadata": {},
   "outputs": [
    {
     "data": {
      "text/plain": [
       "True"
      ]
     },
     "execution_count": 63,
     "metadata": {},
     "output_type": "execute_result"
    }
   ],
   "source": [
    "#WAE to check given no. is divisible by 3 and also the no.should be greater than 23(62Q)\n",
    "a=24\n",
    "a%3==0 and a>23"
   ]
  },
  {
   "cell_type": "code",
   "execution_count": 64,
   "metadata": {},
   "outputs": [
    {
     "name": "stdout",
     "output_type": "stream",
     "text": [
      "23\n"
     ]
    }
   ],
   "source": [
    "#WAE to eliminate the last digit in given integer number(without typcasting)(63Q)\n",
    "a=235\n",
    "a=a//10\n",
    "print(a)"
   ]
  },
  {
   "cell_type": "code",
   "execution_count": 65,
   "metadata": {},
   "outputs": [
    {
     "name": "stdout",
     "output_type": "stream",
     "text": [
      "12\n"
     ]
    }
   ],
   "source": [
    "#WAE to perform the replication of a given string with 6(64Q)\n",
    "a=2\n",
    "print(a*6)"
   ]
  },
  {
   "cell_type": "code",
   "execution_count": 66,
   "metadata": {},
   "outputs": [
    {
     "data": {
      "text/plain": [
       "True"
      ]
     },
     "execution_count": 66,
     "metadata": {},
     "output_type": "execute_result"
    }
   ],
   "source": [
    "#WAE to check perform the length of the collection is less than 55 and greater than 16(65Q)\n",
    "a=\"My name is srija gangadhari\"\n",
    "len(a)<55 and len(a)>16\n",
    "#16<len(a)<55"
   ]
  },
  {
   "cell_type": "code",
   "execution_count": 67,
   "metadata": {},
   "outputs": [
    {
     "name": "stdout",
     "output_type": "stream",
     "text": [
      "5\n"
     ]
    },
    {
     "data": {
      "text/plain": [
       "True"
      ]
     },
     "execution_count": 67,
     "metadata": {},
     "output_type": "execute_result"
    }
   ],
   "source": [
    "#WAE to check perform the length of the collection is divisible by 5 and odd(66Q)\n",
    "a=\"hello\"\n",
    "b=len(a)\n",
    "print(b)\n",
    "len(a)%5==0 and len(a)%2==1"
   ]
  },
  {
   "cell_type": "code",
   "execution_count": 68,
   "metadata": {},
   "outputs": [
    {
     "name": "stdout",
     "output_type": "stream",
     "text": [
      "28\n"
     ]
    },
    {
     "data": {
      "text/plain": [
       "True"
      ]
     },
     "execution_count": 68,
     "metadata": {},
     "output_type": "execute_result"
    }
   ],
   "source": [
    "#WAE to check the given no.is greater than 20 and less than 30 and it should be even(67Q)\n",
    "a=\"My name is sreeja gangadhari\"\n",
    "b=len(a)\n",
    "print(b)\n",
    "20<len(a)<30 and len(a)%2==0\n"
   ]
  },
  {
   "cell_type": "code",
   "execution_count": 69,
   "metadata": {},
   "outputs": [
    {
     "name": "stdout",
     "output_type": "stream",
     "text": [
      "hello\n"
     ]
    },
    {
     "data": {
      "text/plain": [
       "True"
      ]
     },
     "execution_count": 69,
     "metadata": {},
     "output_type": "execute_result"
    }
   ],
   "source": [
    "#WAE to check extract the middle position of a given collection is str,list,tuple(68Q)\n",
    "g=(11,22,\"hello\",33,44)\n",
    "h=g[len(g)//2]\n",
    "print(h)\n",
    "\n",
    "type(g[len(g)//2])==str or type(g[len(g)//2])==list or type(g[len(g)//2])==tuple"
   ]
  },
  {
   "cell_type": "code",
   "execution_count": 70,
   "metadata": {},
   "outputs": [
    {
     "data": {
      "text/plain": [
       "True"
      ]
     },
     "execution_count": 70,
     "metadata": {},
     "output_type": "execute_result"
    }
   ],
   "source": [
    "#WAE to check the given no. is even and it should be less than 120(69Q)\n",
    "a=100\n",
    "a%2==0 and a<120"
   ]
  },
  {
   "cell_type": "code",
   "execution_count": 71,
   "metadata": {},
   "outputs": [
    {
     "data": {
      "text/plain": [
       "True"
      ]
     },
     "execution_count": 71,
     "metadata": {},
     "output_type": "execute_result"
    }
   ],
   "source": [
    "#WAE to check given no. is even and present from 40 to 70(70Q)\n",
    "Q=46\n",
    "Q%2==0 and  40<Q<70"
   ]
  },
  {
   "cell_type": "code",
   "execution_count": 72,
   "metadata": {},
   "outputs": [
    {
     "data": {
      "text/plain": [
       "True"
      ]
     },
     "execution_count": 72,
     "metadata": {},
     "output_type": "execute_result"
    }
   ],
   "source": [
    "#WAE to check the given no.is odd and it should be greater than 97(71Q)\n",
    "a=101\n",
    "a%2==1 and a>97"
   ]
  },
  {
   "cell_type": "code",
   "execution_count": 73,
   "metadata": {},
   "outputs": [
    {
     "data": {
      "text/plain": [
       "True"
      ]
     },
     "execution_count": 73,
     "metadata": {},
     "output_type": "execute_result"
    }
   ],
   "source": [
    "#WAE to check given no. is less than 122 and greater than 48 and the no. should be divisible by 4(72Q)\n",
    "a=120\n",
    "48<a<122 and a%4==0 "
   ]
  },
  {
   "cell_type": "code",
   "execution_count": 74,
   "metadata": {},
   "outputs": [
    {
     "data": {
      "text/plain": [
       "False"
      ]
     },
     "execution_count": 74,
     "metadata": {},
     "output_type": "execute_result"
    }
   ],
   "source": [
    "#WAE to check length of the collection is even or not(73Q)\n",
    "a=\"hello_world\"\n",
    "len(a)%2==0"
   ]
  },
  {
   "cell_type": "code",
   "execution_count": 75,
   "metadata": {},
   "outputs": [
    {
     "data": {
      "text/plain": [
       "True"
      ]
     },
     "execution_count": 75,
     "metadata": {},
     "output_type": "execute_result"
    }
   ],
   "source": [
    "#WAE to check the given no. is divisible by 3 0r 5 display the value(74Q)\n",
    "a=21\n",
    "a%3==0 or a%5==0\n",
    "\n",
    "b=25\n",
    "b%3==0 or b%5==0"
   ]
  },
  {
   "cell_type": "code",
   "execution_count": 76,
   "metadata": {},
   "outputs": [
    {
     "data": {
      "text/plain": [
       "True"
      ]
     },
     "execution_count": 76,
     "metadata": {},
     "output_type": "execute_result"
    }
   ],
   "source": [
    "#WAE to check the given no.is in between 100 to 200 including the limit(75Q)\n",
    "a=150\n",
    "100<=a<=200"
   ]
  },
  {
   "cell_type": "code",
   "execution_count": 77,
   "metadata": {},
   "outputs": [
    {
     "data": {
      "text/plain": [
       "True"
      ]
     },
     "execution_count": 77,
     "metadata": {},
     "output_type": "execute_result"
    }
   ],
   "source": [
    "#WAE to check the given no. is in between 100 to 200(76Q)\n",
    "a=150\n",
    "100<a<200"
   ]
  },
  {
   "cell_type": "code",
   "execution_count": 78,
   "metadata": {},
   "outputs": [
    {
     "data": {
      "text/plain": [
       "True"
      ]
     },
     "execution_count": 78,
     "metadata": {},
     "output_type": "execute_result"
    }
   ],
   "source": [
    "#WAP to check the given string last character ASCII value should be divisible by 5 or not(77Q)\n",
    "st=\"ABCBA\"\n",
    "# list(bytes(st[-1],'utf-8'))%5==0\n",
    "#ord(st%10)%5==0\n",
    "ord(st[-1])%5==0 \n"
   ]
  },
  {
   "cell_type": "code",
   "execution_count": 79,
   "metadata": {},
   "outputs": [
    {
     "data": {
      "text/plain": [
       "True"
      ]
     },
     "execution_count": 79,
     "metadata": {},
     "output_type": "execute_result"
    }
   ],
   "source": [
    "#WAE to checl given no. is even or less than 25(78Q)\n",
    "a=20\n",
    "a%2==0 or a<25"
   ]
  },
  {
   "cell_type": "code",
   "execution_count": 80,
   "metadata": {},
   "outputs": [
    {
     "data": {
      "text/plain": [
       "True"
      ]
     },
     "execution_count": 80,
     "metadata": {},
     "output_type": "execute_result"
    }
   ],
   "source": [
    "#WAE to check given no. is even or greater than 25(79Q)\n",
    "a=30\n",
    "a%2==0 or a>25"
   ]
  },
  {
   "cell_type": "code",
   "execution_count": 81,
   "metadata": {},
   "outputs": [
    {
     "data": {
      "text/plain": [
       "True"
      ]
     },
     "execution_count": 81,
     "metadata": {},
     "output_type": "execute_result"
    }
   ],
   "source": [
    "#WAE to check given no.is divisible by either 3 or 5(80Q)\n",
    "a=21\n",
    "a%3==0 or a%5==0"
   ]
  },
  {
   "cell_type": "code",
   "execution_count": 82,
   "metadata": {},
   "outputs": [
    {
     "data": {
      "text/plain": [
       "True"
      ]
     },
     "execution_count": 82,
     "metadata": {},
     "output_type": "execute_result"
    }
   ],
   "source": [
    "#WAE to check given no.is not an even no.(81Q)\n",
    "a=31\n",
    "a%2!=0"
   ]
  },
  {
   "cell_type": "code",
   "execution_count": 83,
   "metadata": {},
   "outputs": [
    {
     "data": {
      "text/plain": [
       "False"
      ]
     },
     "execution_count": 83,
     "metadata": {},
     "output_type": "execute_result"
    }
   ],
   "source": [
    "#WAE to check given no.is not an odd no.(82Q)\n",
    "a=5\n",
    "not(a%2==1)\n",
    "# a%2!=1"
   ]
  },
  {
   "cell_type": "code",
   "execution_count": 84,
   "metadata": {},
   "outputs": [
    {
     "data": {
      "text/plain": [
       "True"
      ]
     },
     "execution_count": 84,
     "metadata": {},
     "output_type": "execute_result"
    }
   ],
   "source": [
    "#WAP to check the given no.is not a divisible by 3(83Q)\n",
    "num=13\n",
    "not(num%3==0) "
   ]
  },
  {
   "cell_type": "code",
   "execution_count": 85,
   "metadata": {},
   "outputs": [],
   "source": [
    "#WAP to check the given no. is not a divisible by 3 and 5(84Q)\n",
    "a=15\n"
   ]
  },
  {
   "cell_type": "code",
   "execution_count": 86,
   "metadata": {},
   "outputs": [
    {
     "name": "stdout",
     "output_type": "stream",
     "text": [
      "3\n"
     ]
    }
   ],
   "source": [
    "#WAP to perform the bitwise and operation in given value are 15 and 19(85Q)\n",
    "a=15\n",
    "b=19\n",
    "print(a&b)"
   ]
  },
  {
   "cell_type": "code",
   "execution_count": 87,
   "metadata": {},
   "outputs": [],
   "source": [
    "#WAE to perform the bitwise or operation in given values are 115 and 79(86Q)\n",
    "a=115\n",
    "b=79\n",
    "print(a|b)"
   ]
  },
  {
   "cell_type": "code",
   "execution_count": 88,
   "metadata": {},
   "outputs": [
    {
     "name": "stdout",
     "output_type": "stream",
     "text": [
      "46\n"
     ]
    }
   ],
   "source": [
    "#WAE to perform the bitwise xor operation in given values are 56 and 22(87Q)\n",
    "a=56\n",
    "b=22\n",
    "print(a^b)"
   ]
  },
  {
   "cell_type": "code",
   "execution_count": 89,
   "metadata": {},
   "outputs": [
    {
     "name": "stdout",
     "output_type": "stream",
     "text": [
      "-16\n"
     ]
    }
   ],
   "source": [
    "#WAE to perform the bitwise not operation in given value is 15(88Q)\n",
    "num=15    #formula--->-(n+1)\n",
    "print(-(num+1))"
   ]
  },
  {
   "cell_type": "code",
   "execution_count": 90,
   "metadata": {},
   "outputs": [
    {
     "name": "stdout",
     "output_type": "stream",
     "text": [
      "256\n"
     ]
    }
   ],
   "source": [
    "#WAE to perform the bitwise left shift operation with 32 and skipping value is 3(89Q)\n",
    "p=32\n",
    "q=3\n",
    "print(p<<q)"
   ]
  },
  {
   "cell_type": "code",
   "execution_count": 91,
   "metadata": {},
   "outputs": [
    {
     "name": "stdout",
     "output_type": "stream",
     "text": [
      "6\n"
     ]
    }
   ],
   "source": [
    "#WAE to perform the bitwise right shift operation with 25 and skipping value is 2(90Q)\n",
    "p=25\n",
    "q=2\n",
    "print(p>>q)"
   ]
  },
  {
   "cell_type": "code",
   "execution_count": 93,
   "metadata": {},
   "outputs": [
    {
     "name": "stdout",
     "output_type": "stream",
     "text": [
      "True\n"
     ]
    }
   ],
   "source": [
    "#WAE to check the value is present in dict or not(91Q)\n",
    "d={10:1,20:2,\"hii\":3}\n",
    "g=\"hii\"\n",
    "print(g in d)\n",
    "\n",
    "#print(d[g])  o/p-->3"
   ]
  },
  {
   "cell_type": "code",
   "execution_count": 94,
   "metadata": {},
   "outputs": [
    {
     "name": "stdout",
     "output_type": "stream",
     "text": [
      "True\n"
     ]
    }
   ],
   "source": [
    "#check the value 3 is present in the dictionay values or not(92Q)\n",
    "d={10:1,20:2,\"hii\":3}\n",
    "g=3\n",
    "print(g in d.values())"
   ]
  },
  {
   "cell_type": "code",
   "execution_count": 95,
   "metadata": {},
   "outputs": [
    {
     "name": "stdout",
     "output_type": "stream",
     "text": [
      "dict_items([(10, 1), (20, 2), ('hii', 3)])\n"
     ]
    }
   ],
   "source": [
    "#WAE to print dictionary items(93Q)\n",
    "d={10:1,20:2,\"hii\":3}\n",
    "print(d.items())"
   ]
  },
  {
   "cell_type": "code",
   "execution_count": 96,
   "metadata": {},
   "outputs": [
    {
     "name": "stdout",
     "output_type": "stream",
     "text": [
      "True\n",
      "True\n"
     ]
    }
   ],
   "source": [
    "#WAE to check values are in dict or not(94Q)\n",
    "#1st method\n",
    "d={10:1,20:2,\"hii\":3}\n",
    "h=(\"hii\",3)\n",
    "print(h in d.items())\n",
    "\n",
    "#2nd method\n",
    "k=10\n",
    "v=1\n",
    "print((k,v) in d.items())"
   ]
  },
  {
   "cell_type": "code",
   "execution_count": 2,
   "metadata": {},
   "outputs": [
    {
     "data": {
      "text/plain": [
       "True"
      ]
     },
     "execution_count": 2,
     "metadata": {},
     "output_type": "execute_result"
    }
   ],
   "source": [
    "#WAE to check whether both values are pointing to same address or not(95Q)\n",
    "a=10\n",
    "b=10\n",
    "a==b"
   ]
  },
  {
   "cell_type": "code",
   "execution_count": 98,
   "metadata": {},
   "outputs": [
    {
     "name": "stdout",
     "output_type": "stream",
     "text": [
      "True\n"
     ]
    }
   ],
   "source": [
    "#WAE to check whether both values are same data types or not(96Q)\n",
    "a=10\n",
    "b=10\n",
    "print(type(a)==int and type(b)==int and id(a)==id(b))"
   ]
  },
  {
   "cell_type": "code",
   "execution_count": null,
   "metadata": {},
   "outputs": [],
   "source": []
  }
 ],
 "metadata": {
  "kernelspec": {
   "display_name": "base",
   "language": "python",
   "name": "python3"
  },
  "language_info": {
   "codemirror_mode": {
    "name": "ipython",
    "version": 3
   },
   "file_extension": ".py",
   "mimetype": "text/x-python",
   "name": "python",
   "nbconvert_exporter": "python",
   "pygments_lexer": "ipython3",
   "version": "3.12.4"
  }
 },
 "nbformat": 4,
 "nbformat_minor": 2
}
