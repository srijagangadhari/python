{
 "cells": [
  {
   "cell_type": "code",
   "execution_count": 1,
   "metadata": {},
   "outputs": [
    {
     "name": "stdout",
     "output_type": "stream",
     "text": [
      "1 2 3 4 \n",
      "1 2 3 4 \n",
      "1 2 3 4 \n"
     ]
    }
   ],
   "source": [
    "#patterns(1Q)\n",
    "for r in range(1,4):\n",
    "    for c in range(1,5):\n",
    "        print(c,end=\" \")\n",
    "    print() "
   ]
  },
  {
   "cell_type": "code",
   "execution_count": 2,
   "metadata": {},
   "outputs": [
    {
     "name": "stdout",
     "output_type": "stream",
     "text": [
      "1 2 3 4 5 \n",
      "1 2 3 4 5 \n",
      "1 2 3 4 5 \n",
      "1 2 3 4 5 \n",
      "1 2 3 4 5 \n"
     ]
    }
   ],
   "source": [
    "#(2Q)\n",
    "for r in range(1,6):\n",
    "    for c in range(1,6):\n",
    "        print(c,end=\" \")\n",
    "    print()\n",
    "    "
   ]
  },
  {
   "cell_type": "code",
   "execution_count": 3,
   "metadata": {},
   "outputs": [
    {
     "name": "stdout",
     "output_type": "stream",
     "text": [
      "1         \n",
      "1 2       \n",
      "1 2 3     \n",
      "1 2 3 4   \n",
      "1 2 3 4 5 \n"
     ]
    }
   ],
   "source": [
    "#3Q\n",
    "for r in range(1,6):\n",
    "    for c in range(1,6):\n",
    "        if c<=r:\n",
    "            print(c,end=\" \")\n",
    "        else:\n",
    "            print(\" \",end=\" \")\n",
    "    print()"
   ]
  },
  {
   "cell_type": "code",
   "execution_count": 4,
   "metadata": {},
   "outputs": [
    {
     "name": "stdout",
     "output_type": "stream",
     "text": [
      "1         \n",
      "2 2       \n",
      "3 3 3     \n",
      "4 4 4 4   \n",
      "5 5 5 5 5 \n"
     ]
    }
   ],
   "source": [
    "#4Q\n",
    "for r in range(1,6):\n",
    "    for c in range(1,6):\n",
    "        if c<=r:\n",
    "            print(r,end=\" \")\n",
    "        else:\n",
    "            print(\" \",end=\" \")\n",
    "    print() "
   ]
  },
  {
   "cell_type": "code",
   "execution_count": 5,
   "metadata": {},
   "outputs": [
    {
     "name": "stdout",
     "output_type": "stream",
     "text": [
      "c         \n",
      "c c       \n",
      "c c c     \n",
      "c c c c   \n",
      "c c c c c \n"
     ]
    }
   ],
   "source": [
    "#5Q\n",
    "for r in range(1,6):\n",
    "    for c in range(1,6):\n",
    "        if c<=r:\n",
    "            print(\"c\",end=\" \")\n",
    "        else:\n",
    "            print(\" \",end=\" \")\n",
    "    print()"
   ]
  },
  {
   "cell_type": "code",
   "execution_count": 6,
   "metadata": {},
   "outputs": [
    {
     "name": "stdout",
     "output_type": "stream",
     "text": [
      "* * * \n",
      "* * * \n",
      "* * * \n",
      "* * * \n",
      "* * * \n",
      "* * * \n"
     ]
    }
   ],
   "source": [
    "#6Q\n",
    "for r in range(1,7):\n",
    "    for c in range(1,4):\n",
    "        print(\"*\",end=\" \")\n",
    "    print()  "
   ]
  },
  {
   "cell_type": "code",
   "execution_count": 7,
   "metadata": {},
   "outputs": [
    {
     "name": "stdout",
     "output_type": "stream",
     "text": [
      "1 3 5 7 9 11 \n",
      "1 3 5 7 9 11 \n",
      "1 3 5 7 9 11 \n",
      "1 3 5 7 9 11 \n"
     ]
    }
   ],
   "source": [
    "# logic 1(7Q)\n",
    "# for r in range(1,5):\n",
    "#     for c in range(1,12):\n",
    "#         if c%2==1:\n",
    "#             print(c,end=\" \")\n",
    "#     print() \n",
    "\n",
    "\n",
    "#logic 2\n",
    "# for r in range(1,5):\n",
    "#     for c in range(1,12,2):\n",
    "#         print(c,end=\" \")\n",
    "#     print() \n",
    "\n",
    "#logic 3  \n",
    "for r in range(1,5):\n",
    "    a=1\n",
    "    for c in range(1,7):\n",
    "        print(a,end=\" \")\n",
    "        a+=2\n",
    "    print()  "
   ]
  },
  {
   "cell_type": "code",
   "execution_count": 14,
   "metadata": {},
   "outputs": [
    {
     "name": "stdout",
     "output_type": "stream",
     "text": [
      "\n",
      "\n",
      "\n",
      "\n",
      "* * * * * * \n"
     ]
    }
   ],
   "source": [
    "#8Q\n",
    "for r in range(1,6):\n",
    "    for c in range(1,7):\n",
    "        if r==5:\n",
    "            print(\"*\",end=\" \")\n",
    "        # else:\n",
    "        #     print(\" \")    \n",
    "    print()    "
   ]
  },
  {
   "cell_type": "code",
   "execution_count": 8,
   "metadata": {},
   "outputs": [
    {
     "name": "stdout",
     "output_type": "stream",
     "text": [
      "* * * * * * \n",
      "*         * \n",
      "*         * \n",
      "*         * \n",
      "*         * \n",
      "* * * * * * \n"
     ]
    }
   ],
   "source": [
    "#8)\n",
    "for r in range(6):\n",
    "    for c in range(6):\n",
    "        if r==0 or c==0 or r==5 or c==5:\n",
    "            print(\"*\",end=\" \")\n",
    "        else:\n",
    "            print(\" \",end=\" \")\n",
    "    print()"
   ]
  },
  {
   "cell_type": "code",
   "execution_count": 15,
   "metadata": {},
   "outputs": [
    {
     "name": "stdout",
     "output_type": "stream",
     "text": [
      "* \n",
      "* \n",
      "* \n",
      "* \n",
      "* \n"
     ]
    }
   ],
   "source": [
    "#9Q\n",
    "for r in range(1,6):\n",
    "    for c in range(1,6):\n",
    "        if c==1:\n",
    "            print(\"*\",end=\" \")\n",
    "    print()  "
   ]
  },
  {
   "cell_type": "code",
   "execution_count": 17,
   "metadata": {},
   "outputs": [
    {
     "name": "stdout",
     "output_type": "stream",
     "text": [
      "*       \n",
      "*       \n",
      "*       \n",
      "*       \n",
      "* * * * \n"
     ]
    }
   ],
   "source": [
    "#10Q\n",
    "for r in range(1,6):\n",
    "    for c in range(1,5):\n",
    "        if (r==5) or (c==1):\n",
    "            print(\"*\",end=\" \")\n",
    "        else:\n",
    "            print(\" \",end=\" \")\n",
    "    print()   "
   ]
  },
  {
   "cell_type": "code",
   "execution_count": 18,
   "metadata": {},
   "outputs": [
    {
     "name": "stdout",
     "output_type": "stream",
     "text": [
      "*           \n",
      "  *         \n",
      "    *       \n",
      "      *     \n",
      "        *   \n",
      "          * \n"
     ]
    }
   ],
   "source": [
    "#11)\n",
    "for r in range(6):\n",
    "    for c in range(6):\n",
    "        if r==c:\n",
    "            print(\"*\",end=\" \")\n",
    "        else:\n",
    "            print(\" \",end=\" \")\n",
    "    print()"
   ]
  },
  {
   "cell_type": "code",
   "execution_count": 19,
   "metadata": {},
   "outputs": [
    {
     "name": "stdout",
     "output_type": "stream",
     "text": [
      "* * * * * * \n",
      "*         * \n",
      "*         * \n",
      "*         * \n",
      "*         * \n"
     ]
    }
   ],
   "source": [
    "#12Q)\n",
    "for r in range(1,6):\n",
    "    for c in range(1,7):\n",
    "        if (r==1) or (c==1) or (c==6):\n",
    "            print(\"*\",end=\" \")\n",
    "        else:\n",
    "            print(\" \",end=\" \")\n",
    "\n",
    "    print()   "
   ]
  },
  {
   "cell_type": "code",
   "execution_count": 20,
   "metadata": {},
   "outputs": [
    {
     "name": "stdout",
     "output_type": "stream",
     "text": [
      "* * * * \n",
      "*     * \n",
      "* * * * \n"
     ]
    }
   ],
   "source": [
    "#13Q)\n",
    "for r in range(1,4):\n",
    "    for c in range(1,5):\n",
    "        if r==1 or r==3 or c==1 or c==4:\n",
    "            print(\"*\",end=\" \")\n",
    "        else:\n",
    "            print(\" \",end=\" \")\n",
    "    print()"
   ]
  },
  {
   "cell_type": "code",
   "execution_count": 21,
   "metadata": {},
   "outputs": [
    {
     "name": "stdout",
     "output_type": "stream",
     "text": [
      "* * * * \n",
      "*       \n",
      "*       \n",
      "* * * * \n"
     ]
    }
   ],
   "source": [
    "#14Q)\n",
    "for r in range(1,5):\n",
    "    for c in range(1,5):\n",
    "        if r==1 or c==1 or r==4:\n",
    "            print(\"*\",end=\" \")\n",
    "        else:\n",
    "            print(\" \",end=\" \")\n",
    "    print() "
   ]
  },
  {
   "cell_type": "code",
   "execution_count": 22,
   "metadata": {},
   "outputs": [
    {
     "name": "stdout",
     "output_type": "stream",
     "text": [
      "* * * * * \n",
      "    *     \n",
      "    *     \n",
      "    *     \n",
      "* * * * * \n"
     ]
    }
   ],
   "source": [
    "#15Q)\n",
    "for r in range(1,6):\n",
    "    for c in range(1,6):\n",
    "        if r==1 or c==3 or r==5:\n",
    "            print(\"*\",end=\" \")\n",
    "        else:\n",
    "            print(\" \",end=\" \")\n",
    "    print()  "
   ]
  },
  {
   "cell_type": "code",
   "execution_count": 23,
   "metadata": {},
   "outputs": [
    {
     "name": "stdout",
     "output_type": "stream",
     "text": [
      "* * * * * \n",
      "*         \n",
      "* * * * * \n",
      "*         \n",
      "* * * * * \n"
     ]
    }
   ],
   "source": [
    "#16Q)\n",
    "for r in range(1,6):\n",
    "    for c in range(1,6):\n",
    "        if r==1 or c==1 or r==3 or r==5:\n",
    "            print(\"*\",end=\" \")\n",
    "        else:\n",
    "            print(\" \",end=\" \")\n",
    "    print()  "
   ]
  },
  {
   "cell_type": "code",
   "execution_count": 24,
   "metadata": {},
   "outputs": [
    {
     "name": "stdout",
     "output_type": "stream",
     "text": [
      "* * * * * \n",
      "    *     \n",
      "    *     \n",
      "    *     \n",
      "    *     \n"
     ]
    }
   ],
   "source": [
    "#17Q)\n",
    "for r in range(1,6):\n",
    "    for c in range(1,6):\n",
    "        if r==1 or c==3:\n",
    "            print(\"*\",end=\" \")\n",
    "        else:\n",
    "            print(\" \",end=\" \") \n",
    "    print() "
   ]
  },
  {
   "cell_type": "code",
   "execution_count": 25,
   "metadata": {},
   "outputs": [
    {
     "name": "stdout",
     "output_type": "stream",
     "text": [
      "    *     \n",
      "    *     \n",
      "* * * * * \n",
      "    *     \n",
      "    *     \n"
     ]
    }
   ],
   "source": [
    "#18Q)\n",
    "for r in range(1,6):\n",
    "    for c in range(1,6):\n",
    "        if r==3 or c==3:\n",
    "            print(\"*\",end=\" \")\n",
    "        else:\n",
    "            print(\" \",end=\" \")\n",
    "    print()   "
   ]
  },
  {
   "cell_type": "code",
   "execution_count": 26,
   "metadata": {},
   "outputs": [
    {
     "name": "stdout",
     "output_type": "stream",
     "text": [
      "* * * * * \n",
      "* * * *   \n",
      "* * *     \n",
      "* *       \n",
      "*         \n"
     ]
    }
   ],
   "source": [
    "#19Q)\n",
    "for r in range(1,6):\n",
    "    for c in range(1,6):\n",
    "        if r+c<=6:\n",
    "            print(\"*\",end=\" \")\n",
    "        else:\n",
    "            print(\" \",end=\" \")\n",
    "    print()  "
   ]
  },
  {
   "cell_type": "code",
   "execution_count": 27,
   "metadata": {},
   "outputs": [
    {
     "name": "stdout",
     "output_type": "stream",
     "text": [
      "* * * * * \n",
      "  * * * * \n",
      "    * * * \n",
      "      * * \n",
      "        * \n"
     ]
    }
   ],
   "source": [
    "#20Q\n",
    "for r in range(1,6):\n",
    "    for c in range(1,6):\n",
    "        if r<=c:\n",
    "            print(\"*\",end=\" \")\n",
    "        else:\n",
    "            print(\" \",end=\" \")\n",
    "\n",
    "    print()   "
   ]
  },
  {
   "cell_type": "code",
   "execution_count": 28,
   "metadata": {},
   "outputs": [
    {
     "name": "stdout",
     "output_type": "stream",
     "text": [
      "* * * * * * * * * * \n",
      "* * * *     * * * * \n",
      "* * *         * * * \n",
      "* *             * * \n",
      "*                 * \n"
     ]
    }
   ],
   "source": [
    "#21Q\n",
    "for r in range(1,6):\n",
    "    for c in range(1,6):\n",
    "        if r+c<=6:\n",
    "            print(\"*\",end=\" \")\n",
    "        else:\n",
    "            print(\" \",end=\" \")\n",
    "    for c in range(1,6):\n",
    "        if r<=c:\n",
    "            print(\"*\",end=\" \")\n",
    "        else:\n",
    "            print(\" \",end=\" \")\n",
    "\n",
    "    print()    "
   ]
  },
  {
   "cell_type": "code",
   "execution_count": 30,
   "metadata": {},
   "outputs": [
    {
     "name": "stdout",
     "output_type": "stream",
     "text": [
      "*         \n",
      "* *       \n",
      "* * *     \n",
      "* * * *   \n",
      "* * * * * \n",
      "* * * * * \n",
      "* * * *   \n",
      "* * *     \n",
      "* *       \n",
      "*         \n"
     ]
    }
   ],
   "source": [
    "#22Q\n",
    "for r in range(1,6):         #4---->r>=c\n",
    "    for c in range(1,6):\n",
    "        if r>=c:\n",
    "            print(\"*\",end=\" \")\n",
    "        else:\n",
    "            print(\" \",end=\" \")\n",
    "    print()        \n",
    "\n",
    "for r in range(1,6):             #1----->r+c<=c\n",
    "    for c in range(1,6):\n",
    "        if r+c<=6:\n",
    "            print(\"*\",end=\" \")\n",
    "        else:\n",
    "            print(\" \",end=\" \")        \n",
    "    print()                \n"
   ]
  },
  {
   "cell_type": "code",
   "execution_count": 29,
   "metadata": {},
   "outputs": [
    {
     "name": "stdout",
     "output_type": "stream",
     "text": [
      "          \n",
      "          \n",
      "          \n",
      "          \n",
      "          \n",
      "* * * * * \n",
      "  * * * * \n",
      "    * * * \n",
      "      * * \n",
      "        * \n"
     ]
    }
   ],
   "source": [
    "#23Q\n",
    "for r in range(1,6):\n",
    "    for c in range(1,6):\n",
    "        if r+c<=c:\n",
    "            print(\"*\",end=\" \")\n",
    "        else:\n",
    "            print(\" \",end=\" \")\n",
    "    print() \n",
    "for r in range(1,6):\n",
    "    for c in range(1,6):\n",
    "        if r<=c:\n",
    "            print(\"*\",end=\" \")\n",
    "        else:\n",
    "            print(\" \",end=\" \")\n",
    "    print()                         \n",
    "\n"
   ]
  },
  {
   "cell_type": "code",
   "execution_count": 31,
   "metadata": {},
   "outputs": [
    {
     "name": "stdout",
     "output_type": "stream",
     "text": [
      "* * * * * * * * * * *   \n",
      "  * * * * * * * * *     \n",
      "    * * * * * * *       \n",
      "      * * * * *         \n",
      "        * * *           \n",
      "          *             \n"
     ]
    }
   ],
   "source": [
    "#24Q\n",
    "for r in range(1,7):\n",
    "    for c in range(1,7):\n",
    "        if r<=c:\n",
    "            print(\"*\",end=\" \")\n",
    "        else:\n",
    "            print(\" \",end=\" \")\n",
    "    for c in range(1,7):\n",
    "        if r+c<=6:\n",
    "            print(\"*\",end=\" \") \n",
    "        else:\n",
    "            print(\" \",end=\" \")\n",
    "    print() "
   ]
  },
  {
   "cell_type": "code",
   "execution_count": 32,
   "metadata": {},
   "outputs": [
    {
     "name": "stdout",
     "output_type": "stream",
     "text": [
      "            \n",
      "          * \n",
      "        * * \n",
      "      * * * \n",
      "    * * * * \n",
      "  * * * * * \n",
      "* * * * * * \n",
      "  * * * * * \n",
      "    * * * * \n",
      "      * * * \n",
      "        * * \n",
      "          * \n"
     ]
    }
   ],
   "source": [
    "#25Q\n",
    "for r in range(1,7):\n",
    "    for c in range(1,7):\n",
    "        if r+c>=8:\n",
    "            print(\"*\",end=\" \")\n",
    "        else:\n",
    "            print(\" \",end=\" \") \n",
    "    print()        \n",
    "for r in range(1,7):            \n",
    "    for c in range(1,7):\n",
    "        if r<=c:\n",
    "            print(\"*\",end=\" \")\n",
    "        else:\n",
    "            print(\" \",end=\" \")    \n",
    "    print()                    "
   ]
  },
  {
   "cell_type": "code",
   "execution_count": 33,
   "metadata": {},
   "outputs": [
    {
     "name": "stdout",
     "output_type": "stream",
     "text": [
      "            *           \n",
      "          * * *         \n",
      "        * * * * *       \n",
      "      * * * * * * *     \n",
      "    * * * * * * * * *   \n",
      "  * * * * * * * * * * * \n"
     ]
    }
   ],
   "source": [
    "#26Q\n",
    "for r in range(1,7):\n",
    "    for c in range(1,7):\n",
    "        if r+c>=8:\n",
    "            print(\"*\",end=\" \")\n",
    "        else:\n",
    "            print(\" \",end=\" \")\n",
    "    for c in range(1,7):\n",
    "        if r>=c:\n",
    "            print(\"*\",end=\" \")\n",
    "        else:\n",
    "            print(\" \",end=\" \")\n",
    "    print()   "
   ]
  },
  {
   "cell_type": "code",
   "execution_count": 34,
   "metadata": {},
   "outputs": [
    {
     "name": "stdout",
     "output_type": "stream",
     "text": [
      "*                 * \n",
      "* *             * * \n",
      "* * *         * * * \n",
      "* * * *     * * * * \n",
      "* * * * * * * * * * \n"
     ]
    }
   ],
   "source": [
    "#27Q\n",
    "for r in range(1,6):\n",
    "    for c in range(1,6):\n",
    "        if r>=c:\n",
    "            print(\"*\",end=\" \")\n",
    "        else:\n",
    "            print(\" \",end=\" \")\n",
    "    for c in range(1,6):\n",
    "        if r+c>=6:\n",
    "            print(\"*\",end=\" \")\n",
    "        else:\n",
    "            print(\" \",end=\" \")\n",
    "    print()    "
   ]
  },
  {
   "cell_type": "code",
   "execution_count": 35,
   "metadata": {},
   "outputs": [
    {
     "name": "stdout",
     "output_type": "stream",
     "text": [
      "* * * * * * * * *   \n",
      "  * * * * * * *     \n",
      "    * * * * *       \n",
      "      * * *         \n",
      "        *           \n",
      "        *           \n",
      "      * * *         \n",
      "    * * * * *       \n",
      "  * * * * * * *     \n",
      "* * * * * * * * *   \n"
     ]
    }
   ],
   "source": [
    "#28Q\n",
    "for r in range(1,6):\n",
    "    for c in range(1,6):\n",
    "        if r<=c:\n",
    "            print(\"*\",end=\" \")\n",
    "        else:\n",
    "            print(\" \",end=\" \")\n",
    "    # print()        \n",
    "    for c in range(1,6):\n",
    "        if r+c<=5:\n",
    "            print(\"*\",end=\" \")\n",
    "        else:\n",
    "            print(\" \",end=\" \")\n",
    "    print()\n",
    "for r in range(1,6):\n",
    "    for c in range(1,6):\n",
    "        if r+c>=6:\n",
    "            print(\"*\",end=\" \")\n",
    "        else:\n",
    "            print(\" \",end=\" \")\n",
    "    # print()        \n",
    "    for c in range(1,6):\n",
    "        if r>=c+1:\n",
    "            print(\"*\",end=\" \")\n",
    "        else:\n",
    "            print(\" \",end=\" \")\n",
    "    print()       "
   ]
  },
  {
   "cell_type": "code",
   "execution_count": 36,
   "metadata": {},
   "outputs": [
    {
     "name": "stdout",
     "output_type": "stream",
     "text": [
      "* * * * * * * * * * \n",
      "* * * *     * * * * \n",
      "* * *         * * * \n",
      "* *             * * \n",
      "*                 * \n",
      "*                 * \n",
      "* *             * * \n",
      "* * *         * * * \n",
      "* * * *     * * * * \n",
      "* * * * * * * * * * \n"
     ]
    }
   ],
   "source": [
    "#29Q)\n",
    "for r in range(1,6):\n",
    "    for c in range(1,6):\n",
    "        if r+c<=6:\n",
    "            print(\"*\",end=\" \")\n",
    "        else:\n",
    "            print(\" \",end=\" \")\n",
    "    for c in range(1,6):\n",
    "        if r<=c:\n",
    "            print(\"*\",end=\" \")\n",
    "        else:\n",
    "            print(\" \",end=\" \")\n",
    "    print()  \n",
    "for r in range(1,6):                      \n",
    "    for c in range(1,6):\n",
    "        if r>=c:\n",
    "            print(\"*\",end=\" \")\n",
    "        else:\n",
    "            print(\" \",end=\" \")\n",
    "    for c in range(1,6):\n",
    "        if r+c>=6:\n",
    "            print(\"*\",end=\" \")\n",
    "        else:\n",
    "            print(\" \",end=\" \")\n",
    "    print()                        "
   ]
  },
  {
   "cell_type": "code",
   "execution_count": 37,
   "metadata": {},
   "outputs": [
    {
     "name": "stdout",
     "output_type": "stream",
     "text": [
      "* * * * * * \n",
      "*         * \n",
      "*         * \n",
      "*         * \n",
      "*         * \n",
      "* * * * * * \n"
     ]
    }
   ],
   "source": [
    "#30 Q)\n",
    "for r in range(6):\n",
    "    for c in range(6):\n",
    "        if r==0 or c==0 or r==5 or c==5:\n",
    "            print(\"*\",end=\" \")\n",
    "        else:\n",
    "            print(\" \",end=\" \")\n",
    "    print()"
   ]
  },
  {
   "cell_type": "code",
   "execution_count": 10,
   "metadata": {},
   "outputs": [
    {
     "name": "stdout",
     "output_type": "stream",
     "text": [
      "@ @ @ @ @ @ \n",
      "*         @ \n",
      "*         @ \n",
      "*         @ \n",
      "*         @ \n",
      "* * * * * @ \n"
     ]
    }
   ],
   "source": [
    "#31Q)\n",
    "for r in range(6):\n",
    "    for c in range(6):\n",
    "        if r==0 or c==5:\n",
    "            print(\"@\",end=\" \")\n",
    "        elif c==0 or r==5:\n",
    "            print(\"*\",end=\" \")\n",
    "        else:\n",
    "            print(\" \",end=\" \")\n",
    "    print()\n"
   ]
  },
  {
   "cell_type": "code",
   "execution_count": 11,
   "metadata": {},
   "outputs": [
    {
     "name": "stdout",
     "output_type": "stream",
     "text": [
      "# # # * # # \n",
      "# # # * # # \n",
      "# # # * # # \n",
      "# # # * # # \n",
      "# # # * # # \n",
      "# # # * # # \n"
     ]
    }
   ],
   "source": [
    "#32Q)\n",
    "for r in range(6):\n",
    "    for c in range(6):\n",
    "        if c==3:\n",
    "            print(\"*\",end=\" \")\n",
    "        else:\n",
    "            print(\"#\",end=\" \")\n",
    "    print()"
   ]
  },
  {
   "cell_type": "code",
   "execution_count": 12,
   "metadata": {},
   "outputs": [
    {
     "name": "stdout",
     "output_type": "stream",
     "text": [
      "# @ @ @ @ @ @ \n",
      "@ # @ @ @ @ @ \n",
      "@ @ # @ @ @ @ \n",
      "@ @ @ # @ @ @ \n",
      "@ @ @ @ # @ @ \n",
      "@ @ @ @ @ # @ \n",
      "@ @ @ @ @ @ # \n"
     ]
    }
   ],
   "source": [
    "#33Q)\n",
    "for r in range(7):\n",
    "    for c in range(7):\n",
    "        if r==c:\n",
    "            print(\"#\",end=\" \")\n",
    "        else:\n",
    "            print(\"@\",end=\" \")\n",
    "    print()"
   ]
  },
  {
   "cell_type": "code",
   "execution_count": null,
   "metadata": {},
   "outputs": [],
   "source": []
  }
 ],
 "metadata": {
  "kernelspec": {
   "display_name": "Python 3",
   "language": "python",
   "name": "python3"
  },
  "language_info": {
   "codemirror_mode": {
    "name": "ipython",
    "version": 3
   },
   "file_extension": ".py",
   "mimetype": "text/x-python",
   "name": "python",
   "nbconvert_exporter": "python",
   "pygments_lexer": "ipython3",
   "version": "3.12.4"
  }
 },
 "nbformat": 4,
 "nbformat_minor": 2
}
