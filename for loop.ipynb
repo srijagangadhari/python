{
 "cells": [
  {
   "cell_type": "code",
   "execution_count": 6,
   "metadata": {},
   "outputs": [
    {
     "name": "stdout",
     "output_type": "stream",
     "text": [
      "3\n",
      "4\n",
      "5\n",
      "6\n",
      "7\n",
      "8\n",
      "9\n"
     ]
    }
   ],
   "source": [
    "#WAP to print all the items present in the string between the range from m to n(1Q)\n",
    "s=\"hello world\"\n",
    "a=int(input())\n",
    "b=int(input())\n",
    "for i in range(a,b+1):\n",
    "    print(i)"
   ]
  },
  {
   "cell_type": "code",
   "execution_count": 18,
   "metadata": {},
   "outputs": [
    {
     "name": "stdout",
     "output_type": "stream",
     "text": [
      "He is the best trainer \n"
     ]
    }
   ],
   "source": [
    "#WAP to print the alphabets in a given string with spaces(2Q)\n",
    "a=\"He is the best trainer @1239\"\n",
    "res=\"\"\n",
    "# for i in a:\n",
    "#     if \"a\"<=i<=\"z\" or \"A\"<=i<=\"Z\" or i==\" \":\n",
    "#         res+=i\n",
    "# print(res)\n",
    "\n",
    "          # (or)\n",
    "for i in range(len(a)):\n",
    "    if \"a\"<=a[i]<=\"z\" or \"A\"<=a[i]<=\"Z\" or a[i]==\" \":\n",
    "        res+=a[i]\n",
    "print(res)        "
   ]
  },
  {
   "cell_type": "code",
   "execution_count": 10,
   "metadata": {},
   "outputs": [
    {
     "name": "stdout",
     "output_type": "stream",
     "text": [
      "12365\n"
     ]
    }
   ],
   "source": [
    "#WAP to print the ascii numbers(digits)characters in a given string(3Q)\n",
    "s=\"good morning 123 to all @65\"\n",
    "res=\"\"\n",
    "for i in s:\n",
    "    if \"0\"<=i<=\"9\":\n",
    "        res+=i\n",
    "print(res)"
   ]
  },
  {
   "cell_type": "code",
   "execution_count": 5,
   "metadata": {},
   "outputs": [
    {
     "name": "stdout",
     "output_type": "stream",
     "text": [
      "_@ & $# *\n"
     ]
    }
   ],
   "source": [
    "#WAP to print the special characters in a given string(4Q)\n",
    "b=\"Kphb_Qspiders@123 & pyspiders$# hyd*\"\n",
    "res=\"\"\n",
    "for i in b:\n",
    "    if not(\"a\"<=i<=\"z\" or \"A\"<=i<=\"Z\" or \"0\"<=i<=\"9\"):\n",
    "            res=res+i\n",
    "print(res)            "
   ]
  },
  {
   "cell_type": "code",
   "execution_count": 21,
   "metadata": {},
   "outputs": [
    {
     "name": "stdout",
     "output_type": "stream",
     "text": [
      "wloet yhncas\n"
     ]
    }
   ],
   "source": [
    "#WAP to print the even position values characters in a given string(5Q)\n",
    "s=\"welcome to python class\"\n",
    "res=\"\"\n",
    "for i in range(len(s)):\n",
    "    if i%2==0:\n",
    "        res+=s[i]\n",
    "print(res)        "
   ]
  },
  {
   "cell_type": "code",
   "execution_count": 22,
   "metadata": {},
   "outputs": [
    {
     "name": "stdout",
     "output_type": "stream",
     "text": [
      "ecm opto ls\n"
     ]
    }
   ],
   "source": [
    "#WAP to print the odd position values characters in a given string(6Q)\n",
    "s=\"welcome to python class\"\n",
    "res=\"\"\n",
    "\n",
    "for i in range(len(s)):\n",
    "    if i%2==1:\n",
    "        res+=s[i]\n",
    "print(res)        "
   ]
  },
  {
   "cell_type": "code",
   "execution_count": 23,
   "metadata": {},
   "outputs": [
    {
     "name": "stdout",
     "output_type": "stream",
     "text": [
      "9\n"
     ]
    }
   ],
   "source": [
    "#WAP to count number of special symbols in a given string(7Q)\n",
    "b=\"Kphb_Qspiders@123 & pyspiders$# hyd*\"\n",
    "count=0\n",
    "for i in b:\n",
    "    if not(\"a\"<=i<=\"z\" or \"A\"<=i<=\"Z\" or \"0\"<=i<=\"9\"):\n",
    "        count+=1\n",
    "print(count)        \n",
    " "
   ]
  },
  {
   "cell_type": "code",
   "execution_count": 24,
   "metadata": {},
   "outputs": [
    {
     "name": "stdout",
     "output_type": "stream",
     "text": [
      "7\n"
     ]
    }
   ],
   "source": [
    "#WAP to count number of special space in a given string(8Q)\n",
    "a=\"He is the best trainer @ 12 bangl\"\n",
    "count=0\n",
    "for i in a:\n",
    "    if i == \" \":\n",
    "        count+=1\n",
    "print(count)        "
   ]
  },
  {
   "cell_type": "code",
   "execution_count": 25,
   "metadata": {},
   "outputs": [
    {
     "name": "stdout",
     "output_type": "stream",
     "text": [
      "8\n"
     ]
    }
   ],
   "source": [
    "#WAP to count number of ascii numbers in a given string(9Q)\n",
    "w=\"hello 123 welcome 2 hyd_8932\"\n",
    "count=0\n",
    "\n",
    "for i in w:\n",
    "    if \"0\"<=i<=\"9\":\n",
    "        count+=1\n",
    "print(count)        "
   ]
  },
  {
   "cell_type": "code",
   "execution_count": 26,
   "metadata": {},
   "outputs": [
    {
     "name": "stdout",
     "output_type": "stream",
     "text": [
      "15\n"
     ]
    }
   ],
   "source": [
    "#WAP to count number of alphabets in a given string(10Q)\n",
    "w=\"hello 123 welcome 2 hyd_8932\"\n",
    "count=0\n",
    "\n",
    "for i in w:\n",
    "    if \"a\"<=i<=\"z\" or \"A\"<=i<=\"Z\":\n",
    "        count+=1\n",
    "print(count) "
   ]
  },
  {
   "cell_type": "code",
   "execution_count": 6,
   "metadata": {},
   "outputs": [
    {
     "name": "stdout",
     "output_type": "stream",
     "text": [
      "15\n",
      "8\n",
      "9\n"
     ]
    }
   ],
   "source": [
    "#WAP to count number of alphabets,numbers and special charcters in a given string(11Q)\n",
    "s=\"hello@123 _#welocme% 2 hyd_8932*\"\n",
    "alp=0\n",
    "num=0\n",
    "sp=0\n",
    "for i in s:\n",
    "    if \"a\"<=i<=\"z\" or \"A\"<=i<=\"Z\":\n",
    "        alp+=1\n",
    "    elif(\"0\"<=i<=\"9\"):\n",
    "        num+=1\n",
    "    else:\n",
    "        sp+=1 \n",
    "print(alp)\n",
    "print(num)\n",
    "print(sp)         "
   ]
  },
  {
   "cell_type": "code",
   "execution_count": 27,
   "metadata": {},
   "outputs": [
    {
     "name": "stdout",
     "output_type": "stream",
     "text": [
      "4\n"
     ]
    }
   ],
   "source": [
    "#WAP to count Vowels in a string(12Q)\n",
    "st=\"meenaskshi\"\n",
    "count=0\n",
    "for i in st:\n",
    "    if i in \"AEIOUaeiou\":\n",
    "         count+=1\n",
    "print(count)\n"
   ]
  },
  {
   "cell_type": "code",
   "execution_count": 29,
   "metadata": {},
   "outputs": [
    {
     "name": "stdout",
     "output_type": "stream",
     "text": [
      "3\n"
     ]
    }
   ],
   "source": [
    "#WAP to count consonants in a string(13Q)\n",
    "st=\"hello\"\n",
    "count=0\n",
    "for i in st:\n",
    "    if i not in \"AEIOUaeiou\":\n",
    "         count+=1\n",
    "print(count)"
   ]
  },
  {
   "cell_type": "code",
   "execution_count": 30,
   "metadata": {},
   "outputs": [
    {
     "name": "stdout",
     "output_type": "stream",
     "text": [
      "3\n",
      "14\n"
     ]
    }
   ],
   "source": [
    "#WAP to count consonants and vowels in a string(14Q)\n",
    "a=\"python full_stack\"\n",
    "vow=0\n",
    "con=0\n",
    "for i in a:\n",
    "    if i in \"AEIOUaeiou\":\n",
    "        vow+=1\n",
    "    elif(i not in \"AEIOUaeiou\"):\n",
    "        con+=1\n",
    "print(vow)\n",
    "print(con)            "
   ]
  },
  {
   "cell_type": "code",
   "execution_count": 37,
   "metadata": {},
   "outputs": [
    {
     "name": "stdout",
     "output_type": "stream",
     "text": [
      "pythonwithdatascience\n"
     ]
    }
   ],
   "source": [
    "#WAP to convert uppercase to lowercase in a given string(15Q)\n",
    "s=\"PYTHON WITH DATA SCIENCE\"\n",
    "res=\"\"\n",
    "for i in s:\n",
    "    if \"A\"<=i<=\"Z\":\n",
    "        res+=chr(ord(i)+32)\n",
    "\n",
    "print(res)\n"
   ]
  },
  {
   "cell_type": "code",
   "execution_count": 45,
   "metadata": {},
   "outputs": [
    {
     "name": "stdout",
     "output_type": "stream",
     "text": [
      "pYtHoN WiTh dS\n"
     ]
    }
   ],
   "source": [
    "#WAP to convert uppercase to lowercase in even position charactersa in a given string(16Q)\n",
    "s=\"PYTHON WITH DS\"\n",
    "res=\"\"\n",
    "i=0\n",
    "for p in s:\n",
    "    if \"A\"<=p<=\"Z\" and i%2==0 :\n",
    "        res+=chr(ord(p)+32)\n",
    "    else:\n",
    "        res+=p    \n",
    "    i+=1    \n",
    "print(res)        \n"
   ]
  },
  {
   "cell_type": "code",
   "execution_count": 12,
   "metadata": {},
   "outputs": [
    {
     "name": "stdout",
     "output_type": "stream",
     "text": [
      "MaChInE LeArNiNg\n"
     ]
    }
   ],
   "source": [
    "#WAP to convert uppercase to lowercase in odd position characters in a given string(17Q)\n",
    "s=\"MACHINE LEARNING\"\n",
    "res=\"\"\n",
    "i=0\n",
    "for char in s:\n",
    "    if \"A\" <= char <= \"Z\" and i % 2 == 1:\n",
    "        res += chr(ord(char)+32)\n",
    "    else:\n",
    "        res+=char\n",
    "\n",
    "    i += 1  \n",
    "\n",
    "print(res)  \n"
   ]
  },
  {
   "cell_type": "code",
   "execution_count": 19,
   "metadata": {},
   "outputs": [
    {
     "name": "stdout",
     "output_type": "stream",
     "text": [
      "hello123welocme2hyd8932\n"
     ]
    }
   ],
   "source": [
    "#WAP to remove special characters in a given string(18Q)\n",
    "# s=\"hello@123 _#welocme% 2 hyd_8932*\"\n",
    "# res=\"\"\n",
    "# for i in s:\n",
    "#     if not(\"A\"<=i<=\"Z\" or \"a\"<=i<=\"z\" or \"0\"<=i<=\"9\"):\n",
    "#           pass\n",
    "#     else:\n",
    "#          res+=i\n",
    "# print(res) \n",
    "\n",
    "s=\"hello@123 _#welocme% 2 hyd_8932*\"\n",
    "res=\"\"\n",
    "for i in s:\n",
    "     if (\"a\"<=i<=\"z\" or \"A\"<=i<=\"Z\" or \"0\"<=i<=\"9\"):\n",
    "          res+=i\n",
    "print(res)    \n"
   ]
  },
  {
   "cell_type": "code",
   "execution_count": 20,
   "metadata": {},
   "outputs": [
    {
     "name": "stdout",
     "output_type": "stream",
     "text": [
      "eoo123aii\n"
     ]
    }
   ],
   "source": [
    "#i/p:\"hello world 123 haii\"\n",
    "#o/p:\"eoo l123aii\"  (19Q)\n",
    "\n",
    "a = \"hello world 123 haii\"\n",
    "p = \"\"\n",
    "\n",
    "for char in a:\n",
    "    if char in \"aeiou0123456789\":\n",
    "        p += char\n",
    "\n",
    "print(p)\n"
   ]
  },
  {
   "cell_type": "code",
   "execution_count": 21,
   "metadata": {},
   "outputs": [
    {
     "name": "stdout",
     "output_type": "stream",
     "text": [
      "eo o 123 aii\n"
     ]
    }
   ],
   "source": [
    "#i/p:\"hello world 123 haii\"\n",
    "#o/p:\"eo o 123 aii\"  (20Q)\n",
    "s=\"hello world 123 haii\"\n",
    "res=\"\"\n",
    "for i in s:\n",
    "    if i in \"aeiou\" or \"0\"<=i<=\"9\" or i==\" \":\n",
    "        res+=i\n",
    "print(res)\n"
   ]
  },
  {
   "cell_type": "code",
   "execution_count": 22,
   "metadata": {},
   "outputs": [
    {
     "name": "stdout",
     "output_type": "stream",
     "text": [
      "PyThOn wItH DaTa sCiEnCe\n"
     ]
    }
   ],
   "source": [
    "#WAP to convert uppercase to lowercase in odd position charactersa in a given string(21Q)\n",
    "s = \"PYTHON WITH DATA SCIENCE\"\n",
    "res = \"\"\n",
    "\n",
    "for index, char in enumerate(s):\n",
    "    if \"A\" <= char <= \"Z\" and index % 2 == 1:\n",
    "        res += char.lower()\n",
    "    else:\n",
    "        res += char\n",
    "\n",
    "print(res)"
   ]
  },
  {
   "cell_type": "code",
   "execution_count": 23,
   "metadata": {},
   "outputs": [
    {
     "name": "stdout",
     "output_type": "stream",
     "text": [
      "i-am-going-to-eat-cake-you-guys-complete-these-programs\n"
     ]
    }
   ],
   "source": [
    "#WAP to replace white spaces with hyphen in a string(22Q)\n",
    "word=\"i am going to eat cake you guys complete these programs\"\n",
    "res=\"\" \n",
    "for i in word:\n",
    "    if i==\" \":\n",
    "        res=res+\"-\"\n",
    "    else:\n",
    "        res+=i\n",
    "\n",
    "print(res)\n"
   ]
  },
  {
   "cell_type": "code",
   "execution_count": 24,
   "metadata": {},
   "outputs": [
    {
     "name": "stdout",
     "output_type": "stream",
     "text": [
      "i am going to at cak you guys complt ths programs\n"
     ]
    }
   ],
   "source": [
    "#WAP to remove specified characters in a given string(23Q)\n",
    "word=\"i am going to eat cake you guys complete these programs\"\n",
    "res=\"\"\n",
    "sp=\"e\"\n",
    "for i in word:\n",
    "    if i!=sp:\n",
    "        res+=i\n",
    "print(res)        \n"
   ]
  },
  {
   "cell_type": "code",
   "execution_count": 25,
   "metadata": {},
   "outputs": [
    {
     "name": "stdout",
     "output_type": "stream",
     "text": [
      "153 Armstrong\n"
     ]
    }
   ],
   "source": [
    "#WAP to check the given number is Amstrong number or not(24Q)\n",
    "n=153\n",
    "st_num=str(n)\n",
    "no_of_digits=len(st_num)\n",
    "armstrong=0\n",
    "for i in st_num:\n",
    "    single=int(i)\n",
    "    armstrong+=single**no_of_digits\n",
    "if armstrong==n:\n",
    "    print(n,\"Armstrong\")\n",
    "else:\n",
    "    print(n,\"not armstrong\")       "
   ]
  },
  {
   "cell_type": "code",
   "execution_count": 26,
   "metadata": {},
   "outputs": [
    {
     "name": "stdout",
     "output_type": "stream",
     "text": [
      "1,2,3,4,5,6,7,8,9,153,"
     ]
    }
   ],
   "source": [
    "#WAP the series of amstrong numbers from 1 to 200(25Q)\n",
    "start=1\n",
    "end=200\n",
    "for n in range(start,end+1):\n",
    "    st_num=str(n)\n",
    "    no_of_digits=len(st_num)\n",
    "    armstrong=0\n",
    "    for i in st_num:\n",
    "        single=int(i)\n",
    "        armstrong+=single**no_of_digits\n",
    "    if armstrong==n:\n",
    "        print(n,end=\",\")\n",
    "   "
   ]
  },
  {
   "cell_type": "code",
   "execution_count": 28,
   "metadata": {},
   "outputs": [
    {
     "name": "stdout",
     "output_type": "stream",
     "text": [
      "0,1,2,3,4,5,6,7,8,9,10,11,12,13,14,15,16,17,18,19,20,20,19,18,17,16,15,14,13,12,11,10,9,8,7,6,5,4,3,2,1,0,"
     ]
    }
   ],
   "source": [
    "#WAP to print the index values of a string in forward and backward dires=ction?(24Q)\n",
    "a=\"hello how are you all\"\n",
    "#forward\n",
    "for i in range(0,len(a),1):\n",
    "    print(i,end=\",\")\n",
    "#backward\n",
    "for i in range(len(a)-1,-1,-1):\n",
    "    print(i,end=\",\")   "
   ]
  },
  {
   "cell_type": "code",
   "execution_count": 50,
   "metadata": {},
   "outputs": [
    {
     "name": "stdout",
     "output_type": "stream",
     "text": [
      "h\n"
     ]
    }
   ],
   "source": [
    "#WAP to fetch first character from the strin(25Q)\n",
    "a=\"hello how are you all\"\n",
    "for i in range(0,len(a)):\n",
    "    if i==0:\n",
    "        print(a[i])\n"
   ]
  },
  {
   "cell_type": "code",
   "execution_count": 51,
   "metadata": {},
   "outputs": [
    {
     "name": "stdout",
     "output_type": "stream",
     "text": [
      "l\n"
     ]
    }
   ],
   "source": [
    "#WAP to fetch last character from the string(26Q)\n",
    "a=\"hello how are you all\"\n",
    "for i in range(0,len(a)):\n",
    "    if i==len(a)-1:\n",
    "        print(a[i])\n"
   ]
  },
  {
   "cell_type": "code",
   "execution_count": 52,
   "metadata": {},
   "outputs": [
    {
     "name": "stdout",
     "output_type": "stream",
     "text": [
      "1\n"
     ]
    }
   ],
   "source": [
    "#find the first occurence of the specified character(index value)-->a.find(\"o\")(27Q)\n",
    "a=\"hello how are you all\"\n",
    "sp=input(\"specify the char: \")\n",
    "for i in range(0,len(a)):\n",
    "    if a[i]==sp:\n",
    "        print(i)\n",
    "        break\n",
    "        \n"
   ]
  },
  {
   "cell_type": "code",
   "execution_count": null,
   "metadata": {},
   "outputs": [
    {
     "name": "stdout",
     "output_type": "stream",
     "text": [
      "12\n"
     ]
    }
   ],
   "source": [
    "#find the last occurence of the specified character(index value)-->a.rfind(\"o\")(28Q)\n",
    "a=\"hello how are you all\"\n",
    "sp=input(\"specify the char: \")\n",
    "for i in range(len(a)-1,-1,-1):\n",
    "    if a[i] == sp:\n",
    "        print(i)\n",
    "        break\n",
    "        "
   ]
  },
  {
   "cell_type": "code",
   "execution_count": null,
   "metadata": {},
   "outputs": [
    {
     "name": "stdout",
     "output_type": "stream",
     "text": [
      "7 is prime\n",
      "7 is prime\n",
      "7 is prime\n",
      "7 is prime\n",
      "7 is prime\n"
     ]
    }
   ],
   "source": [
    "#WAP to check given number is prime number or not (29Q)\n",
    "#prime no.--->1 and itself\n",
    "n=7\n",
    "for i in range(2,n):\n",
    "    if n%i==0:\n",
    "        print(n,\"is not prime\")\n",
    "        break\n",
    "    else:\n",
    "        print(n,\"is prime\")    "
   ]
  },
  {
   "cell_type": "code",
   "execution_count": 1,
   "metadata": {},
   "outputs": [
    {
     "name": "stdout",
     "output_type": "stream",
     "text": [
      "2 is prime\n",
      "3 is prime\n",
      "5 is prime\n",
      "7 is prime\n",
      "11 is prime\n",
      "13 is prime\n",
      "17 is prime\n",
      "19 is prime\n",
      "23 is prime\n",
      "29 is prime\n",
      "31 is prime\n",
      "37 is prime\n",
      "41 is prime\n",
      "43 is prime\n",
      "47 is prime\n",
      "53 is prime\n",
      "59 is prime\n",
      "61 is prime\n",
      "67 is prime\n",
      "71 is prime\n",
      "73 is prime\n",
      "79 is prime\n",
      "83 is prime\n",
      "89 is prime\n",
      "97 is prime\n",
      "100 is not prime\n"
     ]
    }
   ],
   "source": [
    "#WAP to print the series of prime no's (30Q)\n",
    "start=2\n",
    "end=100\n",
    "for i in range(start,end+1):\n",
    "    count=0\n",
    "    for j in range(2,i+1):\n",
    "        if i%j==0:\n",
    "            count+=1\n",
    "    if count==1:\n",
    "        print(i,\"is prime\")\n",
    "else:\n",
    "    print(i,\"is not prime\")            \n",
    "\n",
    "        "
   ]
  },
  {
   "cell_type": "code",
   "execution_count": 2,
   "metadata": {},
   "outputs": [
    {
     "name": "stdout",
     "output_type": "stream",
     "text": [
      "the given 6 is perfect number\n"
     ]
    }
   ],
   "source": [
    "#WAP to print the given number is perfect number or not(31Q)\n",
    "n=6\n",
    "perfect=0\n",
    "for i in range(1,n):\n",
    "    if n%i==0:\n",
    "        perfect+=i\n",
    "\n",
    "if n==perfect:\n",
    "    print(f\"the given {n} is perfect number\") \n",
    "else:\n",
    "    print(f\"the given {n} is not perfect number\")            \n",
    "       \n"
   ]
  },
  {
   "cell_type": "code",
   "execution_count": 3,
   "metadata": {},
   "outputs": [
    {
     "name": "stdout",
     "output_type": "stream",
     "text": [
      "6 perfect\n",
      "28 perfect\n"
     ]
    }
   ],
   "source": [
    "#WAP to print series of perfect numbers from 1 to 100(32Q)\n",
    "start=1\n",
    "end=100\n",
    "for i in range(start,end+1):\n",
    "    perfect=0\n",
    "    for j in range(1,i): #------->(1,i) it will repeat 99 times \n",
    "        if i%j==0:\n",
    "            perfect+=j\n",
    "    if i==perfect:\n",
    "        print(i,\"perfect\")\n",
    "\n"
   ]
  },
  {
   "cell_type": "code",
   "execution_count": 4,
   "metadata": {},
   "outputs": [
    {
     "name": "stdout",
     "output_type": "stream",
     "text": [
      "the factorial of 5 is 120\n"
     ]
    }
   ],
   "source": [
    "#WAP to print the factorial of given number(33Q)\n",
    "n=5\n",
    "fact=1\n",
    "for i in range(1,n+1):\n",
    "    fact*=i\n",
    "print(f\"the factorial of {n} is {fact}\")    \n"
   ]
  },
  {
   "cell_type": "code",
   "execution_count": 4,
   "metadata": {},
   "outputs": [
    {
     "name": "stdout",
     "output_type": "stream",
     "text": [
      "the fctorial of 1 is 1\n",
      "the fctorial of 2 is 2\n",
      "the fctorial of 3 is 6\n",
      "the fctorial of 4 is 24\n",
      "the fctorial of 5 is 120\n",
      "the fctorial of 6 is 720\n",
      "the fctorial of 7 is 5040\n",
      "the fctorial of 8 is 40320\n",
      "the fctorial of 9 is 362880\n",
      "the fctorial of 10 is 3628800\n"
     ]
    }
   ],
   "source": [
    "#WAP to print the series of factorial (34Q)\n",
    "start=1\n",
    "end=10\n",
    "for p in range(start,end+1):\n",
    "    fact=1\n",
    "    for q in range(1,p+1):\n",
    "        fact*=q\n",
    "    print(f\"the fctorial of {q} is {fact}\")    "
   ]
  },
  {
   "cell_type": "code",
   "execution_count": 5,
   "metadata": {},
   "outputs": [
    {
     "name": "stdout",
     "output_type": "stream",
     "text": [
      "c:7\n"
     ]
    }
   ],
   "source": [
    "#WAP to find the maximum ocuurence of the character in a given string(35Q)\n",
    "s=\"cncnjdcdbncbcccn\"\n",
    "d={}\n",
    "for i in s:\n",
    "    if i not in d:\n",
    "        d[i]=1\n",
    "    else:\n",
    "        d[i]+=1\n",
    "#print(d)\n",
    "max=0\n",
    "character=\"\"  \n",
    "for key in d:\n",
    "    if d[key]>max:\n",
    "        max=d[key]\n",
    "        character=key\n",
    "print(character,max,sep=\":\")                  "
   ]
  },
  {
   "cell_type": "code",
   "execution_count": 13,
   "metadata": {},
   "outputs": [
    {
     "name": "stdout",
     "output_type": "stream",
     "text": [
      "j:1\n"
     ]
    }
   ],
   "source": [
    "#WAP to find the minimum ocuurence of the character in a given string(36Q)\n",
    "s = \"cncnjdcdbncbcccn\"\n",
    "d = {}\n",
    "for i in s:\n",
    "    if i not in d:\n",
    "        d[i] = 1\n",
    "    else:\n",
    "        d[i] += 1\n",
    "min= len(s)\n",
    "character = \"\"\n",
    "\n",
    "for key in d:\n",
    "    if d[key] < min:\n",
    "        min= d[key]\n",
    "        character= key\n",
    "\n",
    "print(character,min,sep=\":\")"
   ]
  },
  {
   "cell_type": "code",
   "execution_count": 2,
   "metadata": {},
   "outputs": [
    {
     "name": "stdout",
     "output_type": "stream",
     "text": [
      "(1, 2, 3, 4, 5, 7, 9)\n"
     ]
    }
   ],
   "source": [
    "#WAP to get the unique values from the give tuple(37Q)\n",
    "t=(1,5,2,4,7,5,4,1,2,3,4,5,9)\n",
    "s=set()\n",
    "for char in t:\n",
    "    if char not in s:\n",
    "        s|={char}\n",
    "print(tuple(s))        "
   ]
  },
  {
   "cell_type": "code",
   "execution_count": 3,
   "metadata": {},
   "outputs": [
    {
     "name": "stdout",
     "output_type": "stream",
     "text": [
      "12 is not spy number\n"
     ]
    }
   ],
   "source": [
    "#WAP to check given number is spy number or not(38Q)\n",
    "n=123\n",
    "sum=0\n",
    "product=1\n",
    "s=str(n)\n",
    "for i in s:\n",
    "    integer=int(i)\n",
    "    sum+=integer\n",
    "    product*=integer\n",
    "if sum==product:\n",
    "    print(f\"{n} is spy number\")\n",
    "else:\n",
    "    print(f\"{n} is not spy number\")        "
   ]
  },
  {
   "cell_type": "code",
   "execution_count": 1,
   "metadata": {},
   "outputs": [
    {
     "name": "stdout",
     "output_type": "stream",
     "text": [
      "1 spy number\n",
      "2 spy number\n",
      "3 spy number\n",
      "4 spy number\n",
      "5 spy number\n",
      "6 spy number\n",
      "7 spy number\n",
      "8 spy number\n",
      "9 spy number\n"
     ]
    }
   ],
   "source": [
    "#WAP to print the series of spy numbers(39Q)\n",
    "start=1\n",
    "end=20\n",
    "for i in range(start,end+1):\n",
    "    sum=0\n",
    "    product=1\n",
    "    s=str(i)\n",
    "    for j in s:\n",
    "        integer=int(j)\n",
    "        sum+=integer\n",
    "        product*=integer\n",
    "    if sum==product:\n",
    "        print(f\"{j} spy number\")   \n",
    "    # else:\n",
    "    #     print(f\"{j} not spy number\")     "
   ]
  },
  {
   "cell_type": "code",
   "execution_count": 24,
   "metadata": {},
   "outputs": [
    {
     "name": "stdout",
     "output_type": "stream",
     "text": [
      "321\n"
     ]
    }
   ],
   "source": [
    "st=\"\"\n",
    "a=\"123\"\n",
    "count=-1\n",
    "for i in a:\n",
    "    st=st+a[count]\n",
    "    count-=1\n",
    "print(st)"
   ]
  },
  {
   "cell_type": "code",
   "execution_count": 2,
   "metadata": {},
   "outputs": [
    {
     "name": "stdout",
     "output_type": "stream",
     "text": [
      "321\n"
     ]
    }
   ],
   "source": [
    "st = \"\"\n",
    "a = \"123\"\n",
    "count = -1\n",
    "\n",
    "for i in a:\n",
    "    st = i + st  # Fix: Add the current character at the beginning of the string\n",
    "    count -= 1\n",
    "\n",
    "print(st)\n"
   ]
  },
  {
   "cell_type": "code",
   "execution_count": 28,
   "metadata": {},
   "outputs": [
    {
     "name": "stdout",
     "output_type": "stream",
     "text": [
      "5\n"
     ]
    }
   ],
   "source": [
    "n=\"\"\"hello'\n",
    "everyone\n",
    "how are u\n",
    ",need some\n",
    "water\n",
    "\"\"\"\n",
    "count=0\n",
    "for i in n:\n",
    "    if i==\"\\n\":\n",
    "        count+=1\n",
    "print(count)"
   ]
  },
  {
   "cell_type": "code",
   "execution_count": 32,
   "metadata": {},
   "outputs": [
    {
     "name": "stdout",
     "output_type": "stream",
     "text": [
      "12\n"
     ]
    }
   ],
   "source": [
    "s=\"2343\"\n",
    "sum1=0\n",
    "for i in s:\n",
    "    sum1+=int(i)\n",
    "print(sum1)"
   ]
  },
  {
   "cell_type": "code",
   "execution_count": 9,
   "metadata": {},
   "outputs": [
    {
     "name": "stdout",
     "output_type": "stream",
     "text": [
      " python is asy subjct just w hav to practic\n"
     ]
    }
   ],
   "source": [
    "s=\"python is easy subject just we have to practice\"\n",
    "# count=0\n",
    "sp=\"e\"\n",
    "a=\" \"\n",
    "for i in s:\n",
    "    # if i==sp:\n",
    "       if i!=\"e\":\n",
    "           a+=i    \n",
    "    #    continue\n",
    "    # else:\n",
    "    #     a+=i    \n",
    "    # count+=1 \n",
    "print(a)           "
   ]
  },
  {
   "cell_type": "code",
   "execution_count": 5,
   "metadata": {},
   "outputs": [
    {
     "name": "stdout",
     "output_type": "stream",
     "text": [
      "prime\n",
      "prime\n",
      "prime\n",
      "prime\n"
     ]
    }
   ],
   "source": [
    "n=5\n",
    "for i in range(1,n):\n",
    "    if n%2==0:\n",
    "        print(\"not prime\")\n",
    "    else:\n",
    "        print(\"prime\")        "
   ]
  },
  {
   "cell_type": "code",
   "execution_count": 1,
   "metadata": {},
   "outputs": [
    {
     "name": "stdout",
     "output_type": "stream",
     "text": [
      " hElLo wOrLd\n"
     ]
    }
   ],
   "source": [
    "s=\"HELLO WORLD\"\n",
    "res=\" \"\n",
    "i=0\n",
    "for char in s:\n",
    "    if \"A\"<=char<=\"Z\" and i%2==0:\n",
    "        res=res+chr(ord(char)+32) \n",
    "    else:\n",
    "        res+=char  \n",
    "    i+=1    \n",
    "print(res) \n",
    "\n",
    "# s = \"HELLO WORLD\"\n",
    "# res = \"\"\n",
    "\n",
    "# for index, char in enumerate(s):\n",
    "#     if \"A\" <= char <= \"Z\" and index % 2 == 0:\n",
    "#         res += chr(ord(char) + 32)\n",
    "#     else:\n",
    "#         res += char\n",
    "\n",
    "# print(res)\n"
   ]
  },
  {
   "cell_type": "code",
   "execution_count": 3,
   "metadata": {},
   "outputs": [
    {
     "name": "stdout",
     "output_type": "stream",
     "text": [
      "2 is prime\n",
      "3 is prime\n",
      "4 is divisible by 2\n",
      "5 is prime\n",
      "6 is divisible by 2\n",
      "7 is prime\n",
      "8 is divisible by 2\n",
      "9 is divisible by 3\n",
      "10 is divisible by 2\n",
      "11 is prime\n",
      "12 is divisible by 2\n",
      "13 is prime\n",
      "14 is divisible by 2\n",
      "15 is divisible by 3\n",
      "16 is divisible by 2\n",
      "17 is prime\n",
      "18 is divisible by 2\n",
      "19 is prime\n",
      "20 is divisible by 2\n",
      "21 is divisible by 3\n",
      "22 is divisible by 2\n",
      "23 is prime\n",
      "24 is divisible by 2\n",
      "25 is divisible by 5\n",
      "26 is divisible by 2\n",
      "27 is divisible by 3\n",
      "28 is divisible by 2\n",
      "29 is prime\n",
      "30 is divisible by 2\n",
      "31 is prime\n",
      "32 is divisible by 2\n",
      "33 is divisible by 3\n",
      "34 is divisible by 2\n",
      "35 is divisible by 5\n",
      "36 is divisible by 2\n",
      "37 is prime\n",
      "38 is divisible by 2\n",
      "39 is divisible by 3\n",
      "40 is divisible by 2\n",
      "41 is prime\n",
      "42 is divisible by 2\n",
      "43 is prime\n",
      "44 is divisible by 2\n",
      "45 is divisible by 3\n",
      "46 is divisible by 2\n",
      "47 is prime\n",
      "48 is divisible by 2\n",
      "49 is divisible by 7\n",
      "50 is divisible by 2\n"
     ]
    }
   ],
   "source": [
    "start = 1\n",
    "end = 50\n",
    "\n",
    "for j in range(start, end + 1):\n",
    "    # Initialize a flag to track if the number is prime\n",
    "    is_prime = True\n",
    "\n",
    "    # Loop to find the smallest divisor\n",
    "    for i in range(2, j):\n",
    "        if j % i == 0:\n",
    "            print(f\"{j} is divisible by {i}\")\n",
    "            is_prime = False\n",
    "            break  # Exit the loop since we've found the smallest divisor\n",
    "    \n",
    "    # If the number is prime\n",
    "    if is_prime and j > 1:\n",
    "        print(f\"{j} is prime\")"
   ]
  },
  {
   "cell_type": "code",
   "execution_count": 1,
   "metadata": {},
   "outputs": [
    {
     "name": "stdout",
     "output_type": "stream",
     "text": [
      " Move\n",
      "to\n",
      "the\n",
      "next\n",
      "line\n",
      "for\n",
      "the\n",
      "next\n",
      "number\n"
     ]
    }
   ],
   "source": [
    "a=\"Move to the next line for the next number\"\n",
    "b=\" \"\n",
    "for i  in a:\n",
    "    if i==\" \":\n",
    "        b+=\"\\n\"\n",
    "    else:\n",
    "        b+=i   \n",
    "print(b)         "
   ]
  },
  {
   "cell_type": "code",
   "execution_count": 11,
   "metadata": {},
   "outputs": [
    {
     "name": "stdout",
     "output_type": "stream",
     "text": [
      "3\n",
      "5\n"
     ]
    }
   ],
   "source": [
    "a=[1,2,1,3,2,1,4,2,2,2]\n",
    "count=0\n",
    "count1=0\n",
    "for i in a:\n",
    "    if i==1:\n",
    "        count+=1   \n",
    "    elif i==2:\n",
    "        count1+=1\n",
    "print(count) \n",
    "print(count1)        \n"
   ]
  },
  {
   "cell_type": "code",
   "execution_count": null,
   "metadata": {},
   "outputs": [],
   "source": [
    "a = \"hello world\"\n",
    "p = \" \"\n",
    "o = \" \"\n",
    "for i in range(len(a)):\n",
    "    p += a[i]\n",
    "    if a[i] == \" \":\n",
    "        for j in range(i,-1,-1):\n",
    "            p+=a[j]\n",
    "        for l in range(len(a)-1,i,-1):\n",
    "            p+=a[l]\n",
    "        print(p) "
   ]
  },
  {
   "cell_type": "code",
   "execution_count": 1,
   "metadata": {},
   "outputs": [
    {
     "name": "stdout",
     "output_type": "stream",
     "text": [
      "m 3\n",
      "a 1\n",
      "x 1\n",
      "i 1\n",
      "u 1\n"
     ]
    }
   ],
   "source": [
    "a=\"maximum\"\n",
    "res=\"\"\n",
    "for i in a:\n",
    "    c=0\n",
    "    for j in a:\n",
    "        if i==j:\n",
    "            c+=1\n",
    "    if i not in res:\n",
    "        res+=i\n",
    "        print(i,c)"
   ]
  },
  {
   "cell_type": "code",
   "execution_count": 2,
   "metadata": {},
   "outputs": [
    {
     "name": "stdout",
     "output_type": "stream",
     "text": [
      "m 3\n",
      "a 1\n",
      "x 1\n",
      "i 1\n",
      "u 1\n"
     ]
    }
   ],
   "source": [
    "a=\"maximum\"\n",
    "res=\"\"\n",
    "for i in a:\n",
    "    c=0\n",
    "    for j in a:\n",
    "        if i==j:\n",
    "            c+=1\n",
    "    if i not in res:\n",
    "        res+=i\n",
    "        print(i,c)"
   ]
  },
  {
   "cell_type": "code",
   "execution_count": 3,
   "metadata": {},
   "outputs": [],
   "source": [
    "a=\"maximum\"\n",
    "res=\"\"\n",
    "c=0\n",
    "for i in a:\n",
    "    if i not in res:\n",
    "        res+=i\n",
    "\n",
    "# for i in a:\n",
    "#     c=0\n",
    "#     if i not in res:\n",
    "#         res+=i\n",
    "    \n",
    "# print(c)\n",
    "# print(res)\n",
    "    "
   ]
  },
  {
   "cell_type": "code",
   "execution_count": null,
   "metadata": {},
   "outputs": [],
   "source": [
    "st=\"maximum\"\n",
    "d={}\n",
    "for i in st:\n",
    "    if i not in d:\n",
    "        d[i]=1\n",
    "    else:\n",
    "        d[i]+=1\n",
    "for j in d:\n",
    "    print(j,d[j],sep=\" \")"
   ]
  },
  {
   "cell_type": "code",
   "execution_count": null,
   "metadata": {},
   "outputs": [],
   "source": []
  },
  {
   "cell_type": "code",
   "execution_count": null,
   "metadata": {},
   "outputs": [],
   "source": []
  },
  {
   "cell_type": "code",
   "execution_count": null,
   "metadata": {},
   "outputs": [],
   "source": []
  },
  {
   "cell_type": "code",
   "execution_count": null,
   "metadata": {},
   "outputs": [],
   "source": []
  },
  {
   "cell_type": "code",
   "execution_count": null,
   "metadata": {},
   "outputs": [],
   "source": []
  },
  {
   "cell_type": "code",
   "execution_count": null,
   "metadata": {},
   "outputs": [],
   "source": []
  },
  {
   "cell_type": "code",
   "execution_count": 1,
   "metadata": {},
   "outputs": [
    {
     "name": "stdout",
     "output_type": "stream",
     "text": [
      "6 1\n",
      "1 2\n",
      "1 2\n",
      "2 2\n",
      "2 2\n",
      "3 2\n",
      "3 2\n",
      "4 1\n"
     ]
    }
   ],
   "source": [
    "#brute force soltn we need to optimize \n",
    "a=[6,1,1,2,2,3,3,4]\n",
    "                            # i=1 j=n times  i=n time j=n*n times--->list    n+n--->str           \n",
    "# for i in a:\n",
    "#     count=0\n",
    "#     for j in a:\n",
    "#         if a[i]==a[j]:\n",
    "#             count+=1\n",
    "#     print(count)\n",
    "# a=[6,1,1,2,2,3,3,4]\n",
    "                            # i=1 j=n times  i=n time j=n*n times--->list    n+n--->str           \n",
    "for i in a:\n",
    "    c=0\n",
    "    for j in a:\n",
    "        if i==j:\n",
    "            c+=1\n",
    "            \n",
    "        \n",
    "    print(i,c)\n",
    "# 0--p\n",
    "# 0--"
   ]
  },
  {
   "cell_type": "code",
   "execution_count": 18,
   "metadata": {},
   "outputs": [
    {
     "name": "stdout",
     "output_type": "stream",
     "text": [
      " ksf fui fs v 3r\n"
     ]
    }
   ],
   "source": [
    "a=\"ksdf dfuid fs v 3r\"\n",
    "p=\"d\"\n",
    "o=\" \"\n",
    "for i in a:\n",
    "    if i!=p:\n",
    "        o+=i\n",
    "print(o)        "
   ]
  },
  {
   "cell_type": "code",
   "execution_count": 14,
   "metadata": {},
   "outputs": [
    {
     "name": "stdout",
     "output_type": "stream",
     "text": [
      "[1, 2, 3, 4, 's', 'r', 'i', 'h', 'a', 'n']\n"
     ]
    }
   ],
   "source": [
    "l=[1,2,3,4]\n",
    "def user_append(iterable):\n",
    "    global l\n",
    "    if type(l)!=list:\n",
    "        raise AttributeError(\"set doesnt have append method\")\n",
    "    for i in iterable:\n",
    "        l+=[i]\n",
    "    return l\n",
    "print(user_append(\"srihan\"))    "
   ]
  },
  {
   "cell_type": "code",
   "execution_count": 23,
   "metadata": {},
   "outputs": [
    {
     "name": "stdout",
     "output_type": "stream",
     "text": [
      "['hello', 8, 3]\n"
     ]
    }
   ],
   "source": [
    "l=[5,8,3]\n",
    "def user_insert(index,coll):\n",
    "    global l\n",
    "    if type(l)!=list:\n",
    "        raise AttributeError\n",
    "    l[0]=coll\n",
    "    print(l)\n",
    "user_insert(0,\"hello\")    "
   ]
  },
  {
   "cell_type": "code",
   "execution_count": 25,
   "metadata": {},
   "outputs": [
    {
     "name": "stdout",
     "output_type": "stream",
     "text": [
      "['h', 'e', 'l', 'l', 'o', 5, 8, 3]\n"
     ]
    }
   ],
   "source": [
    "l=[5,8,3]\n",
    "def user_insert(index,coll):\n",
    "    global l\n",
    "    if type(l)!=list:\n",
    "        raise AttributeError\n",
    "    l[index:index]=coll\n",
    "    print(l)\n",
    "user_insert(0,\"hello\")    "
   ]
  },
  {
   "cell_type": "code",
   "execution_count": 28,
   "metadata": {},
   "outputs": [
    {
     "name": "stdout",
     "output_type": "stream",
     "text": [
      "[999, 5, 8, 3]\n"
     ]
    }
   ],
   "source": [
    "l=[5,8,3]\n",
    "def user_insert(index,coll):\n",
    "    global l\n",
    "    if type(l)!=list:\n",
    "        raise AttributeError\n",
    "    l[index:index]=[coll]\n",
    "    print(l)\n",
    "user_insert(0,999)    "
   ]
  },
  {
   "cell_type": "code",
   "execution_count": 2,
   "metadata": {},
   "outputs": [
    {
     "name": "stdout",
     "output_type": "stream",
     "text": [
      "{1, 2, 3}\n"
     ]
    }
   ],
   "source": [
    "s={1,2,3,4}\n",
    "def user_discard(value):\n",
    "    global s\n",
    "    if type(s)!=set:\n",
    "        raise AttributeError\n",
    "    s-={value}\n",
    "    print(s)\n",
    "user_discard(4)    "
   ]
  },
  {
   "cell_type": "code",
   "execution_count": 12,
   "metadata": {},
   "outputs": [
    {
     "ename": "TypeError",
     "evalue": "unhashable type: 'list'",
     "output_type": "error",
     "traceback": [
      "\u001b[1;31m---------------------------------------------------------------------------\u001b[0m",
      "\u001b[1;31mTypeError\u001b[0m                                 Traceback (most recent call last)",
      "\u001b[1;32m~\\AppData\\Local\\Temp\\ipykernel_10424\\1100239000.py\u001b[0m in \u001b[0;36m<module>\u001b[1;34m\u001b[0m\n\u001b[0;32m      9\u001b[0m     \u001b[0mprint\u001b[0m\u001b[1;33m(\u001b[0m\u001b[0ms\u001b[0m\u001b[1;33m)\u001b[0m\u001b[1;33m\u001b[0m\u001b[1;33m\u001b[0m\u001b[0m\n\u001b[0;32m     10\u001b[0m \u001b[1;33m\u001b[0m\u001b[0m\n\u001b[1;32m---> 11\u001b[1;33m \u001b[0madd1\u001b[0m\u001b[1;33m(\u001b[0m\u001b[1;33m[\u001b[0m\u001b[1;36m1.3\u001b[0m\u001b[1;33m,\u001b[0m\u001b[1;36m4\u001b[0m\u001b[1;33m]\u001b[0m\u001b[1;33m)\u001b[0m\u001b[1;33m\u001b[0m\u001b[1;33m\u001b[0m\u001b[0m\n\u001b[0m",
      "\u001b[1;32m~\\AppData\\Local\\Temp\\ipykernel_10424\\1100239000.py\u001b[0m in \u001b[0;36madd1\u001b[1;34m(value)\u001b[0m\n\u001b[0;32m      6\u001b[0m     \u001b[1;32melif\u001b[0m \u001b[0mvalue\u001b[0m \u001b[1;32min\u001b[0m\u001b[1;33m(\u001b[0m\u001b[0mlist\u001b[0m\u001b[1;33m,\u001b[0m\u001b[0mset\u001b[0m\u001b[1;33m,\u001b[0m\u001b[0mdict\u001b[0m\u001b[1;33m)\u001b[0m\u001b[1;33m:\u001b[0m\u001b[1;33m\u001b[0m\u001b[1;33m\u001b[0m\u001b[0m\n\u001b[0;32m      7\u001b[0m         \u001b[1;32mraise\u001b[0m \u001b[0mTypeError\u001b[0m\u001b[1;33m\u001b[0m\u001b[1;33m\u001b[0m\u001b[0m\n\u001b[1;32m----> 8\u001b[1;33m     \u001b[0ms\u001b[0m\u001b[1;33m|=\u001b[0m\u001b[1;33m{\u001b[0m\u001b[0mvalue\u001b[0m\u001b[1;33m}\u001b[0m\u001b[1;33m\u001b[0m\u001b[1;33m\u001b[0m\u001b[0m\n\u001b[0m\u001b[0;32m      9\u001b[0m     \u001b[0mprint\u001b[0m\u001b[1;33m(\u001b[0m\u001b[0ms\u001b[0m\u001b[1;33m)\u001b[0m\u001b[1;33m\u001b[0m\u001b[1;33m\u001b[0m\u001b[0m\n\u001b[0;32m     10\u001b[0m \u001b[1;33m\u001b[0m\u001b[0m\n",
      "\u001b[1;31mTypeError\u001b[0m: unhashable type: 'list'"
     ]
    }
   ],
   "source": [
    "s={1,6,9}\n",
    "def add1(value):\n",
    "    global s\n",
    "    if type(s)!=set:\n",
    "        raise AttributeError\n",
    "    elif value in(list,set,dict):\n",
    "        raise TypeError\n",
    "    s|={value}\n",
    "    print(s)\n",
    "\n",
    "add1([1.3,4])"
   ]
  },
  {
   "cell_type": "code",
   "execution_count": 60,
   "metadata": {},
   "outputs": [
    {
     "name": "stdout",
     "output_type": "stream",
     "text": [
      "{1, 4, 23}\n"
     ]
    }
   ],
   "source": [
    "s={1,23,4,6}\n",
    "def user_remove(value):\n",
    "    global s\n",
    "    if type(s)!=set:\n",
    "        raise TypeError\n",
    "    elif value not in s:\n",
    "        raise KeyError\n",
    "    else:\n",
    "        s-={value}\n",
    "        print(s)\n",
    "user_remove(6)        "
   ]
  },
  {
   "cell_type": "code",
   "execution_count": 24,
   "metadata": {},
   "outputs": [
    {
     "name": "stdout",
     "output_type": "stream",
     "text": [
      "set()\n"
     ]
    }
   ],
   "source": [
    "s={1,23,4,6}\n",
    "def user_pop():\n",
    "    global s\n",
    "    if type(s)!=set:\n",
    "        raise AttributeError\n",
    "    elif s==set():\n",
    "        raise KeyError\n",
    "    s-=s  #s==set()\n",
    "    print(s)\n",
    "user_pop()    "
   ]
  },
  {
   "cell_type": "code",
   "execution_count": 25,
   "metadata": {},
   "outputs": [
    {
     "name": "stdout",
     "output_type": "stream",
     "text": [
      "set()\n"
     ]
    }
   ],
   "source": [
    "s={1,23,4,6}\n",
    "def user_pop():\n",
    "    global s\n",
    "    if type(s)!=set:\n",
    "        raise AttributeError\n",
    "    elif s==set():\n",
    "        raise KeyError\n",
    "    s-=s  #s==set()\n",
    "    print(s)\n",
    "user_pop()    "
   ]
  },
  {
   "cell_type": "code",
   "execution_count": 59,
   "metadata": {},
   "outputs": [
    {
     "ename": "NameError",
     "evalue": "name 's' is not defined",
     "output_type": "error",
     "traceback": [
      "\u001b[1;31m---------------------------------------------------------------------------\u001b[0m",
      "\u001b[1;31mNameError\u001b[0m                                 Traceback (most recent call last)",
      "\u001b[1;32m~\\AppData\\Local\\Temp\\ipykernel_10424\\1759219342.py\u001b[0m in \u001b[0;36m<module>\u001b[1;34m\u001b[0m\n\u001b[0;32m      6\u001b[0m     \u001b[1;32mdel\u001b[0m \u001b[0ms\u001b[0m\u001b[1;33m\u001b[0m\u001b[1;33m\u001b[0m\u001b[0m\n\u001b[0;32m      7\u001b[0m     \u001b[0mprint\u001b[0m\u001b[1;33m(\u001b[0m\u001b[0ms\u001b[0m\u001b[1;33m)\u001b[0m\u001b[1;33m\u001b[0m\u001b[1;33m\u001b[0m\u001b[0m\n\u001b[1;32m----> 8\u001b[1;33m \u001b[0muser_pop\u001b[0m\u001b[1;33m(\u001b[0m\u001b[1;33m)\u001b[0m\u001b[1;33m\u001b[0m\u001b[1;33m\u001b[0m\u001b[0m\n\u001b[0m",
      "\u001b[1;32m~\\AppData\\Local\\Temp\\ipykernel_10424\\1759219342.py\u001b[0m in \u001b[0;36muser_pop\u001b[1;34m()\u001b[0m\n\u001b[0;32m      5\u001b[0m         \u001b[1;32mraise\u001b[0m \u001b[0mAttributeError\u001b[0m\u001b[1;33m\u001b[0m\u001b[1;33m\u001b[0m\u001b[0m\n\u001b[0;32m      6\u001b[0m     \u001b[1;32mdel\u001b[0m \u001b[0ms\u001b[0m\u001b[1;33m\u001b[0m\u001b[1;33m\u001b[0m\u001b[0m\n\u001b[1;32m----> 7\u001b[1;33m     \u001b[0mprint\u001b[0m\u001b[1;33m(\u001b[0m\u001b[0ms\u001b[0m\u001b[1;33m)\u001b[0m\u001b[1;33m\u001b[0m\u001b[1;33m\u001b[0m\u001b[0m\n\u001b[0m\u001b[0;32m      8\u001b[0m \u001b[0muser_pop\u001b[0m\u001b[1;33m(\u001b[0m\u001b[1;33m)\u001b[0m\u001b[1;33m\u001b[0m\u001b[1;33m\u001b[0m\u001b[0m\n",
      "\u001b[1;31mNameError\u001b[0m: name 's' is not defined"
     ]
    }
   ],
   "source": [
    "s={1,23,4,6}\n",
    "def user_pop():\n",
    "    global s\n",
    "    if type(s)!=set:\n",
    "        raise AttributeError\n",
    "    del s  \n",
    "    print(s)\n",
    "user_pop()    "
   ]
  },
  {
   "cell_type": "code",
   "execution_count": 32,
   "metadata": {},
   "outputs": [
    {
     "data": {
      "text/plain": [
       "'defgs'"
      ]
     },
     "execution_count": 32,
     "metadata": {},
     "output_type": "execute_result"
    }
   ],
   "source": [
    "d={1:10,2:\"er\",3:\"hello\",4:900}\n",
    "d.get(6,\"defgs\")  #----->get"
   ]
  },
  {
   "cell_type": "code",
   "execution_count": 44,
   "metadata": {},
   "outputs": [
    {
     "data": {
      "text/plain": [
       "{1: 10, 2: 'er', 3: 'hello', 4: 88}"
      ]
     },
     "execution_count": 44,
     "metadata": {},
     "output_type": "execute_result"
    }
   ],
   "source": [
    "d={1:10,2:\"er\",3:\"hello\",4:900}\n",
    "d[4]=88 #------>key value pair,update()\n",
    "d"
   ]
  },
  {
   "cell_type": "code",
   "execution_count": 46,
   "metadata": {},
   "outputs": [
    {
     "data": {
      "text/plain": [
       "'hello'"
      ]
     },
     "execution_count": 46,
     "metadata": {},
     "output_type": "execute_result"
    }
   ],
   "source": [
    "d={1:10,2:\"er\",3:\"hello\",4:900}\n",
    "d.setdefault(3)"
   ]
  },
  {
   "cell_type": "code",
   "execution_count": 48,
   "metadata": {},
   "outputs": [
    {
     "data": {
      "text/plain": [
       "{1: 10, 2: 'er', 3: 'hello', 4: 900, 6: None}"
      ]
     },
     "execution_count": 48,
     "metadata": {},
     "output_type": "execute_result"
    }
   ],
   "source": [
    "d={1:10,2:\"er\",3:\"hello\",4:900}\n",
    "d.setdefault(6)\n",
    "d"
   ]
  },
  {
   "cell_type": "code",
   "execution_count": 50,
   "metadata": {},
   "outputs": [
    {
     "data": {
      "text/plain": [
       "{1: 10, 2: 'er', 3: 'hello', 4: 900, 6: 'free'}"
      ]
     },
     "execution_count": 50,
     "metadata": {},
     "output_type": "execute_result"
    }
   ],
   "source": [
    "d={1:10,2:\"er\",3:\"hello\",4:900}\n",
    "d.setdefault(6,\"free\")\n",
    "d"
   ]
  },
  {
   "cell_type": "code",
   "execution_count": 56,
   "metadata": {},
   "outputs": [
    {
     "data": {
      "text/plain": [
       "{'y': None, 'e': None, 'l': None, 'o': None, 'w': None}"
      ]
     },
     "execution_count": 56,
     "metadata": {},
     "output_type": "execute_result"
    }
   ],
   "source": [
    "d={}\n",
    "s=\"yellow\"\n",
    "m=d.fromkeys(s)\n",
    "m"
   ]
  },
  {
   "cell_type": "code",
   "execution_count": 58,
   "metadata": {},
   "outputs": [
    {
     "data": {
      "text/plain": [
       "{'y': 'well', 'e': 'well', 'l': 'well', 'o': 'well', 'w': 'well'}"
      ]
     },
     "execution_count": 58,
     "metadata": {},
     "output_type": "execute_result"
    }
   ],
   "source": [
    "m=d.fromkeys(s,\"well\")\n",
    "m"
   ]
  },
  {
   "cell_type": "code",
   "execution_count": 64,
   "metadata": {},
   "outputs": [
    {
     "data": {
      "text/plain": [
       "'ppp'"
      ]
     },
     "execution_count": 64,
     "metadata": {},
     "output_type": "execute_result"
    }
   ],
   "source": [
    "d={1:10,2:\"er\",3:\"hello\",4:900,\"p\":100,\"tre\":\"ball\",8:\"pip\"}\n",
    "d.pop(90,\"ppp\")"
   ]
  },
  {
   "cell_type": "code",
   "execution_count": 66,
   "metadata": {},
   "outputs": [
    {
     "data": {
      "text/plain": [
       "900"
      ]
     },
     "execution_count": 66,
     "metadata": {},
     "output_type": "execute_result"
    }
   ],
   "source": [
    "d={1:10,2:\"er\",3:\"hello\",4:900,\"p\":100,\"tre\":\"ball\",8:\"pip\"}\n",
    "d.pop(4)"
   ]
  },
  {
   "cell_type": "code",
   "execution_count": 70,
   "metadata": {},
   "outputs": [
    {
     "data": {
      "text/plain": [
       "(8, 'pip')"
      ]
     },
     "execution_count": 70,
     "metadata": {},
     "output_type": "execute_result"
    }
   ],
   "source": [
    "d={1:10,2:\"er\",3:\"hello\",4:900,\"p\":100,\"tre\":\"ball\",8:\"pip\"}\n",
    "d.popitem()"
   ]
  },
  {
   "cell_type": "code",
   "execution_count": 73,
   "metadata": {},
   "outputs": [
    {
     "data": {
      "text/plain": [
       "(8, 'pip')"
      ]
     },
     "execution_count": 73,
     "metadata": {},
     "output_type": "execute_result"
    }
   ],
   "source": [
    "d={1:10,2:\"er\",3:\"hello\",4:900,\"p\":100,\"tre\":\"ball\",8:\"pip\"}\n",
    "d.popitem()"
   ]
  },
  {
   "cell_type": "code",
   "execution_count": 76,
   "metadata": {},
   "outputs": [
    {
     "data": {
      "text/plain": [
       "('tre', 'ball')"
      ]
     },
     "execution_count": 76,
     "metadata": {},
     "output_type": "execute_result"
    }
   ],
   "source": [
    "d={1:10,3:\"hello\",\"p\":100,\"tre\":\"ball\"}\n",
    "d.popitem()"
   ]
  },
  {
   "cell_type": "code",
   "execution_count": 77,
   "metadata": {},
   "outputs": [
    {
     "data": {
      "text/plain": [
       "('p', 100)"
      ]
     },
     "execution_count": 77,
     "metadata": {},
     "output_type": "execute_result"
    }
   ],
   "source": [
    "d.popitem()"
   ]
  },
  {
   "cell_type": "code",
   "execution_count": 78,
   "metadata": {},
   "outputs": [
    {
     "data": {
      "text/plain": [
       "(3, 'hello')"
      ]
     },
     "execution_count": 78,
     "metadata": {},
     "output_type": "execute_result"
    }
   ],
   "source": [
    "d.popitem()"
   ]
  },
  {
   "cell_type": "code",
   "execution_count": 79,
   "metadata": {},
   "outputs": [
    {
     "data": {
      "text/plain": [
       "(1, 10)"
      ]
     },
     "execution_count": 79,
     "metadata": {},
     "output_type": "execute_result"
    }
   ],
   "source": [
    "d.popitem()"
   ]
  },
  {
   "cell_type": "code",
   "execution_count": 1,
   "metadata": {},
   "outputs": [
    {
     "ename": "NameError",
     "evalue": "name 'd' is not defined",
     "output_type": "error",
     "traceback": [
      "\u001b[1;31m---------------------------------------------------------------------------\u001b[0m",
      "\u001b[1;31mNameError\u001b[0m                                 Traceback (most recent call last)",
      "\u001b[1;32m~\\AppData\\Local\\Temp\\ipykernel_17516\\3489706405.py\u001b[0m in \u001b[0;36m<module>\u001b[1;34m\u001b[0m\n\u001b[1;32m----> 1\u001b[1;33m \u001b[0md\u001b[0m\u001b[1;33m.\u001b[0m\u001b[0mpopitem\u001b[0m\u001b[1;33m(\u001b[0m\u001b[1;33m)\u001b[0m\u001b[1;33m\u001b[0m\u001b[1;33m\u001b[0m\u001b[0m\n\u001b[0m",
      "\u001b[1;31mNameError\u001b[0m: name 'd' is not defined"
     ]
    }
   ],
   "source": [
    "d.popitem()"
   ]
  },
  {
   "cell_type": "code",
   "execution_count": null,
   "metadata": {},
   "outputs": [],
   "source": []
  }
 ],
 "metadata": {
  "kernelspec": {
   "display_name": "base",
   "language": "python",
   "name": "python3"
  },
  "language_info": {
   "codemirror_mode": {
    "name": "ipython",
    "version": 3
   },
   "file_extension": ".py",
   "mimetype": "text/x-python",
   "name": "python",
   "nbconvert_exporter": "python",
   "pygments_lexer": "ipython3",
   "version": "3.12.4"
  }
 },
 "nbformat": 4,
 "nbformat_minor": 2
}
