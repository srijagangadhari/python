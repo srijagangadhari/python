{
 "cells": [
  {
   "cell_type": "code",
   "execution_count": 2,
   "metadata": {},
   "outputs": [
    {
     "name": "stdout",
     "output_type": "stream",
     "text": [
      "c:\\Users\\grpra\\Desktop\\py\n"
     ]
    }
   ],
   "source": [
    "import os\n",
    "print(os.getcwd())\n"
   ]
  },
  {
   "cell_type": "code",
   "execution_count": 2,
   "metadata": {},
   "outputs": [
    {
     "name": "stdout",
     "output_type": "stream",
     "text": [
      "None\n"
     ]
    }
   ],
   "source": [
    "import os\n",
    "print(os.chdir(r\"C:\\bahubali\\kattappa\"))"
   ]
  },
  {
   "cell_type": "code",
   "execution_count": 7,
   "metadata": {},
   "outputs": [
    {
     "name": "stdout",
     "output_type": "stream",
     "text": [
      "C:\\bahubali\\kattappa\n"
     ]
    }
   ],
   "source": [
    "print(os.getcwd())"
   ]
  },
  {
   "cell_type": "code",
   "execution_count": 3,
   "metadata": {},
   "outputs": [],
   "source": [
    "os.mkdir(\"bahubali\")"
   ]
  },
  {
   "cell_type": "code",
   "execution_count": 9,
   "metadata": {},
   "outputs": [],
   "source": [
    "os.chdir(r\"C:\\bahubali\\kattappa\\rajamouli\")"
   ]
  },
  {
   "cell_type": "markdown",
   "metadata": {},
   "source": []
  },
  {
   "cell_type": "code",
   "execution_count": 10,
   "metadata": {},
   "outputs": [],
   "source": [
    "os.mkdir(\"rajamouli\")"
   ]
  },
  {
   "cell_type": "code",
   "execution_count": 11,
   "metadata": {},
   "outputs": [
    {
     "name": "stdout",
     "output_type": "stream",
     "text": [
      "C:\\bahubali\\kattappa\\rajamouli\n"
     ]
    }
   ],
   "source": [
    "print(os.getcwd())"
   ]
  },
  {
   "cell_type": "code",
   "execution_count": 12,
   "metadata": {},
   "outputs": [],
   "source": [
    "os.rmdir(\"virat\")"
   ]
  },
  {
   "cell_type": "code",
   "execution_count": 13,
   "metadata": {},
   "outputs": [
    {
     "name": "stdout",
     "output_type": "stream",
     "text": [
      "C:\\bahubali\\kattappa\\rajamouli\n"
     ]
    }
   ],
   "source": [
    "print(os.getcwd())"
   ]
  },
  {
   "cell_type": "code",
   "execution_count": 14,
   "metadata": {},
   "outputs": [],
   "source": [
    "os.rmdir(\"rajamouli\")"
   ]
  },
  {
   "cell_type": "code",
   "execution_count": 15,
   "metadata": {},
   "outputs": [
    {
     "name": "stdout",
     "output_type": "stream",
     "text": [
      "C:\\bahubali\\kattappa\\rajamouli\n"
     ]
    }
   ],
   "source": [
    "print(os.getcwd())"
   ]
  },
  {
   "cell_type": "code",
   "execution_count": 22,
   "metadata": {},
   "outputs": [],
   "source": [
    "os.chdir(r\"C:\\bahubali\\kattappa\")\n",
    "os.rmdir(\"ballaldev\")"
   ]
  },
  {
   "cell_type": "code",
   "execution_count": 23,
   "metadata": {},
   "outputs": [
    {
     "name": "stdout",
     "output_type": "stream",
     "text": [
      "C:\\bahubali\\kattappa\n"
     ]
    }
   ],
   "source": [
    "print(os.getcwd())"
   ]
  },
  {
   "cell_type": "code",
   "execution_count": 25,
   "metadata": {},
   "outputs": [],
   "source": [
    "os.rmdir(\"bahubali\")"
   ]
  },
  {
   "cell_type": "code",
   "execution_count": 26,
   "metadata": {},
   "outputs": [
    {
     "name": "stdout",
     "output_type": "stream",
     "text": [
      "C:\\bahubali\\kattappa\n"
     ]
    }
   ],
   "source": [
    "print(os.getcwd())"
   ]
  },
  {
   "cell_type": "code",
   "execution_count": 27,
   "metadata": {},
   "outputs": [
    {
     "name": "stdout",
     "output_type": "stream",
     "text": [
      "['devsena', 'hello', 'rajamouli']\n"
     ]
    }
   ],
   "source": [
    "os.chdir(r\"C:\\bahubali\\kattappa\")\n",
    "print(os.listdir())"
   ]
  },
  {
   "cell_type": "code",
   "execution_count": 8,
   "metadata": {},
   "outputs": [
    {
     "name": "stdout",
     "output_type": "stream",
     "text": [
      "<_io.TextIOWrapper name='requirement1.txt' mode='r' encoding='UTF-8'>\n",
      "---------\n",
      "---------\n",
      "python class\n",
      "srija got placed\n",
      "i used to be very silent\n",
      "gangotri is my bests friend\n",
      "harsha sir is the best\n",
      "he is the branch head\n",
      "i got best trainersall is well\n",
      "venu sir is python king\n",
      "ganesh chaturthi\n",
      "she is kind hearted\n",
      "fky higher and higher\n",
      "---------\n",
      "\n"
     ]
    }
   ],
   "source": [
    "import os\n",
    "os.chdir(r\"C:\\bahubali\\hello world\")\n",
    "with open(\"requirement1.txt\",\"r\") as file_obj:\n",
    "    print(file_obj)\n",
    "    print(\"---------\")\n",
    "    #print(list(file_obj))\n",
    "    print(\"---------\")\n",
    "    print(file_obj.read())\n",
    "    file_obj.seek(0)\n",
    "    print(\"---------\")\n",
    "    print(file_obj.readline())\n",
    "    # print(file_obj.readlines())"
   ]
  },
  {
   "cell_type": "code",
   "execution_count": 10,
   "metadata": {},
   "outputs": [
    {
     "name": "stdout",
     "output_type": "stream",
     "text": [
      "<_io.TextIOWrapper name='requirement1.txt' mode='w' encoding='UTF-8'>\n"
     ]
    }
   ],
   "source": [
    "import os\n",
    "os.chdir(r\"C:\\bahubali\\hello world\")\n",
    "with open(\"requirement1.txt\",\"w\") as file_obj:\n",
    "    print(file_obj)\n",
    "    file_obj.write(\"python class\\n\")\n",
    "    file_obj.write(\"srija got placed\\n\")\n",
    "    file_obj.write(\"i used to be very silent\\n\")\n",
    "    file_obj.write(\"gangotri is my bests friend\\n\")\n",
    "    file_obj.writelines([\"harsha sir is the best\\n\",\"he is the branch head\\n\",\"i got best trainers\"])\n",
    "    file_obj.write(\"all is well\\n\")\n",
    "    file_obj.write(\"venu sir is python king\\n\")\n",
    "    file_obj.writelines([\"ganesh chaturthi\\n\",\"she is kind hearted\\n\",\"fky higher and higher\"])"
   ]
  },
  {
   "cell_type": "code",
   "execution_count": 36,
   "metadata": {},
   "outputs": [
    {
     "name": "stdout",
     "output_type": "stream",
     "text": [
      "<_io.TextIOWrapper name='welcome.txt' mode='x' encoding='UTF-8'>\n"
     ]
    }
   ],
   "source": [
    "import os\n",
    "os.chdir(r\"c:\\temp\")\n",
    "with open(\"welcome.txt\",\"x\") as file_address:\n",
    "    print(file_address)"
   ]
  },
  {
   "cell_type": "code",
   "execution_count": null,
   "metadata": {},
   "outputs": [],
   "source": []
  }
 ],
 "metadata": {
  "kernelspec": {
   "display_name": "base",
   "language": "python",
   "name": "python3"
  },
  "language_info": {
   "codemirror_mode": {
    "name": "ipython",
    "version": 3
   },
   "file_extension": ".py",
   "mimetype": "text/x-python",
   "name": "python",
   "nbconvert_exporter": "python",
   "pygments_lexer": "ipython3",
   "version": "3.9.13"
  }
 },
 "nbformat": 4,
 "nbformat_minor": 2
}
