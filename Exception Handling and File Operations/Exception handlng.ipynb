{
 "cells": [
  {
   "cell_type": "code",
   "execution_count": 2,
   "metadata": {},
   "outputs": [
    {
     "name": "stdout",
     "output_type": "stream",
     "text": [
      "error handled\n",
      "completed\n"
     ]
    }
   ],
   "source": [
    "# Default except block(1Q)\n",
    "a=10\n",
    "try:\n",
    "    print(a/b)\n",
    "except:\n",
    "    print(\"error handled\")\n",
    "finally:\n",
    "    print(\"completed\")"
   ]
  },
  {
   "cell_type": "code",
   "execution_count": 4,
   "metadata": {},
   "outputs": [
    {
     "name": "stdout",
     "output_type": "stream",
     "text": [
      "30\n",
      "hello world\n"
     ]
    }
   ],
   "source": [
    "a=10\n",
    "b=20\n",
    "try:\n",
    "    print(a+b)\n",
    "except:\n",
    "    print(\"error handle\")\n",
    "finally:\n",
    "    print(\"hello world\")"
   ]
  },
  {
   "cell_type": "code",
   "execution_count": 6,
   "metadata": {},
   "outputs": [
    {
     "name": "stdout",
     "output_type": "stream",
     "text": [
      "error handle\n",
      "hello world\n"
     ]
    }
   ],
   "source": [
    "a=10\n",
    "b=20\n",
    "try:\n",
    "    print(a+k)\n",
    "except:\n",
    "    print(\"error handle\")\n",
    "finally:\n",
    "    print(\"hello world\")"
   ]
  },
  {
   "cell_type": "code",
   "execution_count": 12,
   "metadata": {},
   "outputs": [
    {
     "name": "stdout",
     "output_type": "stream",
     "text": [
      "ZeroDivisionError handled\n",
      "well\n"
     ]
    }
   ],
   "source": [
    "# Specific except block(2Q)\n",
    "a=10\n",
    "b=0\n",
    "try:\n",
    "    print(a/b)\n",
    "except ZeroDivisionError:\n",
    "    print(\"ZeroDivisionError handled\")\n",
    "finally:\n",
    "    print(\"well\")"
   ]
  },
  {
   "cell_type": "code",
   "execution_count": 16,
   "metadata": {},
   "outputs": [
    {
     "name": "stdout",
     "output_type": "stream",
     "text": [
      "NameError handled\n",
      "well\n"
     ]
    }
   ],
   "source": [
    "a=10\n",
    "b=3\n",
    "try:\n",
    "    print(a/c)\n",
    "except NameError:\n",
    "    print(\"NameError handled\")\n",
    "finally:\n",
    "    print(\"well\")"
   ]
  },
  {
   "cell_type": "code",
   "execution_count": 23,
   "metadata": {},
   "outputs": [
    {
     "name": "stdout",
     "output_type": "stream",
     "text": [
      "attribute error handled\n"
     ]
    }
   ],
   "source": [
    "#Specific except block\n",
    "p=[1,2,3,4]\n",
    "try:\n",
    "    print(p.add(\"oue\"))\n",
    "except IndexError:\n",
    "    print(\"index error handled\")\n",
    "except AttributeError:\n",
    "    print(\"attribute error handled\")\n",
    "\n",
    "\n"
   ]
  },
  {
   "cell_type": "code",
   "execution_count": 35,
   "metadata": {},
   "outputs": [
    {
     "name": "stdout",
     "output_type": "stream",
     "text": [
      "NameError handled\n"
     ]
    }
   ],
   "source": [
    "p=[1,2,3,4]\n",
    "try:\n",
    "    print(o)\n",
    "except IndexError:\n",
    "    print(\"index error handled\")\n",
    "except AttributeError:\n",
    "    print(\"attribute error handled\")\n",
    "except ValueError:\n",
    "    print(\"ValueError handled\")\n",
    "except TypeError:\n",
    "    print(\"TypeError handled\")\n",
    "except NameError:\n",
    "    print(\"NameError handled\")\n",
    "except SyntaxError:\n",
    "    print(\"SyntaxError handled\")"
   ]
  },
  {
   "cell_type": "code",
   "execution_count": 1,
   "metadata": {},
   "outputs": [
    {
     "name": "stdout",
     "output_type": "stream",
     "text": [
      "\n"
     ]
    }
   ],
   "source": [
    "p=[1,2,3,4]\n",
    "try:\n",
    "    print()\n",
    "except (IndexError,AttributeError,ValueError,TypeError,NameError,SyntaxError):\n",
    "    print(\"error handled boss\")"
   ]
  },
  {
   "cell_type": "code",
   "execution_count": null,
   "metadata": {},
   "outputs": [],
   "source": []
  }
 ],
 "metadata": {
  "kernelspec": {
   "display_name": "base",
   "language": "python",
   "name": "python3"
  },
  "language_info": {
   "codemirror_mode": {
    "name": "ipython",
    "version": 3
   },
   "file_extension": ".py",
   "mimetype": "text/x-python",
   "name": "python",
   "nbconvert_exporter": "python",
   "pygments_lexer": "ipython3",
   "version": "3.9.13"
  }
 },
 "nbformat": 4,
 "nbformat_minor": 2
}
